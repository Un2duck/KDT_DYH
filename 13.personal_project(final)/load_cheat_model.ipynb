{
 "cells": [
  {
   "cell_type": "code",
   "execution_count": 1,
   "metadata": {},
   "outputs": [],
   "source": [
    "# 데이터분석 관련 모듈 로딩\n",
    "import pandas as pd\n",
    "import numpy as np\n",
    "\n",
    "\n",
    "# 모델링 관련 모듈 로딩\n",
    "# Pytorch 관련\n",
    "import torch\n",
    "import torch.nn as nn\n",
    "import torch.nn.functional as F\n",
    "from torch.utils.data import DataLoader\n",
    "from torchinfo import summary\n",
    "from torchmetrics.classification import BinaryF1Score\n",
    "import torch.optim.lr_scheduler as lr_scheduler\n",
    "\n",
    "# scikit-learn 관련\n",
    "from sklearn.preprocessing import *\n",
    "from sklearn.model_selection import train_test_split\n",
    "from sklearn.preprocessing import LabelEncoder\n",
    "from sklearn.preprocessing import StandardScaler\n",
    "\n",
    "\n",
    "# 사용자 생성 모듈\n",
    "import funcMake\n",
    "from Cheat_Class import *\n",
    "\n",
    "# 그 외 기타 모듈 로딩\n",
    "import os\n",
    "import pickle"
   ]
  },
  {
   "cell_type": "code",
   "execution_count": 2,
   "metadata": {},
   "outputs": [
    {
     "name": "stdout",
     "output_type": "stream",
     "text": [
      "경로있음\n"
     ]
    }
   ],
   "source": [
    "# 저장 경로\n",
    "PATH = './CheatModels/'\n",
    "\n",
    "# 모델 파일명\n",
    "MODEL_FILE = '90_loss(0.28261)_score(0.90108).pth'\n",
    "\n",
    "funcMake.checkPath(PATH+MODEL_FILE)"
   ]
  },
  {
   "cell_type": "code",
   "execution_count": 3,
   "metadata": {},
   "outputs": [
    {
     "name": "stdout",
     "output_type": "stream",
     "text": [
      "MyCheatModel(\n",
      "  (in_layer): Linear(in_features=2, out_features=250, bias=True)\n",
      "  (in_hids): ModuleList(\n",
      "    (0): Linear(in_features=250, out_features=500, bias=True)\n",
      "    (1): Linear(in_features=500, out_features=250, bias=True)\n",
      "  )\n",
      "  (out_layer): Linear(in_features=250, out_features=1, bias=True)\n",
      ")\n"
     ]
    }
   ],
   "source": [
    "Cheat_model = torch.load(PATH+MODEL_FILE, weights_only=False)\n",
    "print(Cheat_model)"
   ]
  },
  {
   "cell_type": "code",
   "execution_count": 4,
   "metadata": {},
   "outputs": [
    {
     "data": {
      "text/plain": [
       "=================================================================\n",
       "Layer (type:depth-idx)                   Param #\n",
       "=================================================================\n",
       "MyCheatModel                             --\n",
       "├─Linear: 1-1                            750\n",
       "├─ModuleList: 1-2                        --\n",
       "│    └─Linear: 2-1                       125,500\n",
       "│    └─Linear: 2-2                       125,250\n",
       "├─Linear: 1-3                            251\n",
       "=================================================================\n",
       "Total params: 251,751\n",
       "Trainable params: 251,751\n",
       "Non-trainable params: 0\n",
       "================================================================="
      ]
     },
     "execution_count": 4,
     "metadata": {},
     "output_type": "execute_result"
    }
   ],
   "source": [
    "summary(Cheat_model)"
   ]
  },
  {
   "cell_type": "code",
   "execution_count": 5,
   "metadata": {},
   "outputs": [],
   "source": [
    "# 예시 데이터 1 (어뷰징 의심)\n",
    "# * 상품코드: 41 (락토핏 골드 2g x 50포)\n",
    "# * 가격: 7550 \n",
    "\n",
    "# 예시 데이터 2 (정상가)\n",
    "# * 상품코드: 60 (세노비스 트리플러스 50+ 1305mg x 90캡슐)\n",
    "# * 가격: 33920"
   ]
  },
  {
   "cell_type": "code",
   "execution_count": 5,
   "metadata": {},
   "outputs": [],
   "source": [
    "# 학습에 사용된 스케일러 로딩\n",
    "with open('SCALE.pkl', 'rb') as f:\n",
    "    ss = pickle.load(f)"
   ]
  },
  {
   "cell_type": "code",
   "execution_count": 6,
   "metadata": {},
   "outputs": [],
   "source": [
    "featureDF=pd.read_csv('feature.csv')\n",
    "targetDF=pd.read_csv('target.csv')\n",
    "\n",
    "featureDF.drop('Unnamed: 0', axis=1, inplace=True)\n",
    "targetDF.drop('Unnamed: 0', axis=1, inplace=True)\n",
    "\n",
    "X_train=featureDF[:100]\n",
    "y_train=targetDF[:100]"
   ]
  },
  {
   "cell_type": "code",
   "execution_count": 9,
   "metadata": {},
   "outputs": [],
   "source": [
    "# 스케일링 진행\n",
    "X_train_scaled = ss.transform(X_train)\n",
    "\n",
    "trainDS=CheatDataset(pd.DataFrame(X_train_scaled), y_train)\n",
    "trainDL=DataLoader(trainDS, shuffle=True)"
   ]
  },
  {
   "cell_type": "code",
   "execution_count": 45,
   "metadata": {},
   "outputs": [
    {
     "name": "stdout",
     "output_type": "stream",
     "text": [
      "   예측 라벨 정답\n",
      "0   1  0  X\n",
      "1   0  0  O\n",
      "2   1  1  O\n",
      "3   1  1  O\n",
      "4   1  1  O\n",
      ".. .. .. ..\n",
      "95  1  1  O\n",
      "96  1  1  O\n",
      "97  1  1  O\n",
      "98  1  1  O\n",
      "99  0  0  O\n",
      "\n",
      "[100 rows x 3 columns]\n"
     ]
    }
   ],
   "source": [
    "Cheat_model.eval()\n",
    "with torch.no_grad():\n",
    "    pre_list, ans_list, check_list = [], [], []\n",
    "    # 추론/평가\n",
    "    for featureTS, targetTS in trainDL:\n",
    "        pre_val = Cheat_model(featureTS)\n",
    "        pre = (pre_val > 0.5).int().item()\n",
    "        ans = targetTS.int().item()\n",
    "        check = 'O' if pre == ans else 'X'\n",
    "        # print(pre, ans, check)\n",
    "        pre_list.append(pre)\n",
    "        ans_list.append(ans)\n",
    "        check_list.append(check)\n",
    "    \n",
    "evalDF=pd.DataFrame([pre_list, ans_list, check_list], index=['예측','라벨','정답'])\n",
    "evalDF=evalDF.T\n",
    "print(evalDF)"
   ]
  },
  {
   "cell_type": "code",
   "execution_count": 44,
   "metadata": {},
   "outputs": [
    {
     "data": {
      "text/plain": [
       "정답\n",
       "O    0.88\n",
       "X    0.12\n",
       "Name: count, dtype: float64"
      ]
     },
     "execution_count": 44,
     "metadata": {},
     "output_type": "execute_result"
    }
   ],
   "source": [
    "evalDF['정답'].value_counts()/len(evalDF['정답'])"
   ]
  },
  {
   "cell_type": "code",
   "execution_count": 12,
   "metadata": {},
   "outputs": [],
   "source": [
    "from sklearn.metrics import classification_report, confusion_matrix\n",
    "\n",
    "# 예측 및 실제 라벨을 비교하는 평가 함수\n",
    "def evaluate_model(model, dataloader):\n",
    "    y_pred, y_true = [], []\n",
    "    \n",
    "    model.eval()\n",
    "    with torch.no_grad():\n",
    "        for featureTS, targetTS in dataloader:\n",
    "            \n",
    "            # 모델의 예측값 (0 또는 1)\n",
    "            pre_val = model(featureTS)\n",
    "            pred_label = (pre_val > 0.5).int().numpy()\n",
    "            y_pred.extend(pred_label)\n",
    "            y_true.extend(targetTS.numpy())\n",
    "\n",
    "    # 주요 지표 출력\n",
    "    print(\"Classification Report:\\n\", classification_report(y_true, y_pred))\n",
    "    print(\"Confusion Matrix:\\n\", confusion_matrix(y_true, y_pred))"
   ]
  },
  {
   "cell_type": "code",
   "execution_count": 13,
   "metadata": {},
   "outputs": [
    {
     "name": "stdout",
     "output_type": "stream",
     "text": [
      "Classification Report:\n",
      "               precision    recall  f1-score   support\n",
      "\n",
      "         0.0       1.00      0.54      0.70        26\n",
      "         1.0       0.86      1.00      0.92        74\n",
      "\n",
      "    accuracy                           0.88       100\n",
      "   macro avg       0.93      0.77      0.81       100\n",
      "weighted avg       0.90      0.88      0.87       100\n",
      "\n",
      "Confusion Matrix:\n",
      " [[14 12]\n",
      " [ 0 74]]\n"
     ]
    }
   ],
   "source": [
    "evaluate_model(Cheat_model, trainDL)"
   ]
  },
  {
   "cell_type": "code",
   "execution_count": null,
   "metadata": {},
   "outputs": [],
   "source": []
  }
 ],
 "metadata": {
  "kernelspec": {
   "display_name": "WEB_AI",
   "language": "python",
   "name": "python3"
  },
  "language_info": {
   "codemirror_mode": {
    "name": "ipython",
    "version": 3
   },
   "file_extension": ".py",
   "mimetype": "text/x-python",
   "name": "python",
   "nbconvert_exporter": "python",
   "pygments_lexer": "ipython3",
   "version": "3.8.20"
  }
 },
 "nbformat": 4,
 "nbformat_minor": 2
}
