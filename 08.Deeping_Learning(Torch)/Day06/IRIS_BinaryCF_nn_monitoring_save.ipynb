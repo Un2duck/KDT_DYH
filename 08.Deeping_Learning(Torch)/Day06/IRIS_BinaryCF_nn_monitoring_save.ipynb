{
 "cells": [
  {
   "cell_type": "markdown",
   "metadata": {},
   "source": [
    "##### DNN 기반 회귀 모델 구현\n",
    "- 데이터셋   : iris.csv\n",
    "- 피쳐/속성  : 4개 Sepal_Length, Sepal_width, Petal_Length, Petal_width\n",
    "- 타겟/라벨  : 1개 Setosa와 나머지\n",
    "- 학습/방법  : 지도학습 -> 회귀\n",
    "- 알고리즘   : 인공신경망(ANN) -> MLP, DNN : 은닉층이 많은 구성\n",
    "- 프레임워크 : Pytorch\n",
    "\n",
    "***\n",
    "\n",
    "- 모니터링\n",
    "    * 기준 : 검증데이터셋의 loss 또는 score\n",
    "    * 평가 : 학습데이터셋의 loss 또는 score와 비교해서 학습 중단여부 결정\n",
    "    * 저장 : 현재까지 진행된 모델의 파라미터(가중치, 절편) 저장 여부 또는 모델 전체 저장"
   ]
  },
  {
   "cell_type": "markdown",
   "metadata": {},
   "source": [
    "[1] 모듈 로딩 및 데이터 준비 <hr>"
   ]
  },
  {
   "cell_type": "code",
   "execution_count": 21,
   "metadata": {},
   "outputs": [],
   "source": [
    "# 모델 관련 모듈 로딩\n",
    "import torch\n",
    "import torch.nn as nn  \n",
    "import torch.nn.functional as F  \n",
    "from torch.utils.data import Dataset, DataLoader\n",
    "import torch.optim as optim\n",
    "\n",
    "from torchmetrics.classification import F1Score, BinaryF1Score\n",
    "from torchmetrics.classification import BinaryConfusionMatrix\n",
    "from torchinfo import summary\n",
    "\n",
    "# 데이터 관련 모듈 로딩\n",
    "import pandas as pd\n",
    "import matplotlib.pyplot as plt\n",
    "import seaborn as sns\n",
    "from sklearn.model_selection import train_test_split\n",
    "from sklearn.preprocessing import *"
   ]
  },
  {
   "cell_type": "code",
   "execution_count": 22,
   "metadata": {},
   "outputs": [
    {
     "name": "stdout",
     "output_type": "stream",
     "text": [
      "torch V.:2.4.1\n",
      "pandas V.:2.0.3\n"
     ]
    }
   ],
   "source": [
    "# 활용 패키지 버전 체크\n",
    "print(f'torch V.:{torch.__version__}')\n",
    "print(f'pandas V.:{pd.__version__}')"
   ]
  },
  {
   "cell_type": "code",
   "execution_count": 23,
   "metadata": {},
   "outputs": [
    {
     "data": {
      "text/html": [
       "<div>\n",
       "<style scoped>\n",
       "    .dataframe tbody tr th:only-of-type {\n",
       "        vertical-align: middle;\n",
       "    }\n",
       "\n",
       "    .dataframe tbody tr th {\n",
       "        vertical-align: top;\n",
       "    }\n",
       "\n",
       "    .dataframe thead th {\n",
       "        text-align: right;\n",
       "    }\n",
       "</style>\n",
       "<table border=\"1\" class=\"dataframe\">\n",
       "  <thead>\n",
       "    <tr style=\"text-align: right;\">\n",
       "      <th></th>\n",
       "      <th>sepal.length</th>\n",
       "      <th>sepal.width</th>\n",
       "      <th>petal.length</th>\n",
       "      <th>petal.width</th>\n",
       "      <th>variety</th>\n",
       "    </tr>\n",
       "  </thead>\n",
       "  <tbody>\n",
       "    <tr>\n",
       "      <th>0</th>\n",
       "      <td>5.1</td>\n",
       "      <td>3.5</td>\n",
       "      <td>1.4</td>\n",
       "      <td>0.2</td>\n",
       "      <td>Setosa</td>\n",
       "    </tr>\n",
       "    <tr>\n",
       "      <th>1</th>\n",
       "      <td>4.9</td>\n",
       "      <td>3.0</td>\n",
       "      <td>1.4</td>\n",
       "      <td>0.2</td>\n",
       "      <td>Setosa</td>\n",
       "    </tr>\n",
       "  </tbody>\n",
       "</table>\n",
       "</div>"
      ],
      "text/plain": [
       "   sepal.length  sepal.width  petal.length  petal.width variety\n",
       "0           5.1          3.5           1.4          0.2  Setosa\n",
       "1           4.9          3.0           1.4          0.2  Setosa"
      ]
     },
     "execution_count": 23,
     "metadata": {},
     "output_type": "execute_result"
    }
   ],
   "source": [
    "## 데이터 로딩\n",
    "DATA_FILE='../Data/iris.csv'\n",
    "\n",
    "### CSV => DataFrame\n",
    "irisDF = pd.read_csv(DATA_FILE)\n",
    "\n",
    "### 확인\n",
    "irisDF.head(2)"
   ]
  },
  {
   "cell_type": "code",
   "execution_count": 24,
   "metadata": {},
   "outputs": [
    {
     "data": {
      "text/plain": [
       "array(['Setosa', 'Versicolor', 'Virginica'], dtype=object)"
      ]
     },
     "execution_count": 24,
     "metadata": {},
     "output_type": "execute_result"
    }
   ],
   "source": [
    "### 타겟 변경 => 정수화, 클래스 3개 => 2개\n",
    "irisDF['variety'].unique()"
   ]
  },
  {
   "cell_type": "code",
   "execution_count": 25,
   "metadata": {},
   "outputs": [],
   "source": [
    "irisDF['variety'] = (irisDF['variety'] == 'Setosa')\n",
    "irisDF['variety']=irisDF['variety'].astype('int')"
   ]
  },
  {
   "cell_type": "code",
   "execution_count": 26,
   "metadata": {},
   "outputs": [],
   "source": [
    "# labels=dict(zip(irisDF['variety'].unique().tolist(),range(3)))\n",
    "# print(f'labels => {labels}')"
   ]
  },
  {
   "cell_type": "markdown",
   "metadata": {},
   "source": [
    "[2] 모델 클래스 설계 및 정의 <hr>\n",
    "- 클래스목적 : iris 데이터를 학습 및 추론\n",
    "- 클래스이름 : irisBCFModel\n",
    "- 부모클래스 : nn.Module\n",
    "- 매개 변수 : 층별 입출력 개수 고정하기 때문에 필요 x!\n",
    "- 속성 필드 : \n",
    "- 기능 역할 : __ init__() : 모델 구조 설정, forward() : 순방향 학습 <= 오버라이딩(overriding) - [상속 시 가능!]\n",
    "- 클래스구조\n",
    "    * 입력층 : 입력 4개(피쳐)  출력 10개 (퍼셉트론/뉴런 10개 존재)\n",
    "    * 은닉층 : 입력 10개       출력 5개 (퍼셉트론/뉴런 30개 존재)\n",
    "    * 출력층 : 입력 5개        출력 1개 (퍼셉트론/뉴런 1개 존재 : 2진분류)\n",
    "\n",
    "- 활성화함수\n",
    "    * 클래스 형태 ==> ex) nn.MESLoss, nn.ReLU ==> __ init__(self) 메서드\n",
    "    * 함수 형태 ==> torch.nn.functional 아래에 ==> forward(self) 메서드"
   ]
  },
  {
   "cell_type": "code",
   "execution_count": 27,
   "metadata": {},
   "outputs": [],
   "source": [
    "class irisBCFModel(nn.Module):\n",
    "\n",
    "    # 모델 구조 구성 및 인스턴스 생성 메서드\n",
    "    def __init__(self):\n",
    "        super().__init__()\n",
    "        \n",
    "        self.in_layer=nn.Linear(4, 10)\n",
    "        self.hidden_layer=nn.Linear(10, 5)\n",
    "        self.out_layer=nn.Linear(5, 1)\n",
    "\n",
    "    # 순방향 학습 진행 메서드\n",
    "    def forward(self, x):\n",
    "        # - 입력층\n",
    "        y = self.in_layer(x)     # y = f1w1 + f2w2 + f3w3 + b ... -> 10개\n",
    "        y = F.relu(y)            # relu -> y 값의 범위 0 <= y\n",
    "        \n",
    "        # - 은닉층 : 5개의 숫자 값(>=0)\n",
    "        y = self.hidden_layer(y) # y = f21w21 + ... + f210w210 , ... -> 5개\n",
    "        y = F.relu(y)            # relu -> y 값의 범위 0 <= y\n",
    "\n",
    "        # - 출력층 : 1개의 숫자 값(>=0)\n",
    "        return F.sigmoid(self.out_layer(y))        # f31w31 + ... f330w330 + b -> 1개"
   ]
  },
  {
   "cell_type": "code",
   "execution_count": 28,
   "metadata": {},
   "outputs": [
    {
     "name": "stdout",
     "output_type": "stream",
     "text": [
      "irisBCFModel(\n",
      "  (in_layer): Linear(in_features=4, out_features=10, bias=True)\n",
      "  (hidden_layer): Linear(in_features=10, out_features=5, bias=True)\n",
      "  (out_layer): Linear(in_features=5, out_features=1, bias=True)\n",
      ")\n"
     ]
    }
   ],
   "source": [
    "## 모델 인스턴스 생성\n",
    "model = irisBCFModel()\n",
    "\n",
    "print(model)"
   ]
  },
  {
   "cell_type": "code",
   "execution_count": 29,
   "metadata": {},
   "outputs": [
    {
     "data": {
      "text/plain": [
       "==========================================================================================\n",
       "Layer (type:depth-idx)                   Output Shape              Param #\n",
       "==========================================================================================\n",
       "irisBCFModel                             [17, 1]                   --\n",
       "├─Linear: 1-1                            [17, 10]                  50\n",
       "├─Linear: 1-2                            [17, 5]                   55\n",
       "├─Linear: 1-3                            [17, 1]                   6\n",
       "==========================================================================================\n",
       "Total params: 111\n",
       "Trainable params: 111\n",
       "Non-trainable params: 0\n",
       "Total mult-adds (M): 0.00\n",
       "==========================================================================================\n",
       "Input size (MB): 0.00\n",
       "Forward/backward pass size (MB): 0.00\n",
       "Params size (MB): 0.00\n",
       "Estimated Total Size (MB): 0.00\n",
       "=========================================================================================="
      ]
     },
     "execution_count": 29,
     "metadata": {},
     "output_type": "execute_result"
    }
   ],
   "source": [
    "# 모델 사용 메모리 정보 확인\n",
    "summary(model, input_size=(17,4)) # input_size = ,feature 개수)"
   ]
  },
  {
   "cell_type": "markdown",
   "metadata": {},
   "source": [
    "[3] 데이터셋 클래스 설계 및 정의 <hr>\n",
    "- 데이터셋 : iris.csv\n",
    "- 피쳐_개수 : 3개\n",
    "- 타겟_개수 : 1개\n",
    "- 클래스이름 : IrisDataset\n",
    "- 부모클래스 : utils.data.Dataset\n",
    "- 속성_필드 : featureDF, targetDF, n_rows, n_features\n",
    "- 필수메서드 : \n",
    "    * __ init__(self): 데이터셋 저장 및 전처리, 개발자가 필요한 속성 설정\n",
    "    * __ len__(self): 데이터의 개수 반환\n",
    "    * __ getitem__(self, index): 특정 인덱스의 피쳐와 타겟 반환\n",
    "    "
   ]
  },
  {
   "cell_type": "code",
   "execution_count": 30,
   "metadata": {},
   "outputs": [],
   "source": [
    "class IrisDataset(Dataset):\n",
    "\n",
    "    def __init__(self, featureDF, targetDF):\n",
    "        self.featureDF=featureDF\n",
    "        self.targetDF=targetDF\n",
    "        self.n_rows=featureDF.shape[0]\n",
    "        self.n_features=featureDF.shape[1]\n",
    "\n",
    "    def __len__(self):\n",
    "        return self.n_rows\n",
    "\n",
    "    def __getitem__(self, index):\n",
    "        # 텐서화\n",
    "        featureTS=torch.FloatTensor(self.featureDF.iloc[index].values)\n",
    "        targetTS=torch.FloatTensor(self.targetDF.iloc[index].values)\n",
    "        \n",
    "        # 피쳐와 타겟 반환\n",
    "        return featureTS, targetTS"
   ]
  },
  {
   "cell_type": "code",
   "execution_count": 31,
   "metadata": {},
   "outputs": [
    {
     "name": "stdout",
     "output_type": "stream",
     "text": [
      "torch.Size([1, 4]) torch.Size([1, 1])\n"
     ]
    }
   ],
   "source": [
    "## [테스트] 데이터셋 인스턴스 생성\n",
    "\n",
    "# DataFrame에서 피쳐와 타겟 추출\n",
    "featureDF = irisDF[irisDF.columns[:-1]]     # 2D (150, 3)\n",
    "targetDF = irisDF[irisDF.columns[-1:]]      # 2D (150, 1)\n",
    "\n",
    "# - 커스텀데이터셋 인스턴스 생성\n",
    "irisDS=IrisDataset(featureDF, targetDF)\n",
    "\n",
    "# - 데이터로더 인스턴스 생성\n",
    "irisDL=DataLoader(irisDS)\n",
    "\n",
    "for feature, label in irisDL:\n",
    "    print(feature.shape, label.shape)\n",
    "    break"
   ]
  },
  {
   "cell_type": "markdown",
   "metadata": {},
   "source": [
    "[4] 학습 준비 <hr>\n",
    "- 학습 횟수 : EPOCH          <- 처음~ 끝까지 공부하는 단위\n",
    "- 배치 크기 : BATCH_SIZE     <- 한번에 학습할 데이터셋 양\n",
    "- 위치 지정 : DEVICE         <- 탠서 저장 및 실행 위치 (GPU/CPU)\n",
    "- 학 습 률 : LR 가중치와 절편 업데이트 시 경사하강법으로 업데이트 간격 설정 0.001 ~ 0.1 (낮을수록 촘촘히)"
   ]
  },
  {
   "cell_type": "code",
   "execution_count": 32,
   "metadata": {},
   "outputs": [
    {
     "name": "stdout",
     "output_type": "stream",
     "text": [
      "BATCH_CNT: 15\n"
     ]
    }
   ],
   "source": [
    "### 학습 진행 관련 설정\n",
    "EPOCHS = 1000\n",
    "BATCH_SIZE = 10\n",
    "BATCH_CNT = irisDF.shape[0]//BATCH_SIZE\n",
    "DEVICE = 'cuda' if torch.cuda.is_available() else 'cpu'\n",
    "LR = 0.001\n",
    "\n",
    "print(f'BATCH_CNT: {BATCH_CNT}')"
   ]
  },
  {
   "cell_type": "markdown",
   "metadata": {},
   "source": [
    "- 인스턴스/객체 : 모델, 데이터셋, 최적화, (손실함수), (성능지표)"
   ]
  },
  {
   "cell_type": "code",
   "execution_count": 33,
   "metadata": {},
   "outputs": [
    {
     "name": "stdout",
     "output_type": "stream",
     "text": [
      "[X_train(shape): (84, 4) (type): <class 'pandas.core.frame.DataFrame'>], X_test: (38, 4), X_val: (28, 4)\n",
      "[y_train(shape): (84, 1) (type): <class 'pandas.core.frame.DataFrame'>], y_test: (38, 1), y_val: (28, 1)\n",
      "[y_train(value_counts()): variety\n",
      "0          0.702381\n",
      "1          0.297619\n",
      "Name: count, dtype: float64, y_test(value_counts()): variety\n",
      "0          0.657895\n",
      "1          0.342105\n",
      "Name: count, dtype: float64, y_val(value_counts()): variety\n",
      "0          0.571429\n",
      "1          0.428571\n",
      "Name: count, dtype: float64\n"
     ]
    }
   ],
   "source": [
    "# 모델 인스턴스\n",
    "model=irisBCFModel()\n",
    "\n",
    "# 데이터셋 인스턴스\n",
    "# 학습용, 검증용, 테스트용 데이터 분리\n",
    "X_train, X_test, y_train, y_test = train_test_split(featureDF, targetDF, random_state=1)\n",
    "X_train, X_val, y_train, y_val = train_test_split(X_train, y_train, random_state=1)\n",
    "print(f'[X_train(shape): {X_train.shape} (type): {type(X_train)}], X_test: {X_test.shape}, X_val: {X_val.shape}')\n",
    "print(f'[y_train(shape): {y_train.shape} (type): {type(y_train)}], y_test: {y_test.shape}, y_val: {y_val.shape}')\n",
    "print(f'[y_train(value_counts()): {y_train.value_counts()/y_train.shape[0]}, y_test(value_counts()): {y_test.value_counts()/y_test.shape[0]}, y_val(value_counts()): {y_val.value_counts()/y_val.shape[0]}')\n",
    "\n",
    "trainDS=IrisDataset(X_train, y_train)\n",
    "valDS=IrisDataset(X_val, y_val)\n",
    "testDS=IrisDataset(X_test, y_test)\n",
    "\n",
    "# - 학습용 데이터로더 인스턴스\n",
    "trainDL=DataLoader(trainDS, batch_size=BATCH_SIZE)"
   ]
  },
  {
   "cell_type": "markdown",
   "metadata": {},
   "source": [
    "- 최적화, 손실함수 인스턴스 생성"
   ]
  },
  {
   "cell_type": "code",
   "execution_count": 34,
   "metadata": {},
   "outputs": [],
   "source": [
    "# 최적화 인스턴스 => W,b 텐서 즉, model.parameters() 전달\n",
    "optimizer=optim.Adam(model.parameters(), lr=LR)\n",
    "\n",
    "# 손실함수 인스턴스 => 분류 => 이진분류 BinaryCrossEntropyLoss => BCELoss\n",
    "#                            예측값은 확률값으로 전달 ==> sigmoid() AF 처리 후 전달\n",
    "bce_loss = nn.BCELoss()"
   ]
  },
  {
   "cell_type": "code",
   "execution_count": 35,
   "metadata": {},
   "outputs": [
    {
     "data": {
      "text/plain": [
       "(84, 84)"
      ]
     },
     "execution_count": 35,
     "metadata": {},
     "output_type": "execute_result"
    }
   ],
   "source": [
    "trainDS.n_rows, trainDS.featureDF.shape[0]"
   ]
  },
  {
   "cell_type": "markdown",
   "metadata": {},
   "source": [
    "[5] 학습 진행 <hr>"
   ]
  },
  {
   "cell_type": "markdown",
   "metadata": {},
   "source": [
    ">>> 모델 저장 관련 준비"
   ]
  },
  {
   "cell_type": "code",
   "execution_count": 36,
   "metadata": {},
   "outputs": [],
   "source": [
    "### models 폴더 아래 프로젝트 폴더 아래 모델 파일 저장\n",
    "import os\n",
    "\n",
    "# 저장 경로\n",
    "SAVE_PATH='../Models/iris/BCF'\n",
    "\n",
    "# 저장 파일명\n",
    "SAVE_FILE=SAVE_PATH+'model_train_wbs.pth'\n",
    "\n",
    "# 모델 구조 및 파라미터 모두 저장 파일명\n",
    "SAVE_MODEL=SAVE_PATH+'model_all.pth'"
   ]
  },
  {
   "cell_type": "code",
   "execution_count": 37,
   "metadata": {},
   "outputs": [],
   "source": [
    "# 경로상 폴더 존재 여부 체크\n",
    "if not os.path.exists(SAVE_PATH):\n",
    "    os.makedirs(SAVE_PATH)  # 폴더 / 폴더 / ... 하위 폴더까지 생성"
   ]
  },
  {
   "cell_type": "code",
   "execution_count": 38,
   "metadata": {},
   "outputs": [
    {
     "name": "stdout",
     "output_type": "stream",
     "text": [
      "new BATCH_CNT : 9\n",
      "1/1000 => [TRAIN] LOSS: 7.66028219461441 SCORE: 3.939460664987564\n",
      "[VAL] LOSS: 0.7740093469619751 SCORE: 0.6000000238418579\n",
      "2/1000 => [TRAIN] LOSS: 3.764918476343155 SCORE: 1.969730332493782\n",
      "[VAL] LOSS: 0.7646916508674622 SCORE: 0.6000000238418579\n",
      "3/1000 => [TRAIN] LOSS: 2.473766505718231 SCORE: 1.3131535549958546\n",
      "[VAL] LOSS: 0.7572208642959595 SCORE: 0.6000000238418579\n",
      "4/1000 => [TRAIN] LOSS: 1.8331656754016876 SCORE: 0.984865166246891\n",
      "[VAL] LOSS: 0.7513314485549927 SCORE: 0.6000000238418579\n",
      "5/1000 => [TRAIN] LOSS: 1.4521316170692444 SCORE: 0.7878921329975128\n",
      "[VAL] LOSS: 0.7466942071914673 SCORE: 0.6000000238418579\n",
      "6/1000 => [TRAIN] LOSS: 1.2003602385520935 SCORE: 0.6565767774979273\n",
      "[VAL] LOSS: 0.7430152297019958 SCORE: 0.6000000238418579\n",
      "7/1000 => [TRAIN] LOSS: 1.0220701353890556 SCORE: 0.5627800949982235\n",
      "[VAL] LOSS: 0.74008709192276 SCORE: 0.6000000238418579\n",
      "8/1000 => [TRAIN] LOSS: 0.8893691971898079 SCORE: 0.4924325831234455\n",
      "[VAL] LOSS: 0.7376986742019653 SCORE: 0.6000000238418579\n",
      "9/1000 => [TRAIN] LOSS: 0.786808987458547 SCORE: 0.4377178516652849\n",
      "[VAL] LOSS: 0.7356828451156616 SCORE: 0.6000000238418579\n",
      "성능 및 손실 개선이 없어서 학습 중단\n"
     ]
    }
   ],
   "source": [
    "## 학습의 효과 확인 => 손실값과 성능평가값 저장 필요\n",
    "loss_history, score_history=[[],[]], [[],[]] # train, val\n",
    "CNT=len(trainDL)\n",
    "print(f'new BATCH_CNT : {CNT}')\n",
    "# 학습 모드로 모델 설정\n",
    "model.train()\n",
    "\n",
    "BREAK_CNT = 0\n",
    "THESHOLD = 9\n",
    "for epoch in range(1, EPOCHS):\n",
    "    # 학습 모드로 모델 설정\n",
    "    model.train()\n",
    "\n",
    "    # 배치 크기 만큼 데이터 로딩해서 학습 진행\n",
    "    loss_total, score_total=0,0\n",
    "    for featureTS, targetTS in trainDL:\n",
    "\n",
    "        # 학습 진행\n",
    "        pre_y=model(featureTS)\n",
    "\n",
    "        # 손실 계산\n",
    "        loss=bce_loss(pre_y, targetTS)\n",
    "        loss_total+=loss.item()\n",
    "        \n",
    "        # 성능평가 계산\n",
    "        # score=F1Score(task='binary')(pre_y, targetTS)\n",
    "        score=BinaryF1Score()(pre_y, targetTS)\n",
    "        score_total+=score.item()\n",
    "\n",
    "        # 최적화 진행\n",
    "        optimizer.zero_grad()\n",
    "        loss.backward()\n",
    "        optimizer.step()\n",
    "\n",
    "    # 검증 모드로 모델 설정\n",
    "    model.eval()\n",
    "    with torch.no_grad():\n",
    "        # 검증 데이터셋\n",
    "        val_featureTS=torch.FloatTensor(valDS.featureDF.values)\n",
    "        val_targetTS=torch.FloatTensor(valDS.targetDF.values)\n",
    "        \n",
    "        # 평가\n",
    "        pre_val=model(val_featureTS)\n",
    "\n",
    "        # 손실\n",
    "        loss_val=bce_loss(pre_val, val_targetTS)\n",
    "\n",
    "        # 성능평가\n",
    "        # score_val=F1Score(task='binary')(pre_val, val_targetTS)\n",
    "        score_val=BinaryF1Score()(pre_val, val_targetTS)\n",
    "\n",
    "    # 에포크당 손실값과 성능평가값 저장\n",
    "    loss_history[0].append(loss_total/len(trainDL))\n",
    "    score_history[0].append(score_total/len(trainDL))\n",
    "\n",
    "    loss_history[1].append(loss_val)\n",
    "    score_history[1].append(score_val)\n",
    "\n",
    "    # 학습 진행 모니터링/스케쥴링: - 검증 DS 기준\n",
    "\n",
    "    # # Loss 기준\n",
    "    # if len(loss_history[1]) >= 2:\n",
    "    #     if loss_history[1][-1] >= loss_history[1][-2]: BREAK_CNT += 1\n",
    "        \n",
    "    # score 기준\n",
    "    if len(score_history[1]) >= 2:\n",
    "        if score_history[1][-1] <= score_history[1][-2]: BREAK_CNT += 1\n",
    "\n",
    "    # 성능이 좋은 학습 가중치 저장\n",
    "    SAVE_FILE=f'loss(:{loss_total/len(trainDL):3f})_score(:{score_total/len(trainDL):3f}).pth'\n",
    "\n",
    "    if len(score_history[1]) == 1:\n",
    "        # 첫번째라서 무조건 모델 파라미터 저장\n",
    "        torch.save(model.state_dict(), SAVE_FILE)\n",
    "        # 모델 전체 저장\n",
    "        torch.save(model, SAVE_MODEL)\n",
    "    else:\n",
    "        if score_history[1][-1] > max(score_history[1][:-1]):\n",
    "            torch.save(model.state_dict(), SAVE_FILE)\n",
    "            torch.save(model, SAVE_FILE)\n",
    "\n",
    "    # 학습 중단 여부 설정\n",
    "    if BREAK_CNT >= THESHOLD:\n",
    "        print('성능 및 손실 개선이 없어서 학습 중단')\n",
    "        break\n",
    "\n",
    "    print(f'{epoch}/{EPOCHS} => [TRAIN] LOSS: {loss_history[0][-1]} SCORE: {score_history[0][-1]}')\n",
    "    print(f'[VAL] LOSS: {loss_history[1][-1]} SCORE: {score_history[1][-1]}')"
   ]
  },
  {
   "cell_type": "markdown",
   "metadata": {},
   "source": [
    "[테스트 & 검증 상태]\n",
    "- 설정된 W,b 검증 및 테스트용 데이터셋 예측값 추출\n",
    "- 사용되지 않는 기능들 OFF\n",
    "- W, b 업데이트 X\n",
    "    * -> 기능 OFF Auto_grade 엔진 ---> model.eval()\n",
    "    * -> W, b 텐서 required_grade=True ---> no.grad()"
   ]
  },
  {
   "cell_type": "markdown",
   "metadata": {},
   "source": [
    "[6] 학습결과 시각화\n",
    "- 학습과 검증의 Loss 변화, 성능 변화 체크"
   ]
  },
  {
   "cell_type": "code",
   "execution_count": 41,
   "metadata": {},
   "outputs": [
    {
     "data": {
      "image/png": "[encoded data removed]",
      "text/plain": [
       "<Figure size 1000x500 with 2 Axes>"
      ]
     },
     "metadata": {},
     "output_type": "display_data"
    }
   ],
   "source": [
    "# 학습 후 loss 시각화\n",
    "\n",
    "# THRESHOLD=10\n",
    "THRESHOLD = len(score_history[1])\n",
    "fg, axes=plt.subplots(1,2,figsize=(10,5))\n",
    "axes[0].plot(range(1, THRESHOLD+1), loss_history[0][:THRESHOLD], label='Train')\n",
    "axes[0].plot(range(1, THRESHOLD+1), loss_history[1][:THRESHOLD], label='Val')\n",
    "axes[0].grid()\n",
    "axes[0].legend()\n",
    "axes[0].set_xlabel('Epoch')\n",
    "axes[0].set_ylabel('Loss')\n",
    "axes[0].set_title('Epoch&Loss')\n",
    "\n",
    "axes[1].plot(range(1, THRESHOLD+1), score_history[0][:THRESHOLD], label='Train')\n",
    "axes[1].plot(range(1, THRESHOLD+1), score_history[1][:THRESHOLD], label='Val')\n",
    "axes[1].grid()\n",
    "axes[1].legend()\n",
    "axes[1].set_xlabel('Epoch')\n",
    "axes[1].set_ylabel('F1Score')\n",
    "axes[1].set_title('Epoch&F1Score')\n",
    "plt.tight_layout()\n",
    "plt.show()"
   ]
  },
  {
   "cell_type": "code",
   "execution_count": null,
   "metadata": {},
   "outputs": [],
   "source": []
  }
 ],
 "metadata": {
  "kernelspec": {
   "display_name": "TORCH_38",
   "language": "python",
   "name": "python3"
  },
  "language_info": {
   "codemirror_mode": {
    "name": "ipython",
    "version": 3
   },
   "file_extension": ".py",
   "mimetype": "text/x-python",
   "name": "python",
   "nbconvert_exporter": "python",
   "pygments_lexer": "ipython3",
   "version": "3.8.19"
  }
 },
 "nbformat": 4,
 "nbformat_minor": 2
}
