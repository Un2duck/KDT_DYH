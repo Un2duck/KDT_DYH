{
 "cells": [
  {
   "cell_type": "markdown",
   "metadata": {},
   "source": [
    "##### 사용자 정의 함수"
   ]
  },
  {
   "cell_type": "markdown",
   "metadata": {},
   "source": [
    "---\n",
    "- 함수기능 : 모델 학습 진행 함수\n",
    "- 함수이름 : training\n",
    "- 매개변수 : 함수 구동 시 필요한 재료 => 학습을 위한 재료\n",
    "    * 모델 인스턴스\n",
    "    * 학습 데이터셋 : 피쳐와 타겟 (학습전 Tensor화)\n",
    "    * 손실함수 인스턴스\n",
    "    * 최적화 인스턴스\n",
    "    * 학습횟수 -> 에포크 EPOCH\n",
    "    * 배치크기 : BATCH_SIZE\n",
    "    * 배치개수 : BATCH_CNT (= iterator)\n",
    "    * 검증용 데이터셋 : 피쳐와 타겟 (검증전 Tensor화)\n",
    "- 함수결과 : 학습 시 에포크당 손실(Loss)값과 성능지표값, 검증(Validate) 시 손실(Loss)값과 성능지표값\n",
    "---"
   ]
  },
  {
   "cell_type": "markdown",
   "metadata": {},
   "source": [
    "---\n",
    "- 함수기능 : 에포크 단위 모델 학습 진행 함수\n",
    "- 함수이름 : epochTraining\n",
    "- 매개변수 : 함수 구동 시 필요한 재료 => 학습을 위한 재료\n",
    "    * 모델 인스턴스\n",
    "    * 학습용 데이터셋 : 피쳐와 라벨 (학습 전 Tensor화)\n",
    "    * 손실함수 인스턴스\n",
    "    * 최적화 인스턴스\n",
    "    * 배치크기 : BATCH_SIZE\n",
    "    * 배치개수 : BATCH_CNT (iteration)\n",
    "- 함수결과 : 손실(Loss)값과 성능지표값\n",
    "---"
   ]
  },
  {
   "cell_type": "code",
   "execution_count": 1,
   "metadata": {},
   "outputs": [],
   "source": [
    "# 모듈로딩\n",
    "import torch\n",
    "import torch.nn as nn\n",
    "import torch.nn.functional as F\n",
    "import torch.optim as optim\n",
    "from torchmetrics.regression import R2Score\n",
    "from torchmetrics.classification import F1Score"
   ]
  },
  {
   "cell_type": "code",
   "execution_count": 2,
   "metadata": {},
   "outputs": [],
   "source": [
    "# 텐서 저장 및 실행 위치 설정\n",
    "DEVICE = 'cuda' if torch.cuda.is_available() else 'cpu'"
   ]
  },
  {
   "cell_type": "code",
   "execution_count": 3,
   "metadata": {},
   "outputs": [],
   "source": [
    "### 에포크 당 학습 진행 후 손실값과 성능지표값 반환 함수\n",
    "# ** def epochTraining(model, feature, target, lossFunc, optimizer, batch_cnt, batch_size=32, is_class=True):\n",
    "def epochTraining(model, feature, target, lossFunc, optimizer, scoreFunc, batch_cnt, batch_size=32):\n",
    "    # - 에포크에서 배치크기만큼 데이터셋 추출 후 학습 진행\n",
    "    loss_total,score_total=0,0\n",
    "    for i in range(batch_cnt):\n",
    "        # 배치크기만큼 데이터셋 추출 후 텐서화\n",
    "        start=i*batch_size      #(ex. batch_size=0, 32, 64, ...)\n",
    "        end=start+batch_size    #(ex. batch_size=32, 64, 96, ...)\n",
    "\n",
    "        x_train = torch.FloatTensor(feature[start:end].values).to(DEVICE)\n",
    "        y_train = torch.FloatTensor(target[start:end].values).to(DEVICE)\n",
    "        \n",
    "        # 학습 진행\n",
    "        pre_y = model(x_train)\n",
    "\n",
    "        # 손실 계산\n",
    "        loss=lossFunc(pre_y, y_train)\n",
    "        loss_total += loss\n",
    "\n",
    "        # 점수 추출\n",
    "        # ** score = F1Score()(pre_y, y_train) if is_class else R2Score()(pre_y, y_train)\n",
    "        score = scoreFunc()(pre_y, y_train)\n",
    "        score_total += score\n",
    "\n",
    "        # 최적화 - 가중치(W), 절편(b) 업데이트\n",
    "        optimizer.zero_grad()\n",
    "        loss.backward()\n",
    "        optimizer.step()\n",
    "\n",
    "    # 에포크당 손실값과 성능지표값 반환\n",
    "    # 테스트 및 검증 함수 사용\n",
    "    return loss_total/batch_cnt, score_total/batch_cnt"
   ]
  },
  {
   "cell_type": "code",
   "execution_count": 4,
   "metadata": {},
   "outputs": [],
   "source": [
    "### 검증 및 테스트 진행 후 손실값과 성능지표값 반환 함수\n",
    "def testing(model, feature, target, lossFunc, scoreFunc):\n",
    "    # - 최적화 기능 비활성화 후 데이터셋 추출 후 학습 진행\n",
    "    with torch.no_grad():\n",
    "        # 배치크기만큼 데이터셋 추출 후 텐서화\n",
    "        x_valTS = torch.FloatTensor(feature.values).to(DEVICE)\n",
    "        y_valTS = torch.FloatTensor(target.values).to(DEVICE)\n",
    "        \n",
    "        # 학습 진행\n",
    "        pre_y = model(x_valTS).to(DEVICE)\n",
    "\n",
    "        # 손실 계산\n",
    "        loss=lossFunc(pre_y, y_valTS).to(DEVICE)\n",
    "        \n",
    "        # 점수 추출\n",
    "        score = scoreFunc()(pre_y, y_valTS)\n",
    "        \n",
    "    # 손실값과 성능지표값 반환\n",
    "    return loss, score"
   ]
  },
  {
   "cell_type": "code",
   "execution_count": null,
   "metadata": {},
   "outputs": [],
   "source": [
    "# 학습 진행\n",
    "EPOCHS=10\n",
    "TV_LOSS={'TRAIN':[],\n",
    "         'VAL':[]}\n",
    "TV_SCORE={'TRAIN':[],\n",
    "         'VAL':[]}\n",
    "\n",
    "for epoch in range(EPOCHS):\n",
    "    # 학습 진행\n",
    "    train_loss, train_score = epochTraining()\n",
    "    # 검증 진행\n",
    "    val_loss, val_score = testing()\n",
    "\n",
    "    # 에포크당 학습 및 검증 결과 저장\n",
    "    TV_LOSS['TRAIN'].append(train_loss)\n",
    "    TV_SCORE['TRAIN'].append(train_score)\n",
    "    \n",
    "    TV_LOSS['VAL'].append(val_loss)\n",
    "    TV_SCORE['VAL'].append(val_score)\n",
    "\n",
    "    # 에포크당 학습 및 검증 결과 출력\n",
    "    print(f'- {epoch}/{EPOCHS}\\n - [TRAIN] LOSS: {train_loss}, SCORE: {train_score}')\n",
    "    print(f'- [VAL] LOSS: {val_loss}, SCORE: {val_score}')"
   ]
  },
  {
   "cell_type": "code",
   "execution_count": null,
   "metadata": {},
   "outputs": [],
   "source": []
  }
 ],
 "metadata": {
  "kernelspec": {
   "display_name": "TORCH_38",
   "language": "python",
   "name": "python3"
  },
  "language_info": {
   "codemirror_mode": {
    "name": "ipython",
    "version": 3
   },
   "file_extension": ".py",
   "mimetype": "text/x-python",
   "name": "python",
   "nbconvert_exporter": "python",
   "pygments_lexer": "ipython3",
   "version": "3.8.19"
  }
 },
 "nbformat": 4,
 "nbformat_minor": 2
}
