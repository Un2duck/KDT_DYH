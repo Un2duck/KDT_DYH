{
 "cells": [
  {
   "cell_type": "markdown",
   "metadata": {},
   "source": [
    "#### Tensor 이해"
   ]
  },
  {
   "cell_type": "code",
   "execution_count": 1,
   "metadata": {},
   "outputs": [],
   "source": [
    "### 모듈 로딩\n",
    "import torch"
   ]
  },
  {
   "cell_type": "markdown",
   "metadata": {},
   "source": [
    "- 타입지정 Tensor 클래스 활용\n",
    "    * 데이터 타입을 설정 후 생성\n",
    "    * 데이터 사이즈 설정한 텐서 생성 시 사용\n",
    "    * 데이터의 자료형 변환한 텐서 생성 시 사용"
   ]
  },
  {
   "cell_type": "code",
   "execution_count": 2,
   "metadata": {},
   "outputs": [],
   "source": [
    "### 정수형 텐서 생성 \n",
    "data=[1.4, 2.8, 3.1]"
   ]
  },
  {
   "cell_type": "code",
   "execution_count": 3,
   "metadata": {},
   "outputs": [
    {
     "name": "stdout",
     "output_type": "stream",
     "text": [
      "tensor([1, 2, 3], dtype=torch.int8)\n",
      "tensor([1, 2, 3], dtype=torch.int8)\n"
     ]
    },
    {
     "name": "stderr",
     "output_type": "stream",
     "text": [
      "C:\\Users\\KDP-50\\AppData\\Local\\Temp\\ipykernel_19340\\1045784170.py:2: DeprecationWarning: an integer is required (got type float).  Implicit conversion to integers using __int__ is deprecated, and may be removed in a future version of Python.\n",
      "  dataTS =torch.CharTensor(data)\n",
      "C:\\Users\\KDP-50\\AppData\\Local\\Temp\\ipykernel_19340\\1045784170.py:3: DeprecationWarning: an integer is required (got type float).  Implicit conversion to integers using __int__ is deprecated, and may be removed in a future version of Python.\n",
      "  dataTS11 = torch.tensor(data, dtype=torch.int8)\n"
     ]
    }
   ],
   "source": [
    "### 1바이트 정수형 텐서 생성\n",
    "dataTS = torch.CharTensor(data)\n",
    "dataTS11 = torch.tensor(data, dtype=torch.int8)\n",
    "\n",
    "print(dataTS, dataTS11, sep='\\n')"
   ]
  },
  {
   "cell_type": "code",
   "execution_count": 4,
   "metadata": {},
   "outputs": [
    {
     "name": "stdout",
     "output_type": "stream",
     "text": [
      "tensor([1, 2, 3], dtype=torch.int16)\n",
      "tensor([1, 2, 3], dtype=torch.int16)\n"
     ]
    },
    {
     "name": "stderr",
     "output_type": "stream",
     "text": [
      "C:\\Users\\KDP-50\\AppData\\Local\\Temp\\ipykernel_19340\\3493454441.py:2: DeprecationWarning: an integer is required (got type float).  Implicit conversion to integers using __int__ is deprecated, and may be removed in a future version of Python.\n",
      "  dataTS =torch.ShortTensor(data)\n",
      "C:\\Users\\KDP-50\\AppData\\Local\\Temp\\ipykernel_19340\\3493454441.py:3: DeprecationWarning: an integer is required (got type float).  Implicit conversion to integers using __int__ is deprecated, and may be removed in a future version of Python.\n",
      "  dataTS11 = torch.tensor(data, dtype=torch.int16)\n"
     ]
    }
   ],
   "source": [
    "### 1바이트 정수형 텐서 생성\n",
    "dataTS = torch.ShortTensor(data)\n",
    "dataTS11 = torch.tensor(data, dtype=torch.int16)\n",
    "\n",
    "print(dataTS, dataTS11, sep='\\n')"
   ]
  },
  {
   "cell_type": "code",
   "execution_count": 10,
   "metadata": {},
   "outputs": [
    {
     "name": "stdout",
     "output_type": "stream",
     "text": [
      "tensor([1, 2, 3])\n",
      "tensor([1, 2, 3])\n"
     ]
    },
    {
     "name": "stderr",
     "output_type": "stream",
     "text": [
      "C:\\Users\\KDP-50\\AppData\\Local\\Temp\\ipykernel_19340\\2753796909.py:2: DeprecationWarning: an integer is required (got type float).  Implicit conversion to integers using __int__ is deprecated, and may be removed in a future version of Python.\n",
      "  dataTS =torch.LongTensor(data)\n",
      "C:\\Users\\KDP-50\\AppData\\Local\\Temp\\ipykernel_19340\\2753796909.py:3: DeprecationWarning: an integer is required (got type float).  Implicit conversion to integers using __int__ is deprecated, and may be removed in a future version of Python.\n",
      "  dataTS11 = torch.tensor(data, dtype=torch.long)\n"
     ]
    }
   ],
   "source": [
    "### 2바이트 정수형 텐서 생성\n",
    "dataTS = torch.LongTensor(data)\n",
    "dataTS11 = torch.tensor(data, dtype=torch.long)\n",
    "\n",
    "print(dataTS, dataTS11, sep='\\n')"
   ]
  },
  {
   "cell_type": "code",
   "execution_count": 9,
   "metadata": {},
   "outputs": [
    {
     "name": "stdout",
     "output_type": "stream",
     "text": [
      "tensor([1.4000, 2.8000, 3.1000])\n",
      "tensor([1.4000, 2.8000, 3.1000], dtype=torch.float64)\n"
     ]
    }
   ],
   "source": [
    "### 실수형 텐서 생성\n",
    "dataTS = torch.FloatTensor(data)\n",
    "dataTS11 = torch.tensor(data, dtype=torch.float64)\n",
    "\n",
    "print(dataTS, dataTS11, sep='\\n')"
   ]
  },
  {
   "cell_type": "code",
   "execution_count": 12,
   "metadata": {},
   "outputs": [
    {
     "name": "stdout",
     "output_type": "stream",
     "text": [
      "tensor([1.4000, 2.8000, 3.1000], dtype=torch.float64)\n",
      "tensor([1.4000, 2.8000, 3.1000], dtype=torch.float64)\n"
     ]
    }
   ],
   "source": [
    "### 실수형 텐서 생성\n",
    "dataTS = torch.DoubleTensor(data)\n",
    "dataTS11 = torch.tensor(data, dtype=torch.float64)\n",
    "\n",
    "print(dataTS, dataTS11, sep='\\n')"
   ]
  },
  {
   "cell_type": "code",
   "execution_count": 13,
   "metadata": {},
   "outputs": [
    {
     "name": "stdout",
     "output_type": "stream",
     "text": [
      "tensor([True, True, True])\n",
      "tensor([True, True, True])\n"
     ]
    }
   ],
   "source": [
    "### Bool형 텐서 생성\n",
    "dataTS = torch.BoolTensor(data)\n",
    "dataTS11 = torch.tensor(data, dtype=torch.bool)\n",
    "\n",
    "print(dataTS, dataTS11, sep='\\n')"
   ]
  },
  {
   "cell_type": "markdown",
   "metadata": {},
   "source": [
    "- Tensor 저장 및 실행 위치 설정 ==> 속성 device 설정"
   ]
  },
  {
   "cell_type": "code",
   "execution_count": 8,
   "metadata": {},
   "outputs": [
    {
     "data": {
      "text/plain": [
       "'cpu'"
      ]
     },
     "execution_count": 8,
     "metadata": {},
     "output_type": "execute_result"
    }
   ],
   "source": [
    "### 실행 위치 => CPU / GPU\n",
    "DEVICE = 'cuda' if torch.cuda.is_available() else 'cpu'\n",
    "DEVICE"
   ]
  },
  {
   "cell_type": "code",
   "execution_count": 11,
   "metadata": {},
   "outputs": [
    {
     "name": "stdout",
     "output_type": "stream",
     "text": [
      "tensor([1.4000, 2.8000, 3.1000], dtype=torch.float64)\n",
      "tensor([1.4000, 2.8000, 3.1000], dtype=torch.float64)\n"
     ]
    }
   ],
   "source": [
    "### 실수형 텐서 생성\n",
    "dataTS = torch.DoubleTensor(data)\n",
    "dataTS11 = torch.tensor(data, dtype=torch.float64, device=DEVICE)\n",
    "\n",
    "print(dataTS, dataTS11, sep='\\n')"
   ]
  },
  {
   "cell_type": "code",
   "execution_count": null,
   "metadata": {},
   "outputs": [],
   "source": []
  }
 ],
 "metadata": {
  "kernelspec": {
   "display_name": "TORCH_38",
   "language": "python",
   "name": "python3"
  },
  "language_info": {
   "codemirror_mode": {
    "name": "ipython",
    "version": 3
   },
   "file_extension": ".py",
   "mimetype": "text/x-python",
   "name": "python",
   "nbconvert_exporter": "python",
   "pygments_lexer": "ipython3",
   "version": "3.8.19"
  }
 },
 "nbformat": 4,
 "nbformat_minor": 2
}
