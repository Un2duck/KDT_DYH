{
 "cells": [
  {
   "cell_type": "markdown",
   "metadata": {},
   "source": [
    "#### Tensor 이해 - 생성\n",
    "- Tensor란?\n",
    "    * pytorch에서 데이터를 저장하는 객체\n",
    "    * 모델에 입력/출력 데이터 형태"
   ]
  },
  {
   "cell_type": "code",
   "execution_count": 1,
   "metadata": {},
   "outputs": [],
   "source": [
    "## 모듈 로딩\n",
    "import torch"
   ]
  },
  {
   "cell_type": "markdown",
   "metadata": {},
   "source": [
    "- Tensor 생성 [2] torch.rand()"
   ]
  },
  {
   "cell_type": "code",
   "execution_count": 2,
   "metadata": {},
   "outputs": [],
   "source": [
    "# 0 <= ~< 1 범위의 임의의 숫자 1개 추출 => rand(*size)\n",
    "# rand(*size) : 가변인자 ==> 몇 차원일지 알 수 없음!!\n",
    "torch.manual_seed(1)\n",
    "\n",
    "dataTS1 = torch.rand(1)         # 1D Vector\n",
    "dataTS2 = torch.rand(2,3)       # 2D Matrix\n",
    "dataTS3 = torch.rand(1,2,3)     # 3D Tensor"
   ]
  },
  {
   "cell_type": "code",
   "execution_count": 3,
   "metadata": {},
   "outputs": [
    {
     "name": "stdout",
     "output_type": "stream",
     "text": [
      "tensor([0.7576])\n",
      "tensor([[0.2793, 0.4031, 0.7347],\n",
      "        [0.0293, 0.7999, 0.3971]])\n",
      "tensor([[[0.7544, 0.5695, 0.4388],\n",
      "         [0.6387, 0.5247, 0.6826]]])\n"
     ]
    }
   ],
   "source": [
    "print(dataTS1, dataTS2, dataTS3, sep='\\n')"
   ]
  },
  {
   "cell_type": "markdown",
   "metadata": {},
   "source": [
    "- Tensor 생성 [3] torch.randn()"
   ]
  },
  {
   "cell_type": "code",
   "execution_count": 4,
   "metadata": {},
   "outputs": [],
   "source": [
    "dataTS1 = torch.randn(1)         # 1D Vector\n",
    "dataTS2 = torch.randn(2,3)       # 2D Matrix\n",
    "dataTS3 = torch.randn(1,2,3)     # 3D Tensor"
   ]
  },
  {
   "cell_type": "code",
   "execution_count": 5,
   "metadata": {},
   "outputs": [
    {
     "name": "stdout",
     "output_type": "stream",
     "text": [
      "tensor([-1.3328])\n",
      "tensor([[ 0.5161,  0.7455, -0.0751],\n",
      "        [-0.6919, -0.4043,  0.2222]])\n",
      "tensor([[[ 0.5773, -1.7637,  0.2264],\n",
      "         [-0.2355,  0.3019, -0.2770]]])\n"
     ]
    }
   ],
   "source": [
    "print(dataTS1, dataTS2, dataTS3, sep='\\n')"
   ]
  },
  {
   "cell_type": "markdown",
   "metadata": {},
   "source": [
    "- Tensor 생성 [4] torch.randint()"
   ]
  },
  {
   "cell_type": "code",
   "execution_count": 6,
   "metadata": {},
   "outputs": [
    {
     "data": {
      "text/plain": [
       "tensor([[15,  6, 24, 19, 16, 19],\n",
       "        [25, 12,  5, 40, 31, 14],\n",
       "        [16, 37, 44, 42, 45, 13],\n",
       "        [ 4, 32, 35, 40, 24,  4]])"
      ]
     },
     "execution_count": 6,
     "metadata": {},
     "output_type": "execute_result"
    }
   ],
   "source": [
    "# 1D Vector\n",
    "torch.randint(1,46,(4, 6))"
   ]
  },
  {
   "cell_type": "code",
   "execution_count": null,
   "metadata": {},
   "outputs": [],
   "source": []
  }
 ],
 "metadata": {
  "kernelspec": {
   "display_name": "TORCH_38",
   "language": "python",
   "name": "python3"
  },
  "language_info": {
   "codemirror_mode": {
    "name": "ipython",
    "version": 3
   },
   "file_extension": ".py",
   "mimetype": "text/x-python",
   "name": "python",
   "nbconvert_exporter": "python",
   "pygments_lexer": "ipython3",
   "version": "3.8.19"
  }
 },
 "nbformat": 4,
 "nbformat_minor": 2
}
