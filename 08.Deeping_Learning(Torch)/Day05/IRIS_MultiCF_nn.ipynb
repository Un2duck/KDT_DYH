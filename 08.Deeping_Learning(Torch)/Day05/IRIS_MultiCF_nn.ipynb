{
 "cells": [
  {
   "cell_type": "markdown",
   "metadata": {},
   "source": [
    "##### DNN 기반 회귀 모델 구현\n",
    "- 데이터셋   : iris.csv\n",
    "- 피쳐/속성  : 4개 Sepal_Length, Sepal_width, Petal_length, Petal_Width\n",
    "- 타겟/라벨  : 1개 variety\n",
    "- 학습/방법  : 지도학습 -> 분류 -> 다중분류 (클래스 3개)\n",
    "- 알고리즘   : 인공신경망(ANN) -> MLP, DNN : 은닉층이 많은 구성\n",
    "- 프레임워크 : Pytorch"
   ]
  },
  {
   "cell_type": "markdown",
   "metadata": {},
   "source": [
    "[1] 모듈 로딩 및 데이터 준비 <hr>"
   ]
  },
  {
   "cell_type": "code",
   "execution_count": 1,
   "metadata": {},
   "outputs": [],
   "source": [
    "# 모델 관련 모듈 로딩\n",
    "import torch\n",
    "import torch.nn as nn  \n",
    "import torch.nn.functional as F  \n",
    "from torch.utils.data import Dataset, DataLoader\n",
    "import torch.optim as optim\n",
    "\n",
    "from torchmetrics.classification import MulticlassF1Score\n",
    "from torchmetrics.classification import MulticlassConfusionMatrix\n",
    "from torchinfo import summary\n",
    "\n",
    "# 데이터 관련 모듈 로딩\n",
    "import pandas as pd\n",
    "import matplotlib.pyplot as plt\n",
    "import seaborn as sns\n",
    "from sklearn.model_selection import train_test_split\n",
    "from sklearn.preprocessing import *"
   ]
  },
  {
   "cell_type": "code",
   "execution_count": 2,
   "metadata": {},
   "outputs": [
    {
     "name": "stdout",
     "output_type": "stream",
     "text": [
      "torch V.:2.4.1\n",
      "pandas V.:2.0.3\n"
     ]
    }
   ],
   "source": [
    "# 활용 패키지 버전 체크\n",
    "print(f'torch V.:{torch.__version__}')\n",
    "print(f'pandas V.:{pd.__version__}')"
   ]
  },
  {
   "cell_type": "code",
   "execution_count": 3,
   "metadata": {},
   "outputs": [
    {
     "data": {
      "text/html": [
       "<div>\n",
       "<style scoped>\n",
       "    .dataframe tbody tr th:only-of-type {\n",
       "        vertical-align: middle;\n",
       "    }\n",
       "\n",
       "    .dataframe tbody tr th {\n",
       "        vertical-align: top;\n",
       "    }\n",
       "\n",
       "    .dataframe thead th {\n",
       "        text-align: right;\n",
       "    }\n",
       "</style>\n",
       "<table border=\"1\" class=\"dataframe\">\n",
       "  <thead>\n",
       "    <tr style=\"text-align: right;\">\n",
       "      <th></th>\n",
       "      <th>sepal.length</th>\n",
       "      <th>sepal.width</th>\n",
       "      <th>petal.length</th>\n",
       "      <th>petal.width</th>\n",
       "      <th>variety</th>\n",
       "    </tr>\n",
       "  </thead>\n",
       "  <tbody>\n",
       "    <tr>\n",
       "      <th>0</th>\n",
       "      <td>5.1</td>\n",
       "      <td>3.5</td>\n",
       "      <td>1.4</td>\n",
       "      <td>0.2</td>\n",
       "      <td>Setosa</td>\n",
       "    </tr>\n",
       "    <tr>\n",
       "      <th>1</th>\n",
       "      <td>4.9</td>\n",
       "      <td>3.0</td>\n",
       "      <td>1.4</td>\n",
       "      <td>0.2</td>\n",
       "      <td>Setosa</td>\n",
       "    </tr>\n",
       "  </tbody>\n",
       "</table>\n",
       "</div>"
      ],
      "text/plain": [
       "   sepal.length  sepal.width  petal.length  petal.width variety\n",
       "0           5.1          3.5           1.4          0.2  Setosa\n",
       "1           4.9          3.0           1.4          0.2  Setosa"
      ]
     },
     "execution_count": 3,
     "metadata": {},
     "output_type": "execute_result"
    }
   ],
   "source": [
    "## 데이터 로딩\n",
    "DATA_FILE='../Data/iris.csv'\n",
    "\n",
    "### CSV => DataFrame\n",
    "irisDF = pd.read_csv(DATA_FILE)\n",
    "\n",
    "### 확인\n",
    "irisDF.head(2)"
   ]
  },
  {
   "cell_type": "markdown",
   "metadata": {},
   "source": [
    "[2] 모델 클래스 설계 및 정의 <hr>\n",
    "- 클래스목적 : iris 데이터를 학습 및 추론\n",
    "- 클래스이름 : irisRegModel\n",
    "- 부모클래스 : nn.Module\n",
    "- 매개 변수 : 층별 입출력 개수 고정하기 때문에 필요 x!\n",
    "- 속성 필드 : \n",
    "- 기능 역할 : __ init__() : 모델 구조 설정, forward() : 순방향 학습 <= 오버라이딩(overriding) - [상속 시 가능!]\n",
    "- 클래스구조\n",
    "    * 입력층 : 입력 3개(피쳐)  출력 10개 (퍼셉트론/뉴런 10개 존재)\n",
    "    * 은닉층 : 입력 10개       출력 30개 (퍼셉트론/뉴런 30개 존재)\n",
    "    * 출력층 : 입력 30개       출력 1개 (너비값)\n",
    "\n",
    "- 활성화함수\n",
    "    * 클래스 형태 ==> ex) nn.MESLoss, nn.ReLU ==> __ init__(self) 메서드\n",
    "    * 함수 형태 ==> torch.nn.functional 아래에 ==> forward(self) 메서드"
   ]
  },
  {
   "cell_type": "code",
   "execution_count": 4,
   "metadata": {},
   "outputs": [
    {
     "name": "stdout",
     "output_type": "stream",
     "text": [
      "labels => {'Setosa': 0, 'Versicolor': 1, 'Virginica': 2}\n"
     ]
    },
    {
     "data": {
      "text/html": [
       "<div>\n",
       "<style scoped>\n",
       "    .dataframe tbody tr th:only-of-type {\n",
       "        vertical-align: middle;\n",
       "    }\n",
       "\n",
       "    .dataframe tbody tr th {\n",
       "        vertical-align: top;\n",
       "    }\n",
       "\n",
       "    .dataframe thead th {\n",
       "        text-align: right;\n",
       "    }\n",
       "</style>\n",
       "<table border=\"1\" class=\"dataframe\">\n",
       "  <thead>\n",
       "    <tr style=\"text-align: right;\">\n",
       "      <th></th>\n",
       "      <th>sepal.length</th>\n",
       "      <th>sepal.width</th>\n",
       "      <th>petal.length</th>\n",
       "      <th>petal.width</th>\n",
       "      <th>variety</th>\n",
       "    </tr>\n",
       "  </thead>\n",
       "  <tbody>\n",
       "    <tr>\n",
       "      <th>0</th>\n",
       "      <td>5.1</td>\n",
       "      <td>3.5</td>\n",
       "      <td>1.4</td>\n",
       "      <td>0.2</td>\n",
       "      <td>0</td>\n",
       "    </tr>\n",
       "  </tbody>\n",
       "</table>\n",
       "</div>"
      ],
      "text/plain": [
       "   sepal.length  sepal.width  petal.length  petal.width  variety\n",
       "0           5.1          3.5           1.4          0.2        0"
      ]
     },
     "execution_count": 4,
     "metadata": {},
     "output_type": "execute_result"
    }
   ],
   "source": [
    "labels=dict(zip(irisDF['variety'].unique().tolist(),range(3)))\n",
    "print(f'labels => {labels}')\n",
    "\n",
    "irisDF['variety']=irisDF['variety'].replace(labels)\n",
    "irisDF.head(1)"
   ]
  },
  {
   "cell_type": "markdown",
   "metadata": {},
   "source": [
    "[2] 모델 클래스 설계 및 정의 <hr>\n",
    "- 클래스목적 : iris 데이터를 학습 및 추론\n",
    "- 클래스이름 : irisMCFModel\n",
    "- 부모클래스 : nn.Module\n",
    "- 매개 변수 : 층별 입출력 개수 고정하기 때문에 필요 x!\n",
    "- 속성 필드 : \n",
    "- 기능 역할 : __ init__() : 모델 구조 설정, forward() : 순방향 학습 <= 오버라이딩(overriding) - [상속 시 가능!]\n",
    "- 클래스구조\n",
    "    * 입력층 : 입력 4개(피쳐)  출력 10개 (퍼셉트론/뉴런 10개 존재)\n",
    "    * 은닉층 : 입력 10개       출력 5개 (퍼셉트론/뉴런 30개 존재)\n",
    "    * 출력층 : 입력 5개        출력 3개 (퍼셉트론/뉴런 3개 존재 : 다중분류)\n",
    "\n",
    "- 활성화함수\n",
    "    * 클래스 형태 ==> ex) nn.MESLoss, nn.ReLU ==> __ init__(self) 메서드\n",
    "    * 함수 형태 ==> torch.nn.functional 아래에 ==> forward(self) 메서드"
   ]
  },
  {
   "cell_type": "code",
   "execution_count": 5,
   "metadata": {},
   "outputs": [],
   "source": [
    "class irisMCFModel(nn.Module):\n",
    "\n",
    "    # 모델 구조 구성 및 인스턴스 생성 메서드\n",
    "    def __init__(self):\n",
    "        super().__init__()\n",
    "        \n",
    "        self.in_layer=nn.Linear(4, 10)\n",
    "        self.hidden_layer=nn.Linear(10, 5)\n",
    "        self.out_layer=nn.Linear(5, 3) # 다중분류 : 'Setosa', 'Versicolor', 'Virginica'\n",
    "\n",
    "    # 순방향 학습 진행 메서드\n",
    "    def forward(self, x):\n",
    "        # - 입력층\n",
    "        y = self.in_layer(x)     # y = f1w1 + f2w2 + f3w3 + b ... -> 10개\n",
    "        y = F.relu(y)            # relu -> y 값의 범위 0 <= y\n",
    "        \n",
    "        # - 은닉층 : 10개의 숫자 값(>=0)\n",
    "        y = self.hidden_layer(y) # y = f21w21 + ... + f210w210 , ... -> 5개\n",
    "        y = F.relu(y)            # relu -> y 값의 범위 0 <= y\n",
    "\n",
    "        # - 출력층 : 5개의 숫자 값(>=0) * 손실함수 CrossEntropyLoss의 내부에서 softmax 진행 \n",
    "        return self.out_layer(y) # f31w31 + ... f330w330 + b -> 3개"
   ]
  },
  {
   "cell_type": "code",
   "execution_count": 6,
   "metadata": {},
   "outputs": [
    {
     "name": "stdout",
     "output_type": "stream",
     "text": [
      "irisMCFModel(\n",
      "  (in_layer): Linear(in_features=4, out_features=10, bias=True)\n",
      "  (hidden_layer): Linear(in_features=10, out_features=5, bias=True)\n",
      "  (out_layer): Linear(in_features=5, out_features=3, bias=True)\n",
      ")\n"
     ]
    }
   ],
   "source": [
    "## 모델 인스턴스 생성\n",
    "model = irisMCFModel()\n",
    "\n",
    "print(model)"
   ]
  },
  {
   "cell_type": "code",
   "execution_count": 7,
   "metadata": {},
   "outputs": [
    {
     "data": {
      "text/plain": [
       "==========================================================================================\n",
       "Layer (type:depth-idx)                   Output Shape              Param #\n",
       "==========================================================================================\n",
       "irisMCFModel                             [20, 3]                   --\n",
       "├─Linear: 1-1                            [20, 10]                  50\n",
       "├─Linear: 1-2                            [20, 5]                   55\n",
       "├─Linear: 1-3                            [20, 3]                   18\n",
       "==========================================================================================\n",
       "Total params: 123\n",
       "Trainable params: 123\n",
       "Non-trainable params: 0\n",
       "Total mult-adds (M): 0.00\n",
       "==========================================================================================\n",
       "Input size (MB): 0.00\n",
       "Forward/backward pass size (MB): 0.00\n",
       "Params size (MB): 0.00\n",
       "Estimated Total Size (MB): 0.00\n",
       "=========================================================================================="
      ]
     },
     "execution_count": 7,
     "metadata": {},
     "output_type": "execute_result"
    }
   ],
   "source": [
    "# [테스트] 모델 사용 메모리 정보 확인\n",
    "summary(model, input_size=(20,4)) # input_size = ,feature 개수)"
   ]
  },
  {
   "cell_type": "markdown",
   "metadata": {},
   "source": [
    "[3] 데이터셋 클래스 설계 및 정의 <hr>\n",
    "- 데이터셋 : iris.csv\n",
    "- 피쳐_개수 : 3개\n",
    "- 타겟_개수 : 1개\n",
    "- 클래스이름 : IrisDataset\n",
    "- 부모클래스 : utils.data.Dataset\n",
    "- 속성_필드 : featureDF, targetDF, n_rows, n_features\n",
    "- 필수메서드 : \n",
    "    * __ init__(self): 데이터셋 저장 및 전처리, 개발자가 필요한 속성 설정\n",
    "    * __ len__(self): 데이터의 개수 반환\n",
    "    * __ getitem__(self, index): 특정 인덱스의 피쳐와 타겟 반환\n",
    "    "
   ]
  },
  {
   "cell_type": "code",
   "execution_count": 8,
   "metadata": {},
   "outputs": [],
   "source": [
    "class IrisDataset(Dataset):\n",
    "\n",
    "    def __init__(self, featureDF, targetDF):\n",
    "        self.featureDF=featureDF\n",
    "        self.targetDF=targetDF\n",
    "        self.n_rows=featureDF.shape[0]\n",
    "        self.n_features=featureDF.shape[1]\n",
    "\n",
    "    def __len__(self):\n",
    "        return self.n_rows\n",
    "\n",
    "    def __getitem__(self, index):\n",
    "        # 텐서화\n",
    "        featureTS=torch.FloatTensor(self.featureDF.iloc[index].values)\n",
    "        targetTS=torch.FloatTensor(self.targetDF.iloc[index].values)\n",
    "        \n",
    "        # 피쳐와 타겟 반환\n",
    "        return featureTS, targetTS"
   ]
  },
  {
   "cell_type": "code",
   "execution_count": 9,
   "metadata": {},
   "outputs": [
    {
     "name": "stdout",
     "output_type": "stream",
     "text": [
      "torch.Size([1, 4]) torch.Size([1, 1])\n"
     ]
    }
   ],
   "source": [
    "## [테스트] 데이터셋 인스턴스 생성\n",
    "\n",
    "# DataFrame에서 피쳐와 타겟 추출\n",
    "featureDF = irisDF[irisDF.columns[:-1]]     # 2D (150, 3)\n",
    "targetDF = irisDF[irisDF.columns[-1:]]      # 2D (150, 1)\n",
    "\n",
    "# - 커스텀데이터셋 인스턴스 생성\n",
    "irisDS=IrisDataset(featureDF, targetDF)\n",
    "\n",
    "# - 데이터로더 인스턴스 생성\n",
    "irisDL=DataLoader(irisDS)\n",
    "\n",
    "for feature, label in irisDL:\n",
    "    print(feature.shape, label.shape)\n",
    "    break"
   ]
  },
  {
   "cell_type": "markdown",
   "metadata": {},
   "source": [
    "[4] 학습 준비 <hr>\n",
    "- 학습 횟수 : EPOCH          <- 처음~ 끝까지 공부하는 단위\n",
    "- 배치 크기 : BATCH_SIZE     <- 한번에 학습할 데이터셋 양\n",
    "- 위치 지정 : DEVICE         <- 탠서 저장 및 실행 위치 (GPU/CPU)\n",
    "- 학 습 률 : LR 가중치와 절편 업데이트 시 경사하강법으로 업데이트 간격 설정 0.001 ~ 0.1 (낮을수록 촘촘히)"
   ]
  },
  {
   "cell_type": "code",
   "execution_count": 10,
   "metadata": {},
   "outputs": [
    {
     "name": "stdout",
     "output_type": "stream",
     "text": [
      "BATCH_CNT: 15\n"
     ]
    }
   ],
   "source": [
    "### 학습 진행 관련 설정\n",
    "EPOCHS = 100\n",
    "BATCH_SIZE = 10\n",
    "BATCH_CNT = irisDF.shape[0]//BATCH_SIZE\n",
    "DEVICE = 'cuda' if torch.cuda.is_available() else 'cpu'\n",
    "LR = 0.001\n",
    "\n",
    "print(f'BATCH_CNT: {BATCH_CNT}')"
   ]
  },
  {
   "cell_type": "markdown",
   "metadata": {},
   "source": [
    "- 인스턴스/객체 : 모델, 데이터셋, 최적화, (손실함수), (성능지표)"
   ]
  },
  {
   "cell_type": "code",
   "execution_count": 11,
   "metadata": {},
   "outputs": [
    {
     "name": "stdout",
     "output_type": "stream",
     "text": [
      "[X_train(shape): (84, 4) (type): <class 'pandas.core.frame.DataFrame'>], X_test: (38, 4), X_val: (28, 4)\n",
      "[y_train(shape): (84, 1) (type): <class 'pandas.core.frame.DataFrame'>], y_test: (38, 1), y_val: (28, 1)\n"
     ]
    }
   ],
   "source": [
    "# 모델 인스턴스\n",
    "model=irisMCFModel()\n",
    "\n",
    "# 데이터셋 인스턴스\n",
    "# 학습용, 검증용, 테스트용 데이터 분리\n",
    "X_train, X_test, y_train, y_test = train_test_split(featureDF, targetDF, random_state=1)\n",
    "X_train, X_val, y_train, y_val = train_test_split(X_train, y_train, random_state=1)\n",
    "print(f'[X_train(shape): {X_train.shape} (type): {type(X_train)}], X_test: {X_test.shape}, X_val: {X_val.shape}')\n",
    "print(f'[y_train(shape): {y_train.shape} (type): {type(y_train)}], y_test: {y_test.shape}, y_val: {y_val.shape}')\n",
    "\n",
    "trainDS=IrisDataset(X_train, y_train)\n",
    "valDS=IrisDataset(X_val, y_val)\n",
    "testDS=IrisDataset(X_test, y_test)\n",
    "\n",
    "# - 학습용 데이터로더 인스턴스\n",
    "trainDL=DataLoader(trainDS, batch_size=BATCH_SIZE)"
   ]
  },
  {
   "cell_type": "markdown",
   "metadata": {},
   "source": [
    "- 최적화, 손실함수 인스턴스 생성"
   ]
  },
  {
   "cell_type": "code",
   "execution_count": 12,
   "metadata": {},
   "outputs": [],
   "source": [
    "# 최적화 인스턴스 => W,b 텐서 즉, model.parameters() 전달\n",
    "optimizer=optim.Adam(model.parameters(), lr=LR)\n",
    "\n",
    "# 손실함수 인스턴스 => 분류 => 다중분류 CrossEntropyLoss\n",
    "#                            예측값은 선형식 결과 값 전달 ==> AF 처리 X\n",
    "cross_loss = nn.CrossEntropyLoss()"
   ]
  },
  {
   "cell_type": "markdown",
   "metadata": {},
   "source": [
    "[5] 학습 진행 <hr>"
   ]
  },
  {
   "cell_type": "code",
   "execution_count": 13,
   "metadata": {},
   "outputs": [
    {
     "name": "stdout",
     "output_type": "stream",
     "text": [
      "new BATCH_CNT : 9\n",
      "1/100 => [TRAIN] LOSS: 1.2813457118140326 SCORE: 0.14590594917535782\n",
      "[VAL] LOSS: 1.1616672277450562 SCORE: 0.20000000298023224\n",
      "2/100 => [TRAIN] LOSS: 1.1763704750272963 SCORE: 0.14590594917535782\n",
      "[VAL] LOSS: 1.1022021770477295 SCORE: 0.20000000298023224\n",
      "3/100 => [TRAIN] LOSS: 1.1254051261478 SCORE: 0.11468901733557384\n",
      "[VAL] LOSS: 1.0877737998962402 SCORE: 0.095238097012043\n",
      "4/100 => [TRAIN] LOSS: 1.1037420961591933 SCORE: 0.17309850951035818\n",
      "[VAL] LOSS: 1.0791537761688232 SCORE: 0.18803419172763824\n",
      "5/100 => [TRAIN] LOSS: 1.0908635324902005 SCORE: 0.173298925989204\n",
      "[VAL] LOSS: 1.0780409574508667 SCORE: 0.18803419172763824\n",
      "6/100 => [TRAIN] LOSS: 1.088297062449985 SCORE: 0.173298925989204\n",
      "[VAL] LOSS: 1.0736207962036133 SCORE: 0.18803419172763824\n",
      "7/100 => [TRAIN] LOSS: 1.08315991030799 SCORE: 0.173298925989204\n",
      "[VAL] LOSS: 1.0652438402175903 SCORE: 0.18803419172763824\n",
      "8/100 => [TRAIN] LOSS: 1.0795645581351385 SCORE: 0.173298925989204\n",
      "[VAL] LOSS: 1.0596532821655273 SCORE: 0.18803419172763824\n",
      "9/100 => [TRAIN] LOSS: 1.07577735847897 SCORE: 0.173298925989204\n",
      "[VAL] LOSS: 1.055000901222229 SCORE: 0.18803419172763824\n",
      "10/100 => [TRAIN] LOSS: 1.0717572768529255 SCORE: 0.173298925989204\n",
      "[VAL] LOSS: 1.0494457483291626 SCORE: 0.18803419172763824\n",
      "11/100 => [TRAIN] LOSS: 1.0674296882417467 SCORE: 0.2059810600346989\n",
      "[VAL] LOSS: 1.0426130294799805 SCORE: 0.33703702688217163\n",
      "12/100 => [TRAIN] LOSS: 1.0631262726253934 SCORE: 0.4023735622564952\n",
      "[VAL] LOSS: 1.0359177589416504 SCORE: 0.5032258033752441\n",
      "13/100 => [TRAIN] LOSS: 1.058561086654663 SCORE: 0.46361027161280316\n",
      "[VAL] LOSS: 1.0289613008499146 SCORE: 0.604938268661499\n",
      "14/100 => [TRAIN] LOSS: 1.0537244876225789 SCORE: 0.5476891663339403\n",
      "[VAL] LOSS: 1.021604299545288 SCORE: 0.604938268661499\n",
      "15/100 => [TRAIN] LOSS: 1.0486158000098333 SCORE: 0.5544498960177103\n",
      "[VAL] LOSS: 1.013959288597107 SCORE: 0.604938268661499\n",
      "16/100 => [TRAIN] LOSS: 1.0432289838790894 SCORE: 0.5544498960177103\n",
      "[VAL] LOSS: 1.005858302116394 SCORE: 0.604938268661499\n",
      "17/100 => [TRAIN] LOSS: 1.0374538368648953 SCORE: 0.5544498960177103\n",
      "[VAL] LOSS: 0.9970585703849792 SCORE: 0.604938268661499\n",
      "18/100 => [TRAIN] LOSS: 1.0313578380478754 SCORE: 0.5544498960177103\n",
      "[VAL] LOSS: 0.987761914730072 SCORE: 0.604938268661499\n",
      "19/100 => [TRAIN] LOSS: 1.0249092843797472 SCORE: 0.5544498960177103\n",
      "[VAL] LOSS: 0.9780386686325073 SCORE: 0.604938268661499\n",
      "20/100 => [TRAIN] LOSS: 1.0180677837795682 SCORE: 0.5504816406302981\n",
      "[VAL] LOSS: 0.9679690003395081 SCORE: 0.604938268661499\n",
      "21/100 => [TRAIN] LOSS: 1.010802600118849 SCORE: 0.5504816406302981\n",
      "[VAL] LOSS: 0.9579896330833435 SCORE: 0.604938268661499\n",
      "22/100 => [TRAIN] LOSS: 1.0031361911031935 SCORE: 0.5504816406302981\n",
      "[VAL] LOSS: 0.9472083449363708 SCORE: 0.604938268661499\n",
      "23/100 => [TRAIN] LOSS: 0.9949572947290208 SCORE: 0.5504816406302981\n",
      "[VAL] LOSS: 0.9342041015625 SCORE: 0.604938268661499\n",
      "24/100 => [TRAIN] LOSS: 0.9866556525230408 SCORE: 0.5368018978171878\n",
      "[VAL] LOSS: 0.9220220446586609 SCORE: 0.6020512580871582\n",
      "25/100 => [TRAIN] LOSS: 0.9778921273019578 SCORE: 0.532023956378301\n",
      "[VAL] LOSS: 0.9090113043785095 SCORE: 0.6020512580871582\n",
      "26/100 => [TRAIN] LOSS: 0.9688646660910712 SCORE: 0.5277617639965482\n",
      "[VAL] LOSS: 0.8957144618034363 SCORE: 0.6010256409645081\n",
      "27/100 => [TRAIN] LOSS: 0.9595177173614502 SCORE: 0.5277617639965482\n",
      "[VAL] LOSS: 0.8817796111106873 SCORE: 0.6010256409645081\n",
      "28/100 => [TRAIN] LOSS: 0.9499701592657301 SCORE: 0.5298941996362474\n",
      "[VAL] LOSS: 0.8678503632545471 SCORE: 0.6018518209457397\n",
      "29/100 => [TRAIN] LOSS: 0.9401947789722018 SCORE: 0.5284538699520959\n",
      "[VAL] LOSS: 0.8542796969413757 SCORE: 0.6018518209457397\n",
      "30/100 => [TRAIN] LOSS: 0.9302908115916781 SCORE: 0.5292769173781077\n",
      "[VAL] LOSS: 0.8400135636329651 SCORE: 0.6018518209457397\n",
      "31/100 => [TRAIN] LOSS: 0.920128239525689 SCORE: 0.5284538699520959\n",
      "[VAL] LOSS: 0.8245738744735718 SCORE: 0.6018518209457397\n",
      "32/100 => [TRAIN] LOSS: 0.9100766711764865 SCORE: 0.5284538699520959\n",
      "[VAL] LOSS: 0.8108077645301819 SCORE: 0.6018518209457397\n",
      "33/100 => [TRAIN] LOSS: 0.9000302685631646 SCORE: 0.5284538699520959\n",
      "[VAL] LOSS: 0.7967750430107117 SCORE: 0.6018518209457397\n",
      "34/100 => [TRAIN] LOSS: 0.8899941113260057 SCORE: 0.5232911275492774\n",
      "[VAL] LOSS: 0.7826088070869446 SCORE: 0.6018518209457397\n",
      "35/100 => [TRAIN] LOSS: 0.880186484919654 SCORE: 0.5232911275492774\n",
      "[VAL] LOSS: 0.7688629031181335 SCORE: 0.6018518209457397\n",
      "36/100 => [TRAIN] LOSS: 0.8705087304115295 SCORE: 0.5214579833878411\n",
      "[VAL] LOSS: 0.7555691599845886 SCORE: 0.6018518209457397\n",
      "37/100 => [TRAIN] LOSS: 0.8611042102177938 SCORE: 0.5222810308138529\n",
      "[VAL] LOSS: 0.7429636716842651 SCORE: 0.6018518209457397\n",
      "38/100 => [TRAIN] LOSS: 0.8518862591849433 SCORE: 0.5214579833878411\n",
      "[VAL] LOSS: 0.7300813794136047 SCORE: 0.6018518209457397\n",
      "39/100 => [TRAIN] LOSS: 0.8433535827530755 SCORE: 0.5231040716171265\n",
      "[VAL] LOSS: 0.719646155834198 SCORE: 0.6018518209457397\n",
      "40/100 => [TRAIN] LOSS: 0.8345614075660706 SCORE: 0.5210464629862044\n",
      "[VAL] LOSS: 0.7083384394645691 SCORE: 0.6018518209457397\n",
      "41/100 => [TRAIN] LOSS: 0.8262375725640191 SCORE: 0.5210464629862044\n",
      "[VAL] LOSS: 0.697516143321991 SCORE: 0.6018518209457397\n",
      "42/100 => [TRAIN] LOSS: 0.8183353609508939 SCORE: 0.5210464629862044\n",
      "[VAL] LOSS: 0.6876858472824097 SCORE: 0.6018518209457397\n",
      "43/100 => [TRAIN] LOSS: 0.8106587396727668 SCORE: 0.5210464629862044\n",
      "[VAL] LOSS: 0.6786567568778992 SCORE: 0.6018518209457397\n",
      "44/100 => [TRAIN] LOSS: 0.8031341830889384 SCORE: 0.5241141749752892\n",
      "[VAL] LOSS: 0.6702597737312317 SCORE: 0.6018518209457397\n",
      "45/100 => [TRAIN] LOSS: 0.7957718239890205 SCORE: 0.5292769173781077\n",
      "[VAL] LOSS: 0.6622357964515686 SCORE: 0.6010256409645081\n",
      "46/100 => [TRAIN] LOSS: 0.7885800202687582 SCORE: 0.5298941996362474\n",
      "[VAL] LOSS: 0.6544166803359985 SCORE: 0.6010256409645081\n",
      "47/100 => [TRAIN] LOSS: 0.7815883490774367 SCORE: 0.5358425709936354\n",
      "[VAL] LOSS: 0.6467623114585876 SCORE: 0.6010256409645081\n",
      "48/100 => [TRAIN] LOSS: 0.7748135262065463 SCORE: 0.5358425709936354\n",
      "[VAL] LOSS: 0.6393173933029175 SCORE: 0.6020512580871582\n",
      "49/100 => [TRAIN] LOSS: 0.7682550549507141 SCORE: 0.5330340597364638\n",
      "[VAL] LOSS: 0.632058322429657 SCORE: 0.6020512580871582\n",
      "50/100 => [TRAIN] LOSS: 0.7619379825062222 SCORE: 0.5328737298647562\n",
      "[VAL] LOSS: 0.6250177025794983 SCORE: 0.6020512580871582\n",
      "51/100 => [TRAIN] LOSS: 0.7558733423550924 SCORE: 0.5390064848793877\n",
      "[VAL] LOSS: 0.6183756589889526 SCORE: 0.6020512580871582\n",
      "52/100 => [TRAIN] LOSS: 0.750020894739363 SCORE: 0.5390064848793877\n",
      "[VAL] LOSS: 0.6120411157608032 SCORE: 0.6020512580871582\n",
      "53/100 => [TRAIN] LOSS: 0.7443788184059991 SCORE: 0.5390064848793877\n",
      "[VAL] LOSS: 0.6059315800666809 SCORE: 0.6020512580871582\n",
      "54/100 => [TRAIN] LOSS: 0.7389570871988932 SCORE: 0.5390064848793877\n",
      "[VAL] LOSS: 0.600063145160675 SCORE: 0.6020512580871582\n",
      "55/100 => [TRAIN] LOSS: 0.7337150507503085 SCORE: 0.5494528313477834\n",
      "[VAL] LOSS: 0.5943409204483032 SCORE: 0.604938268661499\n",
      "56/100 => [TRAIN] LOSS: 0.7287500037087334 SCORE: 0.5494528313477834\n",
      "[VAL] LOSS: 0.5889820456504822 SCORE: 0.604938268661499\n",
      "57/100 => [TRAIN] LOSS: 0.7239873939090304 SCORE: 0.5494528313477834\n",
      "[VAL] LOSS: 0.5840005278587341 SCORE: 0.604938268661499\n",
      "58/100 => [TRAIN] LOSS: 0.719367093510098 SCORE: 0.5494528313477834\n",
      "[VAL] LOSS: 0.5792016983032227 SCORE: 0.604938268661499\n",
      "59/100 => [TRAIN] LOSS: 0.7149362166722616 SCORE: 0.5504816406302981\n",
      "[VAL] LOSS: 0.57461017370224 SCORE: 0.604938268661499\n",
      "60/100 => [TRAIN] LOSS: 0.7106812993685404 SCORE: 0.5504816406302981\n",
      "[VAL] LOSS: 0.5702729821205139 SCORE: 0.604938268661499\n",
      "61/100 => [TRAIN] LOSS: 0.7065744267569648 SCORE: 0.5504816406302981\n",
      "[VAL] LOSS: 0.566162645816803 SCORE: 0.604938268661499\n",
      "62/100 => [TRAIN] LOSS: 0.7025949160257975 SCORE: 0.5504816406302981\n",
      "[VAL] LOSS: 0.5621848106384277 SCORE: 0.604938268661499\n",
      "63/100 => [TRAIN] LOSS: 0.6987617479430305 SCORE: 0.5504816406302981\n",
      "[VAL] LOSS: 0.5583106875419617 SCORE: 0.604938268661499\n",
      "64/100 => [TRAIN] LOSS: 0.6950842075877719 SCORE: 0.5504816406302981\n",
      "[VAL] LOSS: 0.5545938014984131 SCORE: 0.604938268661499\n",
      "65/100 => [TRAIN] LOSS: 0.691563778453403 SCORE: 0.5504816406302981\n",
      "[VAL] LOSS: 0.5510969758033752 SCORE: 0.604938268661499\n",
      "66/100 => [TRAIN] LOSS: 0.6881619162029691 SCORE: 0.5504816406302981\n",
      "[VAL] LOSS: 0.5477975606918335 SCORE: 0.604938268661499\n",
      "67/100 => [TRAIN] LOSS: 0.6848614083396064 SCORE: 0.5504816406302981\n",
      "[VAL] LOSS: 0.54465252161026 SCORE: 0.604938268661499\n",
      "68/100 => [TRAIN] LOSS: 0.681650181611379 SCORE: 0.5504816406302981\n",
      "[VAL] LOSS: 0.5415962934494019 SCORE: 0.604938268661499\n",
      "69/100 => [TRAIN] LOSS: 0.678560197353363 SCORE: 0.5504816406302981\n",
      "[VAL] LOSS: 0.5386589765548706 SCORE: 0.604938268661499\n",
      "70/100 => [TRAIN] LOSS: 0.6755722628699409 SCORE: 0.5504816406302981\n",
      "[VAL] LOSS: 0.5358477234840393 SCORE: 0.604938268661499\n",
      "71/100 => [TRAIN] LOSS: 0.672676768567827 SCORE: 0.5504816406302981\n",
      "[VAL] LOSS: 0.5331528782844543 SCORE: 0.604938268661499\n",
      "72/100 => [TRAIN] LOSS: 0.6698557999398973 SCORE: 0.5504816406302981\n",
      "[VAL] LOSS: 0.5304995775222778 SCORE: 0.604938268661499\n",
      "73/100 => [TRAIN] LOSS: 0.6671439409255981 SCORE: 0.5504816406302981\n",
      "[VAL] LOSS: 0.527945876121521 SCORE: 0.604938268661499\n",
      "74/100 => [TRAIN] LOSS: 0.6645283367898729 SCORE: 0.5504816406302981\n",
      "[VAL] LOSS: 0.5255188941955566 SCORE: 0.604938268661499\n",
      "75/100 => [TRAIN] LOSS: 0.6619846887058682 SCORE: 0.5504816406302981\n",
      "[VAL] LOSS: 0.5231812596321106 SCORE: 0.604938268661499\n",
      "76/100 => [TRAIN] LOSS: 0.6595231095949808 SCORE: 0.5504816406302981\n",
      "[VAL] LOSS: 0.5209429264068604 SCORE: 0.604938268661499\n",
      "77/100 => [TRAIN] LOSS: 0.6571316123008728 SCORE: 0.5504816406302981\n",
      "[VAL] LOSS: 0.5188218355178833 SCORE: 0.604938268661499\n",
      "78/100 => [TRAIN] LOSS: 0.654802660147349 SCORE: 0.5504816406302981\n",
      "[VAL] LOSS: 0.5167964100837708 SCORE: 0.604938268661499\n",
      "79/100 => [TRAIN] LOSS: 0.6525320145818923 SCORE: 0.5663546588685777\n",
      "[VAL] LOSS: 0.5148106217384338 SCORE: 0.604938268661499\n",
      "80/100 => [TRAIN] LOSS: 0.6503281792004904 SCORE: 0.5663546588685777\n",
      "[VAL] LOSS: 0.512858510017395 SCORE: 0.604938268661499\n",
      "81/100 => [TRAIN] LOSS: 0.6481567720572153 SCORE: 0.5663546588685777\n",
      "[VAL] LOSS: 0.510920524597168 SCORE: 0.604938268661499\n",
      "82/100 => [TRAIN] LOSS: 0.6461114519172244 SCORE: 0.5663546588685777\n",
      "[VAL] LOSS: 0.5091278553009033 SCORE: 0.604938268661499\n",
      "83/100 => [TRAIN] LOSS: 0.6440692676438226 SCORE: 0.5663546588685777\n",
      "[VAL] LOSS: 0.5073588490486145 SCORE: 0.604938268661499\n",
      "84/100 => [TRAIN] LOSS: 0.6420959764056735 SCORE: 0.5663546588685777\n",
      "[VAL] LOSS: 0.505652904510498 SCORE: 0.604938268661499\n",
      "85/100 => [TRAIN] LOSS: 0.6401767962508731 SCORE: 0.5663546588685777\n",
      "[VAL] LOSS: 0.5040168762207031 SCORE: 0.604938268661499\n",
      "86/100 => [TRAIN] LOSS: 0.6383010314570533 SCORE: 0.5663546588685777\n",
      "[VAL] LOSS: 0.502442479133606 SCORE: 0.604938268661499\n",
      "87/100 => [TRAIN] LOSS: 0.6364637878206041 SCORE: 0.5663546588685777\n",
      "[VAL] LOSS: 0.5009183883666992 SCORE: 0.604938268661499\n",
      "88/100 => [TRAIN] LOSS: 0.6346639957692888 SCORE: 0.5663546588685777\n",
      "[VAL] LOSS: 0.4994358420372009 SCORE: 0.604938268661499\n",
      "89/100 => [TRAIN] LOSS: 0.632901562584771 SCORE: 0.5663546588685777\n",
      "[VAL] LOSS: 0.49798959493637085 SCORE: 0.604938268661499\n",
      "90/100 => [TRAIN] LOSS: 0.6311764849556817 SCORE: 0.5663546588685777\n",
      "[VAL] LOSS: 0.49657702445983887 SCORE: 0.604938268661499\n",
      "91/100 => [TRAIN] LOSS: 0.6294880840513442 SCORE: 0.5663546588685777\n",
      "[VAL] LOSS: 0.4951971471309662 SCORE: 0.604938268661499\n",
      "92/100 => [TRAIN] LOSS: 0.6278259257475535 SCORE: 0.5663546588685777\n",
      "[VAL] LOSS: 0.4938284754753113 SCORE: 0.604938268661499\n",
      "93/100 => [TRAIN] LOSS: 0.6262116034825643 SCORE: 0.5663546588685777\n",
      "[VAL] LOSS: 0.4924940764904022 SCORE: 0.604938268661499\n",
      "94/100 => [TRAIN] LOSS: 0.6246354182561239 SCORE: 0.5663546588685777\n",
      "[VAL] LOSS: 0.49120044708251953 SCORE: 0.604938268661499\n",
      "95/100 => [TRAIN] LOSS: 0.6230917837884691 SCORE: 0.5663546588685777\n",
      "[VAL] LOSS: 0.489945650100708 SCORE: 0.604938268661499\n",
      "96/100 => [TRAIN] LOSS: 0.6215775509675344 SCORE: 0.5663546588685777\n",
      "[VAL] LOSS: 0.4887249171733856 SCORE: 0.604938268661499\n",
      "97/100 => [TRAIN] LOSS: 0.6200913753774431 SCORE: 0.5663546588685777\n",
      "[VAL] LOSS: 0.48753395676612854 SCORE: 0.604938268661499\n",
      "98/100 => [TRAIN] LOSS: 0.6186328530311584 SCORE: 0.5663546588685777\n",
      "[VAL] LOSS: 0.48636960983276367 SCORE: 0.604938268661499\n",
      "99/100 => [TRAIN] LOSS: 0.6172016892168257 SCORE: 0.5663546588685777\n",
      "[VAL] LOSS: 0.48523005843162537 SCORE: 0.604938268661499\n"
     ]
    }
   ],
   "source": [
    "## 학습의 효과 확인 => 손실값과 성능평가값 저장 필요\n",
    "loss_history, score_history=[[],[]], [[],[]] # train, val\n",
    "CNT=len(trainDL)\n",
    "print(f'new BATCH_CNT : {CNT}')\n",
    "# 학습 모드로 모델 설정\n",
    "model.train()\n",
    "\n",
    "for epoch in range(1, EPOCHS):\n",
    "    # 학습 모드로 모델 설정\n",
    "    model.train()\n",
    "\n",
    "    # 배치 크기 만큼 데이터 로딩해서 학습 진행\n",
    "    loss_total, score_total=0,0\n",
    "    for featureTS, targetTS in trainDL:\n",
    "\n",
    "        # 학습 진행\n",
    "        pre_y=model(featureTS)\n",
    "\n",
    "        # 손실 계산 : nn.CrossEntropyLoss 요구사항 : 정답/타겟은 0D 또는 1D, 타입은 long\n",
    "        loss=cross_loss(pre_y, targetTS.reshape(-1).long())\n",
    "        loss_total+=loss.item()\n",
    "        \n",
    "        # 성능평가 계산\n",
    "        # score=F1Score(task='binary')(pre_y, targetTS)\n",
    "        score=MulticlassF1Score(num_classes=3)(pre_y, targetTS.reshape(-1))\n",
    "        score_total+=score.item()\n",
    "\n",
    "        # 최적화 진행\n",
    "        optimizer.zero_grad()\n",
    "        loss.backward()\n",
    "        optimizer.step()\n",
    "\n",
    "    # 검증 모드로 모델 설정\n",
    "    model.eval()\n",
    "    with torch.no_grad():\n",
    "        # 검증 데이터셋\n",
    "        val_featureTS=torch.FloatTensor(valDS.featureDF.values)\n",
    "        val_targetTS=torch.FloatTensor(valDS.targetDF.values)\n",
    "        \n",
    "        # 평가\n",
    "        pre_val=model(val_featureTS)\n",
    "\n",
    "        # 손실\n",
    "        loss_val=cross_loss(pre_val, val_targetTS.reshape(-1).long())\n",
    "\n",
    "        # 성능평가\n",
    "        # score_val=F1Score(task='binary')(pre_val, val_targetTS)\n",
    "        score_val=MulticlassF1Score(num_classes=3)(pre_val, val_targetTS.reshape(-1))\n",
    "\n",
    "    # 에포크당 손실값과 성능평가값 저장\n",
    "    loss_history[0].append(loss_total/CNT)\n",
    "    score_history[0].append(score_total/CNT)\n",
    "\n",
    "    loss_history[1].append(loss_val)\n",
    "    score_history[1].append(score_val)\n",
    "\n",
    "    print(f'{epoch}/{EPOCHS} => [TRAIN] LOSS: {loss_history[0][-1]} SCORE: {score_history[0][-1]}')\n",
    "    print(f'[VAL] LOSS: {loss_history[1][-1]} SCORE: {score_history[1][-1]}')"
   ]
  },
  {
   "cell_type": "code",
   "execution_count": 14,
   "metadata": {},
   "outputs": [
    {
     "data": {
      "image/png": "[encoded data removed]",
      "text/plain": [
       "<Figure size 1000x500 with 2 Axes>"
      ]
     },
     "metadata": {},
     "output_type": "display_data"
    }
   ],
   "source": [
    "# 학습 후 loss 시각화\n",
    "\n",
    "THRESHOLD=10\n",
    "fg, axes=plt.subplots(1,2,figsize=(10,5))\n",
    "axes[0].plot(range(1, THRESHOLD+1), loss_history[0][:THRESHOLD], label='Train')\n",
    "axes[0].plot(range(1, THRESHOLD+1), loss_history[1][:THRESHOLD], label='Val')\n",
    "axes[0].grid()\n",
    "axes[0].legend()\n",
    "axes[0].set_xlabel('Epoch')\n",
    "axes[0].set_ylabel('Loss')\n",
    "axes[0].set_title('Epoch&Loss')\n",
    "\n",
    "axes[1].plot(range(1, THRESHOLD+1), score_history[0][:THRESHOLD], label='Train')\n",
    "axes[1].plot(range(1, THRESHOLD+1), score_history[1][:THRESHOLD], label='Val')\n",
    "axes[1].grid()\n",
    "axes[1].legend()\n",
    "axes[1].set_xlabel('Epoch')\n",
    "axes[1].set_ylabel('Loss')\n",
    "axes[1].set_title('Epoch&Loss')\n",
    "plt.tight_layout()\n",
    "plt.show()"
   ]
  },
  {
   "cell_type": "markdown",
   "metadata": {},
   "source": [
    "[6] 테스트 진행 <hr>"
   ]
  },
  {
   "cell_type": "code",
   "execution_count": 15,
   "metadata": {},
   "outputs": [],
   "source": [
    "# 테스트 진행\n",
    "model.eval()\n",
    "with torch.no_grad():\n",
    "    # 테스트 데이터셋\n",
    "    test_featureTS=torch.FloatTensor(testDS.featureDF.values)\n",
    "    test_targetTS=torch.FloatTensor(testDS.targetDF.values)\n",
    "    \n",
    "    # 평가\n",
    "    pre_test=model(test_featureTS)\n",
    "\n",
    "    # 손실\n",
    "    loss_test=cross_loss(pre_test, test_targetTS.reshape(-1).long())\n",
    "\n",
    "    # 성능평가\n",
    "    score_test=MulticlassF1Score(num_classes=3)(pre_test, test_targetTS.reshape(-1))"
   ]
  },
  {
   "cell_type": "code",
   "execution_count": null,
   "metadata": {},
   "outputs": [],
   "source": []
  }
 ],
 "metadata": {
  "kernelspec": {
   "display_name": "TORCH_38",
   "language": "python",
   "name": "python3"
  },
  "language_info": {
   "codemirror_mode": {
    "name": "ipython",
    "version": 3
   },
   "file_extension": ".py",
   "mimetype": "text/x-python",
   "name": "python",
   "nbconvert_exporter": "python",
   "pygments_lexer": "ipython3",
   "version": "3.8.19"
  }
 },
 "nbformat": 4,
 "nbformat_minor": 2
}
