{
 "cells": [
  {
   "cell_type": "markdown",
   "metadata": {},
   "source": [
    "##### DNN 기반 회귀 모델 구현\n",
    "- 데이터셋   : iris.csv\n",
    "- 피쳐/속성  : 3개 Sepal_Length, Sepal_width, Petal_Width\n",
    "- 타겟/라벨  : 1개 Petal_\n",
    "- 학습/방법  : 지도학습 -> 회귀\n",
    "- 알고리즘   : 인공신경망(ANN) -> MLP, DNN : 은닉층이 많은 구성\n",
    "- 프레임워크 : Pytorch"
   ]
  },
  {
   "cell_type": "markdown",
   "metadata": {},
   "source": [
    "[1] 모듈 로딩 및 데이터 준비 <hr>"
   ]
  },
  {
   "cell_type": "code",
   "execution_count": 32,
   "metadata": {},
   "outputs": [],
   "source": [
    "# 모델 관련 모듈 로딩\n",
    "import torch\n",
    "import torch.nn as nn  \n",
    "import torch.nn.functional as F  \n",
    "from torch.utils.data import Dataset, DataLoader\n",
    "import torch.optim as optim\n",
    "from torchmetrics.regression import R2Score, MeanSquaredError\n",
    "from torchinfo import summary\n",
    "\n",
    "# 데이터 관련 모듈 로딩\n",
    "import pandas as pd\n",
    "import matplotlib.pyplot as plt\n",
    "import seaborn as sns\n",
    "\n",
    "from sklearn.preprocessing import *\n",
    "from sklearn.model_selection import train_test_split"
   ]
  },
  {
   "cell_type": "code",
   "execution_count": 33,
   "metadata": {},
   "outputs": [
    {
     "name": "stdout",
     "output_type": "stream",
     "text": [
      "torch V.:2.4.1\n",
      "pandas V.:2.0.3\n"
     ]
    }
   ],
   "source": [
    "# 활용 패키지 버전 체크\n",
    "print(f'torch V.:{torch.__version__}')\n",
    "print(f'pandas V.:{pd.__version__}')"
   ]
  },
  {
   "cell_type": "code",
   "execution_count": 34,
   "metadata": {},
   "outputs": [
    {
     "data": {
      "text/html": [
       "<div>\n",
       "<style scoped>\n",
       "    .dataframe tbody tr th:only-of-type {\n",
       "        vertical-align: middle;\n",
       "    }\n",
       "\n",
       "    .dataframe tbody tr th {\n",
       "        vertical-align: top;\n",
       "    }\n",
       "\n",
       "    .dataframe thead th {\n",
       "        text-align: right;\n",
       "    }\n",
       "</style>\n",
       "<table border=\"1\" class=\"dataframe\">\n",
       "  <thead>\n",
       "    <tr style=\"text-align: right;\">\n",
       "      <th></th>\n",
       "      <th>sepal.length</th>\n",
       "      <th>sepal.width</th>\n",
       "      <th>petal.length</th>\n",
       "      <th>petal.width</th>\n",
       "    </tr>\n",
       "  </thead>\n",
       "  <tbody>\n",
       "    <tr>\n",
       "      <th>0</th>\n",
       "      <td>5.1</td>\n",
       "      <td>3.5</td>\n",
       "      <td>1.4</td>\n",
       "      <td>0.2</td>\n",
       "    </tr>\n",
       "    <tr>\n",
       "      <th>1</th>\n",
       "      <td>4.9</td>\n",
       "      <td>3.0</td>\n",
       "      <td>1.4</td>\n",
       "      <td>0.2</td>\n",
       "    </tr>\n",
       "  </tbody>\n",
       "</table>\n",
       "</div>"
      ],
      "text/plain": [
       "   sepal.length  sepal.width  petal.length  petal.width\n",
       "0           5.1          3.5           1.4          0.2\n",
       "1           4.9          3.0           1.4          0.2"
      ]
     },
     "execution_count": 34,
     "metadata": {},
     "output_type": "execute_result"
    }
   ],
   "source": [
    "## 데이터 로딩\n",
    "DATA_FILE='../Data/iris.csv'\n",
    "\n",
    "### CSV => DataFrame\n",
    "irisDF = pd.read_csv(DATA_FILE, usecols=[0,1,2,3])\n",
    "\n",
    "### 확인\n",
    "irisDF.head(2)"
   ]
  },
  {
   "cell_type": "markdown",
   "metadata": {},
   "source": [
    "[2] 모델 클래스 설계 및 정의 <hr>\n",
    "- 클래스목적 : iris 데이터를 학습 및 추론\n",
    "- 클래스이름 : irisRegModel\n",
    "- 부모클래스 : nn.Module\n",
    "- 매개 변수 : 층별 입출력 개수 고정하기 때문에 필요 x!\n",
    "- 속성 필드 : \n",
    "- 기능 역할 : __ init__() : 모델 구조 설정, forward() : 순방향 학습 <= 오버라이딩(overriding) - [상속 시 가능!]\n",
    "- 클래스구조\n",
    "    * 입력층 : 입력 3개(피쳐)  출력 10개 (퍼셉트론/뉴런 10개 존재)\n",
    "    * 은닉층 : 입력 10개       출력 30개 (퍼셉트론/뉴런 30개 존재)\n",
    "    * 출력층 : 입력 30개       출력 1개 (너비값)\n",
    "\n",
    "- 활성화함수\n",
    "    * 클래스 형태 ==> ex) nn.MESLoss, nn.ReLU ==> __ init__(self) 메서드\n",
    "    * 함수 형태 ==> torch.nn.functional 아래에 ==> forward(self) 메서드"
   ]
  },
  {
   "cell_type": "code",
   "execution_count": 35,
   "metadata": {},
   "outputs": [],
   "source": [
    "class irisRegModel(nn.Module):\n",
    "\n",
    "    # 모델 구조 구성 및 인스턴스 생성 메서드\n",
    "    def __init__(self):\n",
    "        super().__init__()\n",
    "        \n",
    "        self.in_layer=nn.Linear(3, 10)\n",
    "        self.hidden_layer=nn.Linear(10, 30)\n",
    "        self.out_layer=nn.Linear(30, 1)\n",
    "\n",
    "    # 순방향 학습 진행 메서드\n",
    "    def forward(self, x):\n",
    "        # - 입력층\n",
    "        y = self.in_layer(x)     # y = f1w1 + f2w2 + f3w3 + b ... -> 10개\n",
    "        y = F.relu(y)            # relu -> y 값의 범위 0 <= y\n",
    "        \n",
    "        # - 은닉층 : 10개의 숫자 값(>=0)\n",
    "        y = self.hidden_layer(y) # y = f21w21 + ... + f210w210 , ... -> 30개\n",
    "        y = F.relu(y)            # relu -> y 값의 범위 0 <= y\n",
    "\n",
    "        # - 출력층 : 1개의 숫자 값(>=0)\n",
    "        return self.out_layer(y)        # f31w31 + ... f330w330 + b -> 1개"
   ]
  },
  {
   "cell_type": "code",
   "execution_count": 36,
   "metadata": {},
   "outputs": [
    {
     "name": "stdout",
     "output_type": "stream",
     "text": [
      "irisRegModel(\n",
      "  (in_layer): Linear(in_features=3, out_features=10, bias=True)\n",
      "  (hidden_layer): Linear(in_features=10, out_features=30, bias=True)\n",
      "  (out_layer): Linear(in_features=30, out_features=1, bias=True)\n",
      ")\n"
     ]
    }
   ],
   "source": [
    "## 모델 인스턴스 생성\n",
    "model = irisRegModel()\n",
    "print(model)"
   ]
  },
  {
   "cell_type": "code",
   "execution_count": 37,
   "metadata": {},
   "outputs": [
    {
     "data": {
      "text/plain": [
       "==========================================================================================\n",
       "Layer (type:depth-idx)                   Output Shape              Param #\n",
       "==========================================================================================\n",
       "irisRegModel                             [1000, 1]                 --\n",
       "├─Linear: 1-1                            [1000, 10]                40\n",
       "├─Linear: 1-2                            [1000, 30]                330\n",
       "├─Linear: 1-3                            [1000, 1]                 31\n",
       "==========================================================================================\n",
       "Total params: 401\n",
       "Trainable params: 401\n",
       "Non-trainable params: 0\n",
       "Total mult-adds (M): 0.40\n",
       "==========================================================================================\n",
       "Input size (MB): 0.01\n",
       "Forward/backward pass size (MB): 0.33\n",
       "Params size (MB): 0.00\n",
       "Estimated Total Size (MB): 0.34\n",
       "=========================================================================================="
      ]
     },
     "execution_count": 37,
     "metadata": {},
     "output_type": "execute_result"
    }
   ],
   "source": [
    "# 모델 사용 메모리 정보 확인\n",
    "summary(model, input_size=(1000,3)) # input_size = ,feature 개수)"
   ]
  },
  {
   "cell_type": "markdown",
   "metadata": {},
   "source": [
    "[3] 데이터셋 클래스 설계 및 정의 <hr>\n",
    "- 데이터셋 : iris.csv\n",
    "- 피쳐_개수 : 3개\n",
    "- 타겟_개수 : 1개\n",
    "- 클래스이름 : IrisDataset\n",
    "- 부모클래스 : utils.data.Dataset\n",
    "- 속성_필드 : featureDF, targetDF, n_rows, n_features\n",
    "- 필수메서드 : \n",
    "    * __ init__(self): 데이터셋 저장 및 전처리, 개발자가 필요한 속성 설정\n",
    "    * __ len__(self): 데이터의 개수 반환\n",
    "    * __ getitem__(self, index): 특정 인덱스의 피쳐와 타겟 반환\n",
    "    "
   ]
  },
  {
   "cell_type": "code",
   "execution_count": 38,
   "metadata": {},
   "outputs": [],
   "source": [
    "class IrisDataset(Dataset):\n",
    "\n",
    "    def __init__(self, featureDF, targetDF):\n",
    "        self.featureDF=featureDF\n",
    "        self.targetDF=targetDF\n",
    "        self.n_rows=featureDF.shape[0]\n",
    "        self.n_features=featureDF.shape[1]\n",
    "\n",
    "    def __len__(self):\n",
    "        return self.n_rows\n",
    "\n",
    "    def __getitem__(self, index):\n",
    "        # 텐서화\n",
    "        featureTS=torch.FloatTensor(self.featureDF.iloc[index].values)\n",
    "        targetTS=torch.FloatTensor(self.targetDF.iloc[index].values)\n",
    "        \n",
    "        # 피쳐와 타겟 반환\n",
    "        return featureTS, targetTS"
   ]
  },
  {
   "cell_type": "code",
   "execution_count": 39,
   "metadata": {},
   "outputs": [],
   "source": [
    "## 데이터셋 인스턴스 생성\n",
    "\n",
    "# DataFrame에서 피쳐와 타겟 추출\n",
    "featureDF = irisDF[irisDF.columns[:-1]]     # 2D (150, 3)\n",
    "targetDF = irisDF[irisDF.columns[-1:]]      # 2D (150, 1)\n",
    "\n",
    "# - 커스텀데이터셋 인스턴스 생성\n",
    "irisDS=IrisDataset(featureDF, targetDF)"
   ]
  },
  {
   "cell_type": "markdown",
   "metadata": {},
   "source": [
    "[4] 학습 준비\n",
    "- 학습 횟수 : EPOCH          <- 처음~ 끝까지 공부하는 단위\n",
    "- 배치 크기 : BATCH_SIZE     <- 한번에 학습할 데이터셋 양\n",
    "- 위치 지정 : DEVICE         <- 탠서 저장 및 실행 위치 (GPU/CPU)\n",
    "- 학 습 률 : LR 가중치와 절편 업데이트 시 경사하강법으로 업데이트 간격 설정 0.001 ~ 0.1 (낮을수록 촘촘히)"
   ]
  },
  {
   "cell_type": "code",
   "execution_count": 40,
   "metadata": {},
   "outputs": [
    {
     "name": "stdout",
     "output_type": "stream",
     "text": [
      "BATCH_CNT: 15\n"
     ]
    }
   ],
   "source": [
    "### 학습 진행 관련 설정\n",
    "EPOCHS = 100\n",
    "BATCH_SIZE = 10\n",
    "BATCH_CNT = irisDF.shape[0]//BATCH_SIZE\n",
    "DEVICE = 'cuda' if torch.cuda.is_available() else 'cpu'\n",
    "LR = 0.001\n",
    "\n",
    "print(f'BATCH_CNT: {BATCH_CNT}')"
   ]
  },
  {
   "cell_type": "markdown",
   "metadata": {},
   "source": [
    "- 인스턴스/객체 : 모델, 데이터셋, 최적화, (손실함수), (성능지표)"
   ]
  },
  {
   "cell_type": "code",
   "execution_count": 41,
   "metadata": {},
   "outputs": [
    {
     "name": "stdout",
     "output_type": "stream",
     "text": [
      "[X_train(shape): (84, 3) (type): <class 'pandas.core.frame.DataFrame'>], X_test: (38, 3), X_val: (28, 3)\n",
      "[y_train(shape): (84, 1) (type): <class 'pandas.core.frame.DataFrame'>], y_test: (38, 1), y_val: (28, 1)\n"
     ]
    }
   ],
   "source": [
    "# 모델 인스턴스 생성\n",
    "model=irisRegModel()\n",
    "\n",
    "# 데이터셋 인스턴스 생성\n",
    "X_train, X_test, y_train, y_test = train_test_split(featureDF, targetDF, random_state=1)\n",
    "X_train, X_val, y_train, y_val = train_test_split(X_train, y_train, random_state=1)\n",
    "print(f'[X_train(shape): {X_train.shape} (type): {type(X_train)}], X_test: {X_test.shape}, X_val: {X_val.shape}')\n",
    "print(f'[y_train(shape): {y_train.shape} (type): {type(y_train)}], y_test: {y_test.shape}, y_val: {y_val.shape}')\n",
    "\n",
    "trainDS=IrisDataset(X_train, y_train)\n",
    "valDS=IrisDataset(X_val, y_val)\n",
    "testDS=IrisDataset(X_test, y_test)\n",
    "\n",
    "# 데이터로더 인스턴스 생성\n",
    "trainDL=DataLoader(trainDS, batch_size=BATCH_SIZE)"
   ]
  },
  {
   "cell_type": "code",
   "execution_count": 42,
   "metadata": {},
   "outputs": [
    {
     "name": "stdout",
     "output_type": "stream",
     "text": [
      "torch.Size([10, 3]) torch.Size([10, 1])\n"
     ]
    }
   ],
   "source": [
    "## [테스트] 데이터로더\n",
    "for feature, target in trainDL:\n",
    "    # print(feature, target)\n",
    "    print(feature.shape, target.shape)\n",
    "    break"
   ]
  },
  {
   "cell_type": "code",
   "execution_count": 43,
   "metadata": {},
   "outputs": [],
   "source": [
    "# 최적화 인스턴스 => W,b 텐서 즉, model.parameters() 전달\n",
    "optimizer=optim.Adam(model.parameters(), lr=LR)\n",
    "\n",
    "# 손실함수 인스턴스 => 회귀 : MSE, MAE, RMSE, ...\n",
    "reg_loss = nn.MSELoss()"
   ]
  },
  {
   "cell_type": "markdown",
   "metadata": {},
   "source": [
    "[5] 학습 진행"
   ]
  },
  {
   "cell_type": "code",
   "execution_count": 44,
   "metadata": {},
   "outputs": [],
   "source": [
    "# 학습 모드 함수\n",
    "def training():\n",
    "    # 학습 모드로 모델 설정\n",
    "    model.train()\n",
    "    # 배치 크기 만큼 데이터 로딩해서 학습 진행\n",
    "    loss_total, score_total=0,0\n",
    "    for featureTS, targetTS in trainDL:\n",
    "\n",
    "        # 학습 진행\n",
    "        pre_y=model(featureTS)\n",
    "\n",
    "        # 손실 계산\n",
    "        loss=reg_loss(pre_y, targetTS)\n",
    "        loss_total+=loss.item()\n",
    "        \n",
    "        # 성능평가 계산\n",
    "        score=R2Score()(pre_y, targetTS)\n",
    "        score_total+=score.item()\n",
    "\n",
    "        # 최적화 진행\n",
    "        optimizer.zero_grad()\n",
    "        loss.backward()\n",
    "        optimizer.step()\n",
    "    return loss_total, score_total"
   ]
  },
  {
   "cell_type": "code",
   "execution_count": 45,
   "metadata": {},
   "outputs": [],
   "source": [
    "# 검증 모드 함수\n",
    "def validate():\n",
    "    # 검증 모드로 모델 설정\n",
    "    model.eval()\n",
    "    with torch.no_grad():\n",
    "        # 검증 데이터셋\n",
    "        val_featureTS=torch.FloatTensor(valDS.featureDF.values)\n",
    "        val_targetTS=torch.FloatTensor(valDS.targetDF.values)\n",
    "        \n",
    "        # 평가\n",
    "        pre_val=model(val_featureTS)\n",
    "\n",
    "        # 손실\n",
    "        loss_val=reg_loss(pre_val, val_targetTS)\n",
    "\n",
    "        # 성능평가\n",
    "        score_val=R2Score()(pre_val, val_targetTS)\n",
    "    return loss_val, score_val"
   ]
  },
  {
   "cell_type": "code",
   "execution_count": 46,
   "metadata": {},
   "outputs": [
    {
     "name": "stdout",
     "output_type": "stream",
     "text": [
      "CNT => 15.0\n",
      "1/100 => [TRAIN] LOSS: 1.0672990798950195 SCORE: -1.719245719909668\n",
      "\t=> [VAL] LOSS: 1.0881725549697876 SCORE: -0.6857551336288452\n",
      "2/100 => [TRAIN] LOSS: 0.5985702514648438 SCORE: -0.7079183657964071\n",
      "\t=> [VAL] LOSS: 0.5879831910133362 SCORE: 0.08911895751953125\n",
      "3/100 => [TRAIN] LOSS: 0.31936023632685345 SCORE: -0.09525830745697021\n",
      "\t=> [VAL] LOSS: 0.3537795841693878 SCORE: 0.4519382119178772\n",
      "4/100 => [TRAIN] LOSS: 0.18960589170455933 SCORE: 0.19866507450739543\n",
      "\t=> [VAL] LOSS: 0.2904948890209198 SCORE: 0.5499764680862427\n",
      "5/100 => [TRAIN] LOSS: 0.1486833304166794 SCORE: 0.2978671153386434\n",
      "\t=> [VAL] LOSS: 0.2939550578594208 SCORE: 0.5446161031723022\n",
      "6/100 => [TRAIN] LOSS: 0.14036474823951722 SCORE: 0.31996931234995524\n",
      "\t=> [VAL] LOSS: 0.28880640864372253 SCORE: 0.5525921583175659\n",
      "7/100 => [TRAIN] LOSS: 0.1317731926838557 SCORE: 0.3371642271677653\n",
      "\t=> [VAL] LOSS: 0.2607515752315521 SCORE: 0.5960536003112793\n",
      "8/100 => [TRAIN] LOSS: 0.12008311649163564 SCORE: 0.3592058579126994\n",
      "\t=> [VAL] LOSS: 0.2286999523639679 SCORE: 0.6457067728042603\n",
      "9/100 => [TRAIN] LOSS: 0.11012525955835978 SCORE: 0.37766454219818113\n",
      "\t=> [VAL] LOSS: 0.20349779725074768 SCORE: 0.6847490072250366\n",
      "10/100 => [TRAIN] LOSS: 0.10201282302538554 SCORE: 0.39296258687973024\n",
      "\t=> [VAL] LOSS: 0.18414869904518127 SCORE: 0.7147238850593567\n",
      "11/100 => [TRAIN] LOSS: 0.09430706004301707 SCORE: 0.40813912550608317\n",
      "\t=> [VAL] LOSS: 0.16781917214393616 SCORE: 0.7400209903717041\n",
      "12/100 => [TRAIN] LOSS: 0.08686467707157135 SCORE: 0.42307623227437335\n",
      "\t=> [VAL] LOSS: 0.1527070701122284 SCORE: 0.7634320259094238\n",
      "13/100 => [TRAIN] LOSS: 0.07983901153008142 SCORE: 0.4371260325113932\n",
      "\t=> [VAL] LOSS: 0.1381291151046753 SCORE: 0.7860156297683716\n",
      "14/100 => [TRAIN] LOSS: 0.07332894156376521 SCORE: 0.4500255664189657\n",
      "\t=> [VAL] LOSS: 0.12475671619176865 SCORE: 0.8067317008972168\n",
      "15/100 => [TRAIN] LOSS: 0.06728875984748205 SCORE: 0.4620244344075521\n",
      "\t=> [VAL] LOSS: 0.11255528032779694 SCORE: 0.8256336450576782\n",
      "16/100 => [TRAIN] LOSS: 0.06170068134864171 SCORE: 0.4731358091036479\n",
      "\t=> [VAL] LOSS: 0.10137135535478592 SCORE: 0.8429594039916992\n",
      "17/100 => [TRAIN] LOSS: 0.05660543441772461 SCORE: 0.48326563835144043\n",
      "\t=> [VAL] LOSS: 0.09130113571882248 SCORE: 0.858559787273407\n",
      "18/100 => [TRAIN] LOSS: 0.05204175661007563 SCORE: 0.49231996536254885\n",
      "\t=> [VAL] LOSS: 0.08257333189249039 SCORE: 0.8720805644989014\n",
      "19/100 => [TRAIN] LOSS: 0.047997515896956125 SCORE: 0.5003775278727214\n",
      "\t=> [VAL] LOSS: 0.07523035258054733 SCORE: 0.8834559917449951\n",
      "20/100 => [TRAIN] LOSS: 0.044438683738311134 SCORE: 0.5074995477994283\n",
      "\t=> [VAL] LOSS: 0.06899058818817139 SCORE: 0.8931224346160889\n",
      "21/100 => [TRAIN] LOSS: 0.04136343275507291 SCORE: 0.5136500517527263\n",
      "\t=> [VAL] LOSS: 0.06378687918186188 SCORE: 0.9011838436126709\n",
      "22/100 => [TRAIN] LOSS: 0.03873537803689639 SCORE: 0.5189093112945556\n",
      "\t=> [VAL] LOSS: 0.059588197618722916 SCORE: 0.9076882600784302\n",
      "23/100 => [TRAIN] LOSS: 0.03653306911389033 SCORE: 0.5233396371205647\n",
      "\t=> [VAL] LOSS: 0.05638594552874565 SCORE: 0.9126490354537964\n",
      "24/100 => [TRAIN] LOSS: 0.034690216183662415 SCORE: 0.5270567496617635\n",
      "\t=> [VAL] LOSS: 0.05370834469795227 SCORE: 0.9167971014976501\n",
      "25/100 => [TRAIN] LOSS: 0.033192793776591616 SCORE: 0.5300602992375691\n",
      "\t=> [VAL] LOSS: 0.05168384313583374 SCORE: 0.9199333786964417\n",
      "26/100 => [TRAIN] LOSS: 0.03198394253849983 SCORE: 0.5324950575828552\n",
      "\t=> [VAL] LOSS: 0.050310246646404266 SCORE: 0.9220613241195679\n",
      "27/100 => [TRAIN] LOSS: 0.030998595431447028 SCORE: 0.534492818514506\n",
      "\t=> [VAL] LOSS: 0.0493859127163887 SCORE: 0.9234932661056519\n",
      "28/100 => [TRAIN] LOSS: 0.030194747944672903 SCORE: 0.53612220287323\n",
      "\t=> [VAL] LOSS: 0.04871869459748268 SCORE: 0.9245268702507019\n",
      "29/100 => [TRAIN] LOSS: 0.029551358272631962 SCORE: 0.53741588195165\n",
      "\t=> [VAL] LOSS: 0.04816745966672897 SCORE: 0.9253808259963989\n",
      "30/100 => [TRAIN] LOSS: 0.02905199701587359 SCORE: 0.5384125431378682\n",
      "\t=> [VAL] LOSS: 0.04787543788552284 SCORE: 0.9258332252502441\n",
      "31/100 => [TRAIN] LOSS: 0.028646030649542808 SCORE: 0.5392332990964254\n",
      "\t=> [VAL] LOSS: 0.04774864763021469 SCORE: 0.926029622554779\n",
      "32/100 => [TRAIN] LOSS: 0.028306898723045985 SCORE: 0.5399186571439107\n",
      "\t=> [VAL] LOSS: 0.047616999596357346 SCORE: 0.9262335896492004\n",
      "33/100 => [TRAIN] LOSS: 0.028036216273903847 SCORE: 0.5404571930567423\n",
      "\t=> [VAL] LOSS: 0.04750167205929756 SCORE: 0.9264122247695923\n",
      "34/100 => [TRAIN] LOSS: 0.027810465544462204 SCORE: 0.5408979098002116\n",
      "\t=> [VAL] LOSS: 0.04747603461146355 SCORE: 0.9264519214630127\n",
      "35/100 => [TRAIN] LOSS: 0.02761438749730587 SCORE: 0.5412768999735514\n",
      "\t=> [VAL] LOSS: 0.04743371158838272 SCORE: 0.9265174865722656\n",
      "36/100 => [TRAIN] LOSS: 0.02746620128552119 SCORE: 0.5415514707565308\n",
      "\t=> [VAL] LOSS: 0.04734329506754875 SCORE: 0.9266575574874878\n",
      "37/100 => [TRAIN] LOSS: 0.027348909030357995 SCORE: 0.5417689720789591\n",
      "\t=> [VAL] LOSS: 0.04734083265066147 SCORE: 0.9266613721847534\n",
      "38/100 => [TRAIN] LOSS: 0.027226818973819414 SCORE: 0.5420059283574422\n",
      "\t=> [VAL] LOSS: 0.04728975519537926 SCORE: 0.9267405271530151\n",
      "39/100 => [TRAIN] LOSS: 0.027098808189233145 SCORE: 0.5422433177630107\n",
      "\t=> [VAL] LOSS: 0.04725346341729164 SCORE: 0.9267967343330383\n",
      "40/100 => [TRAIN] LOSS: 0.026984987159570057 SCORE: 0.5424463947614034\n",
      "\t=> [VAL] LOSS: 0.04727828502655029 SCORE: 0.9267582893371582\n",
      "41/100 => [TRAIN] LOSS: 0.026851253211498262 SCORE: 0.5426869869232178\n",
      "\t=> [VAL] LOSS: 0.047075387090444565 SCORE: 0.9270726442337036\n",
      "42/100 => [TRAIN] LOSS: 0.026729939505457878 SCORE: 0.5428929686546325\n",
      "\t=> [VAL] LOSS: 0.0467216856777668 SCORE: 0.927620530128479\n",
      "43/100 => [TRAIN] LOSS: 0.02661719135940075 SCORE: 0.5430788040161133\n",
      "\t=> [VAL] LOSS: 0.046416811645030975 SCORE: 0.9280928373336792\n",
      "44/100 => [TRAIN] LOSS: 0.026502103606859843 SCORE: 0.5432718952496847\n",
      "\t=> [VAL] LOSS: 0.0461302287876606 SCORE: 0.9285368323326111\n",
      "45/100 => [TRAIN] LOSS: 0.02637207806110382 SCORE: 0.5435056289037069\n",
      "\t=> [VAL] LOSS: 0.045805931091308594 SCORE: 0.9290391802787781\n",
      "46/100 => [TRAIN] LOSS: 0.0262970132753253 SCORE: 0.543654998143514\n",
      "\t=> [VAL] LOSS: 0.04563635215163231 SCORE: 0.929301917552948\n",
      "47/100 => [TRAIN] LOSS: 0.02621525457749764 SCORE: 0.5438344399134318\n",
      "\t=> [VAL] LOSS: 0.04560213163495064 SCORE: 0.9293549060821533\n",
      "48/100 => [TRAIN] LOSS: 0.026129053284724552 SCORE: 0.5440343340237935\n",
      "\t=> [VAL] LOSS: 0.04558483138680458 SCORE: 0.9293817281723022\n",
      "49/100 => [TRAIN] LOSS: 0.02604102250188589 SCORE: 0.5442393183708191\n",
      "\t=> [VAL] LOSS: 0.04550004005432129 SCORE: 0.9295130968093872\n",
      "50/100 => [TRAIN] LOSS: 0.025983043077091376 SCORE: 0.5443986932436625\n",
      "\t=> [VAL] LOSS: 0.04556256905198097 SCORE: 0.9294161796569824\n",
      "51/100 => [TRAIN] LOSS: 0.025902407988905907 SCORE: 0.5445994337399801\n",
      "\t=> [VAL] LOSS: 0.04569859057664871 SCORE: 0.9292054772377014\n",
      "52/100 => [TRAIN] LOSS: 0.025793711468577386 SCORE: 0.544858988126119\n",
      "\t=> [VAL] LOSS: 0.045554690062999725 SCORE: 0.9294283986091614\n",
      "53/100 => [TRAIN] LOSS: 0.025709824326137703 SCORE: 0.5450440049171448\n",
      "\t=> [VAL] LOSS: 0.045365188270807266 SCORE: 0.929722011089325\n",
      "54/100 => [TRAIN] LOSS: 0.025636363526185355 SCORE: 0.5452021718025207\n",
      "\t=> [VAL] LOSS: 0.04525156691670418 SCORE: 0.9298980236053467\n",
      "55/100 => [TRAIN] LOSS: 0.02557593851039807 SCORE: 0.5453628341356913\n",
      "\t=> [VAL] LOSS: 0.04526550695300102 SCORE: 0.9298763871192932\n",
      "56/100 => [TRAIN] LOSS: 0.02549295419206222 SCORE: 0.5455626686414082\n",
      "\t=> [VAL] LOSS: 0.045309413224458694 SCORE: 0.9298083782196045\n",
      "57/100 => [TRAIN] LOSS: 0.025385171299179395 SCORE: 0.5458118716875712\n",
      "\t=> [VAL] LOSS: 0.045104630291461945 SCORE: 0.9301256537437439\n",
      "58/100 => [TRAIN] LOSS: 0.025312149586776894 SCORE: 0.5459659139315287\n",
      "\t=> [VAL] LOSS: 0.044892437756061554 SCORE: 0.9304543733596802\n",
      "59/100 => [TRAIN] LOSS: 0.025253826503952345 SCORE: 0.5461157202720642\n",
      "\t=> [VAL] LOSS: 0.04491490498185158 SCORE: 0.9304195642471313\n",
      "60/100 => [TRAIN] LOSS: 0.025167378534873327 SCORE: 0.5463217417399089\n",
      "\t=> [VAL] LOSS: 0.04494645446538925 SCORE: 0.9303706884384155\n",
      "61/100 => [TRAIN] LOSS: 0.02508618546028932 SCORE: 0.5465369621912638\n",
      "\t=> [VAL] LOSS: 0.04487399384379387 SCORE: 0.9304829239845276\n",
      "62/100 => [TRAIN] LOSS: 0.02500841530660788 SCORE: 0.5467162807782491\n",
      "\t=> [VAL] LOSS: 0.0448591448366642 SCORE: 0.9305059313774109\n",
      "63/100 => [TRAIN] LOSS: 0.024904834292829036 SCORE: 0.5469476262728373\n",
      "\t=> [VAL] LOSS: 0.04462432861328125 SCORE: 0.9308696985244751\n",
      "64/100 => [TRAIN] LOSS: 0.024843452187875908 SCORE: 0.5470994551976521\n",
      "\t=> [VAL] LOSS: 0.04453755170106888 SCORE: 0.9310041069984436\n",
      "65/100 => [TRAIN] LOSS: 0.02477083181341489 SCORE: 0.5472633004188537\n",
      "\t=> [VAL] LOSS: 0.04455522820353508 SCORE: 0.9309767484664917\n",
      "66/100 => [TRAIN] LOSS: 0.024679603800177575 SCORE: 0.547497010231018\n",
      "\t=> [VAL] LOSS: 0.04444953426718712 SCORE: 0.9311404824256897\n",
      "67/100 => [TRAIN] LOSS: 0.024603886343538762 SCORE: 0.5476655085881551\n",
      "\t=> [VAL] LOSS: 0.0443892776966095 SCORE: 0.931233823299408\n",
      "68/100 => [TRAIN] LOSS: 0.02452423460781574 SCORE: 0.5478674173355103\n",
      "\t=> [VAL] LOSS: 0.044311076402664185 SCORE: 0.9313549995422363\n",
      "69/100 => [TRAIN] LOSS: 0.02444518357515335 SCORE: 0.5480428020159404\n",
      "\t=> [VAL] LOSS: 0.044233765453100204 SCORE: 0.9314747452735901\n",
      "70/100 => [TRAIN] LOSS: 0.024360749622186026 SCORE: 0.5482529759407043\n",
      "\t=> [VAL] LOSS: 0.044121138751506805 SCORE: 0.9316492080688477\n",
      "71/100 => [TRAIN] LOSS: 0.02429040608306726 SCORE: 0.5484048008918763\n",
      "\t=> [VAL] LOSS: 0.044039297848939896 SCORE: 0.9317759871482849\n",
      "72/100 => [TRAIN] LOSS: 0.02420168003688256 SCORE: 0.5486233830451965\n",
      "\t=> [VAL] LOSS: 0.04392506927251816 SCORE: 0.931952953338623\n",
      "73/100 => [TRAIN] LOSS: 0.024152787402272224 SCORE: 0.5487575014432271\n",
      "\t=> [VAL] LOSS: 0.04402808099985123 SCORE: 0.9317933917045593\n",
      "74/100 => [TRAIN] LOSS: 0.024048855404059093 SCORE: 0.5489965836207072\n",
      "\t=> [VAL] LOSS: 0.04391147941350937 SCORE: 0.9319739937782288\n",
      "75/100 => [TRAIN] LOSS: 0.023959352324406307 SCORE: 0.5492114583651225\n",
      "\t=> [VAL] LOSS: 0.04370517283678055 SCORE: 0.9322935938835144\n",
      "76/100 => [TRAIN] LOSS: 0.023905190452933312 SCORE: 0.5493162433306377\n",
      "\t=> [VAL] LOSS: 0.04361666366457939 SCORE: 0.9324307441711426\n",
      "77/100 => [TRAIN] LOSS: 0.0238127746929725 SCORE: 0.54953852891922\n",
      "\t=> [VAL] LOSS: 0.043459560722112656 SCORE: 0.9326741099357605\n",
      "78/100 => [TRAIN] LOSS: 0.02375807613134384 SCORE: 0.5496801892916362\n",
      "\t=> [VAL] LOSS: 0.0435321144759655 SCORE: 0.9325616955757141\n",
      "79/100 => [TRAIN] LOSS: 0.023679975792765616 SCORE: 0.5498882293701172\n",
      "\t=> [VAL] LOSS: 0.043595366179943085 SCORE: 0.9324637055397034\n",
      "80/100 => [TRAIN] LOSS: 0.023580590014656386 SCORE: 0.5501080592473347\n",
      "\t=> [VAL] LOSS: 0.04336681216955185 SCORE: 0.932817816734314\n",
      "81/100 => [TRAIN] LOSS: 0.023505252599716187 SCORE: 0.5502801537513733\n",
      "\t=> [VAL] LOSS: 0.0431731753051281 SCORE: 0.9331177473068237\n",
      "82/100 => [TRAIN] LOSS: 0.0234574519097805 SCORE: 0.550399911403656\n",
      "\t=> [VAL] LOSS: 0.04325615614652634 SCORE: 0.932989239692688\n",
      "83/100 => [TRAIN] LOSS: 0.023367994899551072 SCORE: 0.5506296912829082\n",
      "\t=> [VAL] LOSS: 0.043249018490314484 SCORE: 0.9330002665519714\n",
      "84/100 => [TRAIN] LOSS: 0.023295505220691362 SCORE: 0.5508142590522767\n",
      "\t=> [VAL] LOSS: 0.04320457950234413 SCORE: 0.933069109916687\n",
      "85/100 => [TRAIN] LOSS: 0.023209653173883755 SCORE: 0.5509913166364034\n",
      "\t=> [VAL] LOSS: 0.042970478534698486 SCORE: 0.9334318041801453\n",
      "86/100 => [TRAIN] LOSS: 0.023127703368663786 SCORE: 0.5511724869410197\n",
      "\t=> [VAL] LOSS: 0.042717404663562775 SCORE: 0.933823823928833\n",
      "87/100 => [TRAIN] LOSS: 0.023085187499721844 SCORE: 0.5512724598248799\n",
      "\t=> [VAL] LOSS: 0.0427585206925869 SCORE: 0.9337601661682129\n",
      "88/100 => [TRAIN] LOSS: 0.022999158998330434 SCORE: 0.5514883001645406\n",
      "\t=> [VAL] LOSS: 0.042727407068014145 SCORE: 0.9338083267211914\n",
      "89/100 => [TRAIN] LOSS: 0.02292453187207381 SCORE: 0.5516732374827067\n",
      "\t=> [VAL] LOSS: 0.04266643151640892 SCORE: 0.9339028000831604\n",
      "90/100 => [TRAIN] LOSS: 0.02285750595231851 SCORE: 0.5518382986386617\n",
      "\t=> [VAL] LOSS: 0.04264262691140175 SCORE: 0.9339396953582764\n",
      "91/100 => [TRAIN] LOSS: 0.022780882939696313 SCORE: 0.5520252188046774\n",
      "\t=> [VAL] LOSS: 0.0425727441906929 SCORE: 0.9340479373931885\n",
      "92/100 => [TRAIN] LOSS: 0.022709758703907332 SCORE: 0.5521956125895182\n",
      "\t=> [VAL] LOSS: 0.04249190911650658 SCORE: 0.9341731667518616\n",
      "93/100 => [TRAIN] LOSS: 0.022639444470405577 SCORE: 0.5523623744646708\n",
      "\t=> [VAL] LOSS: 0.04240958020091057 SCORE: 0.9343007206916809\n",
      "94/100 => [TRAIN] LOSS: 0.022567448889215788 SCORE: 0.5525316794713339\n",
      "\t=> [VAL] LOSS: 0.04230998829007149 SCORE: 0.9344549775123596\n",
      "95/100 => [TRAIN] LOSS: 0.02249743081629276 SCORE: 0.5526946862538655\n",
      "\t=> [VAL] LOSS: 0.042206861078739166 SCORE: 0.9346147775650024\n",
      "96/100 => [TRAIN] LOSS: 0.022427358105778693 SCORE: 0.5528568983078003\n",
      "\t=> [VAL] LOSS: 0.04209965839982033 SCORE: 0.9347808361053467\n",
      "97/100 => [TRAIN] LOSS: 0.02234998643398285 SCORE: 0.553036383787791\n",
      "\t=> [VAL] LOSS: 0.04200524836778641 SCORE: 0.9349271059036255\n",
      "98/100 => [TRAIN] LOSS: 0.022308879842360813 SCORE: 0.5531606038411458\n",
      "\t=> [VAL] LOSS: 0.04211176559329033 SCORE: 0.9347620606422424\n",
      "99/100 => [TRAIN] LOSS: 0.022234321509798368 SCORE: 0.5533477067947388\n",
      "\t=> [VAL] LOSS: 0.04210127517580986 SCORE: 0.9347783327102661\n"
     ]
    }
   ],
   "source": [
    "## 학습의 효과 확인 => 손실값과 성능평가값 저장 필요\n",
    "LOSS_HISTORY, SCORE_HISTORY=[[],[]], [[],[]] # train, val\n",
    "CNT=irisDS.n_rows/BATCH_SIZE\n",
    "print(f'CNT => {CNT}')\n",
    "\n",
    "for epoch in range(1, EPOCHS):\n",
    "    # 학습 모드 함수\n",
    "    loss_total, score_total = training()\n",
    "\n",
    "    # 검증 모드 함수\n",
    "    loss_val, score_val = validate()\n",
    "\n",
    "    # 에포크당 손실값과 성능평가값 저장\n",
    "    LOSS_HISTORY[0].append(loss_total/CNT)\n",
    "    SCORE_HISTORY[0].append(score_total/CNT)\n",
    "\n",
    "    LOSS_HISTORY[1].append(loss_val)\n",
    "    SCORE_HISTORY[1].append(score_val)\n",
    "\n",
    "    print(f'{epoch}/{EPOCHS} => [TRAIN] LOSS: {LOSS_HISTORY[0][-1]} SCORE: {SCORE_HISTORY[0][-1]}')\n",
    "    print(f'\\t=> [VAL] LOSS: {LOSS_HISTORY[1][-1]} SCORE: {SCORE_HISTORY[1][-1]}')"
   ]
  },
  {
   "cell_type": "markdown",
   "metadata": {},
   "source": [
    "[테스트 & 검증 상태]\n",
    "- 설정된 W,b 검증 및 테스트용 데이터셋 예측값 추출\n",
    "- 사용되지 않는 기능들 OFF\n",
    "- W, b 업데이트 X\n",
    "    * -> 기능 OFF Auto_grade 엔진 ---> model.eval()\n",
    "    * -> W, b 텐서 required_grade=True ---> no.grad()"
   ]
  },
  {
   "cell_type": "code",
   "execution_count": 47,
   "metadata": {},
   "outputs": [
    {
     "name": "stdout",
     "output_type": "stream",
     "text": [
      "[TEST] LOSS: 0.04155030474066734 \n",
      "\tSCORE: 0.9219661951065063\n"
     ]
    }
   ],
   "source": [
    "# 테스트 진행\n",
    "model.eval()\n",
    "with torch.no_grad():\n",
    "    # 테스트 데이터셋\n",
    "    test_featureTS=torch.FloatTensor(testDS.featureDF.values)\n",
    "    test_targetTS=torch.FloatTensor(testDS.targetDF.values)\n",
    "\n",
    "    # 평가\n",
    "    pre_test=model(test_featureTS)\n",
    "\n",
    "    # 손실\n",
    "    loss_test=reg_loss(pre_test, test_targetTS)\n",
    "\n",
    "    # 성능평가\n",
    "    score_test=R2Score()(pre_test, test_targetTS)\n",
    "print(f'[TEST] LOSS: {loss_test} \\n\\tSCORE: {score_test}')"
   ]
  },
  {
   "cell_type": "code",
   "execution_count": null,
   "metadata": {},
   "outputs": [],
   "source": []
  }
 ],
 "metadata": {
  "kernelspec": {
   "display_name": "TORCH_38",
   "language": "python",
   "name": "python3"
  },
  "language_info": {
   "codemirror_mode": {
    "name": "ipython",
    "version": 3
   },
   "file_extension": ".py",
   "mimetype": "text/x-python",
   "name": "python",
   "nbconvert_exporter": "python",
   "pygments_lexer": "ipython3",
   "version": "3.8.19"
  }
 },
 "nbformat": 4,
 "nbformat_minor": 2
}
