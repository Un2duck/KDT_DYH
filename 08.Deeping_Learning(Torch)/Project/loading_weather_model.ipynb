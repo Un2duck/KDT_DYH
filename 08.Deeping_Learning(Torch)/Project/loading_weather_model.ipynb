{
 "cells": [
  {
   "cell_type": "markdown",
   "metadata": {},
   "source": [
    "##### 저장된 모델 활용\n",
    "- 모델 파일 종류\n",
    "    * 가중치 및 절편 저장 파일 => 동일한 구조 모델 인스턴스 생성 후 사용 가능\n",
    "    * 모델 전체 저장 파일 => 바로 로딩 후 사용 가능\n"
   ]
  },
  {
   "cell_type": "markdown",
   "metadata": {},
   "source": [
    "[1] 모듈 로딩 <hr>"
   ]
  },
  {
   "cell_type": "code",
   "execution_count": 14,
   "metadata": {},
   "outputs": [
    {
     "name": "stdout",
     "output_type": "stream",
     "text": [
      "torch Ver.:2.4.1\n",
      "pandas Ver.:2.0.3\n",
      "numpy Ver.:1.24.3\n"
     ]
    }
   ],
   "source": [
    "# 경로 지정\n",
    "import sys\n",
    "sys.path.append(r'C:\\Users\\KDP-50\\OneDrive\\바탕 화면\\Python06\\MyClass')\n",
    "\n",
    "# 모듈 로딩\n",
    "from DL_Modules import *\n",
    "from DL_func import *\n",
    "from DL_Reg_Class import *\n",
    "from ML_preprocessing import *"
   ]
  },
  {
   "cell_type": "code",
   "execution_count": 15,
   "metadata": {},
   "outputs": [],
   "source": [
    "## 모델 파일 관련\n",
    "\n",
    "### models 폴더 아래 프로젝트 폴더 아래 모델 파일 저장\n",
    "import os\n",
    "\n",
    "# 저장 경로\n",
    "SAVE_PATH='../Project/MyModels/'\n",
    "\n",
    "# 모델 구조 및 파라미터 모두 저장 파일명\n",
    "SAVE_MODEL='loss(2.01475)_score(0.73614).pth'"
   ]
  },
  {
   "cell_type": "markdown",
   "metadata": {},
   "source": [
    "[2] 모델 로딩 - 모델 전체 파일 사용"
   ]
  },
  {
   "cell_type": "code",
   "execution_count": 16,
   "metadata": {},
   "outputs": [],
   "source": [
    "Weather_Model = torch.load(SAVE_PATH+SAVE_MODEL, weights_only=False)"
   ]
  },
  {
   "cell_type": "code",
   "execution_count": 17,
   "metadata": {},
   "outputs": [
    {
     "name": "stdout",
     "output_type": "stream",
     "text": [
      "KeyDynamicModel(\n",
      "  (in_layer): Linear(in_features=3, out_features=1000, bias=True)\n",
      "  (h_layers): ModuleList(\n",
      "    (0): Linear(in_features=1000, out_features=2000, bias=True)\n",
      "    (1): Linear(in_features=2000, out_features=3000, bias=True)\n",
      "  )\n",
      "  (out_layer): Linear(in_features=3000, out_features=1, bias=True)\n",
      ")\n"
     ]
    }
   ],
   "source": [
    "print(Weather_Model)"
   ]
  },
  {
   "cell_type": "code",
   "execution_count": 18,
   "metadata": {},
   "outputs": [
    {
     "data": {
      "text/plain": [
       "=================================================================\n",
       "Layer (type:depth-idx)                   Param #\n",
       "=================================================================\n",
       "KeyDynamicModel                          --\n",
       "├─Linear: 1-1                            4,000\n",
       "├─ModuleList: 1-2                        --\n",
       "│    └─Linear: 2-1                       2,002,000\n",
       "│    └─Linear: 2-2                       6,003,000\n",
       "├─Linear: 1-3                            3,001\n",
       "=================================================================\n",
       "Total params: 8,012,001\n",
       "Trainable params: 8,012,001\n",
       "Non-trainable params: 0\n",
       "================================================================="
      ]
     },
     "execution_count": 18,
     "metadata": {},
     "output_type": "execute_result"
    }
   ],
   "source": [
    "summary(Weather_Model)"
   ]
  },
  {
   "cell_type": "markdown",
   "metadata": {},
   "source": [
    "[3] 예측 <hr>"
   ]
  },
  {
   "cell_type": "code",
   "execution_count": 30,
   "metadata": {},
   "outputs": [],
   "source": [
    "rdata='10,20,30'"
   ]
  },
  {
   "cell_type": "code",
   "execution_count": 31,
   "metadata": {},
   "outputs": [
    {
     "data": {
      "text/plain": [
       "['10', '20', '30']"
      ]
     },
     "execution_count": 31,
     "metadata": {},
     "output_type": "execute_result"
    }
   ],
   "source": [
    "rdata=rdata.split(',')\n",
    "rdata"
   ]
  },
  {
   "cell_type": "code",
   "execution_count": 33,
   "metadata": {},
   "outputs": [
    {
     "data": {
      "text/plain": [
       "[10, 20, 30]"
      ]
     },
     "execution_count": 33,
     "metadata": {},
     "output_type": "execute_result"
    }
   ],
   "source": [
    "rdata = map(int, rdata)\n",
    "ldata = list(rdata)\n",
    "ldata"
   ]
  },
  {
   "cell_type": "code",
   "execution_count": 22,
   "metadata": {},
   "outputs": [],
   "source": [
    "data = [float(x) for x in input('평균 증기압(hPa), 최고기온(°C), 최저기온(°C)을 입력하세요.').split(',')]"
   ]
  },
  {
   "cell_type": "code",
   "execution_count": 23,
   "metadata": {},
   "outputs": [
    {
     "data": {
      "text/plain": [
       "torch.Size([1, 3])"
      ]
     },
     "execution_count": 23,
     "metadata": {},
     "output_type": "execute_result"
    }
   ],
   "source": [
    "dataTS = torch.FloatTensor(data).reshape(1,-1)\n",
    "dataTS.shape"
   ]
  },
  {
   "cell_type": "code",
   "execution_count": 24,
   "metadata": {},
   "outputs": [
    {
     "data": {
      "text/plain": [
       "tensor([[16.4433]])"
      ]
     },
     "execution_count": 24,
     "metadata": {},
     "output_type": "execute_result"
    }
   ],
   "source": [
    "predict_model(Weather_Model, data)"
   ]
  },
  {
   "cell_type": "code",
   "execution_count": 25,
   "metadata": {},
   "outputs": [],
   "source": [
    "# 검증 모드로 모델 설정\n",
    "Weather_Model.eval()\n",
    "with torch.no_grad():\n",
    "\n",
    "    # 추론/평가\n",
    "    pre_val=Weather_Model(dataTS)"
   ]
  },
  {
   "cell_type": "code",
   "execution_count": 26,
   "metadata": {},
   "outputs": [
    {
     "name": "stdout",
     "output_type": "stream",
     "text": [
      "내일 예상 평균기온은 16.4도 입니다.\n"
     ]
    }
   ],
   "source": [
    "print(f'내일 예상 평균기온은 {pre_val.item():.1f}도 입니다.')"
   ]
  },
  {
   "cell_type": "code",
   "execution_count": 35,
   "metadata": {},
   "outputs": [
    {
     "data": {
      "text/plain": [
       "torch.Size([1, 3])"
      ]
     },
     "execution_count": 35,
     "metadata": {},
     "output_type": "execute_result"
    }
   ],
   "source": [
    "dataTS = torch.FloatTensor(ldata).reshape(1,-1)\n",
    "dataTS.shape"
   ]
  },
  {
   "cell_type": "code",
   "execution_count": null,
   "metadata": {},
   "outputs": [],
   "source": [
    "predict_model(Weather_Model, data)\n",
    "# 검증 모드로 모델 설정\n",
    "Weather_Model.eval()\n",
    "with torch.no_grad():\n",
    "\n",
    "    # 추론/평가\n",
    "    pre_val=Weather_Model(dataTS)\n",
    "print(f'내일 예상 평균기온은 {pre_val.item():.1f}도 입니다.')"
   ]
  }
 ],
 "metadata": {
  "kernelspec": {
   "display_name": "TORCH_38",
   "language": "python",
   "name": "python3"
  },
  "language_info": {
   "codemirror_mode": {
    "name": "ipython",
    "version": 3
   },
   "file_extension": ".py",
   "mimetype": "text/x-python",
   "name": "python",
   "nbconvert_exporter": "python",
   "pygments_lexer": "ipython3",
   "version": "3.8.19"
  }
 },
 "nbformat": 4,
 "nbformat_minor": 2
}
