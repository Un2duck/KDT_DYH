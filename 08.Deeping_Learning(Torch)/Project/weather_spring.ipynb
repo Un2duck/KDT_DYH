{
 "cells": [
  {
   "cell_type": "code",
   "execution_count": 19,
   "metadata": {},
   "outputs": [],
   "source": [
    "import sys\n",
    "sys.path.append(r'C:\\Users\\KDP-50\\OneDrive\\바탕 화면\\Python06\\MyClass')\n",
    "from DL_Modules import *\n",
    "from DL_func import *\n",
    "from DL_Reg_Class import *\n",
    "from ML_preprocessing import *\n",
    "from makeaplot import *"
   ]
  },
  {
   "cell_type": "code",
   "execution_count": 20,
   "metadata": {},
   "outputs": [],
   "source": [
    "import os"
   ]
  },
  {
   "cell_type": "code",
   "execution_count": 21,
   "metadata": {},
   "outputs": [],
   "source": [
    "FOLDER = './excels/'\n",
    "TRAIN_CSV = './Project/chung_train.csv'"
   ]
  },
  {
   "cell_type": "code",
   "execution_count": 22,
   "metadata": {},
   "outputs": [],
   "source": [
    "def make_dataset(dir_path, file_path):\n",
    "    # 폴더 안에 파일을 가져오기\n",
    "    train_files = os.listdir(dir_path)\n",
    "    file_flag = True\n",
    "\n",
    "    for file in train_files:\n",
    "        print(file, dir_path+file, os.path.exists(dir_path+file))\n",
    "\n",
    "        # 파일을 읽을 때 첫 번째 행을 건너뛰기\n",
    "        with open(dir_path+file, mode='r', encoding=\"cp949\") as f: \n",
    "            if file_flag: \n",
    "                alldata=f.read()\n",
    "                file_flag = False\n",
    "            else:\n",
    "                f.readline()\n",
    "                alldata=f.read()\n",
    "            print(alldata)\n",
    "        # 나머지 데이터를 지정된 파일에 저장\n",
    "\n",
    "        with open(file_path, mode='a', encoding=\"utf-8\") as wf:\n",
    "            wf.write(alldata)"
   ]
  },
  {
   "cell_type": "code",
   "execution_count": 23,
   "metadata": {},
   "outputs": [],
   "source": [
    "# make_dataset(FOLDER, 'chung_train.csv')"
   ]
  },
  {
   "cell_type": "code",
   "execution_count": 24,
   "metadata": {},
   "outputs": [
    {
     "data": {
      "text/plain": [
       "(620367, 59)"
      ]
     },
     "execution_count": 24,
     "metadata": {},
     "output_type": "execute_result"
    }
   ],
   "source": [
    "totalDF = pd.read_csv('total.csv')\n",
    "totalDF.shape"
   ]
  },
  {
   "cell_type": "code",
   "execution_count": 25,
   "metadata": {},
   "outputs": [
    {
     "name": "stdout",
     "output_type": "stream",
     "text": [
      "<class 'pandas.core.frame.DataFrame'>\n",
      "RangeIndex: 620367 entries, 0 to 620366\n",
      "Data columns (total 59 columns):\n",
      " #   Column               Non-Null Count   Dtype  \n",
      "---  ------               --------------   -----  \n",
      " 0   지점                   620367 non-null  int64  \n",
      " 1   일시                   620367 non-null  object \n",
      " 2   평균기온(°C)             619544 non-null  float64\n",
      " 3   최저기온(°C)             620138 non-null  float64\n",
      " 4   최저기온 시각(hhmi)        619944 non-null  float64\n",
      " 5   최고기온(°C)             620131 non-null  float64\n",
      " 6   최고기온 시각(hhmi)        619944 non-null  float64\n",
      " 7   강수 계속시간(hr)          87060 non-null   float64\n",
      " 8   10분 최다 강수량(mm)       146679 non-null  float64\n",
      " 9   10분 최다강수량 시각(hhmi)   107002 non-null  float64\n",
      " 10  1시간 최다강수량(mm)        146708 non-null  float64\n",
      " 11  1시간 최다 강수량 시각(hhmi)  110432 non-null  float64\n",
      " 12  일강수량(mm)             227800 non-null  float64\n",
      " 13  최대 순간 풍속(m/s)        619722 non-null  float64\n",
      " 14  최대 순간 풍속 풍향(16방위)    619721 non-null  float64\n",
      " 15  최대 순간풍속 시각(hhmi)     619727 non-null  float64\n",
      " 16  최대 풍속(m/s)           619718 non-null  float64\n",
      " 17  최대 풍속 풍향(16방위)       619722 non-null  float64\n",
      " 18  최대 풍속 시각(hhmi)       619727 non-null  float64\n",
      " 19  평균 풍속(m/s)           619615 non-null  float64\n",
      " 20  풍정합(100m)            619584 non-null  float64\n",
      " 21  평균 이슬점온도(°C)         619286 non-null  float64\n",
      " 22  최소 상대습도(%)           619798 non-null  float64\n",
      " 23  최소 상대습도 시각(hhmi)     619799 non-null  float64\n",
      " 24  평균 상대습도(%)           619258 non-null  float64\n",
      " 25  평균 증기압(hPa)          619254 non-null  float64\n",
      " 26  평균 현지기압(hPa)         619475 non-null  float64\n",
      " 27  최고 해면기압(hPa)         619832 non-null  float64\n",
      " 28  최고 해면기압 시각(hhmi)     619843 non-null  float64\n",
      " 29  최저 해면기압(hPa)         619753 non-null  float64\n",
      " 30  최저 해면기압 시각(hhmi)     619839 non-null  float64\n",
      " 31  평균 해면기압(hPa)         619456 non-null  float64\n",
      " 32  가조시간(hr)             619572 non-null  float64\n",
      " 33  합계 일조 시간(hr)         619173 non-null  float64\n",
      " 34  1시간 최다일사 시각(hhmi)    247401 non-null  float64\n",
      " 35  1시간 최다일사량(MJ/m2)     247316 non-null  float64\n",
      " 36  합계 일사(MJ/m2)         247307 non-null  float64\n",
      " 37  일 최심신적설(cm)          10271 non-null   float64\n",
      " 38  일 최심신적설 시각(hhmi)     10044 non-null   float64\n",
      " 39  일 최심적설(cm)           16874 non-null   float64\n",
      " 40  일 최심적설 시각(hhmi)      16780 non-null   float64\n",
      " 41  합계 3시간 신적설(cm)       10423 non-null   float64\n",
      " 42  평균 전운량(1/10)         366742 non-null  float64\n",
      " 43  평균 중하층운량(1/10)       358824 non-null  float64\n",
      " 44  평균 지면온도(°C)          619512 non-null  float64\n",
      " 45  최저 초상온도(°C)          619611 non-null  float64\n",
      " 46  평균 5cm 지중온도(°C)      185289 non-null  float64\n",
      " 47  평균 10cm 지중온도(°C)     185397 non-null  float64\n",
      " 48  평균 20cm 지중온도(°C)     185480 non-null  float64\n",
      " 49  평균 30cm 지중온도(°C)     185487 non-null  float64\n",
      " 50  0.5m 지중온도(°C)        109557 non-null  float64\n",
      " 51  1.0m 지중온도(°C)        109606 non-null  float64\n",
      " 52  1.5m 지중온도(°C)        84643 non-null   float64\n",
      " 53  3.0m 지중온도(°C)        84630 non-null   float64\n",
      " 54  5.0m 지중온도(°C)        84608 non-null   float64\n",
      " 55  합계 대형증발량(mm)         162867 non-null  float64\n",
      " 56  합계 소형증발량(mm)         196498 non-null  float64\n",
      " 57  9-9강수(mm)            57550 non-null   float64\n",
      " 58  안개 계속시간(hr)          20269 non-null   float64\n",
      "dtypes: float64(57), int64(1), object(1)\n",
      "memory usage: 279.2+ MB\n"
     ]
    }
   ],
   "source": [
    "totalDF.info()"
   ]
  },
  {
   "cell_type": "code",
   "execution_count": 26,
   "metadata": {},
   "outputs": [],
   "source": [
    "# check=totalDF.corr()['일강수량(mm)']"
   ]
  },
  {
   "cell_type": "code",
   "execution_count": 27,
   "metadata": {},
   "outputs": [],
   "source": [
    "# check.sort_values(ascending=False)"
   ]
  },
  {
   "cell_type": "code",
   "execution_count": 28,
   "metadata": {},
   "outputs": [
    {
     "data": {
      "text/plain": [
       "Index(['지점', '일시', '평균기온(°C)', '최저기온(°C)', '최저기온 시각(hhmi)', '최고기온(°C)',\n",
       "       '최고기온 시각(hhmi)', '강수 계속시간(hr)', '10분 최다 강수량(mm)', '10분 최다강수량 시각(hhmi)',\n",
       "       '1시간 최다강수량(mm)', '1시간 최다 강수량 시각(hhmi)', '일강수량(mm)', '최대 순간 풍속(m/s)',\n",
       "       '최대 순간 풍속 풍향(16방위)', '최대 순간풍속 시각(hhmi)', '최대 풍속(m/s)', '최대 풍속 풍향(16방위)',\n",
       "       '최대 풍속 시각(hhmi)', '평균 풍속(m/s)', '풍정합(100m)', '평균 이슬점온도(°C)',\n",
       "       '최소 상대습도(%)', '최소 상대습도 시각(hhmi)', '평균 상대습도(%)', '평균 증기압(hPa)',\n",
       "       '평균 현지기압(hPa)', '최고 해면기압(hPa)', '최고 해면기압 시각(hhmi)', '최저 해면기압(hPa)',\n",
       "       '최저 해면기압 시각(hhmi)', '평균 해면기압(hPa)', '가조시간(hr)', '합계 일조 시간(hr)',\n",
       "       '1시간 최다일사 시각(hhmi)', '1시간 최다일사량(MJ/m2)', '합계 일사(MJ/m2)', '일 최심신적설(cm)',\n",
       "       '일 최심신적설 시각(hhmi)', '일 최심적설(cm)', '일 최심적설 시각(hhmi)', '합계 3시간 신적설(cm)',\n",
       "       '평균 전운량(1/10)', '평균 중하층운량(1/10)', '평균 지면온도(°C)', '최저 초상온도(°C)',\n",
       "       '평균 5cm 지중온도(°C)', '평균 10cm 지중온도(°C)', '평균 20cm 지중온도(°C)',\n",
       "       '평균 30cm 지중온도(°C)', '0.5m 지중온도(°C)', '1.0m 지중온도(°C)', '1.5m 지중온도(°C)',\n",
       "       '3.0m 지중온도(°C)', '5.0m 지중온도(°C)', '합계 대형증발량(mm)', '합계 소형증발량(mm)',\n",
       "       '9-9강수(mm)', '안개 계속시간(hr)'],\n",
       "      dtype='object')"
      ]
     },
     "execution_count": 28,
     "metadata": {},
     "output_type": "execute_result"
    }
   ],
   "source": [
    "totalDF.columns"
   ]
  },
  {
   "cell_type": "code",
   "execution_count": 29,
   "metadata": {},
   "outputs": [],
   "source": [
    "def changed_df(dataDF):\n",
    "    dataDF['일시']=pd.to_datetime(dataDF['일시'])\n",
    "    dataDF=dataDF[(3<=dataDF['일시'].dt.month) & (dataDF['일시'].dt.month<=5)]\n",
    "    dataDF=dataDF[['일시','평균 증기압(hPa)','평균기온(°C)','최고기온(°C)','최저기온(°C)']]\n",
    "    return dataDF"
   ]
  },
  {
   "cell_type": "code",
   "execution_count": 30,
   "metadata": {},
   "outputs": [
    {
     "data": {
      "text/html": [
       "<div>\n",
       "<style scoped>\n",
       "    .dataframe tbody tr th:only-of-type {\n",
       "        vertical-align: middle;\n",
       "    }\n",
       "\n",
       "    .dataframe tbody tr th {\n",
       "        vertical-align: top;\n",
       "    }\n",
       "\n",
       "    .dataframe thead th {\n",
       "        text-align: right;\n",
       "    }\n",
       "</style>\n",
       "<table border=\"1\" class=\"dataframe\">\n",
       "  <thead>\n",
       "    <tr style=\"text-align: right;\">\n",
       "      <th></th>\n",
       "      <th>일시</th>\n",
       "      <th>평균 증기압(hPa)</th>\n",
       "      <th>평균기온(°C)</th>\n",
       "      <th>최고기온(°C)</th>\n",
       "      <th>최저기온(°C)</th>\n",
       "    </tr>\n",
       "  </thead>\n",
       "  <tbody>\n",
       "    <tr>\n",
       "      <th>60</th>\n",
       "      <td>2004-03-01</td>\n",
       "      <td>2.2</td>\n",
       "      <td>-2.8</td>\n",
       "      <td>2.3</td>\n",
       "      <td>-7.6</td>\n",
       "    </tr>\n",
       "    <tr>\n",
       "      <th>61</th>\n",
       "      <td>2004-03-02</td>\n",
       "      <td>1.2</td>\n",
       "      <td>-6.5</td>\n",
       "      <td>-1.8</td>\n",
       "      <td>-10.2</td>\n",
       "    </tr>\n",
       "    <tr>\n",
       "      <th>62</th>\n",
       "      <td>2004-03-03</td>\n",
       "      <td>1.2</td>\n",
       "      <td>-8.5</td>\n",
       "      <td>-3.7</td>\n",
       "      <td>-11.4</td>\n",
       "    </tr>\n",
       "    <tr>\n",
       "      <th>63</th>\n",
       "      <td>2004-03-04</td>\n",
       "      <td>1.8</td>\n",
       "      <td>-6.6</td>\n",
       "      <td>-1.3</td>\n",
       "      <td>-12.4</td>\n",
       "    </tr>\n",
       "    <tr>\n",
       "      <th>64</th>\n",
       "      <td>2004-03-05</td>\n",
       "      <td>3.1</td>\n",
       "      <td>-7.1</td>\n",
       "      <td>-4.3</td>\n",
       "      <td>-11.2</td>\n",
       "    </tr>\n",
       "    <tr>\n",
       "      <th>...</th>\n",
       "      <td>...</td>\n",
       "      <td>...</td>\n",
       "      <td>...</td>\n",
       "      <td>...</td>\n",
       "      <td>...</td>\n",
       "    </tr>\n",
       "    <tr>\n",
       "      <th>620148</th>\n",
       "      <td>2023-05-27</td>\n",
       "      <td>18.8</td>\n",
       "      <td>17.0</td>\n",
       "      <td>18.5</td>\n",
       "      <td>14.0</td>\n",
       "    </tr>\n",
       "    <tr>\n",
       "      <th>620149</th>\n",
       "      <td>2023-05-28</td>\n",
       "      <td>21.2</td>\n",
       "      <td>18.6</td>\n",
       "      <td>19.7</td>\n",
       "      <td>17.7</td>\n",
       "    </tr>\n",
       "    <tr>\n",
       "      <th>620150</th>\n",
       "      <td>2023-05-29</td>\n",
       "      <td>22.9</td>\n",
       "      <td>22.9</td>\n",
       "      <td>29.6</td>\n",
       "      <td>18.1</td>\n",
       "    </tr>\n",
       "    <tr>\n",
       "      <th>620151</th>\n",
       "      <td>2023-05-30</td>\n",
       "      <td>19.1</td>\n",
       "      <td>21.4</td>\n",
       "      <td>27.6</td>\n",
       "      <td>16.7</td>\n",
       "    </tr>\n",
       "    <tr>\n",
       "      <th>620152</th>\n",
       "      <td>2023-05-31</td>\n",
       "      <td>18.1</td>\n",
       "      <td>20.8</td>\n",
       "      <td>27.2</td>\n",
       "      <td>15.1</td>\n",
       "    </tr>\n",
       "  </tbody>\n",
       "</table>\n",
       "<p>155946 rows × 5 columns</p>\n",
       "</div>"
      ],
      "text/plain": [
       "               일시  평균 증기압(hPa)  평균기온(°C)  최고기온(°C)  최저기온(°C)\n",
       "60     2004-03-01          2.2      -2.8       2.3      -7.6\n",
       "61     2004-03-02          1.2      -6.5      -1.8     -10.2\n",
       "62     2004-03-03          1.2      -8.5      -3.7     -11.4\n",
       "63     2004-03-04          1.8      -6.6      -1.3     -12.4\n",
       "64     2004-03-05          3.1      -7.1      -4.3     -11.2\n",
       "...           ...          ...       ...       ...       ...\n",
       "620148 2023-05-27         18.8      17.0      18.5      14.0\n",
       "620149 2023-05-28         21.2      18.6      19.7      17.7\n",
       "620150 2023-05-29         22.9      22.9      29.6      18.1\n",
       "620151 2023-05-30         19.1      21.4      27.6      16.7\n",
       "620152 2023-05-31         18.1      20.8      27.2      15.1\n",
       "\n",
       "[155946 rows x 5 columns]"
      ]
     },
     "execution_count": 30,
     "metadata": {},
     "output_type": "execute_result"
    }
   ],
   "source": [
    "newDF = changed_df(totalDF)\n",
    "newDF"
   ]
  },
  {
   "cell_type": "code",
   "execution_count": 31,
   "metadata": {},
   "outputs": [
    {
     "name": "stdout",
     "output_type": "stream",
     "text": [
      "<class 'pandas.core.frame.DataFrame'>\n",
      "Index: 155946 entries, 60 to 620152\n",
      "Data columns (total 5 columns):\n",
      " #   Column       Non-Null Count   Dtype         \n",
      "---  ------       --------------   -----         \n",
      " 0   일시           155946 non-null  datetime64[ns]\n",
      " 1   평균 증기압(hPa)  155720 non-null  float64       \n",
      " 2   평균기온(°C)     155836 non-null  float64       \n",
      " 3   최고기온(°C)     155908 non-null  float64       \n",
      " 4   최저기온(°C)     155906 non-null  float64       \n",
      "dtypes: datetime64[ns](1), float64(4)\n",
      "memory usage: 7.1 MB\n"
     ]
    }
   ],
   "source": [
    "newDF.info()"
   ]
  },
  {
   "cell_type": "code",
   "execution_count": 32,
   "metadata": {},
   "outputs": [
    {
     "data": {
      "text/plain": [
       "일시               0\n",
       "평균 증기압(hPa)    226\n",
       "평균기온(°C)       110\n",
       "최고기온(°C)        38\n",
       "최저기온(°C)        40\n",
       "dtype: int64"
      ]
     },
     "execution_count": 32,
     "metadata": {},
     "output_type": "execute_result"
    }
   ],
   "source": [
    "newDF.isnull().sum()"
   ]
  },
  {
   "cell_type": "code",
   "execution_count": 33,
   "metadata": {},
   "outputs": [
    {
     "data": {
      "text/plain": [
       "(155946, 5)"
      ]
     },
     "execution_count": 33,
     "metadata": {},
     "output_type": "execute_result"
    }
   ],
   "source": [
    "newDF.shape"
   ]
  },
  {
   "cell_type": "code",
   "execution_count": 34,
   "metadata": {},
   "outputs": [],
   "source": [
    "def fill_nan(dataDF, column):\n",
    "    mean_value=dataDF[column].mean()\n",
    "    dataDF[column]=dataDF[column].fillna(mean_value)"
   ]
  },
  {
   "cell_type": "code",
   "execution_count": 35,
   "metadata": {},
   "outputs": [],
   "source": [
    "# fill_nan(newDF, '일강수량(mm)')\n",
    "# fill_nan(newDF, '최소 상대습도(%)')\n",
    "# fill_nan(newDF, '평균 상대습도(%)')\n",
    "# fill_nan(newDF, '평균 전운량(1/10)')\n",
    "fill_nan(newDF, '평균 증기압(hPa)')\n",
    "fill_nan(newDF, '평균기온(°C)')\n",
    "fill_nan(newDF, '최고기온(°C)')\n",
    "fill_nan(newDF, '최저기온(°C)')"
   ]
  },
  {
   "cell_type": "code",
   "execution_count": 16,
   "metadata": {},
   "outputs": [
    {
     "data": {
      "text/plain": [
       "일시             0\n",
       "평균 증기압(hPa)    0\n",
       "평균기온(°C)       0\n",
       "최고기온(°C)       0\n",
       "최저기온(°C)       0\n",
       "dtype: int64"
      ]
     },
     "execution_count": 16,
     "metadata": {},
     "output_type": "execute_result"
    }
   ],
   "source": [
    "newDF.isnull().sum()"
   ]
  },
  {
   "cell_type": "code",
   "execution_count": 36,
   "metadata": {},
   "outputs": [
    {
     "data": {
      "text/html": [
       "<div>\n",
       "<style scoped>\n",
       "    .dataframe tbody tr th:only-of-type {\n",
       "        vertical-align: middle;\n",
       "    }\n",
       "\n",
       "    .dataframe tbody tr th {\n",
       "        vertical-align: top;\n",
       "    }\n",
       "\n",
       "    .dataframe thead th {\n",
       "        text-align: right;\n",
       "    }\n",
       "</style>\n",
       "<table border=\"1\" class=\"dataframe\">\n",
       "  <thead>\n",
       "    <tr style=\"text-align: right;\">\n",
       "      <th></th>\n",
       "      <th>일시</th>\n",
       "      <th>평균 증기압(hPa)</th>\n",
       "      <th>평균기온(°C)</th>\n",
       "      <th>최고기온(°C)</th>\n",
       "      <th>최저기온(°C)</th>\n",
       "    </tr>\n",
       "  </thead>\n",
       "  <tbody>\n",
       "    <tr>\n",
       "      <th>일시</th>\n",
       "      <td>1.000000</td>\n",
       "      <td>0.090608</td>\n",
       "      <td>0.107335</td>\n",
       "      <td>0.107570</td>\n",
       "      <td>0.081919</td>\n",
       "    </tr>\n",
       "    <tr>\n",
       "      <th>평균 증기압(hPa)</th>\n",
       "      <td>0.090608</td>\n",
       "      <td>1.000000</td>\n",
       "      <td>0.754264</td>\n",
       "      <td>0.581060</td>\n",
       "      <td>0.838754</td>\n",
       "    </tr>\n",
       "    <tr>\n",
       "      <th>평균기온(°C)</th>\n",
       "      <td>0.107335</td>\n",
       "      <td>0.754264</td>\n",
       "      <td>1.000000</td>\n",
       "      <td>0.931718</td>\n",
       "      <td>0.898993</td>\n",
       "    </tr>\n",
       "    <tr>\n",
       "      <th>최고기온(°C)</th>\n",
       "      <td>0.107570</td>\n",
       "      <td>0.581060</td>\n",
       "      <td>0.931718</td>\n",
       "      <td>1.000000</td>\n",
       "      <td>0.706632</td>\n",
       "    </tr>\n",
       "    <tr>\n",
       "      <th>최저기온(°C)</th>\n",
       "      <td>0.081919</td>\n",
       "      <td>0.838754</td>\n",
       "      <td>0.898993</td>\n",
       "      <td>0.706632</td>\n",
       "      <td>1.000000</td>\n",
       "    </tr>\n",
       "  </tbody>\n",
       "</table>\n",
       "</div>"
      ],
      "text/plain": [
       "                   일시  평균 증기압(hPa)  평균기온(°C)  최고기온(°C)  최저기온(°C)\n",
       "일시           1.000000     0.090608  0.107335  0.107570  0.081919\n",
       "평균 증기압(hPa)  0.090608     1.000000  0.754264  0.581060  0.838754\n",
       "평균기온(°C)     0.107335     0.754264  1.000000  0.931718  0.898993\n",
       "최고기온(°C)     0.107570     0.581060  0.931718  1.000000  0.706632\n",
       "최저기온(°C)     0.081919     0.838754  0.898993  0.706632  1.000000"
      ]
     },
     "execution_count": 36,
     "metadata": {},
     "output_type": "execute_result"
    }
   ],
   "source": [
    "newDF.corr()"
   ]
  },
  {
   "cell_type": "code",
   "execution_count": 37,
   "metadata": {},
   "outputs": [
    {
     "data": {
      "image/png": "[encoded data removed]",
      "text/plain": [
       "<Figure size 1000x700 with 2 Axes>"
      ]
     },
     "metadata": {},
     "output_type": "display_data"
    }
   ],
   "source": [
    "makeaplot.make_heatmap(newDF)"
   ]
  },
  {
   "cell_type": "code",
   "execution_count": 19,
   "metadata": {},
   "outputs": [],
   "source": [
    "featureDF = newDF.drop(columns=['평균기온(°C)'])\n",
    "targetDF = newDF[['일시','평균기온(°C)']]"
   ]
  },
  {
   "cell_type": "code",
   "execution_count": 20,
   "metadata": {},
   "outputs": [
    {
     "name": "stdout",
     "output_type": "stream",
     "text": [
      "           일시  평균 증기압(hPa)  최고기온(°C)  최저기온(°C)\n",
      "60 2004-03-01          2.2       2.3      -7.6\n",
      "61 2004-03-02          1.2      -1.8     -10.2\n",
      "           일시  평균기온(°C)\n",
      "60 2004-03-01      -2.8\n",
      "61 2004-03-02      -6.5\n"
     ]
    }
   ],
   "source": [
    "idx=~(targetDF['일시'].dt.dayofyear-featureDF['일시'].dt.dayofyear==1)\n",
    "print(featureDF[idx].head(2))\n",
    "print(targetDF[idx].head(2))"
   ]
  },
  {
   "cell_type": "code",
   "execution_count": 21,
   "metadata": {},
   "outputs": [],
   "source": [
    "targetDF=targetDF.drop(index=60)\n",
    "targetDF.reset_index(inplace=True, drop=True)\n",
    "featureDF.reset_index(inplace=True, drop=True)"
   ]
  },
  {
   "cell_type": "code",
   "execution_count": 22,
   "metadata": {},
   "outputs": [
    {
     "data": {
      "text/html": [
       "<div>\n",
       "<style scoped>\n",
       "    .dataframe tbody tr th:only-of-type {\n",
       "        vertical-align: middle;\n",
       "    }\n",
       "\n",
       "    .dataframe tbody tr th {\n",
       "        vertical-align: top;\n",
       "    }\n",
       "\n",
       "    .dataframe thead th {\n",
       "        text-align: right;\n",
       "    }\n",
       "</style>\n",
       "<table border=\"1\" class=\"dataframe\">\n",
       "  <thead>\n",
       "    <tr style=\"text-align: right;\">\n",
       "      <th></th>\n",
       "      <th>일시</th>\n",
       "      <th>평균 증기압(hPa)</th>\n",
       "      <th>최고기온(°C)</th>\n",
       "      <th>최저기온(°C)</th>\n",
       "    </tr>\n",
       "  </thead>\n",
       "  <tbody>\n",
       "    <tr>\n",
       "      <th>0</th>\n",
       "      <td>2004-03-01</td>\n",
       "      <td>2.2</td>\n",
       "      <td>2.3</td>\n",
       "      <td>-7.6</td>\n",
       "    </tr>\n",
       "    <tr>\n",
       "      <th>1</th>\n",
       "      <td>2004-03-02</td>\n",
       "      <td>1.2</td>\n",
       "      <td>-1.8</td>\n",
       "      <td>-10.2</td>\n",
       "    </tr>\n",
       "  </tbody>\n",
       "</table>\n",
       "</div>"
      ],
      "text/plain": [
       "          일시  평균 증기압(hPa)  최고기온(°C)  최저기온(°C)\n",
       "0 2004-03-01          2.2       2.3      -7.6\n",
       "1 2004-03-02          1.2      -1.8     -10.2"
      ]
     },
     "execution_count": 22,
     "metadata": {},
     "output_type": "execute_result"
    }
   ],
   "source": [
    "featureDF.head(2)"
   ]
  },
  {
   "cell_type": "code",
   "execution_count": 23,
   "metadata": {},
   "outputs": [
    {
     "data": {
      "text/html": [
       "<div>\n",
       "<style scoped>\n",
       "    .dataframe tbody tr th:only-of-type {\n",
       "        vertical-align: middle;\n",
       "    }\n",
       "\n",
       "    .dataframe tbody tr th {\n",
       "        vertical-align: top;\n",
       "    }\n",
       "\n",
       "    .dataframe thead th {\n",
       "        text-align: right;\n",
       "    }\n",
       "</style>\n",
       "<table border=\"1\" class=\"dataframe\">\n",
       "  <thead>\n",
       "    <tr style=\"text-align: right;\">\n",
       "      <th></th>\n",
       "      <th>일시</th>\n",
       "      <th>평균 증기압(hPa)</th>\n",
       "      <th>최고기온(°C)</th>\n",
       "      <th>최저기온(°C)</th>\n",
       "    </tr>\n",
       "  </thead>\n",
       "  <tbody>\n",
       "    <tr>\n",
       "      <th>155944</th>\n",
       "      <td>2023-05-30</td>\n",
       "      <td>19.1</td>\n",
       "      <td>27.6</td>\n",
       "      <td>16.7</td>\n",
       "    </tr>\n",
       "    <tr>\n",
       "      <th>155945</th>\n",
       "      <td>2023-05-31</td>\n",
       "      <td>18.1</td>\n",
       "      <td>27.2</td>\n",
       "      <td>15.1</td>\n",
       "    </tr>\n",
       "  </tbody>\n",
       "</table>\n",
       "</div>"
      ],
      "text/plain": [
       "               일시  평균 증기압(hPa)  최고기온(°C)  최저기온(°C)\n",
       "155944 2023-05-30         19.1      27.6      16.7\n",
       "155945 2023-05-31         18.1      27.2      15.1"
      ]
     },
     "execution_count": 23,
     "metadata": {},
     "output_type": "execute_result"
    }
   ],
   "source": [
    "featureDF.tail(2)"
   ]
  },
  {
   "cell_type": "code",
   "execution_count": 24,
   "metadata": {},
   "outputs": [
    {
     "data": {
      "text/html": [
       "<div>\n",
       "<style scoped>\n",
       "    .dataframe tbody tr th:only-of-type {\n",
       "        vertical-align: middle;\n",
       "    }\n",
       "\n",
       "    .dataframe tbody tr th {\n",
       "        vertical-align: top;\n",
       "    }\n",
       "\n",
       "    .dataframe thead th {\n",
       "        text-align: right;\n",
       "    }\n",
       "</style>\n",
       "<table border=\"1\" class=\"dataframe\">\n",
       "  <thead>\n",
       "    <tr style=\"text-align: right;\">\n",
       "      <th></th>\n",
       "      <th>일시</th>\n",
       "      <th>평균기온(°C)</th>\n",
       "    </tr>\n",
       "  </thead>\n",
       "  <tbody>\n",
       "    <tr>\n",
       "      <th>0</th>\n",
       "      <td>2004-03-02</td>\n",
       "      <td>-6.5</td>\n",
       "    </tr>\n",
       "    <tr>\n",
       "      <th>1</th>\n",
       "      <td>2004-03-03</td>\n",
       "      <td>-8.5</td>\n",
       "    </tr>\n",
       "  </tbody>\n",
       "</table>\n",
       "</div>"
      ],
      "text/plain": [
       "          일시  평균기온(°C)\n",
       "0 2004-03-02      -6.5\n",
       "1 2004-03-03      -8.5"
      ]
     },
     "execution_count": 24,
     "metadata": {},
     "output_type": "execute_result"
    }
   ],
   "source": [
    "targetDF.head(2)"
   ]
  },
  {
   "cell_type": "code",
   "execution_count": 25,
   "metadata": {},
   "outputs": [
    {
     "data": {
      "text/plain": [
       "(155945, 4)"
      ]
     },
     "execution_count": 25,
     "metadata": {},
     "output_type": "execute_result"
    }
   ],
   "source": [
    "featureDF=featureDF.drop(index=155718)\n",
    "featureDF.shape"
   ]
  },
  {
   "cell_type": "code",
   "execution_count": 26,
   "metadata": {},
   "outputs": [
    {
     "data": {
      "text/plain": [
       "((155945, 2), (155945, 4))"
      ]
     },
     "execution_count": 26,
     "metadata": {},
     "output_type": "execute_result"
    }
   ],
   "source": [
    "targetDF.shape, featureDF.shape"
   ]
  },
  {
   "cell_type": "code",
   "execution_count": 27,
   "metadata": {},
   "outputs": [
    {
     "data": {
      "text/html": [
       "<div>\n",
       "<style scoped>\n",
       "    .dataframe tbody tr th:only-of-type {\n",
       "        vertical-align: middle;\n",
       "    }\n",
       "\n",
       "    .dataframe tbody tr th {\n",
       "        vertical-align: top;\n",
       "    }\n",
       "\n",
       "    .dataframe thead th {\n",
       "        text-align: right;\n",
       "    }\n",
       "</style>\n",
       "<table border=\"1\" class=\"dataframe\">\n",
       "  <thead>\n",
       "    <tr style=\"text-align: right;\">\n",
       "      <th></th>\n",
       "      <th>평균 증기압(hPa)</th>\n",
       "      <th>최고기온(°C)</th>\n",
       "      <th>최저기온(°C)</th>\n",
       "    </tr>\n",
       "  </thead>\n",
       "  <tbody>\n",
       "    <tr>\n",
       "      <th>0</th>\n",
       "      <td>2.2</td>\n",
       "      <td>2.3</td>\n",
       "      <td>-7.6</td>\n",
       "    </tr>\n",
       "    <tr>\n",
       "      <th>1</th>\n",
       "      <td>1.2</td>\n",
       "      <td>-1.8</td>\n",
       "      <td>-10.2</td>\n",
       "    </tr>\n",
       "    <tr>\n",
       "      <th>2</th>\n",
       "      <td>1.2</td>\n",
       "      <td>-3.7</td>\n",
       "      <td>-11.4</td>\n",
       "    </tr>\n",
       "    <tr>\n",
       "      <th>3</th>\n",
       "      <td>1.8</td>\n",
       "      <td>-1.3</td>\n",
       "      <td>-12.4</td>\n",
       "    </tr>\n",
       "    <tr>\n",
       "      <th>4</th>\n",
       "      <td>3.1</td>\n",
       "      <td>-4.3</td>\n",
       "      <td>-11.2</td>\n",
       "    </tr>\n",
       "  </tbody>\n",
       "</table>\n",
       "</div>"
      ],
      "text/plain": [
       "   평균 증기압(hPa)  최고기온(°C)  최저기온(°C)\n",
       "0          2.2       2.3      -7.6\n",
       "1          1.2      -1.8     -10.2\n",
       "2          1.2      -3.7     -11.4\n",
       "3          1.8      -1.3     -12.4\n",
       "4          3.1      -4.3     -11.2"
      ]
     },
     "execution_count": 27,
     "metadata": {},
     "output_type": "execute_result"
    }
   ],
   "source": [
    "featureDF=featureDF.drop(columns=['일시'])\n",
    "featureDF.head()"
   ]
  },
  {
   "cell_type": "code",
   "execution_count": 28,
   "metadata": {},
   "outputs": [
    {
     "data": {
      "text/plain": [
       "(155945, 3)"
      ]
     },
     "execution_count": 28,
     "metadata": {},
     "output_type": "execute_result"
    }
   ],
   "source": [
    "featureDF.shape"
   ]
  },
  {
   "cell_type": "code",
   "execution_count": 29,
   "metadata": {},
   "outputs": [
    {
     "data": {
      "text/html": [
       "<div>\n",
       "<style scoped>\n",
       "    .dataframe tbody tr th:only-of-type {\n",
       "        vertical-align: middle;\n",
       "    }\n",
       "\n",
       "    .dataframe tbody tr th {\n",
       "        vertical-align: top;\n",
       "    }\n",
       "\n",
       "    .dataframe thead th {\n",
       "        text-align: right;\n",
       "    }\n",
       "</style>\n",
       "<table border=\"1\" class=\"dataframe\">\n",
       "  <thead>\n",
       "    <tr style=\"text-align: right;\">\n",
       "      <th></th>\n",
       "      <th>평균기온(°C)</th>\n",
       "    </tr>\n",
       "  </thead>\n",
       "  <tbody>\n",
       "    <tr>\n",
       "      <th>0</th>\n",
       "      <td>-6.5</td>\n",
       "    </tr>\n",
       "    <tr>\n",
       "      <th>1</th>\n",
       "      <td>-8.5</td>\n",
       "    </tr>\n",
       "    <tr>\n",
       "      <th>2</th>\n",
       "      <td>-6.6</td>\n",
       "    </tr>\n",
       "    <tr>\n",
       "      <th>3</th>\n",
       "      <td>-7.1</td>\n",
       "    </tr>\n",
       "    <tr>\n",
       "      <th>4</th>\n",
       "      <td>-9.2</td>\n",
       "    </tr>\n",
       "  </tbody>\n",
       "</table>\n",
       "</div>"
      ],
      "text/plain": [
       "   평균기온(°C)\n",
       "0      -6.5\n",
       "1      -8.5\n",
       "2      -6.6\n",
       "3      -7.1\n",
       "4      -9.2"
      ]
     },
     "execution_count": 29,
     "metadata": {},
     "output_type": "execute_result"
    }
   ],
   "source": [
    "targetDF=targetDF.drop(columns=['일시'])\n",
    "targetDF.head()"
   ]
  },
  {
   "cell_type": "code",
   "execution_count": 30,
   "metadata": {},
   "outputs": [
    {
     "data": {
      "text/plain": [
       "(155945, 1)"
      ]
     },
     "execution_count": 30,
     "metadata": {},
     "output_type": "execute_result"
    }
   ],
   "source": [
    "targetDF.shape"
   ]
  },
  {
   "cell_type": "code",
   "execution_count": 31,
   "metadata": {},
   "outputs": [
    {
     "data": {
      "text/plain": [
       "array([[-1.64901726, -2.51190234, -2.3559341 ],\n",
       "       [-1.89199577, -3.15240461, -2.79271248],\n",
       "       [-1.89199577, -3.44922273, -2.9943025 ],\n",
       "       ...,\n",
       "       [ 3.38063807,  1.75290542,  1.96145217],\n",
       "       [ 2.4573197 ,  1.44046529,  1.72626382],\n",
       "       [ 2.21434119,  1.37797726,  1.45747712]])"
      ]
     },
     "execution_count": 31,
     "metadata": {},
     "output_type": "execute_result"
    }
   ],
   "source": [
    "ML_preprocessing.sScale(featureDF)"
   ]
  },
  {
   "cell_type": "code",
   "execution_count": 32,
   "metadata": {},
   "outputs": [],
   "source": [
    "# - 커스텀데이터셋 인스턴스 생성\n",
    "dataDS=MyDataset(featureDF, targetDF)"
   ]
  },
  {
   "cell_type": "code",
   "execution_count": 33,
   "metadata": {},
   "outputs": [
    {
     "name": "stdout",
     "output_type": "stream",
     "text": [
      "BATCH_CNT: 1218\n"
     ]
    }
   ],
   "source": [
    "# 학습 준비\n",
    "# 하이퍼 파라미터 설정\n",
    "\n",
    "EPOCHS = 100\n",
    "BATCH_SIZE = 128\n",
    "LR = 0.01\n",
    "\n",
    "BATCH_CNT = newDF.shape[0]//BATCH_SIZE\n",
    "DEVICE = 'cuda' if torch.cuda.is_available() else 'cpu'\n",
    "\n",
    "print(f'BATCH_CNT: {BATCH_CNT}')"
   ]
  },
  {
   "cell_type": "code",
   "execution_count": 34,
   "metadata": {},
   "outputs": [],
   "source": [
    "# model=MyRegModel(4)\n",
    "model=KeyDynamicModel(3,1000,1,1000,2000,3000)"
   ]
  },
  {
   "cell_type": "code",
   "execution_count": 35,
   "metadata": {},
   "outputs": [
    {
     "name": "stdout",
     "output_type": "stream",
     "text": [
      "KeyDynamicModel(\n",
      "  (in_layer): Linear(in_features=3, out_features=1000, bias=True)\n",
      "  (h_layers): ModuleList(\n",
      "    (0): Linear(in_features=1000, out_features=2000, bias=True)\n",
      "    (1): Linear(in_features=2000, out_features=3000, bias=True)\n",
      "  )\n",
      "  (out_layer): Linear(in_features=3000, out_features=1, bias=True)\n",
      ")\n"
     ]
    }
   ],
   "source": [
    "print(model)"
   ]
  },
  {
   "cell_type": "code",
   "execution_count": 36,
   "metadata": {},
   "outputs": [
    {
     "name": "stdout",
     "output_type": "stream",
     "text": [
      "[X_train(shape): (87718, 3) (type): <class 'pandas.core.frame.DataFrame'>], X_test: (38987, 3), X_val: (29240, 3)\n",
      "[y_train(shape): (87718, 1) (type): <class 'pandas.core.frame.DataFrame'>], y_test: (38987, 1), y_val: (29240, 1)\n",
      "[y_train(value_counts()): 평균기온(°C)\n",
      " 14.7       0.006623\n",
      " 13.6       0.006612\n",
      " 16.2       0.006509\n",
      " 15.3       0.006361\n",
      " 16.7       0.006350\n",
      "              ...   \n",
      "-7.1        0.000011\n",
      "-7.3        0.000011\n",
      "-7.4        0.000011\n",
      "-7.6        0.000011\n",
      " 30.1       0.000011\n",
      "Name: count, Length: 359, dtype: float64, y_test(value_counts()): 평균기온(°C)\n",
      " 15.3       0.007002\n",
      " 17.1       0.006797\n",
      " 12.5       0.006771\n",
      " 14.9       0.006566\n",
      " 13.4       0.006515\n",
      "              ...   \n",
      "-5.6        0.000026\n",
      "-5.3        0.000026\n",
      "-4.8        0.000026\n",
      "-3.4        0.000026\n",
      " 29.5       0.000026\n",
      "Name: count, Length: 349, dtype: float64, y_val(value_counts()): 평균기온(°C)\n",
      " 13.5       0.007182\n",
      " 14.7       0.006977\n",
      " 13.3       0.006874\n",
      " 15.2       0.006772\n",
      " 14.1       0.006703\n",
      "              ...   \n",
      "-7.0        0.000034\n",
      "-7.1        0.000034\n",
      "-7.2        0.000034\n",
      "-7.8        0.000034\n",
      " 28.7       0.000034\n",
      "Name: count, Length: 329, dtype: float64\n"
     ]
    }
   ],
   "source": [
    "# 데이터셋 인스턴스 생성\n",
    "X_train, X_test, y_train, y_test = train_test_split(featureDF, targetDF, random_state=10)\n",
    "X_train, X_val, y_train, y_val = train_test_split(X_train, y_train, random_state=10)\n",
    "\n",
    "print(f'[X_train(shape): {X_train.shape} (type): {type(X_train)}], X_test: {X_test.shape}, X_val: {X_val.shape}')\n",
    "print(f'[y_train(shape): {y_train.shape} (type): {type(y_train)}], y_test: {y_test.shape}, y_val: {y_val.shape}')\n",
    "print(f'[y_train(value_counts()): {y_train.value_counts()/y_train.shape[0]}, y_test(value_counts()): {y_test.value_counts()/y_test.shape[0]}, y_val(value_counts()): {y_val.value_counts()/y_val.shape[0]}')"
   ]
  },
  {
   "cell_type": "code",
   "execution_count": 37,
   "metadata": {},
   "outputs": [],
   "source": [
    "trainDS=MyDataset(X_train, y_train)\n",
    "valDS=MyDataset(X_val, y_val)\n",
    "testDS=MyDataset(X_test, y_test)"
   ]
  },
  {
   "cell_type": "code",
   "execution_count": 38,
   "metadata": {},
   "outputs": [],
   "source": [
    "# 데이터로더 인스턴스 생성\n",
    "trainDL=DataLoader(trainDS, batch_size=BATCH_SIZE)\n",
    "\n",
    "# 최적화 인스턴스 생성\n",
    "optimizer = optim.Adam(model.parameters(), lr=LR)\n",
    "\n",
    "# 손실함수 인스턴스 생성\n",
    "loss_func = nn.L1Loss()\n",
    "\n",
    "# 성능평가 함수\n",
    "score_func = R2Score()"
   ]
  },
  {
   "cell_type": "code",
   "execution_count": 39,
   "metadata": {},
   "outputs": [],
   "source": [
    "# ---------------------------------------------------------------------\n",
    "# 함수 이름 : training\n",
    "# 함수 역할 : 배치 크기 만큼 데이터 로딩해서 학습 진행\n",
    "# 매개 변수 : score_func\n",
    "# ---------------------------------------------------------------------\n",
    "\n",
    "def training():\n",
    "    # 학습 모드로 모델 설정\n",
    "    model.train()\n",
    "    # 배치 크기 만큼 데이터 로딩해서 학습 진행\n",
    "    loss_total, score_total=0,0\n",
    "    for featureTS, targetTS in trainDL:\n",
    "\n",
    "        # 학습 진행\n",
    "        pre_y=model(featureTS)\n",
    "\n",
    "        # 손실 계산\n",
    "        loss=loss_func(pre_y, targetTS)\n",
    "        loss_total+=loss.item()\n",
    "        \n",
    "        # 성능평가 계산\n",
    "        score=score_func(pre_y, targetTS)\n",
    "        score_total+=score.item()\n",
    "\n",
    "        # 최적화 진행\n",
    "        optimizer.zero_grad()\n",
    "        loss.backward()\n",
    "        optimizer.step()\n",
    "    return loss_total, score_total\n",
    "\n",
    "# ---------------------------------------------------------------------\n",
    "# 함수 이름 : validate\n",
    "# 함수 역할 : 배치 크기 만큼 데이터 로딩해서 검증 진행\n",
    "# 매개 변수 : loss_func, score_func\n",
    "# ---------------------------------------------------------------------\n",
    "\n",
    "def validate():\n",
    "    # 검증 모드로 모델 설정\n",
    "    model.eval()\n",
    "    with torch.no_grad():\n",
    "        # 검증 데이터셋\n",
    "        val_featureTS=torch.FloatTensor(valDS.featureDF.values)\n",
    "        val_targetTS=torch.FloatTensor(valDS.targetDF.values)\n",
    "        \n",
    "        # 평가\n",
    "        pre_val=model(val_featureTS)\n",
    "\n",
    "        # 손실\n",
    "        loss_val=loss_func(pre_val, val_targetTS)\n",
    "\n",
    "        # 성능평가\n",
    "        score_val=score_func(pre_val, val_targetTS)\n",
    "    return loss_val, score_val"
   ]
  },
  {
   "cell_type": "code",
   "execution_count": 40,
   "metadata": {},
   "outputs": [],
   "source": [
    "# 저장 경로\n",
    "SAVE_PATH='../Project/MyModels/'"
   ]
  },
  {
   "cell_type": "code",
   "execution_count": 41,
   "metadata": {},
   "outputs": [
    {
     "name": "stdout",
     "output_type": "stream",
     "text": [
      "TRAIN, VAL 진행\n",
      "1/100 => [TRAIN] LOSS: 20.779536093289234 SCORE: -1615.1951842554804\n",
      "\t=> [VAL] LOSS: 2.0563244819641113 SCORE: 0.7438931465148926\n",
      "2/100 => [TRAIN] LOSS: 2.0340747152056013 SCORE: 0.7315637166924102\n",
      "\t=> [VAL] LOSS: 1.9931883811950684 SCORE: 0.7482341527938843\n",
      "3/100 => [TRAIN] LOSS: 2.0207381747206865 SCORE: 0.7344415417218\n",
      "\t=> [VAL] LOSS: 2.000946521759033 SCORE: 0.7496441602706909\n",
      "4/100 => [TRAIN] LOSS: 2.0460154375946558 SCORE: 0.729834146906266\n",
      "\t=> [VAL] LOSS: 2.025822162628174 SCORE: 0.7493447065353394\n",
      "5/100 => [TRAIN] LOSS: 2.0263620451657487 SCORE: 0.7333859809112271\n",
      "\t=> [VAL] LOSS: 2.007983446121216 SCORE: 0.7508130669593811\n",
      "6/100 => [TRAIN] LOSS: 2.0372079739417694 SCORE: 0.7315902322443859\n",
      "\t=> [VAL] LOSS: 3.420259952545166 SCORE: 0.479445219039917\n",
      "7/100 => [TRAIN] LOSS: 2.1986708625412543 SCORE: 0.6630318998942918\n",
      "\t=> [VAL] LOSS: 2.1208415031433105 SCORE: 0.6180044412612915\n",
      "8/100 => [TRAIN] LOSS: 2.0666755774973433 SCORE: 0.7254168807417589\n",
      "\t=> [VAL] LOSS: 2.0275685787200928 SCORE: 0.748876690864563\n",
      "9/100 => [TRAIN] LOSS: 2.0536313265475172 SCORE: 0.728338945189996\n",
      "\t=> [VAL] LOSS: 2.085188865661621 SCORE: 0.7446086406707764\n",
      "10/100 => [TRAIN] LOSS: 2.0606876542199806 SCORE: 0.7273622100450554\n",
      "\t=> [VAL] LOSS: 2.174333095550537 SCORE: 0.7332992553710938\n",
      "11/100 => [TRAIN] LOSS: 2.037478099063951 SCORE: 0.7310913714306\n",
      "\t=> [VAL] LOSS: 1.9974405765533447 SCORE: 0.7509355545043945\n",
      "12/100 => [TRAIN] LOSS: 2.0296991940142464 SCORE: 0.7326866323155495\n",
      "\t=> [VAL] LOSS: 2.048245429992676 SCORE: 0.748037576675415\n",
      "13/100 => [TRAIN] LOSS: 2.0660689961458436 SCORE: 0.7049772506552604\n",
      "\t=> [VAL] LOSS: 2.0709238052368164 SCORE: 0.7463119626045227\n",
      "14/100 => [TRAIN] LOSS: 2.0333615543195873 SCORE: 0.7322764528736081\n",
      "\t=> [VAL] LOSS: 2.094937324523926 SCORE: 0.7440076470375061\n",
      "15/100 => [TRAIN] LOSS: 2.0403657493021328 SCORE: 0.7308620315251475\n",
      "\t=> [VAL] LOSS: 2.085219144821167 SCORE: 0.7447686195373535\n",
      "16/100 => [TRAIN] LOSS: 2.030760551159305 SCORE: 0.7327795669914334\n",
      "\t=> [VAL] LOSS: 1.9944885969161987 SCORE: 0.7509797811508179\n",
      "17/100 => [TRAIN] LOSS: 2.042549750200166 SCORE: 0.7269828922546987\n",
      "\t=> [VAL] LOSS: 2.1624255180358887 SCORE: 0.7371228933334351\n",
      "18/100 => [TRAIN] LOSS: 2.0446537934656392 SCORE: 0.7301009815218845\n",
      "\t=> [VAL] LOSS: 2.0357656478881836 SCORE: 0.7486910820007324\n",
      "19/100 => [TRAIN] LOSS: 2.022450798802056 SCORE: 0.7337812731808198\n",
      "\t=> [VAL] LOSS: 2.07242488861084 SCORE: 0.7462475895881653\n",
      "20/100 => [TRAIN] LOSS: 2.0244961625980564 SCORE: 0.7337163174117619\n",
      "\t=> [VAL] LOSS: 2.1962273120880127 SCORE: 0.7324766516685486\n",
      "21/100 => [TRAIN] LOSS: 2.0473470812983834 SCORE: 0.7275804584471199\n",
      "\t=> [VAL] LOSS: 2.0230700969696045 SCORE: 0.7510101199150085\n",
      "22/100 => [TRAIN] LOSS: 2.016160449898278 SCORE: 0.735452680910989\n",
      "\t=> [VAL] LOSS: 2.0870585441589355 SCORE: 0.7460853457450867\n",
      "23/100 => [TRAIN] LOSS: 2.0159845063707222 SCORE: 0.7359326060416052\n",
      "\t=> [VAL] LOSS: 2.0806281566619873 SCORE: 0.745643138885498\n",
      "24/100 => [TRAIN] LOSS: 2.0157484372225167 SCORE: 0.7360801650727108\n",
      "\t=> [VAL] LOSS: 2.00036358833313 SCORE: 0.7526502013206482\n",
      "25/100 => [TRAIN] LOSS: 2.0161149091692776 SCORE: 0.7363903161040548\n",
      "\t=> [VAL] LOSS: 2.0080597400665283 SCORE: 0.7527081966400146\n",
      "26/100 => [TRAIN] LOSS: 2.018990397453308 SCORE: 0.7357628610495576\n",
      "\t=> [VAL] LOSS: 2.000994920730591 SCORE: 0.7527857422828674\n",
      "27/100 => [TRAIN] LOSS: 2.179839672569631 SCORE: 0.27810759334105445\n",
      "\t=> [VAL] LOSS: 1.9775868654251099 SCORE: 0.7465759515762329\n",
      "28/100 => [TRAIN] LOSS: 2.005842154470894 SCORE: 0.7380871235802987\n",
      "\t=> [VAL] LOSS: 2.1015565395355225 SCORE: 0.7439097166061401\n",
      "29/100 => [TRAIN] LOSS: 2.0159218062812316 SCORE: 0.7365877785592315\n",
      "\t=> [VAL] LOSS: 2.1382312774658203 SCORE: 0.7405298352241516\n",
      "30/100 => [TRAIN] LOSS: 2.007019198844454 SCORE: 0.7381857887301431\n",
      "\t=> [VAL] LOSS: 1.9855709075927734 SCORE: 0.7528150081634521\n",
      "31/100 => [TRAIN] LOSS: 2.0067777948198793 SCORE: 0.7381349576979267\n",
      "\t=> [VAL] LOSS: 1.9714769124984741 SCORE: 0.7499383687973022\n",
      "32/100 => [TRAIN] LOSS: 2.0070967119914798 SCORE: 0.7382005579965107\n",
      "\t=> [VAL] LOSS: 2.0023345947265625 SCORE: 0.7475374937057495\n",
      "33/100 => [TRAIN] LOSS: 2.0119004908178013 SCORE: 0.7369019081571707\n",
      "\t=> [VAL] LOSS: 1.9819046258926392 SCORE: 0.7532414197921753\n",
      "34/100 => [TRAIN] LOSS: 2.0179577158769435 SCORE: 0.736198264638467\n",
      "\t=> [VAL] LOSS: 1.9841434955596924 SCORE: 0.7528048753738403\n",
      "35/100 => [TRAIN] LOSS: 2.0097114382957924 SCORE: 0.7379460511158924\n",
      "\t=> [VAL] LOSS: 1.9771835803985596 SCORE: 0.7525079250335693\n",
      "36/100 => [TRAIN] LOSS: 2.0073407009113633 SCORE: 0.7378480849738719\n",
      "\t=> [VAL] LOSS: 1.978986144065857 SCORE: 0.7528928518295288\n",
      "37/100 => [TRAIN] LOSS: 2.009945130556735 SCORE: 0.7373883467026424\n",
      "\t=> [VAL] LOSS: 2.050025224685669 SCORE: 0.743422269821167\n",
      "38/100 => [TRAIN] LOSS: 2.0101244484370375 SCORE: 0.737665963068648\n",
      "\t=> [VAL] LOSS: 1.9900985956192017 SCORE: 0.7508731484413147\n",
      "39/100 => [TRAIN] LOSS: 2.0114071867903887 SCORE: 0.7374160009118628\n",
      "\t=> [VAL] LOSS: 1.9909980297088623 SCORE: 0.7527089715003967\n",
      "40/100 => [TRAIN] LOSS: 2.0144778258946476 SCORE: 0.7370458830897384\n",
      "\t=> [VAL] LOSS: 2.081786632537842 SCORE: 0.7468485236167908\n",
      "41/100 => [TRAIN] LOSS: 2.006937940683726 SCORE: 0.7379668964067632\n",
      "\t=> [VAL] LOSS: 2.0101218223571777 SCORE: 0.7521133422851562\n",
      "42/100 => [TRAIN] LOSS: 2.0104085629257447 SCORE: 0.7375121495466538\n",
      "\t=> [VAL] LOSS: 2.0348072052001953 SCORE: 0.7520973682403564\n",
      "43/100 => [TRAIN] LOSS: 2.0159018156132267 SCORE: 0.7368526979194786\n",
      "\t=> [VAL] LOSS: 2.190284252166748 SCORE: 0.7325572967529297\n",
      "44/100 => [TRAIN] LOSS: 2.0073562818783017 SCORE: 0.7380517010438546\n",
      "\t=> [VAL] LOSS: 1.99528968334198 SCORE: 0.7535923719406128\n",
      "45/100 => [TRAIN] LOSS: 2.0064170466567615 SCORE: 0.7379185408788241\n",
      "\t=> [VAL] LOSS: 1.9996237754821777 SCORE: 0.7531242966651917\n",
      "46/100 => [TRAIN] LOSS: 2.0055265332797525 SCORE: 0.7380326824702604\n",
      "\t=> [VAL] LOSS: 2.015523672103882 SCORE: 0.7528318762779236\n",
      "47/100 => [TRAIN] LOSS: 2.0056928470948 SCORE: 0.7379509236652719\n",
      "\t=> [VAL] LOSS: 2.06549334526062 SCORE: 0.7498169541358948\n",
      "48/100 => [TRAIN] LOSS: 2.0060390063694546 SCORE: 0.7374643498363718\n",
      "\t=> [VAL] LOSS: 2.093571424484253 SCORE: 0.7454825639724731\n",
      "49/100 => [TRAIN] LOSS: 2.014655518288515 SCORE: 0.7364748615565175\n",
      "\t=> [VAL] LOSS: 2.134674310684204 SCORE: 0.7402930855751038\n",
      "50/100 => [TRAIN] LOSS: 2.009560676253572 SCORE: 0.7362734388679527\n",
      "\t=> [VAL] LOSS: 2.256563425064087 SCORE: 0.7204536199569702\n",
      "51/100 => [TRAIN] LOSS: 2.0269299830709184 SCORE: 0.7341803673752543\n",
      "\t=> [VAL] LOSS: 2.05122709274292 SCORE: 0.7476810216903687\n",
      "52/100 => [TRAIN] LOSS: 2.0249710970995376 SCORE: 0.735209779732429\n",
      "\t=> [VAL] LOSS: 1.9875174760818481 SCORE: 0.7433084845542908\n",
      "53/100 => [TRAIN] LOSS: 2.008920513853735 SCORE: 0.7375338185285341\n",
      "\t=> [VAL] LOSS: 2.0170397758483887 SCORE: 0.7530767917633057\n",
      "54/100 => [TRAIN] LOSS: 2.011447431742276 SCORE: 0.7373811162074175\n",
      "\t=> [VAL] LOSS: 2.003206729888916 SCORE: 0.7522163391113281\n",
      "55/100 => [TRAIN] LOSS: 2.005341956636301 SCORE: 0.7382427740722634\n",
      "\t=> [VAL] LOSS: 2.1404688358306885 SCORE: 0.7394750118255615\n",
      "56/100 => [TRAIN] LOSS: 2.015301403255574 SCORE: 0.7366520791116331\n",
      "\t=> [VAL] LOSS: 2.0506644248962402 SCORE: 0.7495843172073364\n",
      "57/100 => [TRAIN] LOSS: 2.005821101519526 SCORE: 0.7384649549906872\n",
      "\t=> [VAL] LOSS: 2.4375264644622803 SCORE: 0.6964888572692871\n",
      "58/100 => [TRAIN] LOSS: 2.004783946814412 SCORE: 0.7385447132170374\n",
      "\t=> [VAL] LOSS: 2.153646469116211 SCORE: 0.7387205362319946\n",
      "59/100 => [TRAIN] LOSS: 2.0179442085608104 SCORE: 0.7317280003871585\n",
      "\t=> [VAL] LOSS: 2.101555347442627 SCORE: 0.7444139122962952\n",
      "60/100 => [TRAIN] LOSS: 2.0035488212768957 SCORE: 0.7384927635116411\n",
      "\t=> [VAL] LOSS: 1.979448914527893 SCORE: 0.7522362470626831\n",
      "61/100 => [TRAIN] LOSS: 2.0016546259816117 SCORE: 0.73911648163295\n",
      "\t=> [VAL] LOSS: 1.9801942110061646 SCORE: 0.7529508471488953\n",
      "62/100 => [TRAIN] LOSS: 2.01057383739566 SCORE: 0.7375372232049269\n",
      "\t=> [VAL] LOSS: 2.091731309890747 SCORE: 0.745667576789856\n",
      "63/100 => [TRAIN] LOSS: 2.0056921834500816 SCORE: 0.738214993876549\n",
      "\t=> [VAL] LOSS: 2.0079946517944336 SCORE: 0.7526217103004456\n",
      "64/100 => [TRAIN] LOSS: 2.006483756244704 SCORE: 0.7381943725809759\n",
      "\t=> [VAL] LOSS: 2.1382405757904053 SCORE: 0.7403743267059326\n",
      "65/100 => [TRAIN] LOSS: 2.0097253174893015 SCORE: 0.7376630672039165\n",
      "\t=> [VAL] LOSS: 2.1007189750671387 SCORE: 0.7454301118850708\n",
      "66/100 => [TRAIN] LOSS: 2.007411430424226 SCORE: 0.7378792560309084\n",
      "\t=> [VAL] LOSS: 2.034470319747925 SCORE: 0.751003623008728\n",
      "67/100 => [TRAIN] LOSS: 2.002607198567849 SCORE: 0.7384897188959595\n",
      "\t=> [VAL] LOSS: 2.075904369354248 SCORE: 0.7427545785903931\n",
      "68/100 => [TRAIN] LOSS: 2.0064615845332687 SCORE: 0.7381185935294315\n",
      "\t=> [VAL] LOSS: 2.04026460647583 SCORE: 0.7502971887588501\n",
      "69/100 => [TRAIN] LOSS: 2.0058936980653437 SCORE: 0.7380498857956933\n",
      "\t=> [VAL] LOSS: 2.1919689178466797 SCORE: 0.735244870185852\n",
      "70/100 => [TRAIN] LOSS: 2.0045850827812104 SCORE: 0.7386486974297738\n",
      "\t=> [VAL] LOSS: 2.009634017944336 SCORE: 0.7526111602783203\n",
      "71/100 => [TRAIN] LOSS: 2.022867347339152 SCORE: 0.7345681067110845\n",
      "\t=> [VAL] LOSS: 2.0287115573883057 SCORE: 0.7503550052642822\n",
      "72/100 => [TRAIN] LOSS: 2.0191269355334622 SCORE: 0.7358237055752089\n",
      "\t=> [VAL] LOSS: 2.04309344291687 SCORE: 0.7492517232894897\n",
      "73/100 => [TRAIN] LOSS: 2.0122362502114766 SCORE: 0.7370860216047604\n",
      "\t=> [VAL] LOSS: 2.027064323425293 SCORE: 0.7511536478996277\n",
      "74/100 => [TRAIN] LOSS: 2.008557342926893 SCORE: 0.7376769360578442\n",
      "\t=> [VAL] LOSS: 2.065227508544922 SCORE: 0.7476401329040527\n",
      "75/100 => [TRAIN] LOSS: 2.0170952762876238 SCORE: 0.7330044566194795\n",
      "\t=> [VAL] LOSS: 1.9967197179794312 SCORE: 0.7502419352531433\n",
      "76/100 => [TRAIN] LOSS: 2.0124530453376104 SCORE: 0.7374301294717427\n",
      "\t=> [VAL] LOSS: 2.124382734298706 SCORE: 0.7430224418640137\n",
      "77/100 => [TRAIN] LOSS: 2.011608846159788 SCORE: 0.7374996430846067\n",
      "\t=> [VAL] LOSS: 2.065253973007202 SCORE: 0.7494907379150391\n",
      "78/100 => [TRAIN] LOSS: 2.0050270595633948 SCORE: 0.7384587750490483\n",
      "\t=> [VAL] LOSS: 2.0812511444091797 SCORE: 0.747153639793396\n"
     ]
    }
   ],
   "source": [
    "loss_history, score_history=[[],[]], [[],[]]\n",
    "print('TRAIN, VAL 진행')\n",
    "\n",
    "# => 임계기준 : 10번\n",
    "BREAK_CNT = 0\n",
    "THESHOLD = 100\n",
    "\n",
    "for epoch in range(1, EPOCHS):\n",
    "    # 학습 모드 함수 호출\n",
    "    loss_total, score_total = training()\n",
    "\n",
    "    # 검증 모드 함수 호출\n",
    "    loss_val, score_val = validate()\n",
    "\n",
    "    # 에포크당 손실값과 성능평가값 저장\n",
    "    loss_history[0].append(loss_total/len(trainDL))\n",
    "    score_history[0].append(score_total/len(trainDL))\n",
    "\n",
    "    loss_history[1].append(loss_val)\n",
    "    score_history[1].append(score_val)\n",
    "    \n",
    "    # Loss 기준\n",
    "    if len(loss_history[1]) >= 2:\n",
    "        if loss_history[1][-1] >= loss_history[1][-2]: BREAK_CNT += 1\n",
    "    \n",
    "    # 성능이 좋은 학습 가중치 저장\n",
    "    SAVE_MODEL=f'loss({loss_total/len(trainDL):.5f})_score({score_total/len(trainDL):.5f}).pth'\n",
    "\n",
    "    if len(score_history[1]) == 1:\n",
    "        # 모델 전체 저장\n",
    "        torch.save(model, SAVE_PATH+SAVE_MODEL)\n",
    "\n",
    "    else:\n",
    "        if score_history[1][-1] > max(score_history[1][:-1]):\n",
    "            torch.save(model, SAVE_PATH+SAVE_MODEL)\n",
    "\n",
    "    # 학습 중단 여부 설정\n",
    "    if BREAK_CNT >= THESHOLD:\n",
    "        print('성능 및 손실 개선이 없어서 학습 중단')\n",
    "        break\n",
    "\n",
    "    print(f'{epoch}/{EPOCHS} => [TRAIN] LOSS: {loss_history[0][-1]} SCORE: {score_history[0][-1]}')\n",
    "    print(f'\\t=> [VAL] LOSS: {loss_history[1][-1]} SCORE: {score_history[1][-1]}')"
   ]
  },
  {
   "cell_type": "code",
   "execution_count": 157,
   "metadata": {},
   "outputs": [
    {
     "name": "stdout",
     "output_type": "stream",
     "text": [
      "[TEST] LOSS: 2.1278913021087646 \n",
      "\tSCORE: -0.5828100442886353\n"
     ]
    }
   ],
   "source": [
    "# 손실함수 인스턴스 => 회귀 : MSE, MAE, RMSE, ...\n",
    "reg_loss = nn.L1Loss()\n",
    "\n",
    "# 테스트 진행\n",
    "model.eval()\n",
    "with torch.no_grad():\n",
    "    # 테스트 데이터셋\n",
    "    test_featureTS=torch.FloatTensor(testDS.featureDF.values)\n",
    "    test_targetTS=torch.FloatTensor(testDS.targetDF.values)\n",
    "    # 평가\n",
    "    pre_test=model(test_featureTS)\n",
    "\n",
    "    # 손실\n",
    "    loss_test=reg_loss(pre_test, test_targetTS)\n",
    "\n",
    "    # 성능평가\n",
    "    score_test=R2Score()(pre_test, test_targetTS)\n",
    "print(f'[TEST] LOSS: {loss_test} \\n\\tSCORE: {score_test}')"
   ]
  },
  {
   "cell_type": "code",
   "execution_count": 158,
   "metadata": {},
   "outputs": [
    {
     "data": {
      "image/png": "[encoded data removed]",
      "text/plain": [
       "<Figure size 1000x500 with 2 Axes>"
      ]
     },
     "metadata": {},
     "output_type": "display_data"
    }
   ],
   "source": [
    "import makeaplot\n",
    "\n",
    "makeaplot.loss_score_plot(loss_history, score_history, threshold=10)"
   ]
  },
  {
   "cell_type": "code",
   "execution_count": 159,
   "metadata": {},
   "outputs": [],
   "source": [
    "# torch.save(model, SAVE_PATH+SAVE_FILE)"
   ]
  },
  {
   "cell_type": "code",
   "execution_count": null,
   "metadata": {},
   "outputs": [],
   "source": []
  }
 ],
 "metadata": {
  "kernelspec": {
   "display_name": "TORCH_38",
   "language": "python",
   "name": "python3"
  },
  "language_info": {
   "codemirror_mode": {
    "name": "ipython",
    "version": 3
   },
   "file_extension": ".py",
   "mimetype": "text/x-python",
   "name": "python",
   "nbconvert_exporter": "python",
   "pygments_lexer": "ipython3",
   "version": "3.8.19"
  }
 },
 "nbformat": 4,
 "nbformat_minor": 2
}
