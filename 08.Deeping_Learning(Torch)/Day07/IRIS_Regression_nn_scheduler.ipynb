{
 "cells": [
  {
   "cell_type": "markdown",
   "metadata": {},
   "source": [
    "##### DNN 기반 회귀 모델 구현\n",
    "- 데이터셋   : iris.csv\n",
    "- 피쳐/속성  : 3개 Sepal_Length, Sepal_width, Petal_Width\n",
    "- 타겟/라벨  : 1개 Petal_\n",
    "- 학습/방법  : 지도학습 -> 회귀\n",
    "- 알고리즘   : 인공신경망(ANN) -> MLP, DNN : 은닉층이 많은 구성\n",
    "- 프레임워크 : Pytorch\n",
    "***\n",
    "- 학습스케쥴링\n",
    "    * 학습 시 동적으로 lr값을 조절해주는 모듈"
   ]
  },
  {
   "cell_type": "markdown",
   "metadata": {},
   "source": [
    "[1] 모듈 로딩 및 데이터 준비 <hr>"
   ]
  },
  {
   "cell_type": "code",
   "execution_count": 2,
   "metadata": {},
   "outputs": [],
   "source": [
    "# 모델 관련 모듈 로딩\n",
    "import torch\n",
    "import torch.nn as nn \n",
    "import torch.nn.functional as F \n",
    "from torch.utils.data import Dataset, DataLoader\n",
    "import torch.optim as optim                                 # 최적화 관련 모듈\n",
    "import torch.optim.lr_scheduler as lr_scheduler             # 최적화 스케쥴링 관련 모듈\n",
    "from torchmetrics.regression import R2Score, MeanSquaredError\n",
    "from torchinfo import summary\n",
    "\n",
    "# 데이터 관련 모듈 로딩\n",
    "import pandas as pd\n",
    "import matplotlib.pyplot as plt\n",
    "import seaborn as sns\n",
    "\n",
    "from sklearn.preprocessing import *\n",
    "from sklearn.model_selection import train_test_split"
   ]
  },
  {
   "cell_type": "code",
   "execution_count": 3,
   "metadata": {},
   "outputs": [
    {
     "name": "stdout",
     "output_type": "stream",
     "text": [
      "torch V.:2.4.1\n",
      "pandas V.:2.0.3\n"
     ]
    }
   ],
   "source": [
    "# 활용 패키지 버전 체크\n",
    "print(f'torch V.:{torch.__version__}')\n",
    "print(f'pandas V.:{pd.__version__}')"
   ]
  },
  {
   "cell_type": "code",
   "execution_count": 4,
   "metadata": {},
   "outputs": [
    {
     "data": {
      "text/html": [
       "<div>\n",
       "<style scoped>\n",
       "    .dataframe tbody tr th:only-of-type {\n",
       "        vertical-align: middle;\n",
       "    }\n",
       "\n",
       "    .dataframe tbody tr th {\n",
       "        vertical-align: top;\n",
       "    }\n",
       "\n",
       "    .dataframe thead th {\n",
       "        text-align: right;\n",
       "    }\n",
       "</style>\n",
       "<table border=\"1\" class=\"dataframe\">\n",
       "  <thead>\n",
       "    <tr style=\"text-align: right;\">\n",
       "      <th></th>\n",
       "      <th>sepal.length</th>\n",
       "      <th>sepal.width</th>\n",
       "      <th>petal.length</th>\n",
       "      <th>petal.width</th>\n",
       "    </tr>\n",
       "  </thead>\n",
       "  <tbody>\n",
       "    <tr>\n",
       "      <th>0</th>\n",
       "      <td>5.1</td>\n",
       "      <td>3.5</td>\n",
       "      <td>1.4</td>\n",
       "      <td>0.2</td>\n",
       "    </tr>\n",
       "    <tr>\n",
       "      <th>1</th>\n",
       "      <td>4.9</td>\n",
       "      <td>3.0</td>\n",
       "      <td>1.4</td>\n",
       "      <td>0.2</td>\n",
       "    </tr>\n",
       "  </tbody>\n",
       "</table>\n",
       "</div>"
      ],
      "text/plain": [
       "   sepal.length  sepal.width  petal.length  petal.width\n",
       "0           5.1          3.5           1.4          0.2\n",
       "1           4.9          3.0           1.4          0.2"
      ]
     },
     "execution_count": 4,
     "metadata": {},
     "output_type": "execute_result"
    }
   ],
   "source": [
    "## 데이터 로딩\n",
    "DATA_FILE='../Data/iris.csv'\n",
    "\n",
    "### CSV => DataFrame\n",
    "irisDF = pd.read_csv(DATA_FILE, usecols=[0,1,2,3])\n",
    "\n",
    "### 확인\n",
    "irisDF.head(2)"
   ]
  },
  {
   "cell_type": "markdown",
   "metadata": {},
   "source": [
    "[2] 모델 클래스 설계 및 정의 <hr>\n",
    "- 클래스목적 : iris 데이터를 학습 및 추론\n",
    "- 클래스이름 : irisRegModel\n",
    "- 부모클래스 : nn.Module\n",
    "- 매개 변수 : 층별 입출력 개수 고정하기 때문에 필요 x!\n",
    "- 속성 필드 : \n",
    "- 기능 역할 : __ init__() : 모델 구조 설정, forward() : 순방향 학습 <= 오버라이딩(overriding) - [상속 시 가능!]\n",
    "- 클래스구조\n",
    "    * 입력층 : 입력 3개(피쳐)  출력 10개 (퍼셉트론/뉴런 10개 존재)\n",
    "    * 은닉층 : 입력 10개       출력 30개 (퍼셉트론/뉴런 30개 존재)\n",
    "    * 출력층 : 입력 30개       출력 1개 (너비값)\n",
    "\n",
    "- 활성화함수\n",
    "    * 클래스 형태 ==> ex) nn.MESLoss, nn.ReLU ==> __ init__(self) 메서드\n",
    "    * 함수 형태 ==> torch.nn.functional 아래에 ==> forward(self) 메서드"
   ]
  },
  {
   "cell_type": "code",
   "execution_count": 5,
   "metadata": {},
   "outputs": [],
   "source": [
    "class irisRegModel(nn.Module):\n",
    "\n",
    "    # 모델 구조 구성 및 인스턴스 생성 메서드\n",
    "    def __init__(self):\n",
    "        super().__init__()\n",
    "        \n",
    "        self.in_layer=nn.Linear(3, 10)\n",
    "        self.hidden_layer=nn.Linear(10, 30)\n",
    "        self.out_layer=nn.Linear(30, 1)\n",
    "\n",
    "    # 순방향 학습 진행 메서드\n",
    "    def forward(self, x):\n",
    "        # - 입력층\n",
    "        y = self.in_layer(x)     # y = f1w1 + f2w2 + f3w3 + b ... -> 10개\n",
    "        y = F.relu(y)            # relu -> y 값의 범위 0 <= y\n",
    "        \n",
    "        # - 은닉층 : 10개의 숫자 값(>=0)\n",
    "        y = self.hidden_layer(y) # y = f21w21 + ... + f210w210 , ... -> 30개\n",
    "        y = F.relu(y)            # relu -> y 값의 범위 0 <= y\n",
    "\n",
    "        # - 출력층 : 1개의 숫자 값(>=0)\n",
    "        return self.out_layer(y)        # f31w31 + ... f330w330 + b -> 1개"
   ]
  },
  {
   "cell_type": "code",
   "execution_count": 6,
   "metadata": {},
   "outputs": [
    {
     "name": "stdout",
     "output_type": "stream",
     "text": [
      "irisRegModel(\n",
      "  (in_layer): Linear(in_features=3, out_features=10, bias=True)\n",
      "  (hidden_layer): Linear(in_features=10, out_features=30, bias=True)\n",
      "  (out_layer): Linear(in_features=30, out_features=1, bias=True)\n",
      ")\n"
     ]
    }
   ],
   "source": [
    "## 모델 인스턴스 생성\n",
    "model = irisRegModel()\n",
    "print(model)"
   ]
  },
  {
   "cell_type": "code",
   "execution_count": 7,
   "metadata": {},
   "outputs": [
    {
     "data": {
      "text/plain": [
       "==========================================================================================\n",
       "Layer (type:depth-idx)                   Output Shape              Param #\n",
       "==========================================================================================\n",
       "irisRegModel                             [1000, 1]                 --\n",
       "├─Linear: 1-1                            [1000, 10]                40\n",
       "├─Linear: 1-2                            [1000, 30]                330\n",
       "├─Linear: 1-3                            [1000, 1]                 31\n",
       "==========================================================================================\n",
       "Total params: 401\n",
       "Trainable params: 401\n",
       "Non-trainable params: 0\n",
       "Total mult-adds (M): 0.40\n",
       "==========================================================================================\n",
       "Input size (MB): 0.01\n",
       "Forward/backward pass size (MB): 0.33\n",
       "Params size (MB): 0.00\n",
       "Estimated Total Size (MB): 0.34\n",
       "=========================================================================================="
      ]
     },
     "execution_count": 7,
     "metadata": {},
     "output_type": "execute_result"
    }
   ],
   "source": [
    "# 모델 사용 메모리 정보 확인\n",
    "summary(model, input_size=(1000,3)) # input_size = ,feature 개수)"
   ]
  },
  {
   "cell_type": "markdown",
   "metadata": {},
   "source": [
    "[3] 데이터셋 클래스 설계 및 정의 <hr>\n",
    "- 데이터셋 : iris.csv\n",
    "- 피쳐_개수 : 3개\n",
    "- 타겟_개수 : 1개\n",
    "- 클래스이름 : IrisDataset\n",
    "- 부모클래스 : utils.data.Dataset\n",
    "- 속성_필드 : featureDF, targetDF, n_rows, n_features\n",
    "- 필수메서드 : \n",
    "    * __ init__(self): 데이터셋 저장 및 전처리, 개발자가 필요한 속성 설정\n",
    "    * __ len__(self): 데이터의 개수 반환\n",
    "    * __ getitem__(self, index): 특정 인덱스의 피쳐와 타겟 반환\n",
    "    "
   ]
  },
  {
   "cell_type": "code",
   "execution_count": 8,
   "metadata": {},
   "outputs": [],
   "source": [
    "class IrisDataset(Dataset):\n",
    "\n",
    "    def __init__(self, featureDF, targetDF):\n",
    "        self.featureDF=featureDF\n",
    "        self.targetDF=targetDF\n",
    "        self.n_rows=featureDF.shape[0]\n",
    "        self.n_features=featureDF.shape[1]\n",
    "\n",
    "    def __len__(self):\n",
    "        return self.n_rows\n",
    "\n",
    "    def __getitem__(self, index):\n",
    "        # 텐서화\n",
    "        featureTS=torch.FloatTensor(self.featureDF.iloc[index].values)\n",
    "        targetTS=torch.FloatTensor(self.targetDF.iloc[index].values)\n",
    "        \n",
    "        # 피쳐와 타겟 반환\n",
    "        return featureTS, targetTS"
   ]
  },
  {
   "cell_type": "code",
   "execution_count": 9,
   "metadata": {},
   "outputs": [],
   "source": [
    "## 데이터셋 인스턴스 생성\n",
    "\n",
    "# DataFrame에서 피쳐와 타겟 추출\n",
    "featureDF = irisDF[irisDF.columns[:-1]]     # 2D (150, 3)\n",
    "targetDF = irisDF[irisDF.columns[-1:]]      # 2D (150, 1)\n",
    "\n",
    "# - 커스텀데이터셋 인스턴스 생성\n",
    "irisDS=IrisDataset(featureDF, targetDF)"
   ]
  },
  {
   "cell_type": "markdown",
   "metadata": {},
   "source": [
    "[4] 학습 준비\n",
    "- 학습 횟수 : EPOCH          <- 처음~ 끝까지 공부하는 단위\n",
    "- 배치 크기 : BATCH_SIZE     <- 한번에 학습할 데이터셋 양\n",
    "- 위치 지정 : DEVICE         <- 탠서 저장 및 실행 위치 (GPU/CPU)\n",
    "- 학 습 률 : LR 가중치와 절편 업데이트 시 경사하강법으로 업데이트 간격 설정 0.001 ~ 0.1 (낮을수록 촘촘히)"
   ]
  },
  {
   "cell_type": "code",
   "execution_count": 10,
   "metadata": {},
   "outputs": [
    {
     "name": "stdout",
     "output_type": "stream",
     "text": [
      "BATCH_CNT: 15\n"
     ]
    }
   ],
   "source": [
    "### 학습 진행 관련 설정\n",
    "EPOCHS = 1000\n",
    "BATCH_SIZE = 10\n",
    "BATCH_CNT = irisDF.shape[0]//BATCH_SIZE\n",
    "DEVICE = 'cuda' if torch.cuda.is_available() else 'cpu'\n",
    "LR = 0.001\n",
    "\n",
    "print(f'BATCH_CNT: {BATCH_CNT}')"
   ]
  },
  {
   "cell_type": "markdown",
   "metadata": {},
   "source": [
    "- 인스턴스/객체 : 모델, 데이터셋, 최적화, (손실함수), (성능지표)"
   ]
  },
  {
   "cell_type": "code",
   "execution_count": 11,
   "metadata": {},
   "outputs": [
    {
     "name": "stdout",
     "output_type": "stream",
     "text": [
      "[X_train(shape): (84, 3) (type): <class 'pandas.core.frame.DataFrame'>], X_test: (38, 3), X_val: (28, 3)\n",
      "[y_train(shape): (84, 1) (type): <class 'pandas.core.frame.DataFrame'>], y_test: (38, 1), y_val: (28, 1)\n"
     ]
    }
   ],
   "source": [
    "# 모델 인스턴스 생성\n",
    "model=irisRegModel()\n",
    "\n",
    "# 데이터셋 인스턴스 생성\n",
    "X_train, X_test, y_train, y_test = train_test_split(featureDF, targetDF, random_state=1)\n",
    "X_train, X_val, y_train, y_val = train_test_split(X_train, y_train, random_state=1)\n",
    "print(f'[X_train(shape): {X_train.shape} (type): {type(X_train)}], X_test: {X_test.shape}, X_val: {X_val.shape}')\n",
    "print(f'[y_train(shape): {y_train.shape} (type): {type(y_train)}], y_test: {y_test.shape}, y_val: {y_val.shape}')\n",
    "\n",
    "trainDS=IrisDataset(X_train, y_train)\n",
    "valDS=IrisDataset(X_val, y_val)\n",
    "testDS=IrisDataset(X_test, y_test)\n",
    "\n",
    "# 데이터로더 인스턴스 생성\n",
    "trainDL=DataLoader(trainDS, batch_size=BATCH_SIZE)"
   ]
  },
  {
   "cell_type": "code",
   "execution_count": 12,
   "metadata": {},
   "outputs": [
    {
     "name": "stdout",
     "output_type": "stream",
     "text": [
      "torch.Size([10, 3]) torch.Size([10, 1])\n"
     ]
    }
   ],
   "source": [
    "## [테스트] 데이터로더\n",
    "for feature, target in trainDL:\n",
    "    # print(feature, target)\n",
    "    print(feature.shape, target.shape)\n",
    "    break"
   ]
  },
  {
   "cell_type": "code",
   "execution_count": 13,
   "metadata": {},
   "outputs": [
    {
     "name": "stderr",
     "output_type": "stream",
     "text": [
      "c:\\Users\\KDP-50\\anaconda3\\envs\\TORCH_38\\lib\\site-packages\\torch\\optim\\lr_scheduler.py:60: UserWarning: The verbose parameter is deprecated. Please use get_last_lr() to access the learning rate.\n",
      "  warnings.warn(\n"
     ]
    }
   ],
   "source": [
    "# 최적화 인스턴스 => W,b 텐서 즉, model.parameters() 전달\n",
    "optimizer=optim.Adam(model.parameters(), lr=LR)\n",
    "\n",
    "# 최적화 스케쥴링 인스턴스 생성 => lr 조절 및 성능 개선 여부 체크\n",
    "# scheduler = lr_scheduler.ReduceLROnPlateau(optimizer, mode='max', patience=5, verbose=True) # score 사용 시\n",
    "scheduler = lr_scheduler.ReduceLROnPlateau(optimizer, patience=5, verbose=True)\n",
    "\n",
    "# 손실함수 인스턴스 => 회귀 : MSE, MAE, RMSE, ...\n",
    "reg_loss = nn.MSELoss()"
   ]
  },
  {
   "cell_type": "markdown",
   "metadata": {},
   "source": [
    "[5] 학습 진행"
   ]
  },
  {
   "cell_type": "code",
   "execution_count": 14,
   "metadata": {},
   "outputs": [],
   "source": [
    "# 학습 모드 함수\n",
    "def training():\n",
    "    # 학습 모드로 모델 설정\n",
    "    model.train()\n",
    "    # 배치 크기 만큼 데이터 로딩해서 학습 진행\n",
    "    loss_total, score_total=0,0\n",
    "    for featureTS, targetTS in trainDL:\n",
    "\n",
    "        # 학습 진행\n",
    "        pre_y=model(featureTS)\n",
    "\n",
    "        # 손실 계산\n",
    "        loss=reg_loss(pre_y, targetTS)\n",
    "        loss_total+=loss.item()\n",
    "        \n",
    "        # 성능평가 계산\n",
    "        score=R2Score()(pre_y, targetTS)\n",
    "        score_total+=score.item()\n",
    "\n",
    "        # 최적화 진행\n",
    "        optimizer.zero_grad()\n",
    "        loss.backward()\n",
    "        optimizer.step()\n",
    "    return loss_total, score_total"
   ]
  },
  {
   "cell_type": "code",
   "execution_count": 15,
   "metadata": {},
   "outputs": [],
   "source": [
    "# 검증 모드 함수\n",
    "def validate():\n",
    "    # 검증 모드로 모델 설정\n",
    "    model.eval()\n",
    "    with torch.no_grad():\n",
    "        # 검증 데이터셋\n",
    "        val_featureTS=torch.FloatTensor(valDS.featureDF.values)\n",
    "        val_targetTS=torch.FloatTensor(valDS.targetDF.values)\n",
    "        \n",
    "        # 평가\n",
    "        pre_val=model(val_featureTS)\n",
    "\n",
    "        # 손실\n",
    "        loss_val=reg_loss(pre_val, val_targetTS)\n",
    "\n",
    "        # 성능평가\n",
    "        score_val=R2Score()(pre_val, val_targetTS)\n",
    "    return loss_val, score_val"
   ]
  },
  {
   "cell_type": "code",
   "execution_count": 16,
   "metadata": {},
   "outputs": [
    {
     "name": "stdout",
     "output_type": "stream",
     "text": [
      "1/1000 => [TRAIN] LOSS: 16.901349663734436 SCORE: -27.57877802848816\n",
      "\t=> [VAL] LOSS: 1.2696154117584229 SCORE: -0.9668396711349487\n",
      "scheduler.num_bad_epochs => 0 scheduler.patience => 5\n",
      "2/1000 => [TRAIN] LOSS: 5.709914058446884 SCORE: -7.928776919841766\n",
      "\t=> [VAL] LOSS: 0.8055330514907837 SCORE: -0.24790096282958984\n",
      "scheduler.num_bad_epochs => 0 scheduler.patience => 5\n",
      "3/1000 => [TRAIN] LOSS: 2.395996650060018 SCORE: -2.2464728951454163\n",
      "\t=> [VAL] LOSS: 0.47724395990371704 SCORE: 0.2606719136238098\n",
      "scheduler.num_bad_epochs => 0 scheduler.patience => 5\n",
      "4/1000 => [TRAIN] LOSS: 1.0337200984358788 SCORE: -0.0220249742269516\n",
      "\t=> [VAL] LOSS: 0.2685478627681732 SCORE: 0.5839759111404419\n",
      "scheduler.num_bad_epochs => 0 scheduler.patience => 5\n",
      "5/1000 => [TRAIN] LOSS: 0.4490015357732773 SCORE: 0.8220337271690369\n",
      "\t=> [VAL] LOSS: 0.1736205667257309 SCORE: 0.7310336828231812\n",
      "scheduler.num_bad_epochs => 0 scheduler.patience => 5\n",
      "6/1000 => [TRAIN] LOSS: 0.23498803252975145 SCORE: 1.0053536593914032\n",
      "\t=> [VAL] LOSS: 0.15039077401161194 SCORE: 0.7670203447341919\n",
      "scheduler.num_bad_epochs => 0 scheduler.patience => 5\n",
      "7/1000 => [TRAIN] LOSS: 0.16385708642857416 SCORE: 0.9505446297781808\n",
      "\t=> [VAL] LOSS: 0.1393337845802307 SCORE: 0.7841494083404541\n",
      "scheduler.num_bad_epochs => 0 scheduler.patience => 5\n",
      "8/1000 => [TRAIN] LOSS: 0.12531964760273695 SCORE: 0.8693607300519943\n",
      "\t=> [VAL] LOSS: 0.11613734066486359 SCORE: 0.8200844526290894\n",
      "scheduler.num_bad_epochs => 0 scheduler.patience => 5\n",
      "9/1000 => [TRAIN] LOSS: 0.09314131405618456 SCORE: 0.807606061299642\n",
      "\t=> [VAL] LOSS: 0.08716470748186111 SCORE: 0.8649677634239197\n",
      "scheduler.num_bad_epochs => 0 scheduler.patience => 5\n",
      "10/1000 => [TRAIN] LOSS: 0.07011089324951172 SCORE: 0.7524149060249329\n",
      "\t=> [VAL] LOSS: 0.0672575980424881 SCORE: 0.8958070874214172\n",
      "scheduler.num_bad_epochs => 0 scheduler.patience => 5\n",
      "11/1000 => [TRAIN] LOSS: 0.053997818888588386 SCORE: 0.7030150890350342\n",
      "\t=> [VAL] LOSS: 0.055676162242889404 SCORE: 0.9137486219406128\n",
      "scheduler.num_bad_epochs => 0 scheduler.patience => 5\n",
      "12/1000 => [TRAIN] LOSS: 0.04087131548052033 SCORE: 0.6624922255674998\n",
      "\t=> [VAL] LOSS: 0.04643063619732857 SCORE: 0.9280714392662048\n",
      "scheduler.num_bad_epochs => 0 scheduler.patience => 5\n",
      "13/1000 => [TRAIN] LOSS: 0.031602249265863344 SCORE: 0.6253152443812444\n",
      "\t=> [VAL] LOSS: 0.04322906583547592 SCORE: 0.9330312013626099\n",
      "scheduler.num_bad_epochs => 0 scheduler.patience => 5\n",
      "14/1000 => [TRAIN] LOSS: 0.027422491194946424 SCORE: 0.5851754162992749\n",
      "\t=> [VAL] LOSS: 0.044345978647470474 SCORE: 0.9313008785247803\n",
      "scheduler.num_bad_epochs => 1 scheduler.patience => 5\n",
      "15/1000 => [TRAIN] LOSS: 0.024687239651878676 SCORE: 0.5485766649246215\n",
      "\t=> [VAL] LOSS: 0.04529203847050667 SCORE: 0.929835319519043\n",
      "scheduler.num_bad_epochs => 2 scheduler.patience => 5\n",
      "16/1000 => [TRAIN] LOSS: 0.022656337008811533 SCORE: 0.5155906416475773\n",
      "\t=> [VAL] LOSS: 0.045153070241212845 SCORE: 0.9300506114959717\n",
      "scheduler.num_bad_epochs => 3 scheduler.patience => 5\n",
      "17/1000 => [TRAIN] LOSS: 0.02107935946653871 SCORE: 0.4858795614803539\n",
      "\t=> [VAL] LOSS: 0.04516030102968216 SCORE: 0.9300394058227539\n",
      "scheduler.num_bad_epochs => 4 scheduler.patience => 5\n",
      "18/1000 => [TRAIN] LOSS: 0.01968472513059775 SCORE: 0.45941273040241665\n",
      "\t=> [VAL] LOSS: 0.044971633702516556 SCORE: 0.9303316473960876\n",
      "scheduler.num_bad_epochs => 5 scheduler.patience => 5\n",
      "5EPOCH 성능 개선이 없어서 조기종료함\n"
     ]
    }
   ],
   "source": [
    "## 학습의 효과 확인 => 손실값과 성능평가값 저장 필요\n",
    "loss_history, score_history=[[],[]], [[],[]] # train, val\n",
    "\n",
    "for epoch in range(1, EPOCHS):\n",
    "    # 학습 모드 함수\n",
    "    loss_total, score_total = training()\n",
    "\n",
    "    # 검증 모드 함수\n",
    "    loss_val, score_val = validate()\n",
    "    \n",
    "    # 에포크당 손실값과 성능평가값 저장\n",
    "    loss_history[0].append(loss_total/epoch)\n",
    "    score_history[0].append(score_total/epoch)\n",
    "\n",
    "    loss_history[1].append(loss_val)\n",
    "    score_history[1].append(score_val)\n",
    "\n",
    "    print(f'{epoch}/{EPOCHS} => [TRAIN] LOSS: {loss_history[0][-1]} SCORE: {score_history[0][-1]}')\n",
    "    print(f'\\t=> [VAL] LOSS: {loss_history[1][-1]} SCORE: {score_history[1][-1]}')\n",
    "\n",
    "    # 최적화 스케쥴러 인스턴스 업데이트\n",
    "    scheduler.step(loss_val)\n",
    "    print(f'scheduler.num_bad_epochs => {scheduler.num_bad_epochs}', end=' ')\n",
    "    print(f'scheduler.patience => {scheduler.patience}')\n",
    "\n",
    "    # 손실 감소(또는 성능 개선)이 안되는 경우 조기종료\n",
    "    if scheduler.num_bad_epochs >= scheduler.patience:\n",
    "        print(f'{scheduler.patience}EPOCH 성능 개선이 없어서 조기종료함')\n",
    "        break"
   ]
  },
  {
   "cell_type": "markdown",
   "metadata": {},
   "source": [
    "[테스트 & 검증 상태]\n",
    "- 설정된 W,b 검증 및 테스트용 데이터셋 예측값 추출\n",
    "- 사용되지 않는 기능들 OFF\n",
    "- W, b 업데이트 X\n",
    "    * -> 기능 OFF Auto_grade 엔진 ---> model.eval()\n",
    "    * -> W, b 텐서 required_grade=True ---> no.grad()"
   ]
  },
  {
   "cell_type": "code",
   "execution_count": 29,
   "metadata": {},
   "outputs": [
    {
     "name": "stdout",
     "output_type": "stream",
     "text": [
      "[TEST] LOSS: 0.04463798552751541 \n",
      "\tSCORE: 0.9161673784255981\n"
     ]
    }
   ],
   "source": [
    "# 테스트 진행\n",
    "model.eval()\n",
    "with torch.no_grad():\n",
    "    # 테스트 데이터셋\n",
    "    test_featureTS=torch.FloatTensor(testDS.featureDF.values)\n",
    "    test_targetTS=torch.FloatTensor(testDS.targetDF.values)\n",
    "\n",
    "    # 평가\n",
    "    pre_test=model(test_featureTS)\n",
    "\n",
    "    # 손실\n",
    "    loss_test=reg_loss(pre_test, test_targetTS)\n",
    "\n",
    "    # 성능평가\n",
    "    score_test=R2Score()(pre_test, test_targetTS)\n",
    "print(f'[TEST] LOSS: {loss_test} \\n\\tSCORE: {score_test}')"
   ]
  },
  {
   "cell_type": "code",
   "execution_count": null,
   "metadata": {},
   "outputs": [],
   "source": []
  }
 ],
 "metadata": {
  "kernelspec": {
   "display_name": "TORCH_38",
   "language": "python",
   "name": "python3"
  },
  "language_info": {
   "codemirror_mode": {
    "name": "ipython",
    "version": 3
   },
   "file_extension": ".py",
   "mimetype": "text/x-python",
   "name": "python",
   "nbconvert_exporter": "python",
   "pygments_lexer": "ipython3",
   "version": "3.8.19"
  }
 },
 "nbformat": 4,
 "nbformat_minor": 2
}
