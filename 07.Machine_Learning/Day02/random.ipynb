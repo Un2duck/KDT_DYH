{
 "cells": [
  {
   "cell_type": "markdown",
   "metadata": {},
   "source": [
    "### 임의의 숫자 즉, 난수 추출\n",
    "- random 모듈 존재\n",
    "- 0.0 ~ 1.0 실수 추출\n",
    "- n ~ m 정수 추출\n",
    "- random값 고정 ==> seed 기능"
   ]
  },
  {
   "cell_type": "code",
   "execution_count": 1,
   "metadata": {},
   "outputs": [],
   "source": [
    "import random"
   ]
  },
  {
   "cell_type": "code",
   "execution_count": 16,
   "metadata": {},
   "outputs": [
    {
     "name": "stdout",
     "output_type": "stream",
     "text": [
      "2\n",
      "2\n",
      "1\n",
      "2\n",
      "2\n",
      "1\n",
      "1\n",
      "1\n",
      "1\n",
      "2\n"
     ]
    }
   ],
   "source": [
    "# 정수 임의의 수 추출\n",
    "for _ in range(10):\n",
    "    print(random.randint(1,2))"
   ]
  },
  {
   "cell_type": "code",
   "execution_count": 66,
   "metadata": {},
   "outputs": [
    {
     "name": "stdout",
     "output_type": "stream",
     "text": [
      "0.43535668292056506\n",
      "0.8588455784808138\n",
      "0.7182423791983076\n",
      "0.8886814943629995\n",
      "0.04623588619564345\n",
      "0.9130986448423635\n",
      "0.7668385355448595\n",
      "0.9623789273619899\n",
      "0.98131935906942\n",
      "0.28548573078687023\n"
     ]
    }
   ],
   "source": [
    "# 실수 임의의 수 추출\n",
    "for _ in range(10):\n",
    "    print(random.random())"
   ]
  },
  {
   "cell_type": "code",
   "execution_count": 53,
   "metadata": {},
   "outputs": [
    {
     "name": "stdout",
     "output_type": "stream",
     "text": [
      "0.5714025946899135\n",
      "0.4288890546751146\n",
      "0.5780913011344704\n",
      "0.20609823213950174\n",
      "0.81332125135732\n",
      "0.8235888725334455\n",
      "0.6534725339011758\n",
      "0.16022955651881965\n",
      "0.5206693596399246\n",
      "0.32777281162209315\n"
     ]
    }
   ],
   "source": [
    "random.seed(10)\n",
    "for _ in range(10):\n",
    "    print(random.random())"
   ]
  },
  {
   "cell_type": "code",
   "execution_count": 69,
   "metadata": {},
   "outputs": [],
   "source": [
    "X=[[10],[3],[9],[5],[1],\n",
    "   [0],[78],[43],[26],[2],\n",
    "   [7],[25]]\n",
    "\n",
    "y=[1,2,3,4,5,6,7,8,9,10,11,12]"
   ]
  },
  {
   "cell_type": "code",
   "execution_count": 70,
   "metadata": {},
   "outputs": [],
   "source": [
    "from sklearn.model_selection import train_test_split"
   ]
  },
  {
   "cell_type": "code",
   "execution_count": 73,
   "metadata": {},
   "outputs": [],
   "source": [
    "# 섞지 않고 학습용/테스트용 데이터셋 분리\n",
    "x_train, x_test, y_train, y_test = train_test_split(X, y, shuffle=False)"
   ]
  },
  {
   "cell_type": "code",
   "execution_count": 72,
   "metadata": {},
   "outputs": [
    {
     "name": "stdout",
     "output_type": "stream",
     "text": [
      "X : [[10], [3], [9], [5], [1], [0], [78], [43], [26], [2], [7], [25]]\n",
      "x_train : [[10], [3], [9], [5], [1], [0], [78], [43], [26]]\n",
      "x_test : [[2], [7], [25]]\n"
     ]
    }
   ],
   "source": [
    "print(f'X : {X}')\n",
    "print(f'x_train : {x_train}')\n",
    "print(f'x_test : {x_test}')"
   ]
  },
  {
   "cell_type": "code",
   "execution_count": 117,
   "metadata": {},
   "outputs": [
    {
     "name": "stdout",
     "output_type": "stream",
     "text": [
      "X : [[10], [3], [9], [5], [1], [0], [78], [43], [26], [2], [7], [25]]\n",
      "x_train : [[0], [10], [1], [26], [5], [25], [3], [7], [78]]\n",
      "x_test : [[43], [2], [9]]\n"
     ]
    }
   ],
   "source": [
    "### 섞어서 학습용/테스트용 데이터셋 분리 ==> 매번 변경됨\n",
    "x_train, x_test, y_train, y_test = train_test_split(X, y)\n",
    "\n",
    "print(f'X : {X}')\n",
    "print(f'x_train : {x_train}')\n",
    "print(f'x_test : {x_test}')"
   ]
  },
  {
   "cell_type": "code",
   "execution_count": 119,
   "metadata": {},
   "outputs": [
    {
     "name": "stdout",
     "output_type": "stream",
     "text": [
      "X : [[10], [3], [9], [5], [1], [0], [78], [43], [26], [2], [7], [25]]\n",
      "x_train : [[0], [25], [26], [7], [5], [3], [10], [1], [2]]\n",
      "x_test : [[9], [78], [43]]\n"
     ]
    }
   ],
   "source": [
    "### 섞어서 학습용/테스트용 데이터셋 분리\n",
    "### random에서 seed 설정 역할 매개변수 => random_state\n",
    "\n",
    "x_train, x_test, y_train, y_test = train_test_split(X, y, random_state=10)\n",
    "\n",
    "print(f'X : {X}')\n",
    "print(f'x_train : {x_train}')\n",
    "print(f'x_test : {x_test}')"
   ]
  },
  {
   "cell_type": "code",
   "execution_count": null,
   "metadata": {},
   "outputs": [],
   "source": []
  }
 ],
 "metadata": {
  "kernelspec": {
   "display_name": "ML_38",
   "language": "python",
   "name": "python3"
  },
  "language_info": {
   "codemirror_mode": {
    "name": "ipython",
    "version": 3
   },
   "file_extension": ".py",
   "mimetype": "text/x-python",
   "name": "python",
   "nbconvert_exporter": "python",
   "pygments_lexer": "ipython3",
   "version": "3.8.19"
  }
 },
 "nbformat": 4,
 "nbformat_minor": 2
}
