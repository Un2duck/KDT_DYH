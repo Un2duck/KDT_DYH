{
 "cells": [
  {
   "cell_type": "markdown",
   "metadata": {},
   "source": [
    "### [D0828 과제]\n",
    "- 데이터셋 : auto-mpg.csv\n",
    "- 목적 : 연비예측\n",
    "- 학습방법 : 지도학습 > 회귀\n",
    "- 알고리즘 : LinearRegression"
   ]
  },
  {
   "cell_type": "markdown",
   "metadata": {},
   "source": [
    "[1] 데이터 준비"
   ]
  },
  {
   "cell_type": "code",
   "execution_count": 1,
   "metadata": {},
   "outputs": [],
   "source": [
    "import pandas as pd\n",
    "import matplotlib.pyplot as plt\n",
    "import seaborn as sns"
   ]
  },
  {
   "cell_type": "code",
   "execution_count": 2,
   "metadata": {},
   "outputs": [],
   "source": [
    "DATA_FILE = '../Data/auto_mpg.csv'"
   ]
  },
  {
   "cell_type": "code",
   "execution_count": 3,
   "metadata": {},
   "outputs": [
    {
     "data": {
      "text/html": [
       "<div>\n",
       "<style scoped>\n",
       "    .dataframe tbody tr th:only-of-type {\n",
       "        vertical-align: middle;\n",
       "    }\n",
       "\n",
       "    .dataframe tbody tr th {\n",
       "        vertical-align: top;\n",
       "    }\n",
       "\n",
       "    .dataframe thead th {\n",
       "        text-align: right;\n",
       "    }\n",
       "</style>\n",
       "<table border=\"1\" class=\"dataframe\">\n",
       "  <thead>\n",
       "    <tr style=\"text-align: right;\">\n",
       "      <th></th>\n",
       "      <th>mpg</th>\n",
       "      <th>cylinders</th>\n",
       "      <th>displacement</th>\n",
       "      <th>horsepower</th>\n",
       "      <th>weight</th>\n",
       "      <th>acceleration</th>\n",
       "      <th>model year</th>\n",
       "      <th>origin</th>\n",
       "      <th>car name</th>\n",
       "    </tr>\n",
       "  </thead>\n",
       "  <tbody>\n",
       "    <tr>\n",
       "      <th>0</th>\n",
       "      <td>18.0</td>\n",
       "      <td>8</td>\n",
       "      <td>307.0</td>\n",
       "      <td>130</td>\n",
       "      <td>3504</td>\n",
       "      <td>12.0</td>\n",
       "      <td>70</td>\n",
       "      <td>1</td>\n",
       "      <td>chevrolet chevelle malibu</td>\n",
       "    </tr>\n",
       "    <tr>\n",
       "      <th>1</th>\n",
       "      <td>15.0</td>\n",
       "      <td>8</td>\n",
       "      <td>350.0</td>\n",
       "      <td>165</td>\n",
       "      <td>3693</td>\n",
       "      <td>11.5</td>\n",
       "      <td>70</td>\n",
       "      <td>1</td>\n",
       "      <td>buick skylark 320</td>\n",
       "    </tr>\n",
       "    <tr>\n",
       "      <th>2</th>\n",
       "      <td>18.0</td>\n",
       "      <td>8</td>\n",
       "      <td>318.0</td>\n",
       "      <td>150</td>\n",
       "      <td>3436</td>\n",
       "      <td>11.0</td>\n",
       "      <td>70</td>\n",
       "      <td>1</td>\n",
       "      <td>plymouth satellite</td>\n",
       "    </tr>\n",
       "    <tr>\n",
       "      <th>3</th>\n",
       "      <td>16.0</td>\n",
       "      <td>8</td>\n",
       "      <td>304.0</td>\n",
       "      <td>150</td>\n",
       "      <td>3433</td>\n",
       "      <td>12.0</td>\n",
       "      <td>70</td>\n",
       "      <td>1</td>\n",
       "      <td>amc rebel sst</td>\n",
       "    </tr>\n",
       "    <tr>\n",
       "      <th>4</th>\n",
       "      <td>17.0</td>\n",
       "      <td>8</td>\n",
       "      <td>302.0</td>\n",
       "      <td>140</td>\n",
       "      <td>3449</td>\n",
       "      <td>10.5</td>\n",
       "      <td>70</td>\n",
       "      <td>1</td>\n",
       "      <td>ford torino</td>\n",
       "    </tr>\n",
       "  </tbody>\n",
       "</table>\n",
       "</div>"
      ],
      "text/plain": [
       "    mpg  cylinders  displacement horsepower  weight  acceleration  model year  \\\n",
       "0  18.0          8         307.0        130    3504          12.0          70   \n",
       "1  15.0          8         350.0        165    3693          11.5          70   \n",
       "2  18.0          8         318.0        150    3436          11.0          70   \n",
       "3  16.0          8         304.0        150    3433          12.0          70   \n",
       "4  17.0          8         302.0        140    3449          10.5          70   \n",
       "\n",
       "   origin                   car name  \n",
       "0       1  chevrolet chevelle malibu  \n",
       "1       1          buick skylark 320  \n",
       "2       1         plymouth satellite  \n",
       "3       1              amc rebel sst  \n",
       "4       1                ford torino  "
      ]
     },
     "execution_count": 3,
     "metadata": {},
     "output_type": "execute_result"
    }
   ],
   "source": [
    "mpgDF=pd.read_csv(DATA_FILE)\n",
    "mpgDF.head()"
   ]
  },
  {
   "cell_type": "code",
   "execution_count": 4,
   "metadata": {},
   "outputs": [
    {
     "data": {
      "text/html": [
       "<div>\n",
       "<style scoped>\n",
       "    .dataframe tbody tr th:only-of-type {\n",
       "        vertical-align: middle;\n",
       "    }\n",
       "\n",
       "    .dataframe tbody tr th {\n",
       "        vertical-align: top;\n",
       "    }\n",
       "\n",
       "    .dataframe thead th {\n",
       "        text-align: right;\n",
       "    }\n",
       "</style>\n",
       "<table border=\"1\" class=\"dataframe\">\n",
       "  <thead>\n",
       "    <tr style=\"text-align: right;\">\n",
       "      <th></th>\n",
       "      <th>mpg</th>\n",
       "      <th>cylinders</th>\n",
       "      <th>displacement</th>\n",
       "      <th>horsepower</th>\n",
       "      <th>weight</th>\n",
       "      <th>acceleration</th>\n",
       "      <th>model year</th>\n",
       "      <th>origin</th>\n",
       "    </tr>\n",
       "  </thead>\n",
       "  <tbody>\n",
       "    <tr>\n",
       "      <th>0</th>\n",
       "      <td>18.0</td>\n",
       "      <td>8</td>\n",
       "      <td>307.0</td>\n",
       "      <td>130</td>\n",
       "      <td>3504</td>\n",
       "      <td>12.0</td>\n",
       "      <td>70</td>\n",
       "      <td>1</td>\n",
       "    </tr>\n",
       "    <tr>\n",
       "      <th>1</th>\n",
       "      <td>15.0</td>\n",
       "      <td>8</td>\n",
       "      <td>350.0</td>\n",
       "      <td>165</td>\n",
       "      <td>3693</td>\n",
       "      <td>11.5</td>\n",
       "      <td>70</td>\n",
       "      <td>1</td>\n",
       "    </tr>\n",
       "    <tr>\n",
       "      <th>2</th>\n",
       "      <td>18.0</td>\n",
       "      <td>8</td>\n",
       "      <td>318.0</td>\n",
       "      <td>150</td>\n",
       "      <td>3436</td>\n",
       "      <td>11.0</td>\n",
       "      <td>70</td>\n",
       "      <td>1</td>\n",
       "    </tr>\n",
       "    <tr>\n",
       "      <th>3</th>\n",
       "      <td>16.0</td>\n",
       "      <td>8</td>\n",
       "      <td>304.0</td>\n",
       "      <td>150</td>\n",
       "      <td>3433</td>\n",
       "      <td>12.0</td>\n",
       "      <td>70</td>\n",
       "      <td>1</td>\n",
       "    </tr>\n",
       "    <tr>\n",
       "      <th>4</th>\n",
       "      <td>17.0</td>\n",
       "      <td>8</td>\n",
       "      <td>302.0</td>\n",
       "      <td>140</td>\n",
       "      <td>3449</td>\n",
       "      <td>10.5</td>\n",
       "      <td>70</td>\n",
       "      <td>1</td>\n",
       "    </tr>\n",
       "  </tbody>\n",
       "</table>\n",
       "</div>"
      ],
      "text/plain": [
       "    mpg  cylinders  displacement horsepower  weight  acceleration  model year  \\\n",
       "0  18.0          8         307.0        130    3504          12.0          70   \n",
       "1  15.0          8         350.0        165    3693          11.5          70   \n",
       "2  18.0          8         318.0        150    3436          11.0          70   \n",
       "3  16.0          8         304.0        150    3433          12.0          70   \n",
       "4  17.0          8         302.0        140    3449          10.5          70   \n",
       "\n",
       "   origin  \n",
       "0       1  \n",
       "1       1  \n",
       "2       1  \n",
       "3       1  \n",
       "4       1  "
      ]
     },
     "execution_count": 4,
     "metadata": {},
     "output_type": "execute_result"
    }
   ],
   "source": [
    "mpgDF.drop('car name', axis=1, inplace=True)\n",
    "mpgDF.head()"
   ]
  },
  {
   "cell_type": "code",
   "execution_count": 5,
   "metadata": {},
   "outputs": [
    {
     "data": {
      "text/html": [
       "<div>\n",
       "<style scoped>\n",
       "    .dataframe tbody tr th:only-of-type {\n",
       "        vertical-align: middle;\n",
       "    }\n",
       "\n",
       "    .dataframe tbody tr th {\n",
       "        vertical-align: top;\n",
       "    }\n",
       "\n",
       "    .dataframe thead th {\n",
       "        text-align: right;\n",
       "    }\n",
       "</style>\n",
       "<table border=\"1\" class=\"dataframe\">\n",
       "  <thead>\n",
       "    <tr style=\"text-align: right;\">\n",
       "      <th></th>\n",
       "      <th>mpg</th>\n",
       "      <th>cylinders</th>\n",
       "      <th>displacement</th>\n",
       "      <th>weight</th>\n",
       "      <th>acceleration</th>\n",
       "      <th>model year</th>\n",
       "      <th>origin</th>\n",
       "    </tr>\n",
       "  </thead>\n",
       "  <tbody>\n",
       "    <tr>\n",
       "      <th>count</th>\n",
       "      <td>398.000000</td>\n",
       "      <td>398.000000</td>\n",
       "      <td>398.000000</td>\n",
       "      <td>398.000000</td>\n",
       "      <td>398.000000</td>\n",
       "      <td>398.000000</td>\n",
       "      <td>398.000000</td>\n",
       "    </tr>\n",
       "    <tr>\n",
       "      <th>mean</th>\n",
       "      <td>23.514573</td>\n",
       "      <td>5.454774</td>\n",
       "      <td>193.425879</td>\n",
       "      <td>2970.424623</td>\n",
       "      <td>15.568090</td>\n",
       "      <td>76.010050</td>\n",
       "      <td>1.572864</td>\n",
       "    </tr>\n",
       "    <tr>\n",
       "      <th>std</th>\n",
       "      <td>7.815984</td>\n",
       "      <td>1.701004</td>\n",
       "      <td>104.269838</td>\n",
       "      <td>846.841774</td>\n",
       "      <td>2.757689</td>\n",
       "      <td>3.697627</td>\n",
       "      <td>0.802055</td>\n",
       "    </tr>\n",
       "    <tr>\n",
       "      <th>min</th>\n",
       "      <td>9.000000</td>\n",
       "      <td>3.000000</td>\n",
       "      <td>68.000000</td>\n",
       "      <td>1613.000000</td>\n",
       "      <td>8.000000</td>\n",
       "      <td>70.000000</td>\n",
       "      <td>1.000000</td>\n",
       "    </tr>\n",
       "    <tr>\n",
       "      <th>25%</th>\n",
       "      <td>17.500000</td>\n",
       "      <td>4.000000</td>\n",
       "      <td>104.250000</td>\n",
       "      <td>2223.750000</td>\n",
       "      <td>13.825000</td>\n",
       "      <td>73.000000</td>\n",
       "      <td>1.000000</td>\n",
       "    </tr>\n",
       "    <tr>\n",
       "      <th>50%</th>\n",
       "      <td>23.000000</td>\n",
       "      <td>4.000000</td>\n",
       "      <td>148.500000</td>\n",
       "      <td>2803.500000</td>\n",
       "      <td>15.500000</td>\n",
       "      <td>76.000000</td>\n",
       "      <td>1.000000</td>\n",
       "    </tr>\n",
       "    <tr>\n",
       "      <th>75%</th>\n",
       "      <td>29.000000</td>\n",
       "      <td>8.000000</td>\n",
       "      <td>262.000000</td>\n",
       "      <td>3608.000000</td>\n",
       "      <td>17.175000</td>\n",
       "      <td>79.000000</td>\n",
       "      <td>2.000000</td>\n",
       "    </tr>\n",
       "    <tr>\n",
       "      <th>max</th>\n",
       "      <td>46.600000</td>\n",
       "      <td>8.000000</td>\n",
       "      <td>455.000000</td>\n",
       "      <td>5140.000000</td>\n",
       "      <td>24.800000</td>\n",
       "      <td>82.000000</td>\n",
       "      <td>3.000000</td>\n",
       "    </tr>\n",
       "  </tbody>\n",
       "</table>\n",
       "</div>"
      ],
      "text/plain": [
       "              mpg   cylinders  displacement       weight  acceleration  \\\n",
       "count  398.000000  398.000000    398.000000   398.000000    398.000000   \n",
       "mean    23.514573    5.454774    193.425879  2970.424623     15.568090   \n",
       "std      7.815984    1.701004    104.269838   846.841774      2.757689   \n",
       "min      9.000000    3.000000     68.000000  1613.000000      8.000000   \n",
       "25%     17.500000    4.000000    104.250000  2223.750000     13.825000   \n",
       "50%     23.000000    4.000000    148.500000  2803.500000     15.500000   \n",
       "75%     29.000000    8.000000    262.000000  3608.000000     17.175000   \n",
       "max     46.600000    8.000000    455.000000  5140.000000     24.800000   \n",
       "\n",
       "       model year      origin  \n",
       "count  398.000000  398.000000  \n",
       "mean    76.010050    1.572864  \n",
       "std      3.697627    0.802055  \n",
       "min     70.000000    1.000000  \n",
       "25%     73.000000    1.000000  \n",
       "50%     76.000000    1.000000  \n",
       "75%     79.000000    2.000000  \n",
       "max     82.000000    3.000000  "
      ]
     },
     "execution_count": 5,
     "metadata": {},
     "output_type": "execute_result"
    }
   ],
   "source": [
    "mpgDF.describe()"
   ]
  },
  {
   "cell_type": "code",
   "execution_count": 6,
   "metadata": {},
   "outputs": [
    {
     "data": {
      "text/plain": [
       "mpg             float64\n",
       "cylinders         int64\n",
       "displacement    float64\n",
       "horsepower       object\n",
       "weight            int64\n",
       "acceleration    float64\n",
       "model year        int64\n",
       "origin            int64\n",
       "dtype: object"
      ]
     },
     "execution_count": 6,
     "metadata": {},
     "output_type": "execute_result"
    }
   ],
   "source": [
    "mpgDF.dtypes"
   ]
  },
  {
   "cell_type": "code",
   "execution_count": 7,
   "metadata": {},
   "outputs": [
    {
     "data": {
      "text/plain": [
       "array(['130', '165', '150', '140', '198', '220', '215', '225', '190',\n",
       "       '170', '160', '95', '97', '85', '88', '46', '87', '90', '113',\n",
       "       '200', '210', '193', '?', '100', '105', '175', '153', '180', '110',\n",
       "       '72', '86', '70', '76', '65', '69', '60', '80', '54', '208', '155',\n",
       "       '112', '92', '145', '137', '158', '167', '94', '107', '230', '49',\n",
       "       '75', '91', '122', '67', '83', '78', '52', '61', '93', '148',\n",
       "       '129', '96', '71', '98', '115', '53', '81', '79', '120', '152',\n",
       "       '102', '108', '68', '58', '149', '89', '63', '48', '66', '139',\n",
       "       '103', '125', '133', '138', '135', '142', '77', '62', '132', '84',\n",
       "       '64', '74', '116', '82'], dtype=object)"
      ]
     },
     "execution_count": 7,
     "metadata": {},
     "output_type": "execute_result"
    }
   ],
   "source": [
    "mpgDF['horsepower'].unique()"
   ]
  },
  {
   "cell_type": "code",
   "execution_count": 9,
   "metadata": {},
   "outputs": [
    {
     "data": {
      "text/plain": [
       "(398, 8)"
      ]
     },
     "execution_count": 9,
     "metadata": {},
     "output_type": "execute_result"
    }
   ],
   "source": [
    "mpgDF.shape"
   ]
  },
  {
   "cell_type": "code",
   "execution_count": 8,
   "metadata": {},
   "outputs": [],
   "source": [
    "mask = mpgDF['horsepower'] == '?'"
   ]
  },
  {
   "cell_type": "code",
   "execution_count": 10,
   "metadata": {},
   "outputs": [
    {
     "data": {
      "text/plain": [
       "(392, 8)"
      ]
     },
     "execution_count": 10,
     "metadata": {},
     "output_type": "execute_result"
    }
   ],
   "source": [
    "nopower = mpgDF[mask]\n",
    "mpgDF.drop(index=nopower.index, inplace=True)\n",
    "mpgDF.shape"
   ]
  },
  {
   "cell_type": "code",
   "execution_count": 11,
   "metadata": {},
   "outputs": [],
   "source": [
    "mpgDF['horsepower(num)'] = pd.to_numeric(mpgDF['horsepower'])"
   ]
  },
  {
   "cell_type": "code",
   "execution_count": 12,
   "metadata": {},
   "outputs": [],
   "source": [
    "mpgDF.drop('horsepower', axis=1, inplace=True)"
   ]
  },
  {
   "cell_type": "code",
   "execution_count": 13,
   "metadata": {},
   "outputs": [
    {
     "data": {
      "text/html": [
       "<div>\n",
       "<style scoped>\n",
       "    .dataframe tbody tr th:only-of-type {\n",
       "        vertical-align: middle;\n",
       "    }\n",
       "\n",
       "    .dataframe tbody tr th {\n",
       "        vertical-align: top;\n",
       "    }\n",
       "\n",
       "    .dataframe thead th {\n",
       "        text-align: right;\n",
       "    }\n",
       "</style>\n",
       "<table border=\"1\" class=\"dataframe\">\n",
       "  <thead>\n",
       "    <tr style=\"text-align: right;\">\n",
       "      <th></th>\n",
       "      <th>mpg</th>\n",
       "      <th>cylinders</th>\n",
       "      <th>displacement</th>\n",
       "      <th>weight</th>\n",
       "      <th>acceleration</th>\n",
       "      <th>model year</th>\n",
       "      <th>origin</th>\n",
       "      <th>horsepower(num)</th>\n",
       "    </tr>\n",
       "  </thead>\n",
       "  <tbody>\n",
       "    <tr>\n",
       "      <th>mpg</th>\n",
       "      <td>1.000000</td>\n",
       "      <td>-0.777618</td>\n",
       "      <td>-0.805127</td>\n",
       "      <td>-0.832244</td>\n",
       "      <td>0.423329</td>\n",
       "      <td>0.580541</td>\n",
       "      <td>0.565209</td>\n",
       "      <td>-0.778427</td>\n",
       "    </tr>\n",
       "    <tr>\n",
       "      <th>cylinders</th>\n",
       "      <td>-0.777618</td>\n",
       "      <td>1.000000</td>\n",
       "      <td>0.950823</td>\n",
       "      <td>0.897527</td>\n",
       "      <td>-0.504683</td>\n",
       "      <td>-0.345647</td>\n",
       "      <td>-0.568932</td>\n",
       "      <td>0.842983</td>\n",
       "    </tr>\n",
       "    <tr>\n",
       "      <th>displacement</th>\n",
       "      <td>-0.805127</td>\n",
       "      <td>0.950823</td>\n",
       "      <td>1.000000</td>\n",
       "      <td>0.932994</td>\n",
       "      <td>-0.543800</td>\n",
       "      <td>-0.369855</td>\n",
       "      <td>-0.614535</td>\n",
       "      <td>0.897257</td>\n",
       "    </tr>\n",
       "    <tr>\n",
       "      <th>weight</th>\n",
       "      <td>-0.832244</td>\n",
       "      <td>0.897527</td>\n",
       "      <td>0.932994</td>\n",
       "      <td>1.000000</td>\n",
       "      <td>-0.416839</td>\n",
       "      <td>-0.309120</td>\n",
       "      <td>-0.585005</td>\n",
       "      <td>0.864538</td>\n",
       "    </tr>\n",
       "    <tr>\n",
       "      <th>acceleration</th>\n",
       "      <td>0.423329</td>\n",
       "      <td>-0.504683</td>\n",
       "      <td>-0.543800</td>\n",
       "      <td>-0.416839</td>\n",
       "      <td>1.000000</td>\n",
       "      <td>0.290316</td>\n",
       "      <td>0.212746</td>\n",
       "      <td>-0.689196</td>\n",
       "    </tr>\n",
       "    <tr>\n",
       "      <th>model year</th>\n",
       "      <td>0.580541</td>\n",
       "      <td>-0.345647</td>\n",
       "      <td>-0.369855</td>\n",
       "      <td>-0.309120</td>\n",
       "      <td>0.290316</td>\n",
       "      <td>1.000000</td>\n",
       "      <td>0.181528</td>\n",
       "      <td>-0.416361</td>\n",
       "    </tr>\n",
       "    <tr>\n",
       "      <th>origin</th>\n",
       "      <td>0.565209</td>\n",
       "      <td>-0.568932</td>\n",
       "      <td>-0.614535</td>\n",
       "      <td>-0.585005</td>\n",
       "      <td>0.212746</td>\n",
       "      <td>0.181528</td>\n",
       "      <td>1.000000</td>\n",
       "      <td>-0.455171</td>\n",
       "    </tr>\n",
       "    <tr>\n",
       "      <th>horsepower(num)</th>\n",
       "      <td>-0.778427</td>\n",
       "      <td>0.842983</td>\n",
       "      <td>0.897257</td>\n",
       "      <td>0.864538</td>\n",
       "      <td>-0.689196</td>\n",
       "      <td>-0.416361</td>\n",
       "      <td>-0.455171</td>\n",
       "      <td>1.000000</td>\n",
       "    </tr>\n",
       "  </tbody>\n",
       "</table>\n",
       "</div>"
      ],
      "text/plain": [
       "                      mpg  cylinders  displacement    weight  acceleration  \\\n",
       "mpg              1.000000  -0.777618     -0.805127 -0.832244      0.423329   \n",
       "cylinders       -0.777618   1.000000      0.950823  0.897527     -0.504683   \n",
       "displacement    -0.805127   0.950823      1.000000  0.932994     -0.543800   \n",
       "weight          -0.832244   0.897527      0.932994  1.000000     -0.416839   \n",
       "acceleration     0.423329  -0.504683     -0.543800 -0.416839      1.000000   \n",
       "model year       0.580541  -0.345647     -0.369855 -0.309120      0.290316   \n",
       "origin           0.565209  -0.568932     -0.614535 -0.585005      0.212746   \n",
       "horsepower(num) -0.778427   0.842983      0.897257  0.864538     -0.689196   \n",
       "\n",
       "                 model year    origin  horsepower(num)  \n",
       "mpg                0.580541  0.565209        -0.778427  \n",
       "cylinders         -0.345647 -0.568932         0.842983  \n",
       "displacement      -0.369855 -0.614535         0.897257  \n",
       "weight            -0.309120 -0.585005         0.864538  \n",
       "acceleration       0.290316  0.212746        -0.689196  \n",
       "model year         1.000000  0.181528        -0.416361  \n",
       "origin             0.181528  1.000000        -0.455171  \n",
       "horsepower(num)   -0.416361 -0.455171         1.000000  "
      ]
     },
     "execution_count": 13,
     "metadata": {},
     "output_type": "execute_result"
    }
   ],
   "source": [
    "mpgDF_corr=mpgDF.corr()\n",
    "mpgDF_corr"
   ]
  },
  {
   "cell_type": "code",
   "execution_count": 14,
   "metadata": {},
   "outputs": [
    {
     "data": {
      "text/plain": [
       "<Axes: >"
      ]
     },
     "execution_count": 14,
     "metadata": {},
     "output_type": "execute_result"
    },
    {
     "data": {
      "image/png": "[encoded data removed]",
      "text/plain": [
       "<Figure size 640x480 with 2 Axes>"
      ]
     },
     "metadata": {},
     "output_type": "display_data"
    }
   ],
   "source": [
    "sns.heatmap(mpgDF_corr, annot=True, cmap='coolwarm', fmt='.2f', linewidths=0.5)"
   ]
  },
  {
   "cell_type": "code",
   "execution_count": 15,
   "metadata": {},
   "outputs": [
    {
     "data": {
      "image/png": "[encoded data removed]",
      "text/plain": [
       "<Figure size 640x480 with 1 Axes>"
      ]
     },
     "metadata": {},
     "output_type": "display_data"
    }
   ],
   "source": [
    "# 현재 데이터의 분포 확인 (weight-mpg)\n",
    "\n",
    "plt.plot(mpgDF['weight'], mpgDF['mpg'], 'gs', label='weight')\n",
    "plt.xlabel('weight')\n",
    "plt.ylabel('mpg')\n",
    "plt.legend()\n",
    "plt.show()"
   ]
  },
  {
   "cell_type": "code",
   "execution_count": 16,
   "metadata": {},
   "outputs": [
    {
     "data": {
      "image/png": "[encoded data removed]",
      "text/plain": [
       "<Figure size 640x480 with 1 Axes>"
      ]
     },
     "metadata": {},
     "output_type": "display_data"
    }
   ],
   "source": [
    "# 현재 데이터의 분포 확인 (displacements-mpg)\n",
    "\n",
    "plt.plot(mpgDF['displacement'], mpgDF['mpg'], 'bo', label='displacement')\n",
    "plt.xlabel('displacement')\n",
    "plt.ylabel('mpg')\n",
    "plt.legend()\n",
    "plt.show()"
   ]
  },
  {
   "cell_type": "code",
   "execution_count": 17,
   "metadata": {},
   "outputs": [
    {
     "data": {
      "image/png": "[encoded data removed]",
      "text/plain": [
       "<Figure size 640x480 with 1 Axes>"
      ]
     },
     "metadata": {},
     "output_type": "display_data"
    }
   ],
   "source": [
    "# 현재 데이터의 분포 확인 (cylinders-mpg)\n",
    "\n",
    "plt.plot(mpgDF['cylinders'], mpgDF['mpg'], 'r^', label='cylinders')\n",
    "plt.xlabel('cylinders')\n",
    "plt.ylabel('mpg')\n",
    "plt.legend()\n",
    "plt.show()"
   ]
  },
  {
   "cell_type": "code",
   "execution_count": 18,
   "metadata": {},
   "outputs": [],
   "source": [
    "### 학습용 데이터셋 구성 ==> 피쳐와 타겟\n",
    "### 피쳐: weight, displacement / 타겟: mpg\n",
    "\n",
    "dataDF=pd.DataFrame({'weight':mpgDF['weight'], 'displacement':mpgDF['displacement']})\n",
    "mpgSR=pd.Series(mpgDF['mpg'])"
   ]
  },
  {
   "cell_type": "code",
   "execution_count": 19,
   "metadata": {},
   "outputs": [
    {
     "data": {
      "text/html": [
       "<div>\n",
       "<style scoped>\n",
       "    .dataframe tbody tr th:only-of-type {\n",
       "        vertical-align: middle;\n",
       "    }\n",
       "\n",
       "    .dataframe tbody tr th {\n",
       "        vertical-align: top;\n",
       "    }\n",
       "\n",
       "    .dataframe thead th {\n",
       "        text-align: right;\n",
       "    }\n",
       "</style>\n",
       "<table border=\"1\" class=\"dataframe\">\n",
       "  <thead>\n",
       "    <tr style=\"text-align: right;\">\n",
       "      <th></th>\n",
       "      <th>weight</th>\n",
       "      <th>displacement</th>\n",
       "    </tr>\n",
       "  </thead>\n",
       "  <tbody>\n",
       "    <tr>\n",
       "      <th>0</th>\n",
       "      <td>3504</td>\n",
       "      <td>307.0</td>\n",
       "    </tr>\n",
       "    <tr>\n",
       "      <th>1</th>\n",
       "      <td>3693</td>\n",
       "      <td>350.0</td>\n",
       "    </tr>\n",
       "    <tr>\n",
       "      <th>2</th>\n",
       "      <td>3436</td>\n",
       "      <td>318.0</td>\n",
       "    </tr>\n",
       "    <tr>\n",
       "      <th>3</th>\n",
       "      <td>3433</td>\n",
       "      <td>304.0</td>\n",
       "    </tr>\n",
       "    <tr>\n",
       "      <th>4</th>\n",
       "      <td>3449</td>\n",
       "      <td>302.0</td>\n",
       "    </tr>\n",
       "    <tr>\n",
       "      <th>...</th>\n",
       "      <td>...</td>\n",
       "      <td>...</td>\n",
       "    </tr>\n",
       "    <tr>\n",
       "      <th>393</th>\n",
       "      <td>2790</td>\n",
       "      <td>140.0</td>\n",
       "    </tr>\n",
       "    <tr>\n",
       "      <th>394</th>\n",
       "      <td>2130</td>\n",
       "      <td>97.0</td>\n",
       "    </tr>\n",
       "    <tr>\n",
       "      <th>395</th>\n",
       "      <td>2295</td>\n",
       "      <td>135.0</td>\n",
       "    </tr>\n",
       "    <tr>\n",
       "      <th>396</th>\n",
       "      <td>2625</td>\n",
       "      <td>120.0</td>\n",
       "    </tr>\n",
       "    <tr>\n",
       "      <th>397</th>\n",
       "      <td>2720</td>\n",
       "      <td>119.0</td>\n",
       "    </tr>\n",
       "  </tbody>\n",
       "</table>\n",
       "<p>392 rows × 2 columns</p>\n",
       "</div>"
      ],
      "text/plain": [
       "     weight  displacement\n",
       "0      3504         307.0\n",
       "1      3693         350.0\n",
       "2      3436         318.0\n",
       "3      3433         304.0\n",
       "4      3449         302.0\n",
       "..      ...           ...\n",
       "393    2790         140.0\n",
       "394    2130          97.0\n",
       "395    2295         135.0\n",
       "396    2625         120.0\n",
       "397    2720         119.0\n",
       "\n",
       "[392 rows x 2 columns]"
      ]
     },
     "execution_count": 19,
     "metadata": {},
     "output_type": "execute_result"
    }
   ],
   "source": [
    "dataDF"
   ]
  },
  {
   "cell_type": "code",
   "execution_count": 20,
   "metadata": {},
   "outputs": [
    {
     "data": {
      "text/plain": [
       "0      18.0\n",
       "1      15.0\n",
       "2      18.0\n",
       "3      16.0\n",
       "4      17.0\n",
       "       ... \n",
       "393    27.0\n",
       "394    44.0\n",
       "395    32.0\n",
       "396    28.0\n",
       "397    31.0\n",
       "Name: mpg, Length: 392, dtype: float64"
      ]
     },
     "execution_count": 20,
     "metadata": {},
     "output_type": "execute_result"
    }
   ],
   "source": [
    "mpgSR"
   ]
  },
  {
   "cell_type": "code",
   "execution_count": 21,
   "metadata": {},
   "outputs": [
    {
     "data": {
      "text/plain": [
       "((392, 2), (392,))"
      ]
     },
     "execution_count": 21,
     "metadata": {},
     "output_type": "execute_result"
    }
   ],
   "source": [
    "dataDF.shape, mpgSR.shape"
   ]
  },
  {
   "cell_type": "markdown",
   "metadata": {},
   "source": [
    "[2] 학습 진행 - 다중 선형 회귀"
   ]
  },
  {
   "cell_type": "code",
   "execution_count": 22,
   "metadata": {},
   "outputs": [],
   "source": [
    "# 모듈 로딩\n",
    "from sklearn.linear_model import LinearRegression"
   ]
  },
  {
   "cell_type": "code",
   "execution_count": 23,
   "metadata": {},
   "outputs": [
    {
     "data": {
      "text/html": [
       "<style>#sk-container-id-1 {color: black;}#sk-container-id-1 pre{padding: 0;}#sk-container-id-1 div.sk-toggleable {background-color: white;}#sk-container-id-1 label.sk-toggleable__label {cursor: pointer;display: block;width: 100%;margin-bottom: 0;padding: 0.3em;box-sizing: border-box;text-align: center;}#sk-container-id-1 label.sk-toggleable__label-arrow:before {content: \"▸\";float: left;margin-right: 0.25em;color: #696969;}#sk-container-id-1 label.sk-toggleable__label-arrow:hover:before {color: black;}#sk-container-id-1 div.sk-estimator:hover label.sk-toggleable__label-arrow:before {color: black;}#sk-container-id-1 div.sk-toggleable__content {max-height: 0;max-width: 0;overflow: hidden;text-align: left;background-color: #f0f8ff;}#sk-container-id-1 div.sk-toggleable__content pre {margin: 0.2em;color: black;border-radius: 0.25em;background-color: #f0f8ff;}#sk-container-id-1 input.sk-toggleable__control:checked~div.sk-toggleable__content {max-height: 200px;max-width: 100%;overflow: auto;}#sk-container-id-1 input.sk-toggleable__control:checked~label.sk-toggleable__label-arrow:before {content: \"▾\";}#sk-container-id-1 div.sk-estimator input.sk-toggleable__control:checked~label.sk-toggleable__label {background-color: #d4ebff;}#sk-container-id-1 div.sk-label input.sk-toggleable__control:checked~label.sk-toggleable__label {background-color: #d4ebff;}#sk-container-id-1 input.sk-hidden--visually {border: 0;clip: rect(1px 1px 1px 1px);clip: rect(1px, 1px, 1px, 1px);height: 1px;margin: -1px;overflow: hidden;padding: 0;position: absolute;width: 1px;}#sk-container-id-1 div.sk-estimator {font-family: monospace;background-color: #f0f8ff;border: 1px dotted black;border-radius: 0.25em;box-sizing: border-box;margin-bottom: 0.5em;}#sk-container-id-1 div.sk-estimator:hover {background-color: #d4ebff;}#sk-container-id-1 div.sk-parallel-item::after {content: \"\";width: 100%;border-bottom: 1px solid gray;flex-grow: 1;}#sk-container-id-1 div.sk-label:hover label.sk-toggleable__label {background-color: #d4ebff;}#sk-container-id-1 div.sk-serial::before {content: \"\";position: absolute;border-left: 1px solid gray;box-sizing: border-box;top: 0;bottom: 0;left: 50%;z-index: 0;}#sk-container-id-1 div.sk-serial {display: flex;flex-direction: column;align-items: center;background-color: white;padding-right: 0.2em;padding-left: 0.2em;position: relative;}#sk-container-id-1 div.sk-item {position: relative;z-index: 1;}#sk-container-id-1 div.sk-parallel {display: flex;align-items: stretch;justify-content: center;background-color: white;position: relative;}#sk-container-id-1 div.sk-item::before, #sk-container-id-1 div.sk-parallel-item::before {content: \"\";position: absolute;border-left: 1px solid gray;box-sizing: border-box;top: 0;bottom: 0;left: 50%;z-index: -1;}#sk-container-id-1 div.sk-parallel-item {display: flex;flex-direction: column;z-index: 1;position: relative;background-color: white;}#sk-container-id-1 div.sk-parallel-item:first-child::after {align-self: flex-end;width: 50%;}#sk-container-id-1 div.sk-parallel-item:last-child::after {align-self: flex-start;width: 50%;}#sk-container-id-1 div.sk-parallel-item:only-child::after {width: 0;}#sk-container-id-1 div.sk-dashed-wrapped {border: 1px dashed gray;margin: 0 0.4em 0.5em 0.4em;box-sizing: border-box;padding-bottom: 0.4em;background-color: white;}#sk-container-id-1 div.sk-label label {font-family: monospace;font-weight: bold;display: inline-block;line-height: 1.2em;}#sk-container-id-1 div.sk-label-container {text-align: center;}#sk-container-id-1 div.sk-container {/* jupyter's `normalize.less` sets `[hidden] { display: none; }` but bootstrap.min.css set `[hidden] { display: none !important; }` so we also need the `!important` here to be able to override the default hidden behavior on the sphinx rendered scikit-learn.org. See: https://github.com/scikit-learn/scikit-learn/issues/21755 */display: inline-block !important;position: relative;}#sk-container-id-1 div.sk-text-repr-fallback {display: none;}</style><div id=\"sk-container-id-1\" class=\"sk-top-container\"><div class=\"sk-text-repr-fallback\"><pre>LinearRegression()</pre><b>In a Jupyter environment, please rerun this cell to show the HTML representation or trust the notebook. <br />On GitHub, the HTML representation is unable to render, please try loading this page with nbviewer.org.</b></div><div class=\"sk-container\" hidden><div class=\"sk-item\"><div class=\"sk-estimator sk-toggleable\"><input class=\"sk-toggleable__control sk-hidden--visually\" id=\"sk-estimator-id-1\" type=\"checkbox\" checked><label for=\"sk-estimator-id-1\" class=\"sk-toggleable__label sk-toggleable__label-arrow\">LinearRegression</label><div class=\"sk-toggleable__content\"><pre>LinearRegression()</pre></div></div></div></div></div>"
      ],
      "text/plain": [
       "LinearRegression()"
      ]
     },
     "execution_count": 23,
     "metadata": {},
     "output_type": "execute_result"
    }
   ],
   "source": [
    "# 학습 모델 인스턴스 생성\n",
    "model = LinearRegression()\n",
    "\n",
    "# 학습 진행\n",
    "model.fit(dataDF, mpgSR)"
   ]
  },
  {
   "cell_type": "code",
   "execution_count": 24,
   "metadata": {},
   "outputs": [
    {
     "name": "stdout",
     "output_type": "stream",
     "text": [
      "기울기 (2개) : [-0.00575113 -0.01649711]\n",
      "절편 : 43.77761939549803\n"
     ]
    }
   ],
   "source": [
    "# 학습 후 모델 파라미터\n",
    "print(f'기울기 ({len(model.coef_)}개) : {model.coef_}')\n",
    "print(f'절편 : {model.intercept_}')"
   ]
  },
  {
   "cell_type": "code",
   "execution_count": 25,
   "metadata": {},
   "outputs": [
    {
     "data": {
      "text/plain": [
       "0      18.561057\n",
       "1      16.764719\n",
       "2      18.770666\n",
       "3      19.018879\n",
       "4      18.959855\n",
       "         ...    \n",
       "393    25.422379\n",
       "394    29.927499\n",
       "395    28.351673\n",
       "396    26.701258\n",
       "397    26.171398\n",
       "Length: 392, dtype: float64"
      ]
     },
     "execution_count": 25,
     "metadata": {},
     "output_type": "execute_result"
    }
   ],
   "source": [
    "# y=ax+bx+c\n",
    "pre_mpg = model.coef_[0]*mpgDF['weight'] + model.coef_[1]*mpgDF['displacement'] + model.intercept_\n",
    "pre_mpg"
   ]
  },
  {
   "cell_type": "code",
   "execution_count": 26,
   "metadata": {},
   "outputs": [
    {
     "data": {
      "text/plain": [
       "array([18.56105739, 16.76471868, 18.77066584, 19.01887875, 18.95985493,\n",
       "       11.73471667, 11.24752429, 11.72003116, 10.82269715, 15.20190735,\n",
       "       16.96796061, 17.41278445, 15.54878658, 18.52345641, 28.27177248,\n",
       "       24.2182486 , 24.54106799, 25.60003166, 29.92749899, 31.6240815 ,\n",
       "       26.59592566, 28.03718976, 28.40299308, 28.93345115, 25.26571001,\n",
       "       11.29720835, 13.54607452, 13.33009956, 11.54816458, 29.92749899,\n",
       "       28.44747227, 29.09993479, 24.80182119, 20.2876436 , 20.50783986,\n",
       "       20.66312029, 21.04058404, 13.79713707, 11.50574419, 14.09695195,\n",
       "       14.97492192,  8.96239162,  9.88392634,  7.61798224, 22.48652665,\n",
       "       27.61930996, 20.77814284, 21.60055402, 28.99746982, 29.65431181,\n",
       "       30.54651008, 30.44979624, 32.40957622, 33.31325945, 31.62983263,\n",
       "       31.0329289 , 28.81237843, 29.94225495, 29.21435923, 27.61930996,\n",
       "       28.96296306, 13.4233138 , 11.96008324, 14.75062796, 14.24073013,\n",
       "       17.64435936, 10.05538754, 12.11205681, 12.37660866, 11.74729153,\n",
       "       29.22269551, 16.37911139, 15.14488787, 14.10015249, 15.08419334,\n",
       "       24.91341328, 27.34038893, 24.66535854, 29.6046796 , 27.99102257,\n",
       "       29.0188209 , 27.38564168, 29.71546356, 30.10003281, 14.42400993,\n",
       "       17.64435936, 15.06813617, 15.54943653, 16.80953148,  8.22077798,\n",
       "       11.50574419, 12.89496638, 14.164013  ,  9.28730437,  7.79760427,\n",
       "       15.86360331, 22.11650203, 20.80114734, 23.01322065, 22.27918702,\n",
       "       23.80991857, 30.96270188,  8.44039342,  8.96374599, 11.0729144 ,\n",
       "       12.12931019, 23.91039648, 29.07058105, 27.65956785, 28.31400013,\n",
       "       30.4074277 , 28.47986838, 27.00378118, 29.13459972, 14.52753021,\n",
       "       12.57545384, 31.9184616 , 29.45302236, 27.04753867, 25.28723654,\n",
       "       18.98345755, 26.48347099, 25.06065648, 16.93150136, 22.67119539,\n",
       "       23.26627024, 20.46758197, 31.25964984, 27.66895945, 32.04725521,\n",
       "       26.84865892, 17.90833039, 18.63327146, 19.28694748, 14.98007495,\n",
       "       10.97908476, 12.89876502, 12.12176475, 14.27994998, 29.39915157,\n",
       "       31.18488519, 28.94980738, 33.04023044, 30.88885167, 30.07173439,\n",
       "       30.16950355, 28.94692317, 27.48341084, 28.24498661, 30.97209349,\n",
       "       21.29409085, 19.76019333, 19.91547376, 21.4912826 , 10.33251425,\n",
       "       12.4686267 , 12.66296881, 11.204135  , 17.49713344, 17.24119964,\n",
       "       18.069661  , 18.29775361, 22.48911181, 20.93099628, 20.57017053,\n",
       "       29.69170278, 26.29079959, 23.19150559, 26.56110256, 26.02746123,\n",
       "       29.50812393, 27.17784483, 23.79525034, 31.1529463 , 21.48342083,\n",
       "       26.38691532, 24.79188333, 24.84439975, 26.42020859, 31.95310924,\n",
       "       27.84165144, 29.09645248, 26.67612511, 29.19211099, 29.4474294 ,\n",
       "       14.50500021, 14.43431597, 15.97653249, 13.74613319, 21.47237579,\n",
       "       20.36981281, 23.15580262, 22.20806285, 30.67182138, 29.71546356,\n",
       "       31.1529463 , 31.95310924, 19.06840464, 19.09881371, 18.69048368,\n",
       "       21.15801628, 31.68159277, 30.9306221 , 29.78372081, 26.716383  ,\n",
       "       23.5169447 , 15.87209776, 22.99178054, 24.35326784, 19.03679937,\n",
       "       12.81369432, 14.68281065, 16.5386304 , 16.93605628, 30.39984769,\n",
       "       29.55276129, 31.97854074, 28.53737965, 31.18942282, 16.4316278 ,\n",
       "       16.13879482, 14.72187233, 14.09440137, 19.40937458, 20.26917673,\n",
       "       19.18917831, 19.38061894, 12.90901922, 14.05018666, 12.30515087,\n",
       "       13.05599794, 31.02021315, 25.52846755, 29.15109683, 25.62366884,\n",
       "       30.36534093, 30.22731388, 30.76141243, 29.58243136, 25.17961855,\n",
       "       26.82853862, 26.81478483, 30.87689219, 31.80887384, 31.0748575 ,\n",
       "       30.47053193, 31.92435361, 20.13582819, 17.05107882, 18.26396855,\n",
       "       19.63655274, 22.33339144, 23.42610559, 25.82495829, 20.33940374,\n",
       "       21.48917195, 20.52797745, 22.82223724, 19.24668959, 19.91002169,\n",
       "       19.04839066, 20.15415418, 20.36312996, 15.06693996, 29.76722371,\n",
       "       26.84412129, 28.58687098, 29.22040941, 27.10292201, 25.41722636,\n",
       "       24.86708792, 27.98300263, 25.34080828, 23.03005138, 25.70706882,\n",
       "       21.47724705, 30.86463367, 29.88224625, 21.30437961, 23.28232742,\n",
       "       24.84726667, 21.17285996, 20.74198264, 16.66167289, 17.37254384,\n",
       "       15.24142625, 16.50472174, 12.92871687, 14.67206467, 18.64007791,\n",
       "       15.17921918, 31.23845693, 31.0003919 , 31.14749422, 26.42595972,\n",
       "       20.45716961, 15.57423536, 23.10543142, 19.8195162 , 29.39294322,\n",
       "       29.68049958, 30.75808829, 30.02648165, 25.93104645, 25.99944458,\n",
       "       25.39557623, 26.58667494, 29.8304861 , 30.99115846, 29.96851316,\n",
       "       30.74734231, 25.88503743, 24.96228922, 24.01592111, 20.62120897,\n",
       "       29.59393362, 25.97570109, 27.1786011 , 27.81621994, 28.96962863,\n",
       "       30.22398974, 25.10091437, 30.24048684, 30.30177948, 28.86399769,\n",
       "       24.81564411, 22.67787824, 31.63679725, 29.84123209, 31.6985471 ,\n",
       "       24.27032508, 28.70509406, 27.38715422, 28.84234756, 27.23020308,\n",
       "       26.1323359 , 26.13611726, 25.25179805, 27.83407143, 32.38111964,\n",
       "       31.57550462, 32.31936978, 30.30132226, 31.01688901, 30.51956604,\n",
       "       30.86039508, 29.30667631, 30.39984769, 28.4732201 , 29.45045449,\n",
       "       29.30243773, 28.48078282, 26.77526593, 26.64374628, 22.87538633,\n",
       "       23.2119768 , 24.32783635, 24.51823893, 20.326688  , 16.58068261,\n",
       "       22.87974852, 20.13811429, 26.94825696, 26.74696751, 28.15599366,\n",
       "       27.12079078, 27.02891363, 25.55722318, 24.99104485, 30.65819119,\n",
       "       30.63035   , 30.94666199, 29.82427776, 29.93975752, 29.37553167,\n",
       "       29.33119337, 29.08465117, 30.97541763, 30.97541763, 30.80288381,\n",
       "       23.85457321, 22.11572848, 26.33740671, 23.64584463, 26.07528184,\n",
       "       27.92033833, 24.32073084, 25.42237939, 29.92749899, 28.35167287,\n",
       "       26.70125755, 26.17139758])"
      ]
     },
     "execution_count": 26,
     "metadata": {},
     "output_type": "execute_result"
    }
   ],
   "source": [
    "pre_mpg=pre_mpg.values.reshape(-1)\n",
    "pre_mpg"
   ]
  },
  {
   "cell_type": "code",
   "execution_count": 27,
   "metadata": {},
   "outputs": [
    {
     "data": {
      "text/plain": [
       "(392,)"
      ]
     },
     "execution_count": 27,
     "metadata": {},
     "output_type": "execute_result"
    }
   ],
   "source": [
    "pre_mpg.shape"
   ]
  },
  {
   "cell_type": "code",
   "execution_count": 32,
   "metadata": {},
   "outputs": [],
   "source": [
    "# 실제 점수와 예측 점수의 차이 확인\n",
    "origin_mpg = mpgSR.to_numpy()"
   ]
  },
  {
   "cell_type": "code",
   "execution_count": 33,
   "metadata": {},
   "outputs": [
    {
     "data": {
      "text/plain": [
       "array([18. , 15. , 18. , 16. , 17. , 15. , 14. , 14. , 14. , 15. , 15. ,\n",
       "       14. , 15. , 14. , 24. , 22. , 18. , 21. , 27. , 26. , 25. , 24. ,\n",
       "       25. , 26. , 21. , 10. , 10. , 11. ,  9. , 27. , 28. , 25. , 19. ,\n",
       "       16. , 17. , 19. , 18. , 14. , 14. , 14. , 14. , 12. , 13. , 13. ,\n",
       "       18. , 22. , 19. , 18. , 23. , 28. , 30. , 30. , 31. , 35. , 27. ,\n",
       "       26. , 24. , 25. , 23. , 20. , 21. , 13. , 14. , 15. , 14. , 17. ,\n",
       "       11. , 13. , 12. , 13. , 19. , 15. , 13. , 13. , 14. , 18. , 22. ,\n",
       "       21. , 26. , 22. , 28. , 23. , 28. , 27. , 13. , 14. , 13. , 14. ,\n",
       "       15. , 12. , 13. , 13. , 14. , 13. , 12. , 13. , 18. , 16. , 18. ,\n",
       "       18. , 23. , 26. , 11. , 12. , 13. , 12. , 18. , 20. , 21. , 22. ,\n",
       "       18. , 19. , 21. , 26. , 15. , 16. , 29. , 24. , 20. , 19. , 15. ,\n",
       "       24. , 20. , 11. , 20. , 19. , 15. , 31. , 26. , 32. , 25. , 16. ,\n",
       "       16. , 18. , 16. , 13. , 14. , 14. , 14. , 29. , 26. , 26. , 31. ,\n",
       "       32. , 28. , 24. , 26. , 24. , 26. , 31. , 19. , 18. , 15. , 15. ,\n",
       "       16. , 15. , 16. , 14. , 17. , 16. , 15. , 18. , 21. , 20. , 13. ,\n",
       "       29. , 23. , 20. , 23. , 24. , 25. , 24. , 18. , 29. , 19. , 23. ,\n",
       "       23. , 22. , 25. , 33. , 28. , 25. , 25. , 26. , 27. , 17.5, 16. ,\n",
       "       15.5, 14.5, 22. , 22. , 24. , 22.5, 29. , 24.5, 29. , 33. , 20. ,\n",
       "       18. , 18.5, 17.5, 29.5, 32. , 28. , 26.5, 20. , 13. , 19. , 19. ,\n",
       "       16.5, 16.5, 13. , 13. , 13. , 31.5, 30. , 36. , 25.5, 33.5, 17.5,\n",
       "       17. , 15.5, 15. , 17.5, 20.5, 19. , 18.5, 16. , 15.5, 15.5, 16. ,\n",
       "       29. , 24.5, 26. , 25.5, 30.5, 33.5, 30. , 30.5, 22. , 21.5, 21.5,\n",
       "       43.1, 36.1, 32.8, 39.4, 36.1, 19.9, 19.4, 20.2, 19.2, 20.5, 20.2,\n",
       "       25.1, 20.5, 19.4, 20.6, 20.8, 18.6, 18.1, 19.2, 17.7, 18.1, 17.5,\n",
       "       30. , 27.5, 27.2, 30.9, 21.1, 23.2, 23.8, 23.9, 20.3, 17. , 21.6,\n",
       "       16.2, 31.5, 29.5, 21.5, 19.8, 22.3, 20.2, 20.6, 17. , 17.6, 16.5,\n",
       "       18.2, 16.9, 15.5, 19.2, 18.5, 31.9, 34.1, 35.7, 27.4, 25.4, 23. ,\n",
       "       27.2, 23.9, 34.2, 34.5, 31.8, 37.3, 28.4, 28.8, 26.8, 33.5, 41.5,\n",
       "       38.1, 32.1, 37.2, 28. , 26.4, 24.3, 19.1, 34.3, 29.8, 31.3, 37. ,\n",
       "       32.2, 46.6, 27.9, 40.8, 44.3, 43.4, 36.4, 30. , 44.6, 33.8, 29.8,\n",
       "       32.7, 23.7, 35. , 32.4, 27.2, 26.6, 25.8, 23.5, 30. , 39.1, 39. ,\n",
       "       35.1, 32.3, 37. , 37.7, 34.1, 34.7, 34.4, 29.9, 33. , 33.7, 32.4,\n",
       "       32.9, 31.6, 28.1, 30.7, 25.4, 24.2, 22.4, 26.6, 20.2, 17.6, 28. ,\n",
       "       27. , 34. , 31. , 29. , 27. , 24. , 36. , 37. , 31. , 38. , 36. ,\n",
       "       36. , 36. , 34. , 38. , 32. , 38. , 25. , 38. , 26. , 22. , 32. ,\n",
       "       36. , 27. , 27. , 44. , 32. , 28. , 31. ])"
      ]
     },
     "execution_count": 33,
     "metadata": {},
     "output_type": "execute_result"
    }
   ],
   "source": [
    "origin_mpg"
   ]
  },
  {
   "cell_type": "code",
   "execution_count": 34,
   "metadata": {},
   "outputs": [
    {
     "data": {
      "text/plain": [
       "array([ -0.56105739,  -1.76471868,  -0.77066584,  -3.01887875,\n",
       "        -1.95985493,   3.26528333,   2.75247571,   2.27996884,\n",
       "         3.17730285,  -0.20190735,  -1.96796061,  -3.41278445,\n",
       "        -0.54878658,  -4.52345641,  -4.27177248,  -2.2182486 ,\n",
       "        -6.54106799,  -4.60003166,  -2.92749899,  -5.6240815 ,\n",
       "        -1.59592566,  -4.03718976,  -3.40299308,  -2.93345115,\n",
       "        -4.26571001,  -1.29720835,  -3.54607452,  -2.33009956,\n",
       "        -2.54816458,  -2.92749899,  -0.44747227,  -4.09993479,\n",
       "        -5.80182119,  -4.2876436 ,  -3.50783986,  -1.66312029,\n",
       "        -3.04058404,   0.20286293,   2.49425581,  -0.09695195,\n",
       "        -0.97492192,   3.03760838,   3.11607366,   5.38201776,\n",
       "        -4.48652665,  -5.61930996,  -1.77814284,  -3.60055402,\n",
       "        -5.99746982,  -1.65431181,  -0.54651008,  -0.44979624,\n",
       "        -1.40957622,   1.68674055,  -4.62983263,  -5.0329289 ,\n",
       "        -4.81237843,  -4.94225495,  -6.21435923,  -7.61930996,\n",
       "        -7.96296306,  -0.4233138 ,   2.03991676,   0.24937204,\n",
       "        -0.24073013,  -0.64435936,   0.94461246,   0.88794319,\n",
       "        -0.37660866,   1.25270847, -10.22269551,  -1.37911139,\n",
       "        -2.14488787,  -1.10015249,  -1.08419334,  -6.91341328,\n",
       "        -5.34038893,  -3.66535854,  -3.6046796 ,  -5.99102257,\n",
       "        -1.0188209 ,  -4.38564168,  -1.71546356,  -3.10003281,\n",
       "        -1.42400993,  -3.64435936,  -2.06813617,  -1.54943653,\n",
       "        -1.80953148,   3.77922202,   1.49425581,   0.10503362,\n",
       "        -0.164013  ,   3.71269563,   4.20239573,  -2.86360331,\n",
       "        -4.11650203,  -4.80114734,  -5.01322065,  -4.27918702,\n",
       "        -0.80991857,  -4.96270188,   2.55960658,   3.03625401,\n",
       "         1.9270856 ,  -0.12931019,  -5.91039648,  -9.07058105,\n",
       "        -6.65956785,  -6.31400013, -12.4074277 ,  -9.47986838,\n",
       "        -6.00378118,  -3.13459972,   0.47246979,   3.42454616,\n",
       "        -2.9184616 ,  -5.45302236,  -7.04753867,  -6.28723654,\n",
       "        -3.98345755,  -2.48347099,  -5.06065648,  -5.93150136,\n",
       "        -2.67119539,  -4.26627024,  -5.46758197,  -0.25964984,\n",
       "        -1.66895945,  -0.04725521,  -1.84865892,  -1.90833039,\n",
       "        -2.63327146,  -1.28694748,   1.01992505,   2.02091524,\n",
       "         1.10123498,   1.87823525,  -0.27994998,  -0.39915157,\n",
       "        -5.18488519,  -2.94980738,  -2.04023044,   1.11114833,\n",
       "        -2.07173439,  -6.16950355,  -2.94692317,  -3.48341084,\n",
       "        -2.24498661,   0.02790651,  -2.29409085,  -1.76019333,\n",
       "        -4.91547376,  -6.4912826 ,   5.66748575,   2.5313733 ,\n",
       "         3.33703119,   2.795865  ,  -0.49713344,  -1.24119964,\n",
       "        -3.069661  ,  -0.29775361,  -1.48911181,  -0.93099628,\n",
       "        -7.57017053,  -0.69170278,  -3.29079959,  -3.19150559,\n",
       "        -3.56110256,  -2.02746123,  -4.50812393,  -3.17784483,\n",
       "        -5.79525034,  -2.1529463 ,  -2.48342083,  -3.38691532,\n",
       "        -1.79188333,  -2.84439975,  -1.42020859,   1.04689076,\n",
       "         0.15834856,  -4.09645248,  -1.67612511,  -3.19211099,\n",
       "        -2.4474294 ,   2.99499979,   1.56568403,  -0.47653249,\n",
       "         0.75386681,   0.52762421,   1.63018719,   0.84419738,\n",
       "         0.29193715,  -1.67182138,  -5.21546356,  -2.1529463 ,\n",
       "         1.04689076,   0.93159536,  -1.09881371,  -0.19048368,\n",
       "        -3.65801628,  -2.18159277,   1.0693779 ,  -1.78372081,\n",
       "        -0.216383  ,  -3.5169447 ,  -2.87209776,  -3.99178054,\n",
       "        -5.35326784,  -2.53679937,   3.68630568,  -1.68281065,\n",
       "        -3.5386304 ,  -3.93605628,   1.10015231,   0.44723871,\n",
       "         4.02145926,  -3.03737965,   2.31057718,   1.0683722 ,\n",
       "         0.86120518,   0.77812767,   0.90559863,  -1.90937458,\n",
       "         0.23082327,  -0.18917831,  -0.88061894,   3.09098078,\n",
       "         1.44981334,   3.19484913,   2.94400206,  -2.02021315,\n",
       "        -1.02846755,  -3.15109683,  -0.12366884,   0.13465907,\n",
       "         3.27268612,  -0.76141243,   0.91756864,  -3.17961855,\n",
       "        -5.32853862,  -5.31478483,  12.22310781,   4.29112616,\n",
       "         1.7251425 ,   8.92946807,   4.17564639,  -0.23582819,\n",
       "         2.34892118,   1.93603145,  -0.43655274,  -1.83339144,\n",
       "        -3.22610559,  -0.72495829,   0.16059626,  -2.08917195,\n",
       "         0.07202255,  -2.02223724,  -0.64668959,  -1.81002169,\n",
       "         0.15160934,  -2.45415418,  -2.26312996,   2.43306004,\n",
       "         0.23277629,   0.65587871,  -1.38687098,   1.67959059,\n",
       "        -6.00292201,  -2.21722636,  -1.06708792,  -4.08300263,\n",
       "        -5.04080828,  -6.03005138,  -4.10706882,  -5.27724705,\n",
       "         0.63536633,  -0.38224625,   0.19562039,  -3.48232742,\n",
       "        -2.54726667,  -0.97285996,  -0.14198264,   0.33832711,\n",
       "         0.22745616,   1.25857375,   1.69527826,   3.97128313,\n",
       "         0.82793533,   0.55992209,   3.32078082,   0.66154307,\n",
       "         3.0996081 ,   4.55250578,   0.97404028,   4.94283039,\n",
       "         7.42576464,   4.09456858,   4.0804838 ,   4.80705678,\n",
       "         4.81950042,   1.04191171,   7.27351835,   2.46895355,\n",
       "         2.80055542,   1.40442377,   6.91332506,  11.6695139 ,\n",
       "         7.10884154,   2.13148684,   6.45265769,   2.11496257,\n",
       "         1.43771078,   0.28407889,  -1.52120897,   4.70606638,\n",
       "         3.82429891,   4.1213989 ,   9.18378006,   3.23037137,\n",
       "        16.37601026,   2.79908563,  10.55951316,  13.99822052,\n",
       "        14.53600231,  11.58435589,   7.32212176,  12.96320275,\n",
       "         3.95876791,  -1.8985471 ,   8.42967492,  -5.00509406,\n",
       "         7.61284578,   3.55765244,  -0.03020308,   0.4676641 ,\n",
       "        -0.33611726,  -1.75179805,   2.16592857,   6.71888036,\n",
       "         7.42449538,   2.78063022,   1.99867774,   5.98311099,\n",
       "         7.18043396,   3.23960492,   5.39332369,   4.00015231,\n",
       "         1.4267799 ,   3.54954551,   4.39756227,   3.91921718,\n",
       "         6.12473407,   4.95625372,   5.22461367,   7.4880232 ,\n",
       "         1.07216365,  -0.31823893,   2.073312  ,  10.01931739,\n",
       "        -2.67974852,  -2.53811429,   1.05174304,   0.25303249,\n",
       "         5.84400634,   3.87920922,   1.97108637,   1.44277682,\n",
       "        -0.99104485,   5.34180881,   6.36965   ,   0.05333801,\n",
       "         8.17572224,   6.06024248,   6.62446833,   6.66880663,\n",
       "         4.91534883,   7.02458237,   1.02458237,   7.19711619,\n",
       "         1.14542679,  15.88427152,  -0.33740671,  -1.64584463,\n",
       "         5.92471816,   8.07966167,   2.67926916,   1.57762061,\n",
       "        14.07250101,   3.64832713,   1.29874245,   4.82860242])"
      ]
     },
     "execution_count": 34,
     "metadata": {},
     "output_type": "execute_result"
    }
   ],
   "source": [
    "delta_mpg = origin_mpg - pre_mpg\n",
    "delta_mpg"
   ]
  },
  {
   "cell_type": "code",
   "execution_count": 40,
   "metadata": {},
   "outputs": [
    {
     "data": {
      "image/png": "[encoded data removed]",
      "text/plain": [
       "<Figure size 640x480 with 1 Axes>"
      ]
     },
     "metadata": {},
     "output_type": "display_data"
    }
   ],
   "source": [
    "# 현재 데이터의 분포 확인\n",
    "\n",
    "plt.plot(mpgDF['weight'], mpgDF['mpg'], 'gs', label='origin_mpg')\n",
    "plt.plot(mpgDF['weight'], pre_mpg, 'r^', label='Predict_mpg')\n",
    "plt.plot(mpgDF['weight'], delta_mpg, 'bo', label='delta_mpg(origin_mpg - Predict_mpg)')\n",
    "plt.xlabel('Weight', size=15)\n",
    "plt.ylabel('Mpg', size=15)\n",
    "plt.legend()\n",
    "plt.show()"
   ]
  },
  {
   "cell_type": "markdown",
   "metadata": {},
   "source": [
    "[3] 모델 성능 평가"
   ]
  },
  {
   "cell_type": "code",
   "execution_count": 41,
   "metadata": {},
   "outputs": [],
   "source": [
    "### 모듈 로딩, 손실/비용함수로 오차 계산, 결정계수\n",
    "### root_mean_squared_error는 v.1.4 이상\n",
    "\n",
    "from sklearn.metrics import mean_squared_error, mean_absolute_error, r2_score"
   ]
  },
  {
   "cell_type": "code",
   "execution_count": 42,
   "metadata": {},
   "outputs": [
    {
     "data": {
      "text/html": [
       "<div>\n",
       "<style scoped>\n",
       "    .dataframe tbody tr th:only-of-type {\n",
       "        vertical-align: middle;\n",
       "    }\n",
       "\n",
       "    .dataframe tbody tr th {\n",
       "        vertical-align: top;\n",
       "    }\n",
       "\n",
       "    .dataframe thead th {\n",
       "        text-align: right;\n",
       "    }\n",
       "</style>\n",
       "<table border=\"1\" class=\"dataframe\">\n",
       "  <thead>\n",
       "    <tr style=\"text-align: right;\">\n",
       "      <th></th>\n",
       "      <th>weight</th>\n",
       "      <th>displacement</th>\n",
       "    </tr>\n",
       "  </thead>\n",
       "  <tbody>\n",
       "    <tr>\n",
       "      <th>0</th>\n",
       "      <td>3504</td>\n",
       "      <td>307.0</td>\n",
       "    </tr>\n",
       "    <tr>\n",
       "      <th>1</th>\n",
       "      <td>3693</td>\n",
       "      <td>350.0</td>\n",
       "    </tr>\n",
       "    <tr>\n",
       "      <th>2</th>\n",
       "      <td>3436</td>\n",
       "      <td>318.0</td>\n",
       "    </tr>\n",
       "    <tr>\n",
       "      <th>3</th>\n",
       "      <td>3433</td>\n",
       "      <td>304.0</td>\n",
       "    </tr>\n",
       "    <tr>\n",
       "      <th>4</th>\n",
       "      <td>3449</td>\n",
       "      <td>302.0</td>\n",
       "    </tr>\n",
       "    <tr>\n",
       "      <th>...</th>\n",
       "      <td>...</td>\n",
       "      <td>...</td>\n",
       "    </tr>\n",
       "    <tr>\n",
       "      <th>393</th>\n",
       "      <td>2790</td>\n",
       "      <td>140.0</td>\n",
       "    </tr>\n",
       "    <tr>\n",
       "      <th>394</th>\n",
       "      <td>2130</td>\n",
       "      <td>97.0</td>\n",
       "    </tr>\n",
       "    <tr>\n",
       "      <th>395</th>\n",
       "      <td>2295</td>\n",
       "      <td>135.0</td>\n",
       "    </tr>\n",
       "    <tr>\n",
       "      <th>396</th>\n",
       "      <td>2625</td>\n",
       "      <td>120.0</td>\n",
       "    </tr>\n",
       "    <tr>\n",
       "      <th>397</th>\n",
       "      <td>2720</td>\n",
       "      <td>119.0</td>\n",
       "    </tr>\n",
       "  </tbody>\n",
       "</table>\n",
       "<p>392 rows × 2 columns</p>\n",
       "</div>"
      ],
      "text/plain": [
       "     weight  displacement\n",
       "0      3504         307.0\n",
       "1      3693         350.0\n",
       "2      3436         318.0\n",
       "3      3433         304.0\n",
       "4      3449         302.0\n",
       "..      ...           ...\n",
       "393    2790         140.0\n",
       "394    2130          97.0\n",
       "395    2295         135.0\n",
       "396    2625         120.0\n",
       "397    2720         119.0\n",
       "\n",
       "[392 rows x 2 columns]"
      ]
     },
     "execution_count": 42,
     "metadata": {},
     "output_type": "execute_result"
    }
   ],
   "source": [
    "dataDF"
   ]
  },
  {
   "cell_type": "code",
   "execution_count": 43,
   "metadata": {},
   "outputs": [
    {
     "data": {
      "text/plain": [
       "0      18.0\n",
       "1      15.0\n",
       "2      18.0\n",
       "3      16.0\n",
       "4      17.0\n",
       "       ... \n",
       "393    27.0\n",
       "394    44.0\n",
       "395    32.0\n",
       "396    28.0\n",
       "397    31.0\n",
       "Name: mpg, Length: 392, dtype: float64"
      ]
     },
     "execution_count": 43,
     "metadata": {},
     "output_type": "execute_result"
    }
   ],
   "source": [
    "mpgSR"
   ]
  },
  {
   "cell_type": "code",
   "execution_count": 44,
   "metadata": {},
   "outputs": [
    {
     "name": "stdout",
     "output_type": "stream",
     "text": [
      "score: 0.6989667867785285\n"
     ]
    }
   ],
   "source": [
    "# mpg => 내부에서 predict() 진행 ==> 결과로 R2 계수 추출해서 반환\n",
    "score = model.score(dataDF, mpgSR)\n",
    "print(f'score: {score}')"
   ]
  },
  {
   "cell_type": "code",
   "execution_count": 46,
   "metadata": {},
   "outputs": [
    {
     "data": {
      "text/plain": [
       "array([18.56105739, 16.76471868, 18.77066584, 19.01887875, 18.95985493,\n",
       "       11.73471667, 11.24752429, 11.72003116, 10.82269715, 15.20190735,\n",
       "       16.96796061, 17.41278445, 15.54878658, 18.52345641, 28.27177248,\n",
       "       24.2182486 , 24.54106799, 25.60003166, 29.92749899, 31.6240815 ,\n",
       "       26.59592566, 28.03718976, 28.40299308, 28.93345115, 25.26571001,\n",
       "       11.29720835, 13.54607452, 13.33009956, 11.54816458, 29.92749899,\n",
       "       28.44747227, 29.09993479, 24.80182119, 20.2876436 , 20.50783986,\n",
       "       20.66312029, 21.04058404, 13.79713707, 11.50574419, 14.09695195,\n",
       "       14.97492192,  8.96239162,  9.88392634,  7.61798224, 22.48652665,\n",
       "       27.61930996, 20.77814284, 21.60055402, 28.99746982, 29.65431181,\n",
       "       30.54651008, 30.44979624, 32.40957622, 33.31325945, 31.62983263,\n",
       "       31.0329289 , 28.81237843, 29.94225495, 29.21435923, 27.61930996,\n",
       "       28.96296306, 13.4233138 , 11.96008324, 14.75062796, 14.24073013,\n",
       "       17.64435936, 10.05538754, 12.11205681, 12.37660866, 11.74729153,\n",
       "       29.22269551, 16.37911139, 15.14488787, 14.10015249, 15.08419334,\n",
       "       24.91341328, 27.34038893, 24.66535854, 29.6046796 , 27.99102257,\n",
       "       29.0188209 , 27.38564168, 29.71546356, 30.10003281, 14.42400993,\n",
       "       17.64435936, 15.06813617, 15.54943653, 16.80953148,  8.22077798,\n",
       "       11.50574419, 12.89496638, 14.164013  ,  9.28730437,  7.79760427,\n",
       "       15.86360331, 22.11650203, 20.80114734, 23.01322065, 22.27918702,\n",
       "       23.80991857, 30.96270188,  8.44039342,  8.96374599, 11.0729144 ,\n",
       "       12.12931019, 23.91039648, 29.07058105, 27.65956785, 28.31400013,\n",
       "       30.4074277 , 28.47986838, 27.00378118, 29.13459972, 14.52753021,\n",
       "       12.57545384, 31.9184616 , 29.45302236, 27.04753867, 25.28723654,\n",
       "       18.98345755, 26.48347099, 25.06065648, 16.93150136, 22.67119539,\n",
       "       23.26627024, 20.46758197, 31.25964984, 27.66895945, 32.04725521,\n",
       "       26.84865892, 17.90833039, 18.63327146, 19.28694748, 14.98007495,\n",
       "       10.97908476, 12.89876502, 12.12176475, 14.27994998, 29.39915157,\n",
       "       31.18488519, 28.94980738, 33.04023044, 30.88885167, 30.07173439,\n",
       "       30.16950355, 28.94692317, 27.48341084, 28.24498661, 30.97209349,\n",
       "       21.29409085, 19.76019333, 19.91547376, 21.4912826 , 10.33251425,\n",
       "       12.4686267 , 12.66296881, 11.204135  , 17.49713344, 17.24119964,\n",
       "       18.069661  , 18.29775361, 22.48911181, 20.93099628, 20.57017053,\n",
       "       29.69170278, 26.29079959, 23.19150559, 26.56110256, 26.02746123,\n",
       "       29.50812393, 27.17784483, 23.79525034, 31.1529463 , 21.48342083,\n",
       "       26.38691532, 24.79188333, 24.84439975, 26.42020859, 31.95310924,\n",
       "       27.84165144, 29.09645248, 26.67612511, 29.19211099, 29.4474294 ,\n",
       "       14.50500021, 14.43431597, 15.97653249, 13.74613319, 21.47237579,\n",
       "       20.36981281, 23.15580262, 22.20806285, 30.67182138, 29.71546356,\n",
       "       31.1529463 , 31.95310924, 19.06840464, 19.09881371, 18.69048368,\n",
       "       21.15801628, 31.68159277, 30.9306221 , 29.78372081, 26.716383  ,\n",
       "       23.5169447 , 15.87209776, 22.99178054, 24.35326784, 19.03679937,\n",
       "       12.81369432, 14.68281065, 16.5386304 , 16.93605628, 30.39984769,\n",
       "       29.55276129, 31.97854074, 28.53737965, 31.18942282, 16.4316278 ,\n",
       "       16.13879482, 14.72187233, 14.09440137, 19.40937458, 20.26917673,\n",
       "       19.18917831, 19.38061894, 12.90901922, 14.05018666, 12.30515087,\n",
       "       13.05599794, 31.02021315, 25.52846755, 29.15109683, 25.62366884,\n",
       "       30.36534093, 30.22731388, 30.76141243, 29.58243136, 25.17961855,\n",
       "       26.82853862, 26.81478483, 30.87689219, 31.80887384, 31.0748575 ,\n",
       "       30.47053193, 31.92435361, 20.13582819, 17.05107882, 18.26396855,\n",
       "       19.63655274, 22.33339144, 23.42610559, 25.82495829, 20.33940374,\n",
       "       21.48917195, 20.52797745, 22.82223724, 19.24668959, 19.91002169,\n",
       "       19.04839066, 20.15415418, 20.36312996, 15.06693996, 29.76722371,\n",
       "       26.84412129, 28.58687098, 29.22040941, 27.10292201, 25.41722636,\n",
       "       24.86708792, 27.98300263, 25.34080828, 23.03005138, 25.70706882,\n",
       "       21.47724705, 30.86463367, 29.88224625, 21.30437961, 23.28232742,\n",
       "       24.84726667, 21.17285996, 20.74198264, 16.66167289, 17.37254384,\n",
       "       15.24142625, 16.50472174, 12.92871687, 14.67206467, 18.64007791,\n",
       "       15.17921918, 31.23845693, 31.0003919 , 31.14749422, 26.42595972,\n",
       "       20.45716961, 15.57423536, 23.10543142, 19.8195162 , 29.39294322,\n",
       "       29.68049958, 30.75808829, 30.02648165, 25.93104645, 25.99944458,\n",
       "       25.39557623, 26.58667494, 29.8304861 , 30.99115846, 29.96851316,\n",
       "       30.74734231, 25.88503743, 24.96228922, 24.01592111, 20.62120897,\n",
       "       29.59393362, 25.97570109, 27.1786011 , 27.81621994, 28.96962863,\n",
       "       30.22398974, 25.10091437, 30.24048684, 30.30177948, 28.86399769,\n",
       "       24.81564411, 22.67787824, 31.63679725, 29.84123209, 31.6985471 ,\n",
       "       24.27032508, 28.70509406, 27.38715422, 28.84234756, 27.23020308,\n",
       "       26.1323359 , 26.13611726, 25.25179805, 27.83407143, 32.38111964,\n",
       "       31.57550462, 32.31936978, 30.30132226, 31.01688901, 30.51956604,\n",
       "       30.86039508, 29.30667631, 30.39984769, 28.4732201 , 29.45045449,\n",
       "       29.30243773, 28.48078282, 26.77526593, 26.64374628, 22.87538633,\n",
       "       23.2119768 , 24.32783635, 24.51823893, 20.326688  , 16.58068261,\n",
       "       22.87974852, 20.13811429, 26.94825696, 26.74696751, 28.15599366,\n",
       "       27.12079078, 27.02891363, 25.55722318, 24.99104485, 30.65819119,\n",
       "       30.63035   , 30.94666199, 29.82427776, 29.93975752, 29.37553167,\n",
       "       29.33119337, 29.08465117, 30.97541763, 30.97541763, 30.80288381,\n",
       "       23.85457321, 22.11572848, 26.33740671, 23.64584463, 26.07528184,\n",
       "       27.92033833, 24.32073084, 25.42237939, 29.92749899, 28.35167287,\n",
       "       26.70125755, 26.17139758])"
      ]
     },
     "execution_count": 46,
     "metadata": {},
     "output_type": "execute_result"
    }
   ],
   "source": [
    "# 성능지표 => 오차계산과 결정계수 계산\n",
    "pre_mpg = model.predict(dataDF)\n",
    "pre_mpg"
   ]
  },
  {
   "cell_type": "code",
   "execution_count": 47,
   "metadata": {},
   "outputs": [],
   "source": [
    "# 손실/비율 계산 함수 ==> 정답과 예측값 : 0에 가까울수록 좋음\n",
    "mse=mean_squared_error(mpgSR, pre_mpg)\n",
    "rmse=mean_squared_error(mpgSR, pre_mpg, squared=False)\n",
    "mae=mean_absolute_error(mpgSR, pre_mpg)\n",
    "\n",
    "# 얼마나 정답에 가깝게 값을 예측했느냐를 나타내는 지표, ==> 정답과 예측값 제공 : 1에 가까울수록 좋음\n",
    "r2=r2_score(mpgSR, pre_mpg)"
   ]
  },
  {
   "cell_type": "code",
   "execution_count": 48,
   "metadata": {},
   "outputs": [
    {
     "name": "stdout",
     "output_type": "stream",
     "text": [
      "mse: 18.291602397426125\n",
      "rmse: 4.276868293205453\n",
      "mae: 3.256426863668596\n",
      "r2: 0.6989667867785285\n"
     ]
    }
   ],
   "source": [
    "## 손실/비용함수 값은 0에 가까울수록\n",
    "## 결정계수 값은 1에 가까울수록 성능 좋은 모델\n",
    "\n",
    "print(f'mse: {mse}')\n",
    "print(f'rmse: {rmse}')\n",
    "print(f'mae: {mae}')\n",
    "print(f'r2: {r2}')"
   ]
  },
  {
   "cell_type": "code",
   "execution_count": null,
   "metadata": {},
   "outputs": [],
   "source": []
  }
 ],
 "metadata": {
  "kernelspec": {
   "display_name": "ML_38",
   "language": "python",
   "name": "python3"
  },
  "language_info": {
   "codemirror_mode": {
    "name": "ipython",
    "version": 3
   },
   "file_extension": ".py",
   "mimetype": "text/x-python",
   "name": "python",
   "nbconvert_exporter": "python",
   "pygments_lexer": "ipython3",
   "version": "3.8.19"
  }
 },
 "nbformat": 4,
 "nbformat_minor": 2
}
