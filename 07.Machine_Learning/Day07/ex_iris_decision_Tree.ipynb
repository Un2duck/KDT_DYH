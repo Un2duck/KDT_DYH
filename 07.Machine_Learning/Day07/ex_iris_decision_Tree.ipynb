{
 "cells": [
  {
   "cell_type": "markdown",
   "metadata": {},
   "source": [
    "### 결정트리 알고리즘 기반 모델\n",
    "- 데이터셋의 피쳐(특성)을 기준으로 데이터를 분류하는 알고리즘\n",
    "- 질문방식으로 Yes/No 결과에 따라 데이터셋 분리가 됨.\n",
    "- 장점 : 스케일링이나 정규화 불필요 ==> 성능에 영향이 없음. 쉬운 알고리즘\n",
    "- 단점 : 과대적합 ===> 해결을 위한 많은 하이퍼 파라미터 존재!\n",
    "- 다른 ML 알고리즘에 비해 성능이 좋지 않음 ==> 단, 여러개의 DT가 모이면 성능이 강해짐.\n",
    "    - 앙상블에 주로 사용됨!"
   ]
  },
  {
   "cell_type": "markdown",
   "metadata": {},
   "source": [
    "[1] 모듈 로딩 및 데이터 준비"
   ]
  },
  {
   "cell_type": "code",
   "execution_count": 109,
   "metadata": {},
   "outputs": [],
   "source": [
    "# 모듈 로딩\n",
    "import pandas as pd\n",
    "import numpy as np\n",
    "from sklearn.datasets import load_iris"
   ]
  },
  {
   "cell_type": "code",
   "execution_count": 110,
   "metadata": {},
   "outputs": [
    {
     "name": "stdout",
     "output_type": "stream",
     "text": [
      "featureDF : (150, 4), 2D\n",
      "targetSR : (150,), 1D\n"
     ]
    }
   ],
   "source": [
    "# 데이터 로딩\n",
    "featureDF, targetSR = load_iris(as_frame=True, return_X_y=True)\n",
    "\n",
    "print(f'featureDF : {featureDF.shape}, {featureDF.ndim}D')\n",
    "print(f'targetSR : {targetSR.shape}, {targetSR.ndim}D')"
   ]
  },
  {
   "cell_type": "markdown",
   "metadata": {},
   "source": [
    "[2] 학습용 데이터셋 준비"
   ]
  },
  {
   "cell_type": "code",
   "execution_count": 111,
   "metadata": {},
   "outputs": [],
   "source": [
    "from sklearn.model_selection import train_test_split\n",
    "from sklearn.tree import DecisionTreeClassifier"
   ]
  },
  {
   "cell_type": "code",
   "execution_count": 112,
   "metadata": {},
   "outputs": [],
   "source": [
    "x_train, x_test, y_train, y_test = train_test_split(featureDF,\n",
    "                                                    targetSR,\n",
    "                                                    random_state=10,\n",
    "                                                    stratify=targetSR)"
   ]
  },
  {
   "cell_type": "code",
   "execution_count": 113,
   "metadata": {},
   "outputs": [
    {
     "name": "stdout",
     "output_type": "stream",
     "text": [
      "x_train : (112, 4), 2D\n",
      "x_test : (38, 4), 2D\n",
      "y_train : (112,), 1D\n",
      "y_test : (38,), 1D\n"
     ]
    }
   ],
   "source": [
    "print(f'x_train : {x_train.shape}, {x_train.ndim}D')\n",
    "print(f'x_test : {x_test.shape}, {x_test.ndim}D')\n",
    "\n",
    "print(f'y_train : {y_train.shape}, {y_train.ndim}D')\n",
    "print(f'y_test : {y_test.shape}, {y_test.ndim}D')"
   ]
  },
  {
   "cell_type": "markdown",
   "metadata": {},
   "source": [
    "[3] 기본학습"
   ]
  },
  {
   "cell_type": "code",
   "execution_count": 114,
   "metadata": {},
   "outputs": [
    {
     "data": {
      "text/html": [
       "<style>#sk-container-id-8 {color: black;}#sk-container-id-8 pre{padding: 0;}#sk-container-id-8 div.sk-toggleable {background-color: white;}#sk-container-id-8 label.sk-toggleable__label {cursor: pointer;display: block;width: 100%;margin-bottom: 0;padding: 0.3em;box-sizing: border-box;text-align: center;}#sk-container-id-8 label.sk-toggleable__label-arrow:before {content: \"▸\";float: left;margin-right: 0.25em;color: #696969;}#sk-container-id-8 label.sk-toggleable__label-arrow:hover:before {color: black;}#sk-container-id-8 div.sk-estimator:hover label.sk-toggleable__label-arrow:before {color: black;}#sk-container-id-8 div.sk-toggleable__content {max-height: 0;max-width: 0;overflow: hidden;text-align: left;background-color: #f0f8ff;}#sk-container-id-8 div.sk-toggleable__content pre {margin: 0.2em;color: black;border-radius: 0.25em;background-color: #f0f8ff;}#sk-container-id-8 input.sk-toggleable__control:checked~div.sk-toggleable__content {max-height: 200px;max-width: 100%;overflow: auto;}#sk-container-id-8 input.sk-toggleable__control:checked~label.sk-toggleable__label-arrow:before {content: \"▾\";}#sk-container-id-8 div.sk-estimator input.sk-toggleable__control:checked~label.sk-toggleable__label {background-color: #d4ebff;}#sk-container-id-8 div.sk-label input.sk-toggleable__control:checked~label.sk-toggleable__label {background-color: #d4ebff;}#sk-container-id-8 input.sk-hidden--visually {border: 0;clip: rect(1px 1px 1px 1px);clip: rect(1px, 1px, 1px, 1px);height: 1px;margin: -1px;overflow: hidden;padding: 0;position: absolute;width: 1px;}#sk-container-id-8 div.sk-estimator {font-family: monospace;background-color: #f0f8ff;border: 1px dotted black;border-radius: 0.25em;box-sizing: border-box;margin-bottom: 0.5em;}#sk-container-id-8 div.sk-estimator:hover {background-color: #d4ebff;}#sk-container-id-8 div.sk-parallel-item::after {content: \"\";width: 100%;border-bottom: 1px solid gray;flex-grow: 1;}#sk-container-id-8 div.sk-label:hover label.sk-toggleable__label {background-color: #d4ebff;}#sk-container-id-8 div.sk-serial::before {content: \"\";position: absolute;border-left: 1px solid gray;box-sizing: border-box;top: 0;bottom: 0;left: 50%;z-index: 0;}#sk-container-id-8 div.sk-serial {display: flex;flex-direction: column;align-items: center;background-color: white;padding-right: 0.2em;padding-left: 0.2em;position: relative;}#sk-container-id-8 div.sk-item {position: relative;z-index: 1;}#sk-container-id-8 div.sk-parallel {display: flex;align-items: stretch;justify-content: center;background-color: white;position: relative;}#sk-container-id-8 div.sk-item::before, #sk-container-id-8 div.sk-parallel-item::before {content: \"\";position: absolute;border-left: 1px solid gray;box-sizing: border-box;top: 0;bottom: 0;left: 50%;z-index: -1;}#sk-container-id-8 div.sk-parallel-item {display: flex;flex-direction: column;z-index: 1;position: relative;background-color: white;}#sk-container-id-8 div.sk-parallel-item:first-child::after {align-self: flex-end;width: 50%;}#sk-container-id-8 div.sk-parallel-item:last-child::after {align-self: flex-start;width: 50%;}#sk-container-id-8 div.sk-parallel-item:only-child::after {width: 0;}#sk-container-id-8 div.sk-dashed-wrapped {border: 1px dashed gray;margin: 0 0.4em 0.5em 0.4em;box-sizing: border-box;padding-bottom: 0.4em;background-color: white;}#sk-container-id-8 div.sk-label label {font-family: monospace;font-weight: bold;display: inline-block;line-height: 1.2em;}#sk-container-id-8 div.sk-label-container {text-align: center;}#sk-container-id-8 div.sk-container {/* jupyter's `normalize.less` sets `[hidden] { display: none; }` but bootstrap.min.css set `[hidden] { display: none !important; }` so we also need the `!important` here to be able to override the default hidden behavior on the sphinx rendered scikit-learn.org. See: https://github.com/scikit-learn/scikit-learn/issues/21755 */display: inline-block !important;position: relative;}#sk-container-id-8 div.sk-text-repr-fallback {display: none;}</style><div id=\"sk-container-id-8\" class=\"sk-top-container\"><div class=\"sk-text-repr-fallback\"><pre>DecisionTreeClassifier(random_state=10)</pre><b>In a Jupyter environment, please rerun this cell to show the HTML representation or trust the notebook. <br />On GitHub, the HTML representation is unable to render, please try loading this page with nbviewer.org.</b></div><div class=\"sk-container\" hidden><div class=\"sk-item\"><div class=\"sk-estimator sk-toggleable\"><input class=\"sk-toggleable__control sk-hidden--visually\" id=\"sk-estimator-id-21\" type=\"checkbox\" checked><label for=\"sk-estimator-id-21\" class=\"sk-toggleable__label sk-toggleable__label-arrow\">DecisionTreeClassifier</label><div class=\"sk-toggleable__content\"><pre>DecisionTreeClassifier(random_state=10)</pre></div></div></div></div></div>"
      ],
      "text/plain": [
       "DecisionTreeClassifier(random_state=10)"
      ]
     },
     "execution_count": 114,
     "metadata": {},
     "output_type": "execute_result"
    }
   ],
   "source": [
    "# 모델 인스턴스 생성\n",
    "dt_model = DecisionTreeClassifier(random_state=10)\n",
    "dt_model.fit(x_train, y_train)"
   ]
  },
  {
   "cell_type": "code",
   "execution_count": 115,
   "metadata": {},
   "outputs": [
    {
     "name": "stdout",
     "output_type": "stream",
     "text": [
      "[dt_model.classes_]: [0 1 2]\n",
      "[dt_model.n_classes_]: 3\n",
      "[dt_model.max_features_]: 4\n",
      "[dt_model.feature_importances_]: [0.03125249 0.         0.06844775 0.90029976]\n",
      "[dt_model.feature_names_in_]: ['sepal length (cm)' 'sepal width (cm)' 'petal length (cm)'\n",
      " 'petal width (cm)']\n"
     ]
    }
   ],
   "source": [
    "# 모델 파라미터 : 학습 fit() 후에 학습용 데이터셋을 기반으로 설정된 값들\n",
    "print(f'[dt_model.classes_]: {dt_model.classes_}')\n",
    "print(f'[dt_model.n_classes_]: {dt_model.n_classes_}')\n",
    "print(f'[dt_model.max_features_]: {dt_model.max_features_}')\n",
    "print(f'[dt_model.feature_importances_]: {dt_model.feature_importances_}')\n",
    "print(f'[dt_model.feature_names_in_]: {dt_model.feature_names_in_}')"
   ]
  },
  {
   "cell_type": "markdown",
   "metadata": {},
   "source": [
    "- 성능 체크"
   ]
  },
  {
   "cell_type": "code",
   "execution_count": 116,
   "metadata": {},
   "outputs": [],
   "source": [
    "# 학습용 데이터셋에 대한 성능\n",
    "train_score = dt_model.score(x_train, y_train)\n",
    "\n",
    "# 테스트용 데이터셋에 대한 성능\n",
    "test_score = dt_model.score(x_test, y_test)"
   ]
  },
  {
   "cell_type": "code",
   "execution_count": 117,
   "metadata": {},
   "outputs": [
    {
     "name": "stdout",
     "output_type": "stream",
     "text": [
      "train_score : test_score = 1.0 : 1.0\n"
     ]
    }
   ],
   "source": [
    "print(f'train_score : test_score = {train_score} : {test_score}')"
   ]
  },
  {
   "cell_type": "markdown",
   "metadata": {},
   "source": [
    "[4] 교차 검증 => 데이터셋 부족 해결 및 과대적합을 회피"
   ]
  },
  {
   "cell_type": "code",
   "execution_count": 118,
   "metadata": {},
   "outputs": [],
   "source": [
    "from sklearn.model_selection import StratifiedKFold, cross_validate"
   ]
  },
  {
   "cell_type": "code",
   "execution_count": 119,
   "metadata": {},
   "outputs": [],
   "source": [
    "# 교차검증 준비 ==> 모델 인스턴스, trainDS, cv=5[기본]\n",
    "dt_model2 = DecisionTreeClassifier(random_state=1)\n",
    "result=cross_validate(dt_model2, x_train, y_train,\n",
    "               return_train_score=True,\n",
    "               return_estimator=True)"
   ]
  },
  {
   "cell_type": "code",
   "execution_count": 120,
   "metadata": {},
   "outputs": [
    {
     "data": {
      "text/html": [
       "<div>\n",
       "<style scoped>\n",
       "    .dataframe tbody tr th:only-of-type {\n",
       "        vertical-align: middle;\n",
       "    }\n",
       "\n",
       "    .dataframe tbody tr th {\n",
       "        vertical-align: top;\n",
       "    }\n",
       "\n",
       "    .dataframe thead th {\n",
       "        text-align: right;\n",
       "    }\n",
       "</style>\n",
       "<table border=\"1\" class=\"dataframe\">\n",
       "  <thead>\n",
       "    <tr style=\"text-align: right;\">\n",
       "      <th></th>\n",
       "      <th>fit_time</th>\n",
       "      <th>score_time</th>\n",
       "      <th>estimator</th>\n",
       "      <th>test_score</th>\n",
       "      <th>train_score</th>\n",
       "    </tr>\n",
       "  </thead>\n",
       "  <tbody>\n",
       "    <tr>\n",
       "      <th>0</th>\n",
       "      <td>0.0</td>\n",
       "      <td>0.000000</td>\n",
       "      <td>DecisionTreeClassifier(random_state=1)</td>\n",
       "      <td>0.956522</td>\n",
       "      <td>1.0</td>\n",
       "    </tr>\n",
       "    <tr>\n",
       "      <th>1</th>\n",
       "      <td>0.0</td>\n",
       "      <td>0.014829</td>\n",
       "      <td>DecisionTreeClassifier(random_state=1)</td>\n",
       "      <td>0.956522</td>\n",
       "      <td>1.0</td>\n",
       "    </tr>\n",
       "    <tr>\n",
       "      <th>2</th>\n",
       "      <td>0.0</td>\n",
       "      <td>0.000000</td>\n",
       "      <td>DecisionTreeClassifier(random_state=1)</td>\n",
       "      <td>0.954545</td>\n",
       "      <td>1.0</td>\n",
       "    </tr>\n",
       "    <tr>\n",
       "      <th>3</th>\n",
       "      <td>0.0</td>\n",
       "      <td>0.000000</td>\n",
       "      <td>DecisionTreeClassifier(random_state=1)</td>\n",
       "      <td>0.863636</td>\n",
       "      <td>1.0</td>\n",
       "    </tr>\n",
       "    <tr>\n",
       "      <th>4</th>\n",
       "      <td>0.0</td>\n",
       "      <td>0.000000</td>\n",
       "      <td>DecisionTreeClassifier(random_state=1)</td>\n",
       "      <td>0.909091</td>\n",
       "      <td>1.0</td>\n",
       "    </tr>\n",
       "  </tbody>\n",
       "</table>\n",
       "</div>"
      ],
      "text/plain": [
       "   fit_time  score_time                               estimator  test_score  \\\n",
       "0       0.0    0.000000  DecisionTreeClassifier(random_state=1)    0.956522   \n",
       "1       0.0    0.014829  DecisionTreeClassifier(random_state=1)    0.956522   \n",
       "2       0.0    0.000000  DecisionTreeClassifier(random_state=1)    0.954545   \n",
       "3       0.0    0.000000  DecisionTreeClassifier(random_state=1)    0.863636   \n",
       "4       0.0    0.000000  DecisionTreeClassifier(random_state=1)    0.909091   \n",
       "\n",
       "   train_score  \n",
       "0          1.0  \n",
       "1          1.0  \n",
       "2          1.0  \n",
       "3          1.0  \n",
       "4          1.0  "
      ]
     },
     "execution_count": 120,
     "metadata": {},
     "output_type": "execute_result"
    }
   ],
   "source": [
    "# dict => DataFrame\n",
    "resultDF = pd.DataFrame(result)\n",
    "resultDF"
   ]
  },
  {
   "cell_type": "markdown",
   "metadata": {},
   "source": [
    "[5] 성능 향상 위한 튜닝 ==> 하이퍼 파라미터 설정\n",
    "- 단점 : 과대적합\n",
    "    * max_depth, min_samples_leaf, ...... ==> 多多"
   ]
  },
  {
   "cell_type": "code",
   "execution_count": 121,
   "metadata": {},
   "outputs": [],
   "source": [
    "from sklearn.model_selection import GridSearchCV"
   ]
  },
  {
   "cell_type": "code",
   "execution_count": 122,
   "metadata": {},
   "outputs": [],
   "source": [
    "# 하이퍼파라미터 dict 생성\n",
    "params = {'max_depth':[4,3,2,1],\n",
    "          'min_samples_leaf':[5,3,2]}"
   ]
  },
  {
   "cell_type": "code",
   "execution_count": 123,
   "metadata": {},
   "outputs": [
    {
     "data": {
      "text/html": [
       "<style>#sk-container-id-9 {color: black;}#sk-container-id-9 pre{padding: 0;}#sk-container-id-9 div.sk-toggleable {background-color: white;}#sk-container-id-9 label.sk-toggleable__label {cursor: pointer;display: block;width: 100%;margin-bottom: 0;padding: 0.3em;box-sizing: border-box;text-align: center;}#sk-container-id-9 label.sk-toggleable__label-arrow:before {content: \"▸\";float: left;margin-right: 0.25em;color: #696969;}#sk-container-id-9 label.sk-toggleable__label-arrow:hover:before {color: black;}#sk-container-id-9 div.sk-estimator:hover label.sk-toggleable__label-arrow:before {color: black;}#sk-container-id-9 div.sk-toggleable__content {max-height: 0;max-width: 0;overflow: hidden;text-align: left;background-color: #f0f8ff;}#sk-container-id-9 div.sk-toggleable__content pre {margin: 0.2em;color: black;border-radius: 0.25em;background-color: #f0f8ff;}#sk-container-id-9 input.sk-toggleable__control:checked~div.sk-toggleable__content {max-height: 200px;max-width: 100%;overflow: auto;}#sk-container-id-9 input.sk-toggleable__control:checked~label.sk-toggleable__label-arrow:before {content: \"▾\";}#sk-container-id-9 div.sk-estimator input.sk-toggleable__control:checked~label.sk-toggleable__label {background-color: #d4ebff;}#sk-container-id-9 div.sk-label input.sk-toggleable__control:checked~label.sk-toggleable__label {background-color: #d4ebff;}#sk-container-id-9 input.sk-hidden--visually {border: 0;clip: rect(1px 1px 1px 1px);clip: rect(1px, 1px, 1px, 1px);height: 1px;margin: -1px;overflow: hidden;padding: 0;position: absolute;width: 1px;}#sk-container-id-9 div.sk-estimator {font-family: monospace;background-color: #f0f8ff;border: 1px dotted black;border-radius: 0.25em;box-sizing: border-box;margin-bottom: 0.5em;}#sk-container-id-9 div.sk-estimator:hover {background-color: #d4ebff;}#sk-container-id-9 div.sk-parallel-item::after {content: \"\";width: 100%;border-bottom: 1px solid gray;flex-grow: 1;}#sk-container-id-9 div.sk-label:hover label.sk-toggleable__label {background-color: #d4ebff;}#sk-container-id-9 div.sk-serial::before {content: \"\";position: absolute;border-left: 1px solid gray;box-sizing: border-box;top: 0;bottom: 0;left: 50%;z-index: 0;}#sk-container-id-9 div.sk-serial {display: flex;flex-direction: column;align-items: center;background-color: white;padding-right: 0.2em;padding-left: 0.2em;position: relative;}#sk-container-id-9 div.sk-item {position: relative;z-index: 1;}#sk-container-id-9 div.sk-parallel {display: flex;align-items: stretch;justify-content: center;background-color: white;position: relative;}#sk-container-id-9 div.sk-item::before, #sk-container-id-9 div.sk-parallel-item::before {content: \"\";position: absolute;border-left: 1px solid gray;box-sizing: border-box;top: 0;bottom: 0;left: 50%;z-index: -1;}#sk-container-id-9 div.sk-parallel-item {display: flex;flex-direction: column;z-index: 1;position: relative;background-color: white;}#sk-container-id-9 div.sk-parallel-item:first-child::after {align-self: flex-end;width: 50%;}#sk-container-id-9 div.sk-parallel-item:last-child::after {align-self: flex-start;width: 50%;}#sk-container-id-9 div.sk-parallel-item:only-child::after {width: 0;}#sk-container-id-9 div.sk-dashed-wrapped {border: 1px dashed gray;margin: 0 0.4em 0.5em 0.4em;box-sizing: border-box;padding-bottom: 0.4em;background-color: white;}#sk-container-id-9 div.sk-label label {font-family: monospace;font-weight: bold;display: inline-block;line-height: 1.2em;}#sk-container-id-9 div.sk-label-container {text-align: center;}#sk-container-id-9 div.sk-container {/* jupyter's `normalize.less` sets `[hidden] { display: none; }` but bootstrap.min.css set `[hidden] { display: none !important; }` so we also need the `!important` here to be able to override the default hidden behavior on the sphinx rendered scikit-learn.org. See: https://github.com/scikit-learn/scikit-learn/issues/21755 */display: inline-block !important;position: relative;}#sk-container-id-9 div.sk-text-repr-fallback {display: none;}</style><div id=\"sk-container-id-9\" class=\"sk-top-container\"><div class=\"sk-text-repr-fallback\"><pre>GridSearchCV(estimator=DecisionTreeClassifier(),\n",
       "             param_grid={&#x27;max_depth&#x27;: [4, 3, 2, 1],\n",
       "                         &#x27;min_samples_leaf&#x27;: [5, 3, 2]})</pre><b>In a Jupyter environment, please rerun this cell to show the HTML representation or trust the notebook. <br />On GitHub, the HTML representation is unable to render, please try loading this page with nbviewer.org.</b></div><div class=\"sk-container\" hidden><div class=\"sk-item sk-dashed-wrapped\"><div class=\"sk-label-container\"><div class=\"sk-label sk-toggleable\"><input class=\"sk-toggleable__control sk-hidden--visually\" id=\"sk-estimator-id-22\" type=\"checkbox\" ><label for=\"sk-estimator-id-22\" class=\"sk-toggleable__label sk-toggleable__label-arrow\">GridSearchCV</label><div class=\"sk-toggleable__content\"><pre>GridSearchCV(estimator=DecisionTreeClassifier(),\n",
       "             param_grid={&#x27;max_depth&#x27;: [4, 3, 2, 1],\n",
       "                         &#x27;min_samples_leaf&#x27;: [5, 3, 2]})</pre></div></div></div><div class=\"sk-parallel\"><div class=\"sk-parallel-item\"><div class=\"sk-item\"><div class=\"sk-label-container\"><div class=\"sk-label sk-toggleable\"><input class=\"sk-toggleable__control sk-hidden--visually\" id=\"sk-estimator-id-23\" type=\"checkbox\" ><label for=\"sk-estimator-id-23\" class=\"sk-toggleable__label sk-toggleable__label-arrow\">estimator: DecisionTreeClassifier</label><div class=\"sk-toggleable__content\"><pre>DecisionTreeClassifier()</pre></div></div></div><div class=\"sk-serial\"><div class=\"sk-item\"><div class=\"sk-estimator sk-toggleable\"><input class=\"sk-toggleable__control sk-hidden--visually\" id=\"sk-estimator-id-24\" type=\"checkbox\" ><label for=\"sk-estimator-id-24\" class=\"sk-toggleable__label sk-toggleable__label-arrow\">DecisionTreeClassifier</label><div class=\"sk-toggleable__content\"><pre>DecisionTreeClassifier()</pre></div></div></div></div></div></div></div></div></div></div>"
      ],
      "text/plain": [
       "GridSearchCV(estimator=DecisionTreeClassifier(),\n",
       "             param_grid={'max_depth': [4, 3, 2, 1],\n",
       "                         'min_samples_leaf': [5, 3, 2]})"
      ]
     },
     "execution_count": 123,
     "metadata": {},
     "output_type": "execute_result"
    }
   ],
   "source": [
    "dtcv = GridSearchCV(DecisionTreeClassifier(), param_grid=params, refit=True)\n",
    "dtcv.fit(x_train, y_train)"
   ]
  },
  {
   "cell_type": "code",
   "execution_count": 124,
   "metadata": {},
   "outputs": [
    {
     "name": "stdout",
     "output_type": "stream",
     "text": [
      "[dtcv.best_params_]: {'max_depth': 4, 'min_samples_leaf': 2}\n",
      "[dtcv.best_score_]: 0.9371541501976285\n",
      "[dtcv.best_estimator_]: DecisionTreeClassifier(max_depth=4, min_samples_leaf=2)\n"
     ]
    }
   ],
   "source": [
    "# 모델 파라미터 확인\n",
    "\n",
    "print(f'[dtcv.best_params_]: {dtcv.best_params_}')\n",
    "print(f'[dtcv.best_score_]: {dtcv.best_score_}')\n",
    "print(f'[dtcv.best_estimator_]: {dtcv.best_estimator_}')\n",
    "# print(f'[dtcv.cv_results_]: {dtcv.cv_results_}')"
   ]
  },
  {
   "cell_type": "code",
   "execution_count": 125,
   "metadata": {},
   "outputs": [
    {
     "data": {
      "text/html": [
       "<div>\n",
       "<style scoped>\n",
       "    .dataframe tbody tr th:only-of-type {\n",
       "        vertical-align: middle;\n",
       "    }\n",
       "\n",
       "    .dataframe tbody tr th {\n",
       "        vertical-align: top;\n",
       "    }\n",
       "\n",
       "    .dataframe thead th {\n",
       "        text-align: right;\n",
       "    }\n",
       "</style>\n",
       "<table border=\"1\" class=\"dataframe\">\n",
       "  <thead>\n",
       "    <tr style=\"text-align: right;\">\n",
       "      <th></th>\n",
       "      <th>mean_fit_time</th>\n",
       "      <th>std_fit_time</th>\n",
       "      <th>mean_score_time</th>\n",
       "      <th>std_score_time</th>\n",
       "      <th>param_max_depth</th>\n",
       "      <th>param_min_samples_leaf</th>\n",
       "      <th>params</th>\n",
       "      <th>split0_test_score</th>\n",
       "      <th>split1_test_score</th>\n",
       "      <th>split2_test_score</th>\n",
       "      <th>split3_test_score</th>\n",
       "      <th>split4_test_score</th>\n",
       "      <th>mean_test_score</th>\n",
       "      <th>std_test_score</th>\n",
       "      <th>rank_test_score</th>\n",
       "    </tr>\n",
       "  </thead>\n",
       "  <tbody>\n",
       "    <tr>\n",
       "      <th>0</th>\n",
       "      <td>0.000865</td>\n",
       "      <td>0.001290</td>\n",
       "      <td>0.003920</td>\n",
       "      <td>0.003272</td>\n",
       "      <td>4</td>\n",
       "      <td>5</td>\n",
       "      <td>{'max_depth': 4, 'min_samples_leaf': 5}</td>\n",
       "      <td>0.913043</td>\n",
       "      <td>0.956522</td>\n",
       "      <td>0.954545</td>\n",
       "      <td>0.863636</td>\n",
       "      <td>0.954545</td>\n",
       "      <td>0.928458</td>\n",
       "      <td>0.036299</td>\n",
       "      <td>2</td>\n",
       "    </tr>\n",
       "    <tr>\n",
       "      <th>1</th>\n",
       "      <td>0.001995</td>\n",
       "      <td>0.002035</td>\n",
       "      <td>0.001091</td>\n",
       "      <td>0.000647</td>\n",
       "      <td>4</td>\n",
       "      <td>3</td>\n",
       "      <td>{'max_depth': 4, 'min_samples_leaf': 3}</td>\n",
       "      <td>0.913043</td>\n",
       "      <td>0.956522</td>\n",
       "      <td>0.954545</td>\n",
       "      <td>0.909091</td>\n",
       "      <td>0.909091</td>\n",
       "      <td>0.928458</td>\n",
       "      <td>0.022163</td>\n",
       "      <td>2</td>\n",
       "    </tr>\n",
       "    <tr>\n",
       "      <th>2</th>\n",
       "      <td>0.000787</td>\n",
       "      <td>0.000964</td>\n",
       "      <td>0.002793</td>\n",
       "      <td>0.005097</td>\n",
       "      <td>4</td>\n",
       "      <td>2</td>\n",
       "      <td>{'max_depth': 4, 'min_samples_leaf': 2}</td>\n",
       "      <td>0.956522</td>\n",
       "      <td>0.956522</td>\n",
       "      <td>0.954545</td>\n",
       "      <td>0.909091</td>\n",
       "      <td>0.909091</td>\n",
       "      <td>0.937154</td>\n",
       "      <td>0.022925</td>\n",
       "      <td>1</td>\n",
       "    </tr>\n",
       "    <tr>\n",
       "      <th>3</th>\n",
       "      <td>0.003371</td>\n",
       "      <td>0.005762</td>\n",
       "      <td>0.000752</td>\n",
       "      <td>0.000930</td>\n",
       "      <td>3</td>\n",
       "      <td>5</td>\n",
       "      <td>{'max_depth': 3, 'min_samples_leaf': 5}</td>\n",
       "      <td>0.913043</td>\n",
       "      <td>0.956522</td>\n",
       "      <td>0.954545</td>\n",
       "      <td>0.863636</td>\n",
       "      <td>0.954545</td>\n",
       "      <td>0.928458</td>\n",
       "      <td>0.036299</td>\n",
       "      <td>2</td>\n",
       "    </tr>\n",
       "    <tr>\n",
       "      <th>4</th>\n",
       "      <td>0.001812</td>\n",
       "      <td>0.000417</td>\n",
       "      <td>0.001135</td>\n",
       "      <td>0.000226</td>\n",
       "      <td>3</td>\n",
       "      <td>3</td>\n",
       "      <td>{'max_depth': 3, 'min_samples_leaf': 3}</td>\n",
       "      <td>0.913043</td>\n",
       "      <td>0.956522</td>\n",
       "      <td>0.954545</td>\n",
       "      <td>0.863636</td>\n",
       "      <td>0.909091</td>\n",
       "      <td>0.919368</td>\n",
       "      <td>0.034262</td>\n",
       "      <td>8</td>\n",
       "    </tr>\n",
       "    <tr>\n",
       "      <th>5</th>\n",
       "      <td>0.001043</td>\n",
       "      <td>0.000025</td>\n",
       "      <td>0.001327</td>\n",
       "      <td>0.000385</td>\n",
       "      <td>3</td>\n",
       "      <td>2</td>\n",
       "      <td>{'max_depth': 3, 'min_samples_leaf': 2}</td>\n",
       "      <td>0.913043</td>\n",
       "      <td>0.956522</td>\n",
       "      <td>0.954545</td>\n",
       "      <td>0.863636</td>\n",
       "      <td>0.909091</td>\n",
       "      <td>0.919368</td>\n",
       "      <td>0.034262</td>\n",
       "      <td>8</td>\n",
       "    </tr>\n",
       "    <tr>\n",
       "      <th>6</th>\n",
       "      <td>0.001521</td>\n",
       "      <td>0.000544</td>\n",
       "      <td>0.000691</td>\n",
       "      <td>0.000389</td>\n",
       "      <td>2</td>\n",
       "      <td>5</td>\n",
       "      <td>{'max_depth': 2, 'min_samples_leaf': 5}</td>\n",
       "      <td>0.913043</td>\n",
       "      <td>0.956522</td>\n",
       "      <td>0.954545</td>\n",
       "      <td>0.909091</td>\n",
       "      <td>0.909091</td>\n",
       "      <td>0.928458</td>\n",
       "      <td>0.022163</td>\n",
       "      <td>2</td>\n",
       "    </tr>\n",
       "    <tr>\n",
       "      <th>7</th>\n",
       "      <td>0.001324</td>\n",
       "      <td>0.000402</td>\n",
       "      <td>0.001121</td>\n",
       "      <td>0.000485</td>\n",
       "      <td>2</td>\n",
       "      <td>3</td>\n",
       "      <td>{'max_depth': 2, 'min_samples_leaf': 3}</td>\n",
       "      <td>0.913043</td>\n",
       "      <td>0.956522</td>\n",
       "      <td>0.954545</td>\n",
       "      <td>0.909091</td>\n",
       "      <td>0.909091</td>\n",
       "      <td>0.928458</td>\n",
       "      <td>0.022163</td>\n",
       "      <td>2</td>\n",
       "    </tr>\n",
       "    <tr>\n",
       "      <th>8</th>\n",
       "      <td>0.001876</td>\n",
       "      <td>0.000438</td>\n",
       "      <td>0.001405</td>\n",
       "      <td>0.000484</td>\n",
       "      <td>2</td>\n",
       "      <td>2</td>\n",
       "      <td>{'max_depth': 2, 'min_samples_leaf': 2}</td>\n",
       "      <td>0.913043</td>\n",
       "      <td>0.956522</td>\n",
       "      <td>0.954545</td>\n",
       "      <td>0.909091</td>\n",
       "      <td>0.909091</td>\n",
       "      <td>0.928458</td>\n",
       "      <td>0.022163</td>\n",
       "      <td>2</td>\n",
       "    </tr>\n",
       "    <tr>\n",
       "      <th>9</th>\n",
       "      <td>0.000860</td>\n",
       "      <td>0.001058</td>\n",
       "      <td>0.000288</td>\n",
       "      <td>0.000576</td>\n",
       "      <td>1</td>\n",
       "      <td>5</td>\n",
       "      <td>{'max_depth': 1, 'min_samples_leaf': 5}</td>\n",
       "      <td>0.652174</td>\n",
       "      <td>0.652174</td>\n",
       "      <td>0.681818</td>\n",
       "      <td>0.636364</td>\n",
       "      <td>0.636364</td>\n",
       "      <td>0.651779</td>\n",
       "      <td>0.016601</td>\n",
       "      <td>10</td>\n",
       "    </tr>\n",
       "    <tr>\n",
       "      <th>10</th>\n",
       "      <td>0.000244</td>\n",
       "      <td>0.000489</td>\n",
       "      <td>0.000000</td>\n",
       "      <td>0.000000</td>\n",
       "      <td>1</td>\n",
       "      <td>3</td>\n",
       "      <td>{'max_depth': 1, 'min_samples_leaf': 3}</td>\n",
       "      <td>0.652174</td>\n",
       "      <td>0.652174</td>\n",
       "      <td>0.681818</td>\n",
       "      <td>0.636364</td>\n",
       "      <td>0.636364</td>\n",
       "      <td>0.651779</td>\n",
       "      <td>0.016601</td>\n",
       "      <td>10</td>\n",
       "    </tr>\n",
       "    <tr>\n",
       "      <th>11</th>\n",
       "      <td>0.003279</td>\n",
       "      <td>0.006557</td>\n",
       "      <td>0.000147</td>\n",
       "      <td>0.000295</td>\n",
       "      <td>1</td>\n",
       "      <td>2</td>\n",
       "      <td>{'max_depth': 1, 'min_samples_leaf': 2}</td>\n",
       "      <td>0.652174</td>\n",
       "      <td>0.652174</td>\n",
       "      <td>0.681818</td>\n",
       "      <td>0.636364</td>\n",
       "      <td>0.636364</td>\n",
       "      <td>0.651779</td>\n",
       "      <td>0.016601</td>\n",
       "      <td>10</td>\n",
       "    </tr>\n",
       "  </tbody>\n",
       "</table>\n",
       "</div>"
      ],
      "text/plain": [
       "    mean_fit_time  std_fit_time  mean_score_time  std_score_time  \\\n",
       "0        0.000865      0.001290         0.003920        0.003272   \n",
       "1        0.001995      0.002035         0.001091        0.000647   \n",
       "2        0.000787      0.000964         0.002793        0.005097   \n",
       "3        0.003371      0.005762         0.000752        0.000930   \n",
       "4        0.001812      0.000417         0.001135        0.000226   \n",
       "5        0.001043      0.000025         0.001327        0.000385   \n",
       "6        0.001521      0.000544         0.000691        0.000389   \n",
       "7        0.001324      0.000402         0.001121        0.000485   \n",
       "8        0.001876      0.000438         0.001405        0.000484   \n",
       "9        0.000860      0.001058         0.000288        0.000576   \n",
       "10       0.000244      0.000489         0.000000        0.000000   \n",
       "11       0.003279      0.006557         0.000147        0.000295   \n",
       "\n",
       "   param_max_depth param_min_samples_leaf  \\\n",
       "0                4                      5   \n",
       "1                4                      3   \n",
       "2                4                      2   \n",
       "3                3                      5   \n",
       "4                3                      3   \n",
       "5                3                      2   \n",
       "6                2                      5   \n",
       "7                2                      3   \n",
       "8                2                      2   \n",
       "9                1                      5   \n",
       "10               1                      3   \n",
       "11               1                      2   \n",
       "\n",
       "                                     params  split0_test_score  \\\n",
       "0   {'max_depth': 4, 'min_samples_leaf': 5}           0.913043   \n",
       "1   {'max_depth': 4, 'min_samples_leaf': 3}           0.913043   \n",
       "2   {'max_depth': 4, 'min_samples_leaf': 2}           0.956522   \n",
       "3   {'max_depth': 3, 'min_samples_leaf': 5}           0.913043   \n",
       "4   {'max_depth': 3, 'min_samples_leaf': 3}           0.913043   \n",
       "5   {'max_depth': 3, 'min_samples_leaf': 2}           0.913043   \n",
       "6   {'max_depth': 2, 'min_samples_leaf': 5}           0.913043   \n",
       "7   {'max_depth': 2, 'min_samples_leaf': 3}           0.913043   \n",
       "8   {'max_depth': 2, 'min_samples_leaf': 2}           0.913043   \n",
       "9   {'max_depth': 1, 'min_samples_leaf': 5}           0.652174   \n",
       "10  {'max_depth': 1, 'min_samples_leaf': 3}           0.652174   \n",
       "11  {'max_depth': 1, 'min_samples_leaf': 2}           0.652174   \n",
       "\n",
       "    split1_test_score  split2_test_score  split3_test_score  \\\n",
       "0            0.956522           0.954545           0.863636   \n",
       "1            0.956522           0.954545           0.909091   \n",
       "2            0.956522           0.954545           0.909091   \n",
       "3            0.956522           0.954545           0.863636   \n",
       "4            0.956522           0.954545           0.863636   \n",
       "5            0.956522           0.954545           0.863636   \n",
       "6            0.956522           0.954545           0.909091   \n",
       "7            0.956522           0.954545           0.909091   \n",
       "8            0.956522           0.954545           0.909091   \n",
       "9            0.652174           0.681818           0.636364   \n",
       "10           0.652174           0.681818           0.636364   \n",
       "11           0.652174           0.681818           0.636364   \n",
       "\n",
       "    split4_test_score  mean_test_score  std_test_score  rank_test_score  \n",
       "0            0.954545         0.928458        0.036299                2  \n",
       "1            0.909091         0.928458        0.022163                2  \n",
       "2            0.909091         0.937154        0.022925                1  \n",
       "3            0.954545         0.928458        0.036299                2  \n",
       "4            0.909091         0.919368        0.034262                8  \n",
       "5            0.909091         0.919368        0.034262                8  \n",
       "6            0.909091         0.928458        0.022163                2  \n",
       "7            0.909091         0.928458        0.022163                2  \n",
       "8            0.909091         0.928458        0.022163                2  \n",
       "9            0.636364         0.651779        0.016601               10  \n",
       "10           0.636364         0.651779        0.016601               10  \n",
       "11           0.636364         0.651779        0.016601               10  "
      ]
     },
     "execution_count": 125,
     "metadata": {},
     "output_type": "execute_result"
    }
   ],
   "source": [
    "cv_resultDF = pd.DataFrame(dtcv.cv_results_)\n",
    "cv_resultDF"
   ]
  },
  {
   "cell_type": "code",
   "execution_count": 126,
   "metadata": {},
   "outputs": [
    {
     "data": {
      "text/plain": [
       "Index(['mean_fit_time', 'std_fit_time', 'mean_score_time', 'std_score_time',\n",
       "       'param_max_depth', 'param_min_samples_leaf', 'params',\n",
       "       'split0_test_score', 'split1_test_score', 'split2_test_score',\n",
       "       'split3_test_score', 'split4_test_score', 'mean_test_score',\n",
       "       'std_test_score', 'rank_test_score'],\n",
       "      dtype='object')"
      ]
     },
     "execution_count": 126,
     "metadata": {},
     "output_type": "execute_result"
    }
   ],
   "source": [
    "cv_resultDF.columns"
   ]
  },
  {
   "cell_type": "markdown",
   "metadata": {},
   "source": [
    "- 주요 피쳐 시각화"
   ]
  },
  {
   "cell_type": "code",
   "execution_count": 127,
   "metadata": {},
   "outputs": [
    {
     "name": "stdout",
     "output_type": "stream",
     "text": [
      "[best_model.max_depth]: 4\n",
      "[best_model.min_samples_leaf]: 2\n"
     ]
    }
   ],
   "source": [
    "# 가장 좋은 모델\n",
    "best_model = dtcv.best_estimator_\n",
    "print(f'[best_model.max_depth]: {best_model.max_depth}')\n",
    "print(f'[best_model.min_samples_leaf]: {best_model.min_samples_leaf}')"
   ]
  },
  {
   "cell_type": "code",
   "execution_count": 128,
   "metadata": {},
   "outputs": [
    {
     "data": {
      "text/plain": [
       "(array([0.01321873, 0.        , 0.07164651, 0.91513476]), 4)"
      ]
     },
     "execution_count": 128,
     "metadata": {},
     "output_type": "execute_result"
    }
   ],
   "source": [
    "# 피쳐 중요도 및 개수\n",
    "best_model.feature_importances_, best_model.n_features_in_"
   ]
  },
  {
   "cell_type": "code",
   "execution_count": 129,
   "metadata": {},
   "outputs": [
    {
     "data": {
      "image/png": "[encoded data removed]",
      "text/plain": [
       "<Figure size 640x480 with 1 Axes>"
      ]
     },
     "metadata": {},
     "output_type": "display_data"
    }
   ],
   "source": [
    "import matplotlib.pyplot as plt\n",
    "\n",
    "plt.barh(range(best_model.n_features_in_), best_model.feature_importances_, align='center')\n",
    "plt.yticks(np.arange(best_model.n_features_in_), best_model.feature_names_in_)\n",
    "plt.xlabel('[Feature Importance]', size=15)\n",
    "plt.ylabel('Feature', size=15)\n",
    "plt.show()"
   ]
  },
  {
   "cell_type": "markdown",
   "metadata": {},
   "source": [
    "- DT 그래프 시각화\n",
    "    * Graphviz 프로그램 (OS에 맞는 버전) 설치 + python용 패키지 graphviz 설치"
   ]
  },
  {
   "cell_type": "code",
   "execution_count": 130,
   "metadata": {},
   "outputs": [],
   "source": [
    "## [1] DT모델을 dot포맷의 파일로 저장 ==> export_graphviz()\n",
    "\n",
    "from sklearn.tree import export_graphviz\n",
    "\n",
    "export_graphviz(best_model, out_file='tree.dot',\n",
    "                class_names=['setosa','versicolor','virginica'],\n",
    "                feature_names=best_model.feature_names_in_,\n",
    "                impurity=True,\n",
    "                filled=True,\n",
    "                rounded=True,)\n",
    "                # precision=2\n",
    "                # rotate=True)\n"
   ]
  },
  {
   "cell_type": "code",
   "execution_count": 131,
   "metadata": {},
   "outputs": [
    {
     "data": {
      "image/svg+xml": [
       "<?xml version=\"1.0\" encoding=\"UTF-8\" standalone=\"no\"?>\n",
       "<!DOCTYPE svg PUBLIC \"-//W3C//DTD SVG 1.1//EN\"\n",
       " \"http://www.w3.org/Graphics/SVG/1.1/DTD/svg11.dtd\">\n",
       "<!-- Generated by graphviz version 12.1.0 (20240811.2233)\n",
       " -->\n",
       "<!-- Title: Tree Pages: 1 -->\n",
       "<svg width=\"741pt\" height=\"570pt\"\n",
       " viewBox=\"0.00 0.00 741.38 570.00\" xmlns=\"http://www.w3.org/2000/svg\" xmlns:xlink=\"http://www.w3.org/1999/xlink\">\n",
       "<g id=\"graph0\" class=\"graph\" transform=\"scale(1 1) rotate(0) translate(4 566)\">\n",
       "<title>Tree</title>\n",
       "<polygon fill=\"white\" stroke=\"none\" points=\"-4,4 -4,-566 737.38,-566 737.38,4 -4,4\"/>\n",
       "<!-- 0 -->\n",
       "<g id=\"node1\" class=\"node\">\n",
       "<title>0</title>\n",
       "<path fill=\"#fffdfc\" stroke=\"black\" d=\"M439.5,-562C439.5,-562 308.75,-562 308.75,-562 302.75,-562 296.75,-556 296.75,-550 296.75,-550 296.75,-487.25 296.75,-487.25 296.75,-481.25 302.75,-475.25 308.75,-475.25 308.75,-475.25 439.5,-475.25 439.5,-475.25 445.5,-475.25 451.5,-481.25 451.5,-487.25 451.5,-487.25 451.5,-550 451.5,-550 451.5,-556 445.5,-562 439.5,-562\"/>\n",
       "<text text-anchor=\"middle\" x=\"374.12\" y=\"-544.7\" font-family=\"Helvetica,sans-Serif\" font-size=\"14.00\">petal width (cm) &lt;= 0.8</text>\n",
       "<text text-anchor=\"middle\" x=\"374.12\" y=\"-528.95\" font-family=\"Helvetica,sans-Serif\" font-size=\"14.00\">gini = 0.667</text>\n",
       "<text text-anchor=\"middle\" x=\"374.12\" y=\"-513.2\" font-family=\"Helvetica,sans-Serif\" font-size=\"14.00\">samples = 112</text>\n",
       "<text text-anchor=\"middle\" x=\"374.12\" y=\"-497.45\" font-family=\"Helvetica,sans-Serif\" font-size=\"14.00\">value = [38, 37, 37]</text>\n",
       "<text text-anchor=\"middle\" x=\"374.12\" y=\"-481.7\" font-family=\"Helvetica,sans-Serif\" font-size=\"14.00\">class = setosa</text>\n",
       "</g>\n",
       "<!-- 1 -->\n",
       "<g id=\"node2\" class=\"node\">\n",
       "<title>1</title>\n",
       "<path fill=\"#e58139\" stroke=\"black\" d=\"M342.38,-431.38C342.38,-431.38 249.88,-431.38 249.88,-431.38 243.88,-431.38 237.88,-425.38 237.88,-419.38 237.88,-419.38 237.88,-372.38 237.88,-372.38 237.88,-366.38 243.88,-360.38 249.88,-360.38 249.88,-360.38 342.38,-360.38 342.38,-360.38 348.38,-360.38 354.38,-366.38 354.38,-372.38 354.38,-372.38 354.38,-419.38 354.38,-419.38 354.38,-425.38 348.38,-431.38 342.38,-431.38\"/>\n",
       "<text text-anchor=\"middle\" x=\"296.12\" y=\"-414.07\" font-family=\"Helvetica,sans-Serif\" font-size=\"14.00\">gini = 0.0</text>\n",
       "<text text-anchor=\"middle\" x=\"296.12\" y=\"-398.32\" font-family=\"Helvetica,sans-Serif\" font-size=\"14.00\">samples = 38</text>\n",
       "<text text-anchor=\"middle\" x=\"296.12\" y=\"-382.57\" font-family=\"Helvetica,sans-Serif\" font-size=\"14.00\">value = [38, 0, 0]</text>\n",
       "<text text-anchor=\"middle\" x=\"296.12\" y=\"-366.82\" font-family=\"Helvetica,sans-Serif\" font-size=\"14.00\">class = setosa</text>\n",
       "</g>\n",
       "<!-- 0&#45;&gt;1 -->\n",
       "<g id=\"edge1\" class=\"edge\">\n",
       "<title>0&#45;&gt;1</title>\n",
       "<path fill=\"none\" stroke=\"black\" d=\"M346.63,-475.05C339.5,-464.02 331.82,-452.13 324.64,-441.02\"/>\n",
       "<polygon fill=\"black\" stroke=\"black\" points=\"327.68,-439.28 319.32,-432.77 321.8,-443.07 327.68,-439.28\"/>\n",
       "<text text-anchor=\"middle\" x=\"313.24\" y=\"-450.52\" font-family=\"Helvetica,sans-Serif\" font-size=\"14.00\">True</text>\n",
       "</g>\n",
       "<!-- 2 -->\n",
       "<g id=\"node3\" class=\"node\">\n",
       "<title>2</title>\n",
       "<path fill=\"#ffffff\" stroke=\"black\" d=\"M522.25,-439.25C522.25,-439.25 384,-439.25 384,-439.25 378,-439.25 372,-433.25 372,-427.25 372,-427.25 372,-364.5 372,-364.5 372,-358.5 378,-352.5 384,-352.5 384,-352.5 522.25,-352.5 522.25,-352.5 528.25,-352.5 534.25,-358.5 534.25,-364.5 534.25,-364.5 534.25,-427.25 534.25,-427.25 534.25,-433.25 528.25,-439.25 522.25,-439.25\"/>\n",
       "<text text-anchor=\"middle\" x=\"453.12\" y=\"-421.95\" font-family=\"Helvetica,sans-Serif\" font-size=\"14.00\">petal width (cm) &lt;= 1.75</text>\n",
       "<text text-anchor=\"middle\" x=\"453.12\" y=\"-406.2\" font-family=\"Helvetica,sans-Serif\" font-size=\"14.00\">gini = 0.5</text>\n",
       "<text text-anchor=\"middle\" x=\"453.12\" y=\"-390.45\" font-family=\"Helvetica,sans-Serif\" font-size=\"14.00\">samples = 74</text>\n",
       "<text text-anchor=\"middle\" x=\"453.12\" y=\"-374.7\" font-family=\"Helvetica,sans-Serif\" font-size=\"14.00\">value = [0, 37, 37]</text>\n",
       "<text text-anchor=\"middle\" x=\"453.12\" y=\"-358.95\" font-family=\"Helvetica,sans-Serif\" font-size=\"14.00\">class = versicolor</text>\n",
       "</g>\n",
       "<!-- 0&#45;&gt;2 -->\n",
       "<g id=\"edge2\" class=\"edge\">\n",
       "<title>0&#45;&gt;2</title>\n",
       "<path fill=\"none\" stroke=\"black\" d=\"M401.98,-475.05C407.52,-466.58 413.41,-457.59 419.13,-448.83\"/>\n",
       "<polygon fill=\"black\" stroke=\"black\" points=\"421.88,-451.02 424.43,-440.74 416.03,-447.19 421.88,-451.02\"/>\n",
       "<text text-anchor=\"middle\" x=\"430.37\" y=\"-458.52\" font-family=\"Helvetica,sans-Serif\" font-size=\"14.00\">False</text>\n",
       "</g>\n",
       "<!-- 3 -->\n",
       "<g id=\"node4\" class=\"node\">\n",
       "<title>3</title>\n",
       "<path fill=\"#54e992\" stroke=\"black\" d=\"M431.88,-316.5C431.88,-316.5 288.38,-316.5 288.38,-316.5 282.38,-316.5 276.38,-310.5 276.38,-304.5 276.38,-304.5 276.38,-241.75 276.38,-241.75 276.38,-235.75 282.38,-229.75 288.38,-229.75 288.38,-229.75 431.88,-229.75 431.88,-229.75 437.88,-229.75 443.88,-235.75 443.88,-241.75 443.88,-241.75 443.88,-304.5 443.88,-304.5 443.88,-310.5 437.88,-316.5 431.88,-316.5\"/>\n",
       "<text text-anchor=\"middle\" x=\"360.12\" y=\"-299.2\" font-family=\"Helvetica,sans-Serif\" font-size=\"14.00\">petal length (cm) &lt;= 4.95</text>\n",
       "<text text-anchor=\"middle\" x=\"360.12\" y=\"-283.45\" font-family=\"Helvetica,sans-Serif\" font-size=\"14.00\">gini = 0.214</text>\n",
       "<text text-anchor=\"middle\" x=\"360.12\" y=\"-267.7\" font-family=\"Helvetica,sans-Serif\" font-size=\"14.00\">samples = 41</text>\n",
       "<text text-anchor=\"middle\" x=\"360.12\" y=\"-251.95\" font-family=\"Helvetica,sans-Serif\" font-size=\"14.00\">value = [0, 36, 5]</text>\n",
       "<text text-anchor=\"middle\" x=\"360.12\" y=\"-236.2\" font-family=\"Helvetica,sans-Serif\" font-size=\"14.00\">class = versicolor</text>\n",
       "</g>\n",
       "<!-- 2&#45;&gt;3 -->\n",
       "<g id=\"edge3\" class=\"edge\">\n",
       "<title>2&#45;&gt;3</title>\n",
       "<path fill=\"none\" stroke=\"black\" d=\"M420.34,-352.3C413.74,-343.74 406.74,-334.64 399.93,-325.81\"/>\n",
       "<polygon fill=\"black\" stroke=\"black\" points=\"402.73,-323.71 393.85,-317.92 397.18,-327.98 402.73,-323.71\"/>\n",
       "</g>\n",
       "<!-- 10 -->\n",
       "<g id=\"node11\" class=\"node\">\n",
       "<title>10</title>\n",
       "<path fill=\"#853fe6\" stroke=\"black\" d=\"M617.88,-316.5C617.88,-316.5 474.38,-316.5 474.38,-316.5 468.38,-316.5 462.38,-310.5 462.38,-304.5 462.38,-304.5 462.38,-241.75 462.38,-241.75 462.38,-235.75 468.38,-229.75 474.38,-229.75 474.38,-229.75 617.88,-229.75 617.88,-229.75 623.88,-229.75 629.88,-235.75 629.88,-241.75 629.88,-241.75 629.88,-304.5 629.88,-304.5 629.88,-310.5 623.88,-316.5 617.88,-316.5\"/>\n",
       "<text text-anchor=\"middle\" x=\"546.12\" y=\"-299.2\" font-family=\"Helvetica,sans-Serif\" font-size=\"14.00\">petal length (cm) &lt;= 4.85</text>\n",
       "<text text-anchor=\"middle\" x=\"546.12\" y=\"-283.45\" font-family=\"Helvetica,sans-Serif\" font-size=\"14.00\">gini = 0.059</text>\n",
       "<text text-anchor=\"middle\" x=\"546.12\" y=\"-267.7\" font-family=\"Helvetica,sans-Serif\" font-size=\"14.00\">samples = 33</text>\n",
       "<text text-anchor=\"middle\" x=\"546.12\" y=\"-251.95\" font-family=\"Helvetica,sans-Serif\" font-size=\"14.00\">value = [0, 1, 32]</text>\n",
       "<text text-anchor=\"middle\" x=\"546.12\" y=\"-236.2\" font-family=\"Helvetica,sans-Serif\" font-size=\"14.00\">class = virginica</text>\n",
       "</g>\n",
       "<!-- 2&#45;&gt;10 -->\n",
       "<g id=\"edge10\" class=\"edge\">\n",
       "<title>2&#45;&gt;10</title>\n",
       "<path fill=\"none\" stroke=\"black\" d=\"M485.91,-352.3C492.51,-343.74 499.51,-334.64 506.32,-325.81\"/>\n",
       "<polygon fill=\"black\" stroke=\"black\" points=\"509.07,-327.98 512.4,-317.92 503.52,-323.71 509.07,-327.98\"/>\n",
       "</g>\n",
       "<!-- 4 -->\n",
       "<g id=\"node5\" class=\"node\">\n",
       "<title>4</title>\n",
       "<path fill=\"#3fe685\" stroke=\"black\" d=\"M255.62,-193.75C255.62,-193.75 116.62,-193.75 116.62,-193.75 110.62,-193.75 104.62,-187.75 104.62,-181.75 104.62,-181.75 104.62,-119 104.62,-119 104.62,-113 110.62,-107 116.62,-107 116.62,-107 255.62,-107 255.62,-107 261.62,-107 267.62,-113 267.62,-119 267.62,-119 267.62,-181.75 267.62,-181.75 267.62,-187.75 261.62,-193.75 255.62,-193.75\"/>\n",
       "<text text-anchor=\"middle\" x=\"186.12\" y=\"-176.45\" font-family=\"Helvetica,sans-Serif\" font-size=\"14.00\">sepal length (cm) &lt;= 5.1</text>\n",
       "<text text-anchor=\"middle\" x=\"186.12\" y=\"-160.7\" font-family=\"Helvetica,sans-Serif\" font-size=\"14.00\">gini = 0.056</text>\n",
       "<text text-anchor=\"middle\" x=\"186.12\" y=\"-144.95\" font-family=\"Helvetica,sans-Serif\" font-size=\"14.00\">samples = 35</text>\n",
       "<text text-anchor=\"middle\" x=\"186.12\" y=\"-129.2\" font-family=\"Helvetica,sans-Serif\" font-size=\"14.00\">value = [0, 34, 1]</text>\n",
       "<text text-anchor=\"middle\" x=\"186.12\" y=\"-113.45\" font-family=\"Helvetica,sans-Serif\" font-size=\"14.00\">class = versicolor</text>\n",
       "</g>\n",
       "<!-- 3&#45;&gt;4 -->\n",
       "<g id=\"edge4\" class=\"edge\">\n",
       "<title>3&#45;&gt;4</title>\n",
       "<path fill=\"none\" stroke=\"black\" d=\"M298.78,-229.55C285.34,-220.23 271.01,-210.28 257.23,-200.72\"/>\n",
       "<polygon fill=\"black\" stroke=\"black\" points=\"259.25,-197.86 249.04,-195.04 255.26,-203.61 259.25,-197.86\"/>\n",
       "</g>\n",
       "<!-- 7 -->\n",
       "<g id=\"node8\" class=\"node\">\n",
       "<title>7</title>\n",
       "<path fill=\"#c09cf2\" stroke=\"black\" d=\"M436.25,-193.75C436.25,-193.75 298,-193.75 298,-193.75 292,-193.75 286,-187.75 286,-181.75 286,-181.75 286,-119 286,-119 286,-113 292,-107 298,-107 298,-107 436.25,-107 436.25,-107 442.25,-107 448.25,-113 448.25,-119 448.25,-119 448.25,-181.75 448.25,-181.75 448.25,-187.75 442.25,-193.75 436.25,-193.75\"/>\n",
       "<text text-anchor=\"middle\" x=\"367.12\" y=\"-176.45\" font-family=\"Helvetica,sans-Serif\" font-size=\"14.00\">petal width (cm) &lt;= 1.55</text>\n",
       "<text text-anchor=\"middle\" x=\"367.12\" y=\"-160.7\" font-family=\"Helvetica,sans-Serif\" font-size=\"14.00\">gini = 0.444</text>\n",
       "<text text-anchor=\"middle\" x=\"367.12\" y=\"-144.95\" font-family=\"Helvetica,sans-Serif\" font-size=\"14.00\">samples = 6</text>\n",
       "<text text-anchor=\"middle\" x=\"367.12\" y=\"-129.2\" font-family=\"Helvetica,sans-Serif\" font-size=\"14.00\">value = [0, 2, 4]</text>\n",
       "<text text-anchor=\"middle\" x=\"367.12\" y=\"-113.45\" font-family=\"Helvetica,sans-Serif\" font-size=\"14.00\">class = virginica</text>\n",
       "</g>\n",
       "<!-- 3&#45;&gt;7 -->\n",
       "<g id=\"edge7\" class=\"edge\">\n",
       "<title>3&#45;&gt;7</title>\n",
       "<path fill=\"none\" stroke=\"black\" d=\"M362.59,-229.55C363.05,-221.71 363.53,-213.42 364,-205.29\"/>\n",
       "<polygon fill=\"black\" stroke=\"black\" points=\"367.48,-205.67 364.57,-195.48 360.5,-205.26 367.48,-205.67\"/>\n",
       "</g>\n",
       "<!-- 5 -->\n",
       "<g id=\"node6\" class=\"node\">\n",
       "<title>5</title>\n",
       "<path fill=\"#ffffff\" stroke=\"black\" d=\"M108.25,-71C108.25,-71 12,-71 12,-71 6,-71 0,-65 0,-59 0,-59 0,-12 0,-12 0,-6 6,0 12,0 12,0 108.25,0 108.25,0 114.25,0 120.25,-6 120.25,-12 120.25,-12 120.25,-59 120.25,-59 120.25,-65 114.25,-71 108.25,-71\"/>\n",
       "<text text-anchor=\"middle\" x=\"60.12\" y=\"-53.7\" font-family=\"Helvetica,sans-Serif\" font-size=\"14.00\">gini = 0.5</text>\n",
       "<text text-anchor=\"middle\" x=\"60.12\" y=\"-37.95\" font-family=\"Helvetica,sans-Serif\" font-size=\"14.00\">samples = 2</text>\n",
       "<text text-anchor=\"middle\" x=\"60.12\" y=\"-22.2\" font-family=\"Helvetica,sans-Serif\" font-size=\"14.00\">value = [0, 1, 1]</text>\n",
       "<text text-anchor=\"middle\" x=\"60.12\" y=\"-6.45\" font-family=\"Helvetica,sans-Serif\" font-size=\"14.00\">class = versicolor</text>\n",
       "</g>\n",
       "<!-- 4&#45;&gt;5 -->\n",
       "<g id=\"edge5\" class=\"edge\">\n",
       "<title>4&#45;&gt;5</title>\n",
       "<path fill=\"none\" stroke=\"black\" d=\"M138.49,-106.7C128.25,-97.53 117.44,-87.85 107.23,-78.7\"/>\n",
       "<polygon fill=\"black\" stroke=\"black\" points=\"109.72,-76.23 99.94,-72.17 105.05,-81.45 109.72,-76.23\"/>\n",
       "</g>\n",
       "<!-- 6 -->\n",
       "<g id=\"node7\" class=\"node\">\n",
       "<title>6</title>\n",
       "<path fill=\"#39e581\" stroke=\"black\" d=\"M246.25,-71C246.25,-71 150,-71 150,-71 144,-71 138,-65 138,-59 138,-59 138,-12 138,-12 138,-6 144,0 150,0 150,0 246.25,0 246.25,0 252.25,0 258.25,-6 258.25,-12 258.25,-12 258.25,-59 258.25,-59 258.25,-65 252.25,-71 246.25,-71\"/>\n",
       "<text text-anchor=\"middle\" x=\"198.12\" y=\"-53.7\" font-family=\"Helvetica,sans-Serif\" font-size=\"14.00\">gini = 0.0</text>\n",
       "<text text-anchor=\"middle\" x=\"198.12\" y=\"-37.95\" font-family=\"Helvetica,sans-Serif\" font-size=\"14.00\">samples = 33</text>\n",
       "<text text-anchor=\"middle\" x=\"198.12\" y=\"-22.2\" font-family=\"Helvetica,sans-Serif\" font-size=\"14.00\">value = [0, 33, 0]</text>\n",
       "<text text-anchor=\"middle\" x=\"198.12\" y=\"-6.45\" font-family=\"Helvetica,sans-Serif\" font-size=\"14.00\">class = versicolor</text>\n",
       "</g>\n",
       "<!-- 4&#45;&gt;6 -->\n",
       "<g id=\"edge6\" class=\"edge\">\n",
       "<title>4&#45;&gt;6</title>\n",
       "<path fill=\"none\" stroke=\"black\" d=\"M190.66,-106.7C191.5,-98.82 192.38,-90.55 193.23,-82.57\"/>\n",
       "<polygon fill=\"black\" stroke=\"black\" points=\"196.7,-82.98 194.28,-72.66 189.74,-82.24 196.7,-82.98\"/>\n",
       "</g>\n",
       "<!-- 8 -->\n",
       "<g id=\"node9\" class=\"node\">\n",
       "<title>8</title>\n",
       "<path fill=\"#8139e5\" stroke=\"black\" d=\"M399.12,-71C399.12,-71 311.12,-71 311.12,-71 305.12,-71 299.12,-65 299.12,-59 299.12,-59 299.12,-12 299.12,-12 299.12,-6 305.12,0 311.12,0 311.12,0 399.12,0 399.12,0 405.12,0 411.12,-6 411.12,-12 411.12,-12 411.12,-59 411.12,-59 411.12,-65 405.12,-71 399.12,-71\"/>\n",
       "<text text-anchor=\"middle\" x=\"355.12\" y=\"-53.7\" font-family=\"Helvetica,sans-Serif\" font-size=\"14.00\">gini = 0.0</text>\n",
       "<text text-anchor=\"middle\" x=\"355.12\" y=\"-37.95\" font-family=\"Helvetica,sans-Serif\" font-size=\"14.00\">samples = 3</text>\n",
       "<text text-anchor=\"middle\" x=\"355.12\" y=\"-22.2\" font-family=\"Helvetica,sans-Serif\" font-size=\"14.00\">value = [0, 0, 3]</text>\n",
       "<text text-anchor=\"middle\" x=\"355.12\" y=\"-6.45\" font-family=\"Helvetica,sans-Serif\" font-size=\"14.00\">class = virginica</text>\n",
       "</g>\n",
       "<!-- 7&#45;&gt;8 -->\n",
       "<g id=\"edge8\" class=\"edge\">\n",
       "<title>7&#45;&gt;8</title>\n",
       "<path fill=\"none\" stroke=\"black\" d=\"M362.59,-106.7C361.75,-98.82 360.87,-90.55 360.02,-82.57\"/>\n",
       "<polygon fill=\"black\" stroke=\"black\" points=\"363.51,-82.24 358.97,-72.66 356.55,-82.98 363.51,-82.24\"/>\n",
       "</g>\n",
       "<!-- 9 -->\n",
       "<g id=\"node10\" class=\"node\">\n",
       "<title>9</title>\n",
       "<path fill=\"#9cf2c0\" stroke=\"black\" d=\"M537.25,-71C537.25,-71 441,-71 441,-71 435,-71 429,-65 429,-59 429,-59 429,-12 429,-12 429,-6 435,0 441,0 441,0 537.25,0 537.25,0 543.25,0 549.25,-6 549.25,-12 549.25,-12 549.25,-59 549.25,-59 549.25,-65 543.25,-71 537.25,-71\"/>\n",
       "<text text-anchor=\"middle\" x=\"489.12\" y=\"-53.7\" font-family=\"Helvetica,sans-Serif\" font-size=\"14.00\">gini = 0.444</text>\n",
       "<text text-anchor=\"middle\" x=\"489.12\" y=\"-37.95\" font-family=\"Helvetica,sans-Serif\" font-size=\"14.00\">samples = 3</text>\n",
       "<text text-anchor=\"middle\" x=\"489.12\" y=\"-22.2\" font-family=\"Helvetica,sans-Serif\" font-size=\"14.00\">value = [0, 2, 1]</text>\n",
       "<text text-anchor=\"middle\" x=\"489.12\" y=\"-6.45\" font-family=\"Helvetica,sans-Serif\" font-size=\"14.00\">class = versicolor</text>\n",
       "</g>\n",
       "<!-- 7&#45;&gt;9 -->\n",
       "<g id=\"edge9\" class=\"edge\">\n",
       "<title>7&#45;&gt;9</title>\n",
       "<path fill=\"none\" stroke=\"black\" d=\"M413.25,-106.7C423.06,-97.62 433.42,-88.04 443.22,-78.97\"/>\n",
       "<polygon fill=\"black\" stroke=\"black\" points=\"445.59,-81.55 450.55,-72.19 440.84,-76.41 445.59,-81.55\"/>\n",
       "</g>\n",
       "<!-- 11 -->\n",
       "<g id=\"node12\" class=\"node\">\n",
       "<title>11</title>\n",
       "<path fill=\"#ffffff\" stroke=\"black\" d=\"M587.25,-185.88C587.25,-185.88 491,-185.88 491,-185.88 485,-185.88 479,-179.88 479,-173.88 479,-173.88 479,-126.88 479,-126.88 479,-120.88 485,-114.88 491,-114.88 491,-114.88 587.25,-114.88 587.25,-114.88 593.25,-114.88 599.25,-120.88 599.25,-126.88 599.25,-126.88 599.25,-173.88 599.25,-173.88 599.25,-179.88 593.25,-185.88 587.25,-185.88\"/>\n",
       "<text text-anchor=\"middle\" x=\"539.12\" y=\"-168.57\" font-family=\"Helvetica,sans-Serif\" font-size=\"14.00\">gini = 0.5</text>\n",
       "<text text-anchor=\"middle\" x=\"539.12\" y=\"-152.82\" font-family=\"Helvetica,sans-Serif\" font-size=\"14.00\">samples = 2</text>\n",
       "<text text-anchor=\"middle\" x=\"539.12\" y=\"-137.07\" font-family=\"Helvetica,sans-Serif\" font-size=\"14.00\">value = [0, 1, 1]</text>\n",
       "<text text-anchor=\"middle\" x=\"539.12\" y=\"-121.33\" font-family=\"Helvetica,sans-Serif\" font-size=\"14.00\">class = versicolor</text>\n",
       "</g>\n",
       "<!-- 10&#45;&gt;11 -->\n",
       "<g id=\"edge11\" class=\"edge\">\n",
       "<title>10&#45;&gt;11</title>\n",
       "<path fill=\"none\" stroke=\"black\" d=\"M543.66,-229.55C543.05,-219.08 542.4,-207.83 541.78,-197.21\"/>\n",
       "<polygon fill=\"black\" stroke=\"black\" points=\"545.29,-197.3 541.22,-187.51 538.3,-197.7 545.29,-197.3\"/>\n",
       "</g>\n",
       "<!-- 12 -->\n",
       "<g id=\"node13\" class=\"node\">\n",
       "<title>12</title>\n",
       "<path fill=\"#8139e5\" stroke=\"black\" d=\"M721.38,-185.88C721.38,-185.88 628.88,-185.88 628.88,-185.88 622.88,-185.88 616.88,-179.88 616.88,-173.88 616.88,-173.88 616.88,-126.88 616.88,-126.88 616.88,-120.88 622.88,-114.88 628.88,-114.88 628.88,-114.88 721.38,-114.88 721.38,-114.88 727.38,-114.88 733.38,-120.88 733.38,-126.88 733.38,-126.88 733.38,-173.88 733.38,-173.88 733.38,-179.88 727.38,-185.88 721.38,-185.88\"/>\n",
       "<text text-anchor=\"middle\" x=\"675.12\" y=\"-168.57\" font-family=\"Helvetica,sans-Serif\" font-size=\"14.00\">gini = 0.0</text>\n",
       "<text text-anchor=\"middle\" x=\"675.12\" y=\"-152.82\" font-family=\"Helvetica,sans-Serif\" font-size=\"14.00\">samples = 31</text>\n",
       "<text text-anchor=\"middle\" x=\"675.12\" y=\"-137.07\" font-family=\"Helvetica,sans-Serif\" font-size=\"14.00\">value = [0, 0, 31]</text>\n",
       "<text text-anchor=\"middle\" x=\"675.12\" y=\"-121.33\" font-family=\"Helvetica,sans-Serif\" font-size=\"14.00\">class = virginica</text>\n",
       "</g>\n",
       "<!-- 10&#45;&gt;12 -->\n",
       "<g id=\"edge12\" class=\"edge\">\n",
       "<title>10&#45;&gt;12</title>\n",
       "<path fill=\"none\" stroke=\"black\" d=\"M591.61,-229.55C603.98,-217.97 617.39,-205.42 629.76,-193.84\"/>\n",
       "<polygon fill=\"black\" stroke=\"black\" points=\"632.12,-196.43 637.03,-187.04 627.33,-191.32 632.12,-196.43\"/>\n",
       "</g>\n",
       "</g>\n",
       "</svg>\n"
      ],
      "text/plain": [
       "<graphviz.sources.Source at 0x142d79ee3a0>"
      ]
     },
     "execution_count": 131,
     "metadata": {},
     "output_type": "execute_result"
    }
   ],
   "source": [
    "## [2] dot파일 출력\n",
    "import graphviz\n",
    "\n",
    "# 파일에서 데이터 읽어오기\n",
    "with open('tree.dot') as f:\n",
    "    dot_data = f.read()\n",
    "\n",
    "# 화면에 출력하기\n",
    "graphviz.Source(dot_data)"
   ]
  },
  {
   "cell_type": "markdown",
   "metadata": {},
   "source": [
    "[6] 새로운 데이터 예측"
   ]
  },
  {
   "cell_type": "code",
   "execution_count": 132,
   "metadata": {},
   "outputs": [
    {
     "data": {
      "text/plain": [
       "(1, 4)"
      ]
     },
     "execution_count": 132,
     "metadata": {},
     "output_type": "execute_result"
    }
   ],
   "source": [
    "new_data = featureDF.iloc[:1]+0.21\n",
    "new_data.shape"
   ]
  },
  {
   "cell_type": "code",
   "execution_count": 133,
   "metadata": {},
   "outputs": [
    {
     "data": {
      "text/plain": [
       "array([0])"
      ]
     },
     "execution_count": 133,
     "metadata": {},
     "output_type": "execute_result"
    }
   ],
   "source": [
    "best_model.predict(new_data)"
   ]
  },
  {
   "cell_type": "code",
   "execution_count": 134,
   "metadata": {},
   "outputs": [
    {
     "data": {
      "text/plain": [
       "array([[1., 0., 0.]])"
      ]
     },
     "execution_count": 134,
     "metadata": {},
     "output_type": "execute_result"
    }
   ],
   "source": [
    "best_model.predict_proba(new_data)"
   ]
  },
  {
   "cell_type": "markdown",
   "metadata": {},
   "source": [
    "#### 앙상블(ENSEMBLE) - Voting 방식\n",
    "- 여러개의 모델 또는 동일 모델과 샘플링 데이터셋으로 병렬학습 진행하는 방식\n",
    "- Voting 방식/기법\n",
    "    - 구성 : 동일 데이터셋 + 학습 알고리즘이 다른 모델\n",
    "    - 결과도출 : Hard(직접), Soft(간접)"
   ]
  },
  {
   "cell_type": "markdown",
   "metadata": {},
   "source": [
    "- 유방암 판별 모델 구현 ==> 피쳐: 30개, 라벨: 2개 (이진분류)"
   ]
  },
  {
   "cell_type": "markdown",
   "metadata": {},
   "source": [
    "[1] 데이터 준비"
   ]
  },
  {
   "cell_type": "code",
   "execution_count": 135,
   "metadata": {},
   "outputs": [],
   "source": [
    "# 모듈 로딩\n",
    "from sklearn.datasets import load_breast_cancer"
   ]
  },
  {
   "cell_type": "code",
   "execution_count": 136,
   "metadata": {},
   "outputs": [
    {
     "name": "stdout",
     "output_type": "stream",
     "text": [
      "dict_keys(['data', 'target', 'frame', 'target_names', 'DESCR', 'feature_names', 'filename', 'data_module'])\n"
     ]
    }
   ],
   "source": [
    "# 데이터 로딩\n",
    "dataSet = load_breast_cancer(as_frame=True)\n",
    "print(dataSet.keys())"
   ]
  },
  {
   "cell_type": "code",
   "execution_count": 137,
   "metadata": {},
   "outputs": [
    {
     "name": "stdout",
     "output_type": "stream",
     "text": [
      "target_names: ['malignant' 'benign']\n",
      "feature_names: ['mean radius' 'mean texture' 'mean perimeter' 'mean area'\n",
      " 'mean smoothness' 'mean compactness' 'mean concavity'\n",
      " 'mean concave points' 'mean symmetry' 'mean fractal dimension'\n",
      " 'radius error' 'texture error' 'perimeter error' 'area error'\n",
      " 'smoothness error' 'compactness error' 'concavity error'\n",
      " 'concave points error' 'symmetry error' 'fractal dimension error'\n",
      " 'worst radius' 'worst texture' 'worst perimeter' 'worst area'\n",
      " 'worst smoothness' 'worst compactness' 'worst concavity'\n",
      " 'worst concave points' 'worst symmetry' 'worst fractal dimension']\n",
      "DESCR: .. _breast_cancer_dataset:\n",
      "\n",
      "Breast cancer wisconsin (diagnostic) dataset\n",
      "--------------------------------------------\n",
      "\n",
      "**Data Set Characteristics:**\n",
      "\n",
      "    :Number of Instances: 569\n",
      "\n",
      "    :Number of Attributes: 30 numeric, predictive attributes and the class\n",
      "\n",
      "    :Attribute Information:\n",
      "        - radius (mean of distances from center to points on the perimeter)\n",
      "        - texture (standard deviation of gray-scale values)\n",
      "        - perimeter\n",
      "        - area\n",
      "        - smoothness (local variation in radius lengths)\n",
      "        - compactness (perimeter^2 / area - 1.0)\n",
      "        - concavity (severity of concave portions of the contour)\n",
      "        - concave points (number of concave portions of the contour)\n",
      "        - symmetry\n",
      "        - fractal dimension (\"coastline approximation\" - 1)\n",
      "\n",
      "        The mean, standard error, and \"worst\" or largest (mean of the three\n",
      "        worst/largest values) of these features were computed for each image,\n",
      "        resulting in 30 features.  For instance, field 0 is Mean Radius, field\n",
      "        10 is Radius SE, field 20 is Worst Radius.\n",
      "\n",
      "        - class:\n",
      "                - WDBC-Malignant\n",
      "                - WDBC-Benign\n",
      "\n",
      "    :Summary Statistics:\n",
      "\n",
      "    ===================================== ====== ======\n",
      "                                           Min    Max\n",
      "    ===================================== ====== ======\n",
      "    radius (mean):                        6.981  28.11\n",
      "    texture (mean):                       9.71   39.28\n",
      "    perimeter (mean):                     43.79  188.5\n",
      "    area (mean):                          143.5  2501.0\n",
      "    smoothness (mean):                    0.053  0.163\n",
      "    compactness (mean):                   0.019  0.345\n",
      "    concavity (mean):                     0.0    0.427\n",
      "    concave points (mean):                0.0    0.201\n",
      "    symmetry (mean):                      0.106  0.304\n",
      "    fractal dimension (mean):             0.05   0.097\n",
      "    radius (standard error):              0.112  2.873\n",
      "    texture (standard error):             0.36   4.885\n",
      "    perimeter (standard error):           0.757  21.98\n",
      "    area (standard error):                6.802  542.2\n",
      "    smoothness (standard error):          0.002  0.031\n",
      "    compactness (standard error):         0.002  0.135\n",
      "    concavity (standard error):           0.0    0.396\n",
      "    concave points (standard error):      0.0    0.053\n",
      "    symmetry (standard error):            0.008  0.079\n",
      "    fractal dimension (standard error):   0.001  0.03\n",
      "    radius (worst):                       7.93   36.04\n",
      "    texture (worst):                      12.02  49.54\n",
      "    perimeter (worst):                    50.41  251.2\n",
      "    area (worst):                         185.2  4254.0\n",
      "    smoothness (worst):                   0.071  0.223\n",
      "    compactness (worst):                  0.027  1.058\n",
      "    concavity (worst):                    0.0    1.252\n",
      "    concave points (worst):               0.0    0.291\n",
      "    symmetry (worst):                     0.156  0.664\n",
      "    fractal dimension (worst):            0.055  0.208\n",
      "    ===================================== ====== ======\n",
      "\n",
      "    :Missing Attribute Values: None\n",
      "\n",
      "    :Class Distribution: 212 - Malignant, 357 - Benign\n",
      "\n",
      "    :Creator:  Dr. William H. Wolberg, W. Nick Street, Olvi L. Mangasarian\n",
      "\n",
      "    :Donor: Nick Street\n",
      "\n",
      "    :Date: November, 1995\n",
      "\n",
      "This is a copy of UCI ML Breast Cancer Wisconsin (Diagnostic) datasets.\n",
      "https://goo.gl/U2Uwz2\n",
      "\n",
      "Features are computed from a digitized image of a fine needle\n",
      "aspirate (FNA) of a breast mass.  They describe\n",
      "characteristics of the cell nuclei present in the image.\n",
      "\n",
      "Separating plane described above was obtained using\n",
      "Multisurface Method-Tree (MSM-T) [K. P. Bennett, \"Decision Tree\n",
      "Construction Via Linear Programming.\" Proceedings of the 4th\n",
      "Midwest Artificial Intelligence and Cognitive Science Society,\n",
      "pp. 97-101, 1992], a classification method which uses linear\n",
      "programming to construct a decision tree.  Relevant features\n",
      "were selected using an exhaustive search in the space of 1-4\n",
      "features and 1-3 separating planes.\n",
      "\n",
      "The actual linear program used to obtain the separating plane\n",
      "in the 3-dimensional space is that described in:\n",
      "[K. P. Bennett and O. L. Mangasarian: \"Robust Linear\n",
      "Programming Discrimination of Two Linearly Inseparable Sets\",\n",
      "Optimization Methods and Software 1, 1992, 23-34].\n",
      "\n",
      "This database is also available through the UW CS ftp server:\n",
      "\n",
      "ftp ftp.cs.wisc.edu\n",
      "cd math-prog/cpo-dataset/machine-learn/WDBC/\n",
      "\n",
      ".. topic:: References\n",
      "\n",
      "   - W.N. Street, W.H. Wolberg and O.L. Mangasarian. Nuclear feature extraction \n",
      "     for breast tumor diagnosis. IS&T/SPIE 1993 International Symposium on \n",
      "     Electronic Imaging: Science and Technology, volume 1905, pages 861-870,\n",
      "     San Jose, CA, 1993.\n",
      "   - O.L. Mangasarian, W.N. Street and W.H. Wolberg. Breast cancer diagnosis and \n",
      "     prognosis via linear programming. Operations Research, 43(4), pages 570-577, \n",
      "     July-August 1995.\n",
      "   - W.H. Wolberg, W.N. Street, and O.L. Mangasarian. Machine learning techniques\n",
      "     to diagnose breast cancer from fine-needle aspirates. Cancer Letters 77 (1994) \n",
      "     163-171.\n"
     ]
    }
   ],
   "source": [
    "# 데이터 확인\n",
    "print('target_names:', dataSet['target_names'])\n",
    "print('feature_names:', dataSet['feature_names'])\n",
    "print('DESCR:', dataSet['DESCR'])\n"
   ]
  },
  {
   "cell_type": "code",
   "execution_count": 138,
   "metadata": {},
   "outputs": [],
   "source": [
    "featureDF2 = dataSet['data']\n",
    "targetSR2 = dataSet['target']"
   ]
  },
  {
   "cell_type": "code",
   "execution_count": 139,
   "metadata": {},
   "outputs": [
    {
     "data": {
      "text/html": [
       "<div>\n",
       "<style scoped>\n",
       "    .dataframe tbody tr th:only-of-type {\n",
       "        vertical-align: middle;\n",
       "    }\n",
       "\n",
       "    .dataframe tbody tr th {\n",
       "        vertical-align: top;\n",
       "    }\n",
       "\n",
       "    .dataframe thead th {\n",
       "        text-align: right;\n",
       "    }\n",
       "</style>\n",
       "<table border=\"1\" class=\"dataframe\">\n",
       "  <thead>\n",
       "    <tr style=\"text-align: right;\">\n",
       "      <th></th>\n",
       "      <th>mean radius</th>\n",
       "      <th>mean texture</th>\n",
       "      <th>mean perimeter</th>\n",
       "      <th>mean area</th>\n",
       "      <th>mean smoothness</th>\n",
       "      <th>mean compactness</th>\n",
       "      <th>mean concavity</th>\n",
       "      <th>mean concave points</th>\n",
       "      <th>mean symmetry</th>\n",
       "      <th>mean fractal dimension</th>\n",
       "      <th>...</th>\n",
       "      <th>worst radius</th>\n",
       "      <th>worst texture</th>\n",
       "      <th>worst perimeter</th>\n",
       "      <th>worst area</th>\n",
       "      <th>worst smoothness</th>\n",
       "      <th>worst compactness</th>\n",
       "      <th>worst concavity</th>\n",
       "      <th>worst concave points</th>\n",
       "      <th>worst symmetry</th>\n",
       "      <th>worst fractal dimension</th>\n",
       "    </tr>\n",
       "  </thead>\n",
       "  <tbody>\n",
       "    <tr>\n",
       "      <th>0</th>\n",
       "      <td>17.99</td>\n",
       "      <td>10.38</td>\n",
       "      <td>122.8</td>\n",
       "      <td>1001.0</td>\n",
       "      <td>0.11840</td>\n",
       "      <td>0.27760</td>\n",
       "      <td>0.3001</td>\n",
       "      <td>0.14710</td>\n",
       "      <td>0.2419</td>\n",
       "      <td>0.07871</td>\n",
       "      <td>...</td>\n",
       "      <td>25.38</td>\n",
       "      <td>17.33</td>\n",
       "      <td>184.6</td>\n",
       "      <td>2019.0</td>\n",
       "      <td>0.1622</td>\n",
       "      <td>0.6656</td>\n",
       "      <td>0.7119</td>\n",
       "      <td>0.2654</td>\n",
       "      <td>0.4601</td>\n",
       "      <td>0.11890</td>\n",
       "    </tr>\n",
       "    <tr>\n",
       "      <th>1</th>\n",
       "      <td>20.57</td>\n",
       "      <td>17.77</td>\n",
       "      <td>132.9</td>\n",
       "      <td>1326.0</td>\n",
       "      <td>0.08474</td>\n",
       "      <td>0.07864</td>\n",
       "      <td>0.0869</td>\n",
       "      <td>0.07017</td>\n",
       "      <td>0.1812</td>\n",
       "      <td>0.05667</td>\n",
       "      <td>...</td>\n",
       "      <td>24.99</td>\n",
       "      <td>23.41</td>\n",
       "      <td>158.8</td>\n",
       "      <td>1956.0</td>\n",
       "      <td>0.1238</td>\n",
       "      <td>0.1866</td>\n",
       "      <td>0.2416</td>\n",
       "      <td>0.1860</td>\n",
       "      <td>0.2750</td>\n",
       "      <td>0.08902</td>\n",
       "    </tr>\n",
       "  </tbody>\n",
       "</table>\n",
       "<p>2 rows × 30 columns</p>\n",
       "</div>"
      ],
      "text/plain": [
       "   mean radius  mean texture  mean perimeter  mean area  mean smoothness  \\\n",
       "0        17.99         10.38           122.8     1001.0          0.11840   \n",
       "1        20.57         17.77           132.9     1326.0          0.08474   \n",
       "\n",
       "   mean compactness  mean concavity  mean concave points  mean symmetry  \\\n",
       "0           0.27760          0.3001              0.14710         0.2419   \n",
       "1           0.07864          0.0869              0.07017         0.1812   \n",
       "\n",
       "   mean fractal dimension  ...  worst radius  worst texture  worst perimeter  \\\n",
       "0                 0.07871  ...         25.38          17.33            184.6   \n",
       "1                 0.05667  ...         24.99          23.41            158.8   \n",
       "\n",
       "   worst area  worst smoothness  worst compactness  worst concavity  \\\n",
       "0      2019.0            0.1622             0.6656           0.7119   \n",
       "1      1956.0            0.1238             0.1866           0.2416   \n",
       "\n",
       "   worst concave points  worst symmetry  worst fractal dimension  \n",
       "0                0.2654          0.4601                  0.11890  \n",
       "1                0.1860          0.2750                  0.08902  \n",
       "\n",
       "[2 rows x 30 columns]"
      ]
     },
     "execution_count": 139,
     "metadata": {},
     "output_type": "execute_result"
    }
   ],
   "source": [
    "featureDF2.head(2)"
   ]
  },
  {
   "cell_type": "markdown",
   "metadata": {},
   "source": [
    "[2] 학습용 데이터셋 준비"
   ]
  },
  {
   "cell_type": "code",
   "execution_count": 140,
   "metadata": {},
   "outputs": [],
   "source": [
    "from sklearn.model_selection import train_test_split"
   ]
  },
  {
   "cell_type": "code",
   "execution_count": 141,
   "metadata": {},
   "outputs": [],
   "source": [
    "x_train2, x_test2, y_train2, y_test2 = train_test_split(featureDF2,\n",
    "                                                        targetSR2,\n",
    "                                                        stratify=targetSR2,\n",
    "                                                        random_state=10)"
   ]
  },
  {
   "cell_type": "code",
   "execution_count": 142,
   "metadata": {},
   "outputs": [
    {
     "data": {
      "text/plain": [
       "(pandas.core.frame.DataFrame, numpy.ndarray)"
      ]
     },
     "execution_count": 142,
     "metadata": {},
     "output_type": "execute_result"
    }
   ],
   "source": [
    "type(x_train2), type(x_train2.values)"
   ]
  },
  {
   "cell_type": "markdown",
   "metadata": {},
   "source": [
    "[3] 학습 진행 ==> 앙상블의 보팅 방식 진행\n",
    "- 데이터셋 동일\n",
    "- 알고리즘 모델 : KNeighborsClassifier, LogisticRegression, DecisionTreeClassfier"
   ]
  },
  {
   "cell_type": "code",
   "execution_count": 143,
   "metadata": {},
   "outputs": [],
   "source": [
    "from sklearn.neighbors import KNeighborsClassifier\n",
    "from sklearn.tree import DecisionTreeClassifier\n",
    "from sklearn.linear_model import LogisticRegression\n",
    "from sklearn.ensemble import VotingClassifier"
   ]
  },
  {
   "cell_type": "code",
   "execution_count": 144,
   "metadata": {},
   "outputs": [],
   "source": [
    "# 알고리즘 인스턴스 생성\n",
    "k_model = KNeighborsClassifier()\n",
    "dt_model = DecisionTreeClassifier(random_state=10)\n",
    "lr_model = LogisticRegression(solver='liblinear')"
   ]
  },
  {
   "cell_type": "code",
   "execution_count": 154,
   "metadata": {},
   "outputs": [],
   "source": [
    "# 보팅인스턴스 생성\n",
    "v_model = VotingClassifier(estimators=[('k_model', k_model), ('dt_model', dt_model), ('lr_model', lr_model)],\n",
    "                           voting='hard')\n",
    "vs_model = VotingClassifier(estimators=[('k_model', k_model), ('dt_model', dt_model), ('lr_model', lr_model)],\n",
    "                           voting='soft')"
   ]
  },
  {
   "cell_type": "code",
   "execution_count": 155,
   "metadata": {},
   "outputs": [
    {
     "data": {
      "text/html": [
       "<style>#sk-container-id-11 {color: black;}#sk-container-id-11 pre{padding: 0;}#sk-container-id-11 div.sk-toggleable {background-color: white;}#sk-container-id-11 label.sk-toggleable__label {cursor: pointer;display: block;width: 100%;margin-bottom: 0;padding: 0.3em;box-sizing: border-box;text-align: center;}#sk-container-id-11 label.sk-toggleable__label-arrow:before {content: \"▸\";float: left;margin-right: 0.25em;color: #696969;}#sk-container-id-11 label.sk-toggleable__label-arrow:hover:before {color: black;}#sk-container-id-11 div.sk-estimator:hover label.sk-toggleable__label-arrow:before {color: black;}#sk-container-id-11 div.sk-toggleable__content {max-height: 0;max-width: 0;overflow: hidden;text-align: left;background-color: #f0f8ff;}#sk-container-id-11 div.sk-toggleable__content pre {margin: 0.2em;color: black;border-radius: 0.25em;background-color: #f0f8ff;}#sk-container-id-11 input.sk-toggleable__control:checked~div.sk-toggleable__content {max-height: 200px;max-width: 100%;overflow: auto;}#sk-container-id-11 input.sk-toggleable__control:checked~label.sk-toggleable__label-arrow:before {content: \"▾\";}#sk-container-id-11 div.sk-estimator input.sk-toggleable__control:checked~label.sk-toggleable__label {background-color: #d4ebff;}#sk-container-id-11 div.sk-label input.sk-toggleable__control:checked~label.sk-toggleable__label {background-color: #d4ebff;}#sk-container-id-11 input.sk-hidden--visually {border: 0;clip: rect(1px 1px 1px 1px);clip: rect(1px, 1px, 1px, 1px);height: 1px;margin: -1px;overflow: hidden;padding: 0;position: absolute;width: 1px;}#sk-container-id-11 div.sk-estimator {font-family: monospace;background-color: #f0f8ff;border: 1px dotted black;border-radius: 0.25em;box-sizing: border-box;margin-bottom: 0.5em;}#sk-container-id-11 div.sk-estimator:hover {background-color: #d4ebff;}#sk-container-id-11 div.sk-parallel-item::after {content: \"\";width: 100%;border-bottom: 1px solid gray;flex-grow: 1;}#sk-container-id-11 div.sk-label:hover label.sk-toggleable__label {background-color: #d4ebff;}#sk-container-id-11 div.sk-serial::before {content: \"\";position: absolute;border-left: 1px solid gray;box-sizing: border-box;top: 0;bottom: 0;left: 50%;z-index: 0;}#sk-container-id-11 div.sk-serial {display: flex;flex-direction: column;align-items: center;background-color: white;padding-right: 0.2em;padding-left: 0.2em;position: relative;}#sk-container-id-11 div.sk-item {position: relative;z-index: 1;}#sk-container-id-11 div.sk-parallel {display: flex;align-items: stretch;justify-content: center;background-color: white;position: relative;}#sk-container-id-11 div.sk-item::before, #sk-container-id-11 div.sk-parallel-item::before {content: \"\";position: absolute;border-left: 1px solid gray;box-sizing: border-box;top: 0;bottom: 0;left: 50%;z-index: -1;}#sk-container-id-11 div.sk-parallel-item {display: flex;flex-direction: column;z-index: 1;position: relative;background-color: white;}#sk-container-id-11 div.sk-parallel-item:first-child::after {align-self: flex-end;width: 50%;}#sk-container-id-11 div.sk-parallel-item:last-child::after {align-self: flex-start;width: 50%;}#sk-container-id-11 div.sk-parallel-item:only-child::after {width: 0;}#sk-container-id-11 div.sk-dashed-wrapped {border: 1px dashed gray;margin: 0 0.4em 0.5em 0.4em;box-sizing: border-box;padding-bottom: 0.4em;background-color: white;}#sk-container-id-11 div.sk-label label {font-family: monospace;font-weight: bold;display: inline-block;line-height: 1.2em;}#sk-container-id-11 div.sk-label-container {text-align: center;}#sk-container-id-11 div.sk-container {/* jupyter's `normalize.less` sets `[hidden] { display: none; }` but bootstrap.min.css set `[hidden] { display: none !important; }` so we also need the `!important` here to be able to override the default hidden behavior on the sphinx rendered scikit-learn.org. See: https://github.com/scikit-learn/scikit-learn/issues/21755 */display: inline-block !important;position: relative;}#sk-container-id-11 div.sk-text-repr-fallback {display: none;}</style><div id=\"sk-container-id-11\" class=\"sk-top-container\"><div class=\"sk-text-repr-fallback\"><pre>VotingClassifier(estimators=[(&#x27;k_model&#x27;, KNeighborsClassifier()),\n",
       "                             (&#x27;dt_model&#x27;,\n",
       "                              DecisionTreeClassifier(random_state=10)),\n",
       "                             (&#x27;lr_model&#x27;,\n",
       "                              LogisticRegression(solver=&#x27;liblinear&#x27;))],\n",
       "                 voting=&#x27;soft&#x27;)</pre><b>In a Jupyter environment, please rerun this cell to show the HTML representation or trust the notebook. <br />On GitHub, the HTML representation is unable to render, please try loading this page with nbviewer.org.</b></div><div class=\"sk-container\" hidden><div class=\"sk-item sk-dashed-wrapped\"><div class=\"sk-label-container\"><div class=\"sk-label sk-toggleable\"><input class=\"sk-toggleable__control sk-hidden--visually\" id=\"sk-estimator-id-29\" type=\"checkbox\" ><label for=\"sk-estimator-id-29\" class=\"sk-toggleable__label sk-toggleable__label-arrow\">VotingClassifier</label><div class=\"sk-toggleable__content\"><pre>VotingClassifier(estimators=[(&#x27;k_model&#x27;, KNeighborsClassifier()),\n",
       "                             (&#x27;dt_model&#x27;,\n",
       "                              DecisionTreeClassifier(random_state=10)),\n",
       "                             (&#x27;lr_model&#x27;,\n",
       "                              LogisticRegression(solver=&#x27;liblinear&#x27;))],\n",
       "                 voting=&#x27;soft&#x27;)</pre></div></div></div><div class=\"sk-parallel\"><div class=\"sk-parallel-item\"><div class=\"sk-item\"><div class=\"sk-label-container\"><div class=\"sk-label sk-toggleable\"><label>k_model</label></div></div><div class=\"sk-serial\"><div class=\"sk-item\"><div class=\"sk-estimator sk-toggleable\"><input class=\"sk-toggleable__control sk-hidden--visually\" id=\"sk-estimator-id-30\" type=\"checkbox\" ><label for=\"sk-estimator-id-30\" class=\"sk-toggleable__label sk-toggleable__label-arrow\">KNeighborsClassifier</label><div class=\"sk-toggleable__content\"><pre>KNeighborsClassifier()</pre></div></div></div></div></div></div><div class=\"sk-parallel-item\"><div class=\"sk-item\"><div class=\"sk-label-container\"><div class=\"sk-label sk-toggleable\"><label>dt_model</label></div></div><div class=\"sk-serial\"><div class=\"sk-item\"><div class=\"sk-estimator sk-toggleable\"><input class=\"sk-toggleable__control sk-hidden--visually\" id=\"sk-estimator-id-31\" type=\"checkbox\" ><label for=\"sk-estimator-id-31\" class=\"sk-toggleable__label sk-toggleable__label-arrow\">DecisionTreeClassifier</label><div class=\"sk-toggleable__content\"><pre>DecisionTreeClassifier(random_state=10)</pre></div></div></div></div></div></div><div class=\"sk-parallel-item\"><div class=\"sk-item\"><div class=\"sk-label-container\"><div class=\"sk-label sk-toggleable\"><label>lr_model</label></div></div><div class=\"sk-serial\"><div class=\"sk-item\"><div class=\"sk-estimator sk-toggleable\"><input class=\"sk-toggleable__control sk-hidden--visually\" id=\"sk-estimator-id-32\" type=\"checkbox\" ><label for=\"sk-estimator-id-32\" class=\"sk-toggleable__label sk-toggleable__label-arrow\">LogisticRegression</label><div class=\"sk-toggleable__content\"><pre>LogisticRegression(solver=&#x27;liblinear&#x27;)</pre></div></div></div></div></div></div></div></div></div></div>"
      ],
      "text/plain": [
       "VotingClassifier(estimators=[('k_model', KNeighborsClassifier()),\n",
       "                             ('dt_model',\n",
       "                              DecisionTreeClassifier(random_state=10)),\n",
       "                             ('lr_model',\n",
       "                              LogisticRegression(solver='liblinear'))],\n",
       "                 voting='soft')"
      ]
     },
     "execution_count": 155,
     "metadata": {},
     "output_type": "execute_result"
    }
   ],
   "source": [
    "# 학습 진행\n",
    "v_model.fit(x_train2.values, y_train2.values) # hard 즉, 직접 선거 방식\n",
    "vs_model.fit(x_train2.values, y_train2.values) # soft 즉, 간접 선거 방식으로 모델마다 확률값 합계에 평균"
   ]
  },
  {
   "cell_type": "code",
   "execution_count": 147,
   "metadata": {},
   "outputs": [
    {
     "name": "stdout",
     "output_type": "stream",
     "text": [
      "[v_model.classes_] : [0 1]\n",
      "[v_model.estimators_] : [KNeighborsClassifier(), DecisionTreeClassifier(random_state=10), LogisticRegression(solver='liblinear')]\n",
      "[v_model.named_estimators_] : {'k_model': KNeighborsClassifier(), 'dt_model': DecisionTreeClassifier(random_state=10), 'lr_model': LogisticRegression(solver='liblinear')}\n",
      "[v_model.n_features_in_] : 30\n"
     ]
    }
   ],
   "source": [
    "# 모델 파라미터 확인\n",
    "print(f'[v_model.classes_] : {v_model.classes_}')\n",
    "print(f'[v_model.estimators_] : {v_model.estimators_}')\n",
    "print(f'[v_model.named_estimators_] : {v_model.named_estimators_}')\n",
    "\n",
    "print(f'[v_model.n_features_in_] : {v_model.n_features_in_}')\n",
    "# print(f'[v_model.feature_names_in_] : {v_model.feature_names_in_}') # fit() 할때 DataFrame 전달한 경우"
   ]
  },
  {
   "cell_type": "markdown",
   "metadata": {},
   "source": [
    "[4] 성능 확인 => trainDS과 (validation DS), 없어서 testDS"
   ]
  },
  {
   "cell_type": "code",
   "execution_count": 158,
   "metadata": {},
   "outputs": [],
   "source": [
    "train_score2 = v_model.score(x_train2.values, y_train2.values)\n",
    "test_score2 = v_model.score(x_test2.values, y_test2.values)\n",
    "\n",
    "soft_train_score2 = vs_model.score(x_train2.values, y_train2.values)\n",
    "soft_test_score2 = vs_model.score(x_test2.values, y_test2.values)"
   ]
  },
  {
   "cell_type": "code",
   "execution_count": 159,
   "metadata": {},
   "outputs": [
    {
     "name": "stdout",
     "output_type": "stream",
     "text": [
      "[hard voting] train_score2 : test_score2 = 0.9741784037558685 : 0.951048951048951\n",
      "[soft voting] soft_train_score2 : soft_test_score2 = 0.9882629107981221 : 0.951048951048951\n"
     ]
    }
   ],
   "source": [
    "print(f'[hard voting] train_score2 : test_score2 = {train_score2} : {test_score2}')\n",
    "print(f'[soft voting] soft_train_score2 : soft_test_score2 = {soft_train_score2} : {soft_test_score2}')"
   ]
  },
  {
   "cell_type": "code",
   "execution_count": null,
   "metadata": {},
   "outputs": [],
   "source": [
    "##### ERROR MESSAGE : AttributeError: 'Flags' object has no attribute 'c_contiguous'\n",
    "### => ndarray 타입의 데이터로 변경"
   ]
  },
  {
   "cell_type": "code",
   "execution_count": 1,
   "metadata": {},
   "outputs": [],
   "source": [
    "# from sklearn.metrics import classification_report"
   ]
  },
  {
   "cell_type": "code",
   "execution_count": null,
   "metadata": {},
   "outputs": [],
   "source": []
  }
 ],
 "metadata": {
  "kernelspec": {
   "display_name": "ML_38",
   "language": "python",
   "name": "python3"
  },
  "language_info": {
   "codemirror_mode": {
    "name": "ipython",
    "version": 3
   },
   "file_extension": ".py",
   "mimetype": "text/x-python",
   "name": "python",
   "nbconvert_exporter": "python",
   "pygments_lexer": "ipython3",
   "version": "3.8.19"
  }
 },
 "nbformat": 4,
 "nbformat_minor": 2
}
