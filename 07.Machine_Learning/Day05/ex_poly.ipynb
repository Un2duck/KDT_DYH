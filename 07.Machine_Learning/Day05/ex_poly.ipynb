{
 "cells": [
  {
   "cell_type": "markdown",
   "metadata": {},
   "source": [
    "### 무게를 찾기\n",
    "- 목 표 : 농어(Perch) 길이 피쳐를 사용해서 무게를 예측하기\n",
    "- 데이터셋 : fish.csv\n",
    "- 피쳐/속성 : Length\n",
    "- 타겟/라벨 : Weight\n",
    "- 학습-방법 : 지도학습 > 회귀\n",
    "- 알고리즘 : 선형회귀 >>> 데이터분포가 선형의 형태"
   ]
  },
  {
   "cell_type": "markdown",
   "metadata": {
    "vscode": {
     "languageId": "plaintext"
    }
   },
   "source": [
    "[1] 데이터 준비"
   ]
  },
  {
   "cell_type": "code",
   "execution_count": 22,
   "metadata": {},
   "outputs": [],
   "source": [
    "import pandas as pd\n",
    "import numpy as np\n",
    "import matplotlib.pyplot as plt"
   ]
  },
  {
   "cell_type": "code",
   "execution_count": 23,
   "metadata": {},
   "outputs": [],
   "source": [
    "FILE_PATH = '../Data/fish.csv'"
   ]
  },
  {
   "cell_type": "code",
   "execution_count": 24,
   "metadata": {},
   "outputs": [],
   "source": [
    "fishDF = pd.read_csv(FILE_PATH)"
   ]
  },
  {
   "cell_type": "code",
   "execution_count": 25,
   "metadata": {},
   "outputs": [
    {
     "data": {
      "text/html": [
       "<div>\n",
       "<style scoped>\n",
       "    .dataframe tbody tr th:only-of-type {\n",
       "        vertical-align: middle;\n",
       "    }\n",
       "\n",
       "    .dataframe tbody tr th {\n",
       "        vertical-align: top;\n",
       "    }\n",
       "\n",
       "    .dataframe thead th {\n",
       "        text-align: right;\n",
       "    }\n",
       "</style>\n",
       "<table border=\"1\" class=\"dataframe\">\n",
       "  <thead>\n",
       "    <tr style=\"text-align: right;\">\n",
       "      <th></th>\n",
       "      <th>Species</th>\n",
       "      <th>Weight</th>\n",
       "      <th>Length</th>\n",
       "      <th>Diagonal</th>\n",
       "      <th>Height</th>\n",
       "      <th>Width</th>\n",
       "    </tr>\n",
       "  </thead>\n",
       "  <tbody>\n",
       "    <tr>\n",
       "      <th>0</th>\n",
       "      <td>Bream</td>\n",
       "      <td>242.0</td>\n",
       "      <td>25.4</td>\n",
       "      <td>30.0</td>\n",
       "      <td>11.5200</td>\n",
       "      <td>4.0200</td>\n",
       "    </tr>\n",
       "    <tr>\n",
       "      <th>1</th>\n",
       "      <td>Bream</td>\n",
       "      <td>290.0</td>\n",
       "      <td>26.3</td>\n",
       "      <td>31.2</td>\n",
       "      <td>12.4800</td>\n",
       "      <td>4.3056</td>\n",
       "    </tr>\n",
       "    <tr>\n",
       "      <th>2</th>\n",
       "      <td>Bream</td>\n",
       "      <td>340.0</td>\n",
       "      <td>26.5</td>\n",
       "      <td>31.1</td>\n",
       "      <td>12.3778</td>\n",
       "      <td>4.6961</td>\n",
       "    </tr>\n",
       "    <tr>\n",
       "      <th>3</th>\n",
       "      <td>Bream</td>\n",
       "      <td>363.0</td>\n",
       "      <td>29.0</td>\n",
       "      <td>33.5</td>\n",
       "      <td>12.7300</td>\n",
       "      <td>4.4555</td>\n",
       "    </tr>\n",
       "    <tr>\n",
       "      <th>4</th>\n",
       "      <td>Bream</td>\n",
       "      <td>430.0</td>\n",
       "      <td>29.0</td>\n",
       "      <td>34.0</td>\n",
       "      <td>12.4440</td>\n",
       "      <td>5.1340</td>\n",
       "    </tr>\n",
       "  </tbody>\n",
       "</table>\n",
       "</div>"
      ],
      "text/plain": [
       "  Species  Weight  Length  Diagonal   Height   Width\n",
       "0   Bream   242.0    25.4      30.0  11.5200  4.0200\n",
       "1   Bream   290.0    26.3      31.2  12.4800  4.3056\n",
       "2   Bream   340.0    26.5      31.1  12.3778  4.6961\n",
       "3   Bream   363.0    29.0      33.5  12.7300  4.4555\n",
       "4   Bream   430.0    29.0      34.0  12.4440  5.1340"
      ]
     },
     "execution_count": 25,
     "metadata": {},
     "output_type": "execute_result"
    }
   ],
   "source": [
    "fishDF.head()"
   ]
  },
  {
   "cell_type": "code",
   "execution_count": 26,
   "metadata": {},
   "outputs": [
    {
     "data": {
      "text/html": [
       "<div>\n",
       "<style scoped>\n",
       "    .dataframe tbody tr th:only-of-type {\n",
       "        vertical-align: middle;\n",
       "    }\n",
       "\n",
       "    .dataframe tbody tr th {\n",
       "        vertical-align: top;\n",
       "    }\n",
       "\n",
       "    .dataframe thead th {\n",
       "        text-align: right;\n",
       "    }\n",
       "</style>\n",
       "<table border=\"1\" class=\"dataframe\">\n",
       "  <thead>\n",
       "    <tr style=\"text-align: right;\">\n",
       "      <th></th>\n",
       "      <th>Species</th>\n",
       "      <th>Weight</th>\n",
       "      <th>Length</th>\n",
       "      <th>Diagonal</th>\n",
       "      <th>Height</th>\n",
       "      <th>Width</th>\n",
       "    </tr>\n",
       "  </thead>\n",
       "  <tbody>\n",
       "    <tr>\n",
       "      <th>72</th>\n",
       "      <td>Perch</td>\n",
       "      <td>5.9</td>\n",
       "      <td>8.4</td>\n",
       "      <td>8.8</td>\n",
       "      <td>2.1120</td>\n",
       "      <td>1.4080</td>\n",
       "    </tr>\n",
       "    <tr>\n",
       "      <th>73</th>\n",
       "      <td>Perch</td>\n",
       "      <td>32.0</td>\n",
       "      <td>13.7</td>\n",
       "      <td>14.7</td>\n",
       "      <td>3.5280</td>\n",
       "      <td>1.9992</td>\n",
       "    </tr>\n",
       "    <tr>\n",
       "      <th>74</th>\n",
       "      <td>Perch</td>\n",
       "      <td>40.0</td>\n",
       "      <td>15.0</td>\n",
       "      <td>16.0</td>\n",
       "      <td>3.8240</td>\n",
       "      <td>2.4320</td>\n",
       "    </tr>\n",
       "    <tr>\n",
       "      <th>75</th>\n",
       "      <td>Perch</td>\n",
       "      <td>51.5</td>\n",
       "      <td>16.2</td>\n",
       "      <td>17.2</td>\n",
       "      <td>4.5924</td>\n",
       "      <td>2.6316</td>\n",
       "    </tr>\n",
       "    <tr>\n",
       "      <th>76</th>\n",
       "      <td>Perch</td>\n",
       "      <td>70.0</td>\n",
       "      <td>17.4</td>\n",
       "      <td>18.5</td>\n",
       "      <td>4.5880</td>\n",
       "      <td>2.9415</td>\n",
       "    </tr>\n",
       "  </tbody>\n",
       "</table>\n",
       "</div>"
      ],
      "text/plain": [
       "   Species  Weight  Length  Diagonal  Height   Width\n",
       "72   Perch     5.9     8.4       8.8  2.1120  1.4080\n",
       "73   Perch    32.0    13.7      14.7  3.5280  1.9992\n",
       "74   Perch    40.0    15.0      16.0  3.8240  2.4320\n",
       "75   Perch    51.5    16.2      17.2  4.5924  2.6316\n",
       "76   Perch    70.0    17.4      18.5  4.5880  2.9415"
      ]
     },
     "execution_count": 26,
     "metadata": {},
     "output_type": "execute_result"
    }
   ],
   "source": [
    "PerchDF = fishDF[fishDF['Species'] == 'Perch']\n",
    "PerchDF.head()"
   ]
  },
  {
   "cell_type": "code",
   "execution_count": 27,
   "metadata": {},
   "outputs": [],
   "source": [
    "feature = PerchDF['Weight'].values.reshape(-1, 1)\n",
    "target = PerchDF['Length']"
   ]
  },
  {
   "cell_type": "code",
   "execution_count": 28,
   "metadata": {},
   "outputs": [
    {
     "data": {
      "text/plain": [
       "array([[   5.9],\n",
       "       [  32. ],\n",
       "       [  40. ],\n",
       "       [  51.5],\n",
       "       [  70. ],\n",
       "       [ 100. ],\n",
       "       [  78. ],\n",
       "       [  80. ],\n",
       "       [  85. ],\n",
       "       [  85. ],\n",
       "       [ 110. ],\n",
       "       [ 115. ],\n",
       "       [ 125. ],\n",
       "       [ 130. ],\n",
       "       [ 120. ],\n",
       "       [ 120. ],\n",
       "       [ 130. ],\n",
       "       [ 135. ],\n",
       "       [ 110. ],\n",
       "       [ 130. ],\n",
       "       [ 150. ],\n",
       "       [ 145. ],\n",
       "       [ 150. ],\n",
       "       [ 170. ],\n",
       "       [ 225. ],\n",
       "       [ 145. ],\n",
       "       [ 188. ],\n",
       "       [ 180. ],\n",
       "       [ 197. ],\n",
       "       [ 218. ],\n",
       "       [ 300. ],\n",
       "       [ 260. ],\n",
       "       [ 265. ],\n",
       "       [ 250. ],\n",
       "       [ 250. ],\n",
       "       [ 300. ],\n",
       "       [ 320. ],\n",
       "       [ 514. ],\n",
       "       [ 556. ],\n",
       "       [ 840. ],\n",
       "       [ 685. ],\n",
       "       [ 700. ],\n",
       "       [ 700. ],\n",
       "       [ 690. ],\n",
       "       [ 900. ],\n",
       "       [ 650. ],\n",
       "       [ 820. ],\n",
       "       [ 850. ],\n",
       "       [ 900. ],\n",
       "       [1015. ],\n",
       "       [ 820. ],\n",
       "       [1100. ],\n",
       "       [1000. ],\n",
       "       [1100. ],\n",
       "       [1000. ],\n",
       "       [1000. ]])"
      ]
     },
     "execution_count": 28,
     "metadata": {},
     "output_type": "execute_result"
    }
   ],
   "source": [
    "feature"
   ]
  },
  {
   "cell_type": "code",
   "execution_count": 29,
   "metadata": {},
   "outputs": [
    {
     "data": {
      "text/plain": [
       "72      8.4\n",
       "73     13.7\n",
       "74     15.0\n",
       "75     16.2\n",
       "76     17.4\n",
       "77     18.0\n",
       "78     18.7\n",
       "79     19.0\n",
       "80     19.6\n",
       "81     20.0\n",
       "82     21.0\n",
       "83     21.0\n",
       "84     21.0\n",
       "85     21.3\n",
       "86     22.0\n",
       "87     22.0\n",
       "88     22.0\n",
       "89     22.0\n",
       "90     22.0\n",
       "91     22.5\n",
       "92     22.5\n",
       "93     22.7\n",
       "94     23.0\n",
       "95     23.5\n",
       "96     24.0\n",
       "97     24.0\n",
       "98     24.6\n",
       "99     25.0\n",
       "100    25.6\n",
       "101    26.5\n",
       "102    27.3\n",
       "103    27.5\n",
       "104    27.5\n",
       "105    27.5\n",
       "106    28.0\n",
       "107    28.7\n",
       "108    30.0\n",
       "109    32.8\n",
       "110    34.5\n",
       "111    35.0\n",
       "112    36.5\n",
       "113    36.0\n",
       "114    37.0\n",
       "115    37.0\n",
       "116    39.0\n",
       "117    39.0\n",
       "118    39.0\n",
       "119    40.0\n",
       "120    40.0\n",
       "121    40.0\n",
       "122    40.0\n",
       "123    42.0\n",
       "124    43.0\n",
       "125    43.0\n",
       "126    43.5\n",
       "127    44.0\n",
       "Name: Length, dtype: float64"
      ]
     },
     "execution_count": 29,
     "metadata": {},
     "output_type": "execute_result"
    }
   ],
   "source": [
    "target"
   ]
  },
  {
   "cell_type": "code",
   "execution_count": 30,
   "metadata": {},
   "outputs": [
    {
     "data": {
      "image/png": "[encoded data removed]",
      "text/plain": [
       "<Figure size 640x480 with 1 Axes>"
      ]
     },
     "metadata": {},
     "output_type": "display_data"
    }
   ],
   "source": [
    "plt.scatter(feature, target)\n",
    "plt.xlabel('Perch_Weight(feature)')\n",
    "plt.ylabel('Perch_Length(target)')\n",
    "plt.show()"
   ]
  },
  {
   "cell_type": "code",
   "execution_count": 31,
   "metadata": {},
   "outputs": [],
   "source": [
    "from sklearn.preprocessing import PolynomialFeatures"
   ]
  },
  {
   "cell_type": "code",
   "execution_count": 32,
   "metadata": {},
   "outputs": [
    {
     "data": {
      "text/plain": [
       "(56, 5)"
      ]
     },
     "execution_count": 32,
     "metadata": {},
     "output_type": "execute_result"
    }
   ],
   "source": [
    "poly=PolynomialFeatures(include_bias=False, degree=5)\n",
    "poly_feature=poly.fit_transform(feature) # 한번만 쓸 경우\n",
    "poly_feature.shape"
   ]
  },
  {
   "cell_type": "code",
   "execution_count": 33,
   "metadata": {},
   "outputs": [],
   "source": [
    "from sklearn.linear_model import LinearRegression\n",
    "from sklearn.model_selection import cross_val_score\n",
    "%matplotlib inline"
   ]
  },
  {
   "cell_type": "code",
   "execution_count": 34,
   "metadata": {},
   "outputs": [],
   "source": [
    "def polynomial_func(x):\n",
    "    y = 1 + 2*x[:,0] + 3*x[:,0]**2 + 4*x[:,1]**3\n",
    "    return y"
   ]
  },
  {
   "cell_type": "code",
   "execution_count": 35,
   "metadata": {},
   "outputs": [],
   "source": [
    "from sklearn.linear_model import LinearRegression\n",
    "from sklearn.pipeline import Pipeline\n",
    "%matplotlib inline"
   ]
  },
  {
   "cell_type": "code",
   "execution_count": 36,
   "metadata": {},
   "outputs": [],
   "source": [
    "from sklearn.model_selection import train_test_split"
   ]
  },
  {
   "cell_type": "code",
   "execution_count": 37,
   "metadata": {},
   "outputs": [],
   "source": [
    "x_train, x_test, y_train, y_test = train_test_split(feature,\n",
    "                                                    target,\n",
    "                                                    test_size=0.2)"
   ]
  },
  {
   "cell_type": "code",
   "execution_count": 38,
   "metadata": {},
   "outputs": [
    {
     "name": "stdout",
     "output_type": "stream",
     "text": [
      "x_train: (44, 1), 2D\n",
      "y_train: (44,), 1D\n",
      "x_test: (12, 1), 2D\n",
      "y_test: (12,), 1D\n"
     ]
    }
   ],
   "source": [
    "print(f'x_train: {x_train.shape}, {x_train.ndim}D')\n",
    "print(f'y_train: {y_train.shape}, {y_train.ndim}D')\n",
    "\n",
    "print(f'x_test: {x_test.shape}, {x_test.ndim}D')\n",
    "print(f'y_test: {y_test.shape}, {y_test.ndim}D')"
   ]
  },
  {
   "cell_type": "code",
   "execution_count": 39,
   "metadata": {},
   "outputs": [],
   "source": [
    "from sklearn.linear_model import LinearRegression"
   ]
  },
  {
   "cell_type": "code",
   "execution_count": 40,
   "metadata": {},
   "outputs": [],
   "source": [
    "lrmodel = LinearRegression()\n",
    "model2 = LinearRegression()"
   ]
  },
  {
   "cell_type": "code",
   "execution_count": 41,
   "metadata": {},
   "outputs": [
    {
     "data": {
      "text/html": [
       "<style>#sk-container-id-1 {color: black;}#sk-container-id-1 pre{padding: 0;}#sk-container-id-1 div.sk-toggleable {background-color: white;}#sk-container-id-1 label.sk-toggleable__label {cursor: pointer;display: block;width: 100%;margin-bottom: 0;padding: 0.3em;box-sizing: border-box;text-align: center;}#sk-container-id-1 label.sk-toggleable__label-arrow:before {content: \"▸\";float: left;margin-right: 0.25em;color: #696969;}#sk-container-id-1 label.sk-toggleable__label-arrow:hover:before {color: black;}#sk-container-id-1 div.sk-estimator:hover label.sk-toggleable__label-arrow:before {color: black;}#sk-container-id-1 div.sk-toggleable__content {max-height: 0;max-width: 0;overflow: hidden;text-align: left;background-color: #f0f8ff;}#sk-container-id-1 div.sk-toggleable__content pre {margin: 0.2em;color: black;border-radius: 0.25em;background-color: #f0f8ff;}#sk-container-id-1 input.sk-toggleable__control:checked~div.sk-toggleable__content {max-height: 200px;max-width: 100%;overflow: auto;}#sk-container-id-1 input.sk-toggleable__control:checked~label.sk-toggleable__label-arrow:before {content: \"▾\";}#sk-container-id-1 div.sk-estimator input.sk-toggleable__control:checked~label.sk-toggleable__label {background-color: #d4ebff;}#sk-container-id-1 div.sk-label input.sk-toggleable__control:checked~label.sk-toggleable__label {background-color: #d4ebff;}#sk-container-id-1 input.sk-hidden--visually {border: 0;clip: rect(1px 1px 1px 1px);clip: rect(1px, 1px, 1px, 1px);height: 1px;margin: -1px;overflow: hidden;padding: 0;position: absolute;width: 1px;}#sk-container-id-1 div.sk-estimator {font-family: monospace;background-color: #f0f8ff;border: 1px dotted black;border-radius: 0.25em;box-sizing: border-box;margin-bottom: 0.5em;}#sk-container-id-1 div.sk-estimator:hover {background-color: #d4ebff;}#sk-container-id-1 div.sk-parallel-item::after {content: \"\";width: 100%;border-bottom: 1px solid gray;flex-grow: 1;}#sk-container-id-1 div.sk-label:hover label.sk-toggleable__label {background-color: #d4ebff;}#sk-container-id-1 div.sk-serial::before {content: \"\";position: absolute;border-left: 1px solid gray;box-sizing: border-box;top: 0;bottom: 0;left: 50%;z-index: 0;}#sk-container-id-1 div.sk-serial {display: flex;flex-direction: column;align-items: center;background-color: white;padding-right: 0.2em;padding-left: 0.2em;position: relative;}#sk-container-id-1 div.sk-item {position: relative;z-index: 1;}#sk-container-id-1 div.sk-parallel {display: flex;align-items: stretch;justify-content: center;background-color: white;position: relative;}#sk-container-id-1 div.sk-item::before, #sk-container-id-1 div.sk-parallel-item::before {content: \"\";position: absolute;border-left: 1px solid gray;box-sizing: border-box;top: 0;bottom: 0;left: 50%;z-index: -1;}#sk-container-id-1 div.sk-parallel-item {display: flex;flex-direction: column;z-index: 1;position: relative;background-color: white;}#sk-container-id-1 div.sk-parallel-item:first-child::after {align-self: flex-end;width: 50%;}#sk-container-id-1 div.sk-parallel-item:last-child::after {align-self: flex-start;width: 50%;}#sk-container-id-1 div.sk-parallel-item:only-child::after {width: 0;}#sk-container-id-1 div.sk-dashed-wrapped {border: 1px dashed gray;margin: 0 0.4em 0.5em 0.4em;box-sizing: border-box;padding-bottom: 0.4em;background-color: white;}#sk-container-id-1 div.sk-label label {font-family: monospace;font-weight: bold;display: inline-block;line-height: 1.2em;}#sk-container-id-1 div.sk-label-container {text-align: center;}#sk-container-id-1 div.sk-container {/* jupyter's `normalize.less` sets `[hidden] { display: none; }` but bootstrap.min.css set `[hidden] { display: none !important; }` so we also need the `!important` here to be able to override the default hidden behavior on the sphinx rendered scikit-learn.org. See: https://github.com/scikit-learn/scikit-learn/issues/21755 */display: inline-block !important;position: relative;}#sk-container-id-1 div.sk-text-repr-fallback {display: none;}</style><div id=\"sk-container-id-1\" class=\"sk-top-container\"><div class=\"sk-text-repr-fallback\"><pre>LinearRegression()</pre><b>In a Jupyter environment, please rerun this cell to show the HTML representation or trust the notebook. <br />On GitHub, the HTML representation is unable to render, please try loading this page with nbviewer.org.</b></div><div class=\"sk-container\" hidden><div class=\"sk-item\"><div class=\"sk-estimator sk-toggleable\"><input class=\"sk-toggleable__control sk-hidden--visually\" id=\"sk-estimator-id-1\" type=\"checkbox\" checked><label for=\"sk-estimator-id-1\" class=\"sk-toggleable__label sk-toggleable__label-arrow\">LinearRegression</label><div class=\"sk-toggleable__content\"><pre>LinearRegression()</pre></div></div></div></div></div>"
      ],
      "text/plain": [
       "LinearRegression()"
      ]
     },
     "execution_count": 41,
     "metadata": {},
     "output_type": "execute_result"
    }
   ],
   "source": [
    "lrmodel.fit(feature, target)\n",
    "model2.fit(x_train, y_train)"
   ]
  },
  {
   "cell_type": "code",
   "execution_count": 42,
   "metadata": {},
   "outputs": [
    {
     "name": "stdout",
     "output_type": "stream",
     "text": [
      "기울기: [0.02487985], 절편: 18.382802913636723\n",
      "기울기: [0.02543324], 절편: 18.138653571464566\n"
     ]
    }
   ],
   "source": [
    "# 학습 후 모델 파라미터\n",
    "print(f'기울기: {lrmodel.coef_}, 절편: {lrmodel.intercept_}')\n",
    "print(f'기울기: {model2.coef_}, 절편: {model2.intercept_}')"
   ]
  },
  {
   "cell_type": "code",
   "execution_count": 43,
   "metadata": {},
   "outputs": [
    {
     "data": {
      "text/plain": [
       "array([[18.2887097 ],\n",
       "       [18.95251733],\n",
       "       [19.15598328],\n",
       "       [19.44846557],\n",
       "       [19.91898055],\n",
       "       [20.68197783],\n",
       "       [20.12244649],\n",
       "       [20.17331298],\n",
       "       [20.30047919],\n",
       "       [20.30047919],\n",
       "       [20.93631026],\n",
       "       [21.06347647],\n",
       "       [21.3178089 ],\n",
       "       [21.44497511],\n",
       "       [21.19064268],\n",
       "       [21.19064268],\n",
       "       [21.44497511],\n",
       "       [21.57214132],\n",
       "       [20.93631026],\n",
       "       [21.44497511],\n",
       "       [21.95363996],\n",
       "       [21.82647375],\n",
       "       [21.95363996],\n",
       "       [22.46230481],\n",
       "       [23.86113316],\n",
       "       [21.82647375],\n",
       "       [22.92010318],\n",
       "       [22.71663724],\n",
       "       [23.14900236],\n",
       "       [23.68310046],\n",
       "       [25.76862635],\n",
       "       [24.75129665],\n",
       "       [24.87846286],\n",
       "       [24.49696422],\n",
       "       [24.49696422],\n",
       "       [25.76862635],\n",
       "       [26.2772912 ],\n",
       "       [31.21134027],\n",
       "       [32.27953645],\n",
       "       [39.50257735],\n",
       "       [35.56042475],\n",
       "       [35.94192339],\n",
       "       [35.94192339],\n",
       "       [35.68759096],\n",
       "       [41.02857191],\n",
       "       [34.67026126],\n",
       "       [38.9939125 ],\n",
       "       [39.75690978],\n",
       "       [41.02857191],\n",
       "       [43.95339481],\n",
       "       [38.9939125 ],\n",
       "       [46.11522043],\n",
       "       [43.57189617],\n",
       "       [46.11522043],\n",
       "       [43.57189617],\n",
       "       [43.57189617]])"
      ]
     },
     "execution_count": 43,
     "metadata": {},
     "output_type": "execute_result"
    }
   ],
   "source": [
    "# y=ax+b\n",
    "pre_length = lrmodel.coef_[0]*feature+lrmodel.intercept_\n",
    "pre_length2 = model2.coef_[0]*feature+model2.intercept_\n",
    "pre_length2"
   ]
  },
  {
   "cell_type": "code",
   "execution_count": 44,
   "metadata": {},
   "outputs": [
    {
     "data": {
      "text/plain": [
       "(56, 1)"
      ]
     },
     "execution_count": 44,
     "metadata": {},
     "output_type": "execute_result"
    }
   ],
   "source": [
    "pre_length2.shape"
   ]
  },
  {
   "cell_type": "code",
   "execution_count": 45,
   "metadata": {},
   "outputs": [
    {
     "data": {
      "image/png": "[encoded data removed]",
      "text/plain": [
       "<Figure size 640x480 with 1 Axes>"
      ]
     },
     "metadata": {},
     "output_type": "display_data"
    }
   ],
   "source": [
    "# 현재 데이터의 분포 확인\n",
    "\n",
    "plt.plot(feature, PerchDF['Length'], 'gs', label='Real Length')\n",
    "plt.plot(feature, pre_length, 'r-', label='Predict Length')\n",
    "plt.xlabel('Weight')\n",
    "plt.ylabel('Length')\n",
    "# plt.vlines(PerchDF['Length'], pre_length[0], pre_length[-1])\n",
    "plt.legend()\n",
    "plt.show()"
   ]
  },
  {
   "cell_type": "code",
   "execution_count": 46,
   "metadata": {},
   "outputs": [
    {
     "data": {
      "text/plain": [
       "0.919021073244782"
      ]
     },
     "execution_count": 46,
     "metadata": {},
     "output_type": "execute_result"
    }
   ],
   "source": [
    "# lrmodel.score(feature, PerchDF['Length'])\n",
    "lrmodel.score(feature, target)"
   ]
  },
  {
   "cell_type": "code",
   "execution_count": 47,
   "metadata": {},
   "outputs": [
    {
     "data": {
      "image/png": "[encoded data removed]",
      "text/plain": [
       "<Figure size 640x480 with 1 Axes>"
      ]
     },
     "metadata": {},
     "output_type": "display_data"
    }
   ],
   "source": [
    "# 현재 데이터의 분포 확인 2\n",
    "\n",
    "plt.plot(feature, PerchDF['Length'], 'gs', label='Real Length')\n",
    "plt.plot(feature, pre_length2, 'r-', label='Predict Length')\n",
    "plt.xlabel('Weight')\n",
    "plt.ylabel('Length')\n",
    "# plt.vlines(PerchDF['Length'], pre_length[0], pre_length[-1])\n",
    "plt.legend()\n",
    "plt.show()"
   ]
  },
  {
   "cell_type": "code",
   "execution_count": 48,
   "metadata": {},
   "outputs": [
    {
     "data": {
      "text/plain": [
       "0.9185530841679244"
      ]
     },
     "execution_count": 48,
     "metadata": {},
     "output_type": "execute_result"
    }
   ],
   "source": [
    "model2.score(feature, target)"
   ]
  },
  {
   "cell_type": "code",
   "execution_count": 49,
   "metadata": {},
   "outputs": [
    {
     "data": {
      "text/plain": [
       "array([20.17331298, 23.86113316, 22.71663724, 41.02857191, 21.3178089 ,\n",
       "       46.11522043, 35.68759096, 21.95363996, 21.44497511, 22.92010318,\n",
       "       35.56042475, 38.9939125 ])"
      ]
     },
     "execution_count": 49,
     "metadata": {},
     "output_type": "execute_result"
    }
   ],
   "source": [
    "pre_model2 = model2.predict(x_test)\n",
    "pre_model2"
   ]
  },
  {
   "cell_type": "code",
   "execution_count": 55,
   "metadata": {},
   "outputs": [
    {
     "name": "stdout",
     "output_type": "stream",
     "text": [
      "\n",
      "Degree 1 회귀계수는 [0.02]입니다.\n",
      "Degree 1 MSE 는 8.609648296453361입니다.\n",
      "\n",
      "Degree 4 회귀계수는 [ 0.11 -0.    0.   -0.  ]입니다.\n",
      "Degree 4 MSE 는 4.890258651803737입니다.\n",
      "\n",
      "Degree 15 회귀계수는 [ 0. -0.  0. -0.  0.  0.  0.  0.  0.  0.  0.  0. -0.  0. -0.]입니다.\n",
      "Degree 15 MSE 는 59984.02387731831입니다.\n"
     ]
    },
    {
     "data": {
      "image/png": "[encoded data removed]",
      "text/plain": [
       "<Figure size 1400x500 with 3 Axes>"
      ]
     },
     "metadata": {},
     "output_type": "display_data"
    }
   ],
   "source": [
    "# y 값은 코사인 기반의 true_fun()에서 약간의 노이즈 변동 값을 더한 값입니다.\n",
    "y = PerchDF['Length']\n",
    "plt.figure(figsize=(14,5))\n",
    "degrees=[1, 4, 15]\n",
    "\n",
    "# 다항 회귀의 차수(degree)를 1, 4, 15로 각각 변화시키면서 비교합니다.\n",
    "for i in range(len(degrees)):\n",
    "    ax = plt.subplot(1, len(degrees), i + 1)\n",
    "    plt.setp(ax, xticks=(), yticks=())\n",
    "\n",
    "    # 개별 degree별로 Polynomial 변환합니다.\n",
    "    polynomial_features = PolynomialFeatures(degree=degrees[i], include_bias=False)\n",
    "    linear_regression = LinearRegression()\n",
    "    pipeline = Pipeline([('polynomial_features', polynomial_features),\n",
    "                         ('linear_regression', linear_regression)])\n",
    "    pipeline.fit(feature.reshape(-1, 1), y)\n",
    "\n",
    "    # 교차 검증으로 다항 회귀를 평가합니다.\n",
    "    scores = cross_val_score(pipeline, feature.reshape(-1, 1), y, scoring='neg_mean_squared_error', cv=10)\n",
    "    # Pipeline을 구성하는 세부 객체를 접근하는 named_steps['객체명']을 이용해 회귀계수 추출\n",
    "    coefficients = pipeline.named_steps['linear_regression'].coef_\n",
    "    print('\\nDegree {0} 회귀계수는 {1}입니다.'.format(degrees[i], np.round(coefficients, 2)))\n",
    "    print('Degree {0} MSE 는 {1}입니다.'.format(degrees[i], -1*np.mean(scores)))\n",
    "    \n",
    "    # 테스트 데이터 세트에 회귀 예측을 수행하고 예측 곡선과 실제 곡선을 그려서 비교합니다.\n",
    "    # 예측 값 곡선\n",
    "    # plt.plot(feature, pipeline.predict(feature[:, np.newaxis]), label='model')\n",
    "    # 실제 값 곡선\n",
    "    # plt.plot(x_test, true_fun(x_test), label='True function')\n",
    "    plt.scatter(feature, y, edgecolors='b', s=20, label='Samples')\n",
    "\n",
    "    plt.xlabel('feature'); plt.ylabel('pre_length'); plt.xlim((0, 1)); plt.ylim((-2, 2)); plt.legend(loc='best')\n",
    "    plt.title('Degree {}\\nMSE = {:.2e}'.format(degrees[i], -scores.mean(), scores.std()))\n",
    "\n",
    "plt.show()"
   ]
  },
  {
   "cell_type": "code",
   "execution_count": null,
   "metadata": {},
   "outputs": [],
   "source": []
  }
 ],
 "metadata": {
  "kernelspec": {
   "display_name": "ML_38",
   "language": "python",
   "name": "python3"
  },
  "language_info": {
   "codemirror_mode": {
    "name": "ipython",
    "version": 3
   },
   "file_extension": ".py",
   "mimetype": "text/x-python",
   "name": "python",
   "nbconvert_exporter": "python",
   "pygments_lexer": "ipython3",
   "version": "3.8.19"
  }
 },
 "nbformat": 4,
 "nbformat_minor": 2
}
