{
 "cells": [
  {
   "cell_type": "markdown",
   "metadata": {},
   "source": [
    "### Ensemble - RandomForest & ExtraTree\n",
    "- 배깅 방식의 앙상블 ==> 중복 랜덤 샘플 + 동일 모델(DT)\n",
    "    * 대표 알고리즘 : RandomForestC/R\n",
    "- 페이스트 방식의 앙상블 ==> 중복x 랜덤 샘플 + 동일 모델(DT)\n",
    "    * 대표 알고리즘 : ExtraTreeC/R"
   ]
  },
  {
   "cell_type": "markdown",
   "metadata": {},
   "source": [
    "[목표] 와인분류 => 0과 1 2개 종류 분류"
   ]
  },
  {
   "cell_type": "markdown",
   "metadata": {},
   "source": [
    "[1] 모듈 로딩 및 데이터 준비"
   ]
  },
  {
   "cell_type": "code",
   "execution_count": 1,
   "metadata": {},
   "outputs": [],
   "source": [
    "# 모듈로딩\n",
    "import pandas as pd\n",
    "import numpy as np\n",
    "import matplotlib.pyplot as plt"
   ]
  },
  {
   "cell_type": "code",
   "execution_count": 2,
   "metadata": {},
   "outputs": [],
   "source": [
    "# 데이터 준비\n",
    "DATA_FILE = '../Data/wine.csv'\n",
    "\n",
    "# CSV => DataFrame\n",
    "wineDF = pd.read_csv(DATA_FILE)"
   ]
  },
  {
   "cell_type": "code",
   "execution_count": 3,
   "metadata": {},
   "outputs": [
    {
     "name": "stdout",
     "output_type": "stream",
     "text": [
      "<class 'pandas.core.frame.DataFrame'>\n",
      "RangeIndex: 6497 entries, 0 to 6496\n",
      "Data columns (total 4 columns):\n",
      " #   Column   Non-Null Count  Dtype  \n",
      "---  ------   --------------  -----  \n",
      " 0   alcohol  6497 non-null   float64\n",
      " 1   sugar    6497 non-null   float64\n",
      " 2   pH       6497 non-null   float64\n",
      " 3   class    6497 non-null   float64\n",
      "dtypes: float64(4)\n",
      "memory usage: 203.2 KB\n"
     ]
    }
   ],
   "source": [
    "# 데이터 확인\n",
    "wineDF.info()"
   ]
  },
  {
   "cell_type": "code",
   "execution_count": 4,
   "metadata": {},
   "outputs": [
    {
     "data": {
      "text/html": [
       "<div>\n",
       "<style scoped>\n",
       "    .dataframe tbody tr th:only-of-type {\n",
       "        vertical-align: middle;\n",
       "    }\n",
       "\n",
       "    .dataframe tbody tr th {\n",
       "        vertical-align: top;\n",
       "    }\n",
       "\n",
       "    .dataframe thead th {\n",
       "        text-align: right;\n",
       "    }\n",
       "</style>\n",
       "<table border=\"1\" class=\"dataframe\">\n",
       "  <thead>\n",
       "    <tr style=\"text-align: right;\">\n",
       "      <th></th>\n",
       "      <th>alcohol</th>\n",
       "      <th>sugar</th>\n",
       "      <th>pH</th>\n",
       "      <th>class</th>\n",
       "    </tr>\n",
       "  </thead>\n",
       "  <tbody>\n",
       "    <tr>\n",
       "      <th>0</th>\n",
       "      <td>9.4</td>\n",
       "      <td>1.9</td>\n",
       "      <td>3.51</td>\n",
       "      <td>0.0</td>\n",
       "    </tr>\n",
       "    <tr>\n",
       "      <th>1</th>\n",
       "      <td>9.8</td>\n",
       "      <td>2.6</td>\n",
       "      <td>3.20</td>\n",
       "      <td>0.0</td>\n",
       "    </tr>\n",
       "  </tbody>\n",
       "</table>\n",
       "</div>"
      ],
      "text/plain": [
       "   alcohol  sugar    pH  class\n",
       "0      9.4    1.9  3.51    0.0\n",
       "1      9.8    2.6  3.20    0.0"
      ]
     },
     "execution_count": 4,
     "metadata": {},
     "output_type": "execute_result"
    }
   ],
   "source": [
    "wineDF.head(2)"
   ]
  },
  {
   "cell_type": "code",
   "execution_count": 5,
   "metadata": {},
   "outputs": [
    {
     "data": {
      "text/plain": [
       "class\n",
       "1.0    4898\n",
       "0.0    1599\n",
       "Name: count, dtype: int64"
      ]
     },
     "execution_count": 5,
     "metadata": {},
     "output_type": "execute_result"
    }
   ],
   "source": [
    "# 타겟/라벨의 클래스 분포\n",
    "wineDF['class'].value_counts()"
   ]
  },
  {
   "cell_type": "code",
   "execution_count": 6,
   "metadata": {},
   "outputs": [
    {
     "data": {
      "text/html": [
       "<div>\n",
       "<style scoped>\n",
       "    .dataframe tbody tr th:only-of-type {\n",
       "        vertical-align: middle;\n",
       "    }\n",
       "\n",
       "    .dataframe tbody tr th {\n",
       "        vertical-align: top;\n",
       "    }\n",
       "\n",
       "    .dataframe thead th {\n",
       "        text-align: right;\n",
       "    }\n",
       "</style>\n",
       "<table border=\"1\" class=\"dataframe\">\n",
       "  <thead>\n",
       "    <tr style=\"text-align: right;\">\n",
       "      <th></th>\n",
       "      <th>alcohol</th>\n",
       "      <th>sugar</th>\n",
       "      <th>pH</th>\n",
       "      <th>class</th>\n",
       "    </tr>\n",
       "  </thead>\n",
       "  <tbody>\n",
       "    <tr>\n",
       "      <th>count</th>\n",
       "      <td>6497.000000</td>\n",
       "      <td>6497.000000</td>\n",
       "      <td>6497.000000</td>\n",
       "      <td>6497.000000</td>\n",
       "    </tr>\n",
       "    <tr>\n",
       "      <th>mean</th>\n",
       "      <td>10.491801</td>\n",
       "      <td>5.443235</td>\n",
       "      <td>3.218501</td>\n",
       "      <td>0.753886</td>\n",
       "    </tr>\n",
       "    <tr>\n",
       "      <th>std</th>\n",
       "      <td>1.192712</td>\n",
       "      <td>4.757804</td>\n",
       "      <td>0.160787</td>\n",
       "      <td>0.430779</td>\n",
       "    </tr>\n",
       "    <tr>\n",
       "      <th>min</th>\n",
       "      <td>8.000000</td>\n",
       "      <td>0.600000</td>\n",
       "      <td>2.720000</td>\n",
       "      <td>0.000000</td>\n",
       "    </tr>\n",
       "    <tr>\n",
       "      <th>25%</th>\n",
       "      <td>9.500000</td>\n",
       "      <td>1.800000</td>\n",
       "      <td>3.110000</td>\n",
       "      <td>1.000000</td>\n",
       "    </tr>\n",
       "    <tr>\n",
       "      <th>50%</th>\n",
       "      <td>10.300000</td>\n",
       "      <td>3.000000</td>\n",
       "      <td>3.210000</td>\n",
       "      <td>1.000000</td>\n",
       "    </tr>\n",
       "    <tr>\n",
       "      <th>75%</th>\n",
       "      <td>11.300000</td>\n",
       "      <td>8.100000</td>\n",
       "      <td>3.320000</td>\n",
       "      <td>1.000000</td>\n",
       "    </tr>\n",
       "    <tr>\n",
       "      <th>max</th>\n",
       "      <td>14.900000</td>\n",
       "      <td>65.800000</td>\n",
       "      <td>4.010000</td>\n",
       "      <td>1.000000</td>\n",
       "    </tr>\n",
       "  </tbody>\n",
       "</table>\n",
       "</div>"
      ],
      "text/plain": [
       "           alcohol        sugar           pH        class\n",
       "count  6497.000000  6497.000000  6497.000000  6497.000000\n",
       "mean     10.491801     5.443235     3.218501     0.753886\n",
       "std       1.192712     4.757804     0.160787     0.430779\n",
       "min       8.000000     0.600000     2.720000     0.000000\n",
       "25%       9.500000     1.800000     3.110000     1.000000\n",
       "50%      10.300000     3.000000     3.210000     1.000000\n",
       "75%      11.300000     8.100000     3.320000     1.000000\n",
       "max      14.900000    65.800000     4.010000     1.000000"
      ]
     },
     "execution_count": 6,
     "metadata": {},
     "output_type": "execute_result"
    }
   ],
   "source": [
    "wineDF.describe()"
   ]
  },
  {
   "cell_type": "markdown",
   "metadata": {},
   "source": [
    "[2] 학습 준비"
   ]
  },
  {
   "cell_type": "code",
   "execution_count": 7,
   "metadata": {},
   "outputs": [],
   "source": [
    "featureDF = wineDF.iloc[:,:3] # wineDF[wineDF.columns[:-1]]\n",
    "targetSR = wineDF['class'] # wineDF[wineDF.columns[-1]]"
   ]
  },
  {
   "cell_type": "code",
   "execution_count": 8,
   "metadata": {},
   "outputs": [
    {
     "data": {
      "text/plain": [
       "((6497, 3), (6497,))"
      ]
     },
     "execution_count": 8,
     "metadata": {},
     "output_type": "execute_result"
    }
   ],
   "source": [
    "featureDF.shape, targetSR.shape"
   ]
  },
  {
   "cell_type": "code",
   "execution_count": 9,
   "metadata": {},
   "outputs": [],
   "source": [
    "from sklearn.model_selection import train_test_split"
   ]
  },
  {
   "cell_type": "code",
   "execution_count": 10,
   "metadata": {},
   "outputs": [],
   "source": [
    "# 학습용 & 테스트용 데이터셋 분리\n",
    "x_train, x_test, y_train, y_test = train_test_split(featureDF,\n",
    "                                                    targetSR,\n",
    "                                                    test_size=0.2,\n",
    "                                                    stratify=targetSR,\n",
    "                                                    random_state=1)"
   ]
  },
  {
   "cell_type": "code",
   "execution_count": 11,
   "metadata": {},
   "outputs": [
    {
     "name": "stdout",
     "output_type": "stream",
     "text": [
      "x_train : (5197, 3), 2D\n",
      "x_test : (1300, 3), 2D\n",
      "y_train : (5197,), 1D\n",
      "y_test : (1300,), 1D\n"
     ]
    }
   ],
   "source": [
    "print(f'x_train : {x_train.shape}, {x_train.ndim}D')\n",
    "print(f'x_test : {x_test.shape}, {x_test.ndim}D')\n",
    "\n",
    "print(f'y_train : {y_train.shape}, {y_train.ndim}D')\n",
    "print(f'y_test : {y_test.shape}, {y_test.ndim}D')"
   ]
  },
  {
   "cell_type": "markdown",
   "metadata": {},
   "source": [
    "[3] 학습 진행"
   ]
  },
  {
   "cell_type": "code",
   "execution_count": 12,
   "metadata": {},
   "outputs": [],
   "source": [
    "# 학습방법 : 지도학습 > 분류\n",
    "# 알고리즘 : 앙상블 > 배깅 - RandomForestClassifier"
   ]
  },
  {
   "cell_type": "code",
   "execution_count": 13,
   "metadata": {},
   "outputs": [],
   "source": [
    "from sklearn.ensemble import ExtraTreesClassifier"
   ]
  },
  {
   "cell_type": "code",
   "execution_count": 15,
   "metadata": {},
   "outputs": [
    {
     "data": {
      "text/html": [
       "<style>#sk-container-id-1 {color: black;}#sk-container-id-1 pre{padding: 0;}#sk-container-id-1 div.sk-toggleable {background-color: white;}#sk-container-id-1 label.sk-toggleable__label {cursor: pointer;display: block;width: 100%;margin-bottom: 0;padding: 0.3em;box-sizing: border-box;text-align: center;}#sk-container-id-1 label.sk-toggleable__label-arrow:before {content: \"▸\";float: left;margin-right: 0.25em;color: #696969;}#sk-container-id-1 label.sk-toggleable__label-arrow:hover:before {color: black;}#sk-container-id-1 div.sk-estimator:hover label.sk-toggleable__label-arrow:before {color: black;}#sk-container-id-1 div.sk-toggleable__content {max-height: 0;max-width: 0;overflow: hidden;text-align: left;background-color: #f0f8ff;}#sk-container-id-1 div.sk-toggleable__content pre {margin: 0.2em;color: black;border-radius: 0.25em;background-color: #f0f8ff;}#sk-container-id-1 input.sk-toggleable__control:checked~div.sk-toggleable__content {max-height: 200px;max-width: 100%;overflow: auto;}#sk-container-id-1 input.sk-toggleable__control:checked~label.sk-toggleable__label-arrow:before {content: \"▾\";}#sk-container-id-1 div.sk-estimator input.sk-toggleable__control:checked~label.sk-toggleable__label {background-color: #d4ebff;}#sk-container-id-1 div.sk-label input.sk-toggleable__control:checked~label.sk-toggleable__label {background-color: #d4ebff;}#sk-container-id-1 input.sk-hidden--visually {border: 0;clip: rect(1px 1px 1px 1px);clip: rect(1px, 1px, 1px, 1px);height: 1px;margin: -1px;overflow: hidden;padding: 0;position: absolute;width: 1px;}#sk-container-id-1 div.sk-estimator {font-family: monospace;background-color: #f0f8ff;border: 1px dotted black;border-radius: 0.25em;box-sizing: border-box;margin-bottom: 0.5em;}#sk-container-id-1 div.sk-estimator:hover {background-color: #d4ebff;}#sk-container-id-1 div.sk-parallel-item::after {content: \"\";width: 100%;border-bottom: 1px solid gray;flex-grow: 1;}#sk-container-id-1 div.sk-label:hover label.sk-toggleable__label {background-color: #d4ebff;}#sk-container-id-1 div.sk-serial::before {content: \"\";position: absolute;border-left: 1px solid gray;box-sizing: border-box;top: 0;bottom: 0;left: 50%;z-index: 0;}#sk-container-id-1 div.sk-serial {display: flex;flex-direction: column;align-items: center;background-color: white;padding-right: 0.2em;padding-left: 0.2em;position: relative;}#sk-container-id-1 div.sk-item {position: relative;z-index: 1;}#sk-container-id-1 div.sk-parallel {display: flex;align-items: stretch;justify-content: center;background-color: white;position: relative;}#sk-container-id-1 div.sk-item::before, #sk-container-id-1 div.sk-parallel-item::before {content: \"\";position: absolute;border-left: 1px solid gray;box-sizing: border-box;top: 0;bottom: 0;left: 50%;z-index: -1;}#sk-container-id-1 div.sk-parallel-item {display: flex;flex-direction: column;z-index: 1;position: relative;background-color: white;}#sk-container-id-1 div.sk-parallel-item:first-child::after {align-self: flex-end;width: 50%;}#sk-container-id-1 div.sk-parallel-item:last-child::after {align-self: flex-start;width: 50%;}#sk-container-id-1 div.sk-parallel-item:only-child::after {width: 0;}#sk-container-id-1 div.sk-dashed-wrapped {border: 1px dashed gray;margin: 0 0.4em 0.5em 0.4em;box-sizing: border-box;padding-bottom: 0.4em;background-color: white;}#sk-container-id-1 div.sk-label label {font-family: monospace;font-weight: bold;display: inline-block;line-height: 1.2em;}#sk-container-id-1 div.sk-label-container {text-align: center;}#sk-container-id-1 div.sk-container {/* jupyter's `normalize.less` sets `[hidden] { display: none; }` but bootstrap.min.css set `[hidden] { display: none !important; }` so we also need the `!important` here to be able to override the default hidden behavior on the sphinx rendered scikit-learn.org. See: https://github.com/scikit-learn/scikit-learn/issues/21755 */display: inline-block !important;position: relative;}#sk-container-id-1 div.sk-text-repr-fallback {display: none;}</style><div id=\"sk-container-id-1\" class=\"sk-top-container\"><div class=\"sk-text-repr-fallback\"><pre>ExtraTreesClassifier(random_state=7)</pre><b>In a Jupyter environment, please rerun this cell to show the HTML representation or trust the notebook. <br />On GitHub, the HTML representation is unable to render, please try loading this page with nbviewer.org.</b></div><div class=\"sk-container\" hidden><div class=\"sk-item\"><div class=\"sk-estimator sk-toggleable\"><input class=\"sk-toggleable__control sk-hidden--visually\" id=\"sk-estimator-id-1\" type=\"checkbox\" checked><label for=\"sk-estimator-id-1\" class=\"sk-toggleable__label sk-toggleable__label-arrow\">ExtraTreesClassifier</label><div class=\"sk-toggleable__content\"><pre>ExtraTreesClassifier(random_state=7)</pre></div></div></div></div></div>"
      ],
      "text/plain": [
       "ExtraTreesClassifier(random_state=7)"
      ]
     },
     "execution_count": 15,
     "metadata": {},
     "output_type": "execute_result"
    }
   ],
   "source": [
    "# 인스턴스 생성 => 100개의 내부 DT 모델에서 사용할 데이터셋 생성\n",
    "#                 random_state 매개변수 설정으로 고정된 데이터셋 생성\n",
    "#                 oob_score 매개변수 : 샘플 데이터셋 추출 후 남은 데이터셋 검증용으로 사용\n",
    "et_model = ExtraTreesClassifier(random_state=7)\n",
    "\n",
    "# 학습\n",
    "et_model.fit(x_train, y_train)"
   ]
  },
  {
   "cell_type": "code",
   "execution_count": 16,
   "metadata": {},
   "outputs": [
    {
     "name": "stdout",
     "output_type": "stream",
     "text": [
      "lf_model.classes_            : [0. 1.]\n",
      "lf_model.n_classes_          : 2\n",
      "lf_model.feature_names_in_   : ['alcohol' 'sugar' 'pH']\n",
      "lf_model.n_features_in_      : 3\n",
      "lf_model.feature_importances_: [0.18992806 0.53030305 0.2797689 ]\n"
     ]
    }
   ],
   "source": [
    "# 모델 파라미터 확인\n",
    "\n",
    "print(f'lf_model.classes_            : {et_model.classes_}')\n",
    "print(f'lf_model.n_classes_          : {et_model.n_classes_}')\n",
    "\n",
    "print(f'lf_model.feature_names_in_   : {et_model.feature_names_in_}')\n",
    "print(f'lf_model.n_features_in_      : {et_model.n_features_in_}')\n",
    "print(f'lf_model.feature_importances_: {et_model.feature_importances_}')"
   ]
  },
  {
   "cell_type": "code",
   "execution_count": 17,
   "metadata": {},
   "outputs": [
    {
     "name": "stdout",
     "output_type": "stream",
     "text": [
      "lf_model.estimator_            : ExtraTreeClassifier()\n",
      "ExtraTreeClassifier(random_state=327741615)\n",
      "ExtraTreeClassifier(random_state=976413892)\n",
      "ExtraTreeClassifier(random_state=1202242073)\n",
      "ExtraTreeClassifier(random_state=1369975286)\n",
      "ExtraTreeClassifier(random_state=1882953283)\n",
      "ExtraTreeClassifier(random_state=2053951699)\n",
      "ExtraTreeClassifier(random_state=959775639)\n",
      "ExtraTreeClassifier(random_state=1956722279)\n",
      "ExtraTreeClassifier(random_state=2052949340)\n",
      "ExtraTreeClassifier(random_state=1322904761)\n",
      "ExtraTreeClassifier(random_state=165338510)\n",
      "ExtraTreeClassifier(random_state=1133316631)\n",
      "ExtraTreeClassifier(random_state=4812360)\n",
      "ExtraTreeClassifier(random_state=372560217)\n",
      "ExtraTreeClassifier(random_state=309457262)\n",
      "ExtraTreeClassifier(random_state=1801189930)\n",
      "ExtraTreeClassifier(random_state=1152936666)\n",
      "ExtraTreeClassifier(random_state=68334472)\n",
      "ExtraTreeClassifier(random_state=2146978983)\n",
      "ExtraTreeClassifier(random_state=119248870)\n",
      "ExtraTreeClassifier(random_state=769786948)\n",
      "ExtraTreeClassifier(random_state=1583990192)\n",
      "ExtraTreeClassifier(random_state=1304549247)\n",
      "ExtraTreeClassifier(random_state=1420943751)\n",
      "ExtraTreeClassifier(random_state=1636129708)\n",
      "ExtraTreeClassifier(random_state=1687674368)\n",
      "ExtraTreeClassifier(random_state=283194443)\n",
      "ExtraTreeClassifier(random_state=748743479)\n",
      "ExtraTreeClassifier(random_state=1237575930)\n",
      "ExtraTreeClassifier(random_state=740097030)\n",
      "ExtraTreeClassifier(random_state=1759190803)\n",
      "ExtraTreeClassifier(random_state=833359292)\n",
      "ExtraTreeClassifier(random_state=916483116)\n",
      "ExtraTreeClassifier(random_state=1485942463)\n",
      "ExtraTreeClassifier(random_state=1941857605)\n",
      "ExtraTreeClassifier(random_state=1844809528)\n",
      "ExtraTreeClassifier(random_state=1852015768)\n",
      "ExtraTreeClassifier(random_state=1127788727)\n",
      "ExtraTreeClassifier(random_state=106941365)\n",
      "ExtraTreeClassifier(random_state=1077017712)\n",
      "ExtraTreeClassifier(random_state=431854331)\n",
      "ExtraTreeClassifier(random_state=1094761661)\n",
      "ExtraTreeClassifier(random_state=1933291456)\n",
      "ExtraTreeClassifier(random_state=1508798754)\n",
      "ExtraTreeClassifier(random_state=989143352)\n",
      "ExtraTreeClassifier(random_state=747550921)\n",
      "ExtraTreeClassifier(random_state=208262606)\n",
      "ExtraTreeClassifier(random_state=1248819750)\n",
      "ExtraTreeClassifier(random_state=1757192964)\n",
      "ExtraTreeClassifier(random_state=1879603694)\n",
      "ExtraTreeClassifier(random_state=571958409)\n",
      "ExtraTreeClassifier(random_state=1927692119)\n",
      "ExtraTreeClassifier(random_state=100556259)\n",
      "ExtraTreeClassifier(random_state=1652057283)\n",
      "ExtraTreeClassifier(random_state=1075502152)\n",
      "ExtraTreeClassifier(random_state=1535344467)\n",
      "ExtraTreeClassifier(random_state=725906352)\n",
      "ExtraTreeClassifier(random_state=830456065)\n",
      "ExtraTreeClassifier(random_state=2008983232)\n",
      "ExtraTreeClassifier(random_state=431532432)\n",
      "ExtraTreeClassifier(random_state=879820150)\n",
      "ExtraTreeClassifier(random_state=2072909727)\n",
      "ExtraTreeClassifier(random_state=2107823453)\n",
      "ExtraTreeClassifier(random_state=488352684)\n",
      "ExtraTreeClassifier(random_state=1599380060)\n",
      "ExtraTreeClassifier(random_state=1938096892)\n",
      "ExtraTreeClassifier(random_state=2050422343)\n",
      "ExtraTreeClassifier(random_state=1497897239)\n",
      "ExtraTreeClassifier(random_state=1571487242)\n",
      "ExtraTreeClassifier(random_state=1187621609)\n",
      "ExtraTreeClassifier(random_state=1451346723)\n",
      "ExtraTreeClassifier(random_state=1917728192)\n",
      "ExtraTreeClassifier(random_state=1153832253)\n",
      "ExtraTreeClassifier(random_state=1966724487)\n",
      "ExtraTreeClassifier(random_state=1348596887)\n",
      "ExtraTreeClassifier(random_state=771276892)\n",
      "ExtraTreeClassifier(random_state=311923447)\n",
      "ExtraTreeClassifier(random_state=612959456)\n",
      "ExtraTreeClassifier(random_state=1185621653)\n",
      "ExtraTreeClassifier(random_state=358664548)\n",
      "ExtraTreeClassifier(random_state=1944945571)\n",
      "ExtraTreeClassifier(random_state=202873313)\n",
      "ExtraTreeClassifier(random_state=1516030531)\n",
      "ExtraTreeClassifier(random_state=1332338555)\n",
      "ExtraTreeClassifier(random_state=676025563)\n",
      "ExtraTreeClassifier(random_state=1214271969)\n",
      "ExtraTreeClassifier(random_state=1590645779)\n",
      "ExtraTreeClassifier(random_state=1808153499)\n",
      "ExtraTreeClassifier(random_state=1971789316)\n",
      "ExtraTreeClassifier(random_state=1861190419)\n",
      "ExtraTreeClassifier(random_state=941989921)\n",
      "ExtraTreeClassifier(random_state=1798548603)\n",
      "ExtraTreeClassifier(random_state=1773786398)\n",
      "ExtraTreeClassifier(random_state=2088312505)\n",
      "ExtraTreeClassifier(random_state=1745574629)\n",
      "ExtraTreeClassifier(random_state=1260873545)\n",
      "ExtraTreeClassifier(random_state=775033821)\n",
      "ExtraTreeClassifier(random_state=1474484177)\n",
      "ExtraTreeClassifier(random_state=1035597695)\n",
      "ExtraTreeClassifier(random_state=1289946527)\n"
     ]
    }
   ],
   "source": [
    "# 모델 파라미터 확인2\n",
    "\n",
    "print(f'lf_model.estimator_            : {et_model.estimator_}')\n",
    "for est in et_model.estimators_: print(est)"
   ]
  },
  {
   "cell_type": "markdown",
   "metadata": {},
   "source": [
    "[4] 성능 평가"
   ]
  },
  {
   "cell_type": "code",
   "execution_count": 19,
   "metadata": {},
   "outputs": [
    {
     "name": "stdout",
     "output_type": "stream",
     "text": [
      "train_score : test_score = 0.9973061381566288 : 0.8961538461538462\n"
     ]
    }
   ],
   "source": [
    "train_score = et_model.score(x_train, y_train)\n",
    "test_score = et_model.score(x_test, y_test)\n",
    "\n",
    "print(f'train_score : test_score = {train_score} : {test_score}')"
   ]
  },
  {
   "cell_type": "markdown",
   "metadata": {},
   "source": [
    "[5] 튜닝"
   ]
  },
  {
   "cell_type": "markdown",
   "metadata": {},
   "source": [
    "- RandomizedSearchCV 하이퍼파라미터 최적화 클래스\n",
    "    - 범위가 넓은 하이퍼파라미터 설정에 좋음\n",
    "    - 지정된 범위에서 지정된 횟수만큼 하이퍼파라미터 추출하여 조합 진행"
   ]
  },
  {
   "cell_type": "code",
   "execution_count": 20,
   "metadata": {},
   "outputs": [],
   "source": [
    "# 모듈 로딩\n",
    "from sklearn.model_selection import RandomizedSearchCV"
   ]
  },
  {
   "cell_type": "code",
   "execution_count": 24,
   "metadata": {},
   "outputs": [],
   "source": [
    "# RandomForestClassifier 하이퍼 파라미터 설정\n",
    "params = {'max_depth':range(2, 16),\n",
    "          'min_samples_leaf':range(5, 16),\n",
    "          'criterion': ['gini', 'entropy', 'log_loss']}"
   ]
  },
  {
   "cell_type": "code",
   "execution_count": 35,
   "metadata": {},
   "outputs": [],
   "source": [
    "et_model = ExtraTreesClassifier(random_state=7,\n",
    "                                n_estimators=300)\n",
    "                                # n_jobs=300)"
   ]
  },
  {
   "cell_type": "code",
   "execution_count": 36,
   "metadata": {},
   "outputs": [],
   "source": [
    "searchCV = RandomizedSearchCV(et_model,\n",
    "                              param_distributions=params,\n",
    "                              verbose=4)"
   ]
  },
  {
   "cell_type": "code",
   "execution_count": 37,
   "metadata": {},
   "outputs": [
    {
     "name": "stdout",
     "output_type": "stream",
     "text": [
      "Fitting 5 folds for each of 10 candidates, totalling 50 fits\n",
      "[CV 1/5] END criterion=entropy, max_depth=12, min_samples_leaf=8;, score=0.754 total time=   0.2s\n",
      "[CV 2/5] END criterion=entropy, max_depth=12, min_samples_leaf=8;, score=0.754 total time=   0.2s\n",
      "[CV 3/5] END criterion=entropy, max_depth=12, min_samples_leaf=8;, score=0.755 total time=   0.2s\n",
      "[CV 4/5] END criterion=entropy, max_depth=12, min_samples_leaf=8;, score=0.754 total time=   0.2s\n",
      "[CV 5/5] END criterion=entropy, max_depth=12, min_samples_leaf=8;, score=0.754 total time=   0.2s\n",
      "[CV 1/5] END criterion=gini, max_depth=2, min_samples_leaf=15;, score=0.754 total time=   0.1s\n",
      "[CV 2/5] END criterion=gini, max_depth=2, min_samples_leaf=15;, score=0.754 total time=   0.1s\n",
      "[CV 3/5] END criterion=gini, max_depth=2, min_samples_leaf=15;, score=0.755 total time=   0.2s\n",
      "[CV 4/5] END criterion=gini, max_depth=2, min_samples_leaf=15;, score=0.754 total time=   0.2s\n",
      "[CV 5/5] END criterion=gini, max_depth=2, min_samples_leaf=15;, score=0.754 total time=   0.2s\n",
      "[CV 1/5] END criterion=log_loss, max_depth=13, min_samples_leaf=11;, score=0.754 total time=   0.2s\n",
      "[CV 2/5] END criterion=log_loss, max_depth=13, min_samples_leaf=11;, score=0.754 total time=   0.2s\n",
      "[CV 3/5] END criterion=log_loss, max_depth=13, min_samples_leaf=11;, score=0.755 total time=   0.2s\n",
      "[CV 4/5] END criterion=log_loss, max_depth=13, min_samples_leaf=11;, score=0.754 total time=   0.2s\n",
      "[CV 5/5] END criterion=log_loss, max_depth=13, min_samples_leaf=11;, score=0.754 total time=   0.2s\n",
      "[CV 1/5] END criterion=log_loss, max_depth=11, min_samples_leaf=11;, score=0.754 total time=   0.2s\n",
      "[CV 2/5] END criterion=log_loss, max_depth=11, min_samples_leaf=11;, score=0.754 total time=   0.2s\n",
      "[CV 3/5] END criterion=log_loss, max_depth=11, min_samples_leaf=11;, score=0.755 total time=   0.2s\n",
      "[CV 4/5] END criterion=log_loss, max_depth=11, min_samples_leaf=11;, score=0.754 total time=   0.2s\n",
      "[CV 5/5] END criterion=log_loss, max_depth=11, min_samples_leaf=11;, score=0.754 total time=   0.2s\n",
      "[CV 1/5] END criterion=gini, max_depth=12, min_samples_leaf=9;, score=0.754 total time=   0.2s\n",
      "[CV 2/5] END criterion=gini, max_depth=12, min_samples_leaf=9;, score=0.754 total time=   0.2s\n",
      "[CV 3/5] END criterion=gini, max_depth=12, min_samples_leaf=9;, score=0.755 total time=   0.2s\n",
      "[CV 4/5] END criterion=gini, max_depth=12, min_samples_leaf=9;, score=0.754 total time=   0.3s\n",
      "[CV 5/5] END criterion=gini, max_depth=12, min_samples_leaf=9;, score=0.754 total time=   0.2s\n",
      "[CV 1/5] END criterion=log_loss, max_depth=4, min_samples_leaf=6;, score=0.754 total time=   0.2s\n",
      "[CV 2/5] END criterion=log_loss, max_depth=4, min_samples_leaf=6;, score=0.754 total time=   0.2s\n",
      "[CV 3/5] END criterion=log_loss, max_depth=4, min_samples_leaf=6;, score=0.755 total time=   0.2s\n",
      "[CV 4/5] END criterion=log_loss, max_depth=4, min_samples_leaf=6;, score=0.754 total time=   0.2s\n",
      "[CV 5/5] END criterion=log_loss, max_depth=4, min_samples_leaf=6;, score=0.754 total time=   0.2s\n",
      "[CV 1/5] END criterion=log_loss, max_depth=4, min_samples_leaf=7;, score=0.754 total time=   0.2s\n",
      "[CV 2/5] END criterion=log_loss, max_depth=4, min_samples_leaf=7;, score=0.754 total time=   0.2s\n",
      "[CV 3/5] END criterion=log_loss, max_depth=4, min_samples_leaf=7;, score=0.755 total time=   0.2s\n",
      "[CV 4/5] END criterion=log_loss, max_depth=4, min_samples_leaf=7;, score=0.754 total time=   0.2s\n",
      "[CV 5/5] END criterion=log_loss, max_depth=4, min_samples_leaf=7;, score=0.754 total time=   0.2s\n",
      "[CV 1/5] END criterion=gini, max_depth=10, min_samples_leaf=6;, score=0.754 total time=   0.2s\n",
      "[CV 2/5] END criterion=gini, max_depth=10, min_samples_leaf=6;, score=0.754 total time=   0.2s\n",
      "[CV 3/5] END criterion=gini, max_depth=10, min_samples_leaf=6;, score=0.755 total time=   0.2s\n",
      "[CV 4/5] END criterion=gini, max_depth=10, min_samples_leaf=6;, score=0.754 total time=   0.2s\n",
      "[CV 5/5] END criterion=gini, max_depth=10, min_samples_leaf=6;, score=0.754 total time=   0.2s\n",
      "[CV 1/5] END criterion=gini, max_depth=4, min_samples_leaf=15;, score=0.754 total time=   0.2s\n",
      "[CV 2/5] END criterion=gini, max_depth=4, min_samples_leaf=15;, score=0.754 total time=   0.2s\n",
      "[CV 3/5] END criterion=gini, max_depth=4, min_samples_leaf=15;, score=0.755 total time=   0.1s\n",
      "[CV 4/5] END criterion=gini, max_depth=4, min_samples_leaf=15;, score=0.754 total time=   0.2s\n",
      "[CV 5/5] END criterion=gini, max_depth=4, min_samples_leaf=15;, score=0.754 total time=   0.2s\n",
      "[CV 1/5] END criterion=log_loss, max_depth=8, min_samples_leaf=14;, score=0.754 total time=   0.2s\n",
      "[CV 2/5] END criterion=log_loss, max_depth=8, min_samples_leaf=14;, score=0.754 total time=   0.2s\n",
      "[CV 3/5] END criterion=log_loss, max_depth=8, min_samples_leaf=14;, score=0.755 total time=   0.2s\n",
      "[CV 4/5] END criterion=log_loss, max_depth=8, min_samples_leaf=14;, score=0.754 total time=   0.2s\n",
      "[CV 5/5] END criterion=log_loss, max_depth=8, min_samples_leaf=14;, score=0.754 total time=   0.2s\n"
     ]
    },
    {
     "data": {
      "text/html": [
       "<style>#sk-container-id-4 {color: black;}#sk-container-id-4 pre{padding: 0;}#sk-container-id-4 div.sk-toggleable {background-color: white;}#sk-container-id-4 label.sk-toggleable__label {cursor: pointer;display: block;width: 100%;margin-bottom: 0;padding: 0.3em;box-sizing: border-box;text-align: center;}#sk-container-id-4 label.sk-toggleable__label-arrow:before {content: \"▸\";float: left;margin-right: 0.25em;color: #696969;}#sk-container-id-4 label.sk-toggleable__label-arrow:hover:before {color: black;}#sk-container-id-4 div.sk-estimator:hover label.sk-toggleable__label-arrow:before {color: black;}#sk-container-id-4 div.sk-toggleable__content {max-height: 0;max-width: 0;overflow: hidden;text-align: left;background-color: #f0f8ff;}#sk-container-id-4 div.sk-toggleable__content pre {margin: 0.2em;color: black;border-radius: 0.25em;background-color: #f0f8ff;}#sk-container-id-4 input.sk-toggleable__control:checked~div.sk-toggleable__content {max-height: 200px;max-width: 100%;overflow: auto;}#sk-container-id-4 input.sk-toggleable__control:checked~label.sk-toggleable__label-arrow:before {content: \"▾\";}#sk-container-id-4 div.sk-estimator input.sk-toggleable__control:checked~label.sk-toggleable__label {background-color: #d4ebff;}#sk-container-id-4 div.sk-label input.sk-toggleable__control:checked~label.sk-toggleable__label {background-color: #d4ebff;}#sk-container-id-4 input.sk-hidden--visually {border: 0;clip: rect(1px 1px 1px 1px);clip: rect(1px, 1px, 1px, 1px);height: 1px;margin: -1px;overflow: hidden;padding: 0;position: absolute;width: 1px;}#sk-container-id-4 div.sk-estimator {font-family: monospace;background-color: #f0f8ff;border: 1px dotted black;border-radius: 0.25em;box-sizing: border-box;margin-bottom: 0.5em;}#sk-container-id-4 div.sk-estimator:hover {background-color: #d4ebff;}#sk-container-id-4 div.sk-parallel-item::after {content: \"\";width: 100%;border-bottom: 1px solid gray;flex-grow: 1;}#sk-container-id-4 div.sk-label:hover label.sk-toggleable__label {background-color: #d4ebff;}#sk-container-id-4 div.sk-serial::before {content: \"\";position: absolute;border-left: 1px solid gray;box-sizing: border-box;top: 0;bottom: 0;left: 50%;z-index: 0;}#sk-container-id-4 div.sk-serial {display: flex;flex-direction: column;align-items: center;background-color: white;padding-right: 0.2em;padding-left: 0.2em;position: relative;}#sk-container-id-4 div.sk-item {position: relative;z-index: 1;}#sk-container-id-4 div.sk-parallel {display: flex;align-items: stretch;justify-content: center;background-color: white;position: relative;}#sk-container-id-4 div.sk-item::before, #sk-container-id-4 div.sk-parallel-item::before {content: \"\";position: absolute;border-left: 1px solid gray;box-sizing: border-box;top: 0;bottom: 0;left: 50%;z-index: -1;}#sk-container-id-4 div.sk-parallel-item {display: flex;flex-direction: column;z-index: 1;position: relative;background-color: white;}#sk-container-id-4 div.sk-parallel-item:first-child::after {align-self: flex-end;width: 50%;}#sk-container-id-4 div.sk-parallel-item:last-child::after {align-self: flex-start;width: 50%;}#sk-container-id-4 div.sk-parallel-item:only-child::after {width: 0;}#sk-container-id-4 div.sk-dashed-wrapped {border: 1px dashed gray;margin: 0 0.4em 0.5em 0.4em;box-sizing: border-box;padding-bottom: 0.4em;background-color: white;}#sk-container-id-4 div.sk-label label {font-family: monospace;font-weight: bold;display: inline-block;line-height: 1.2em;}#sk-container-id-4 div.sk-label-container {text-align: center;}#sk-container-id-4 div.sk-container {/* jupyter's `normalize.less` sets `[hidden] { display: none; }` but bootstrap.min.css set `[hidden] { display: none !important; }` so we also need the `!important` here to be able to override the default hidden behavior on the sphinx rendered scikit-learn.org. See: https://github.com/scikit-learn/scikit-learn/issues/21755 */display: inline-block !important;position: relative;}#sk-container-id-4 div.sk-text-repr-fallback {display: none;}</style><div id=\"sk-container-id-4\" class=\"sk-top-container\"><div class=\"sk-text-repr-fallback\"><pre>RandomizedSearchCV(estimator=ExtraTreesClassifier(n_estimators=300,\n",
       "                                                  random_state=7),\n",
       "                   param_distributions={&#x27;criterion&#x27;: [&#x27;gini&#x27;, &#x27;entropy&#x27;,\n",
       "                                                      &#x27;log_loss&#x27;],\n",
       "                                        &#x27;max_depth&#x27;: range(2, 16),\n",
       "                                        &#x27;min_samples_leaf&#x27;: range(5, 16)},\n",
       "                   verbose=4)</pre><b>In a Jupyter environment, please rerun this cell to show the HTML representation or trust the notebook. <br />On GitHub, the HTML representation is unable to render, please try loading this page with nbviewer.org.</b></div><div class=\"sk-container\" hidden><div class=\"sk-item sk-dashed-wrapped\"><div class=\"sk-label-container\"><div class=\"sk-label sk-toggleable\"><input class=\"sk-toggleable__control sk-hidden--visually\" id=\"sk-estimator-id-8\" type=\"checkbox\" ><label for=\"sk-estimator-id-8\" class=\"sk-toggleable__label sk-toggleable__label-arrow\">RandomizedSearchCV</label><div class=\"sk-toggleable__content\"><pre>RandomizedSearchCV(estimator=ExtraTreesClassifier(n_estimators=300,\n",
       "                                                  random_state=7),\n",
       "                   param_distributions={&#x27;criterion&#x27;: [&#x27;gini&#x27;, &#x27;entropy&#x27;,\n",
       "                                                      &#x27;log_loss&#x27;],\n",
       "                                        &#x27;max_depth&#x27;: range(2, 16),\n",
       "                                        &#x27;min_samples_leaf&#x27;: range(5, 16)},\n",
       "                   verbose=4)</pre></div></div></div><div class=\"sk-parallel\"><div class=\"sk-parallel-item\"><div class=\"sk-item\"><div class=\"sk-label-container\"><div class=\"sk-label sk-toggleable\"><input class=\"sk-toggleable__control sk-hidden--visually\" id=\"sk-estimator-id-9\" type=\"checkbox\" ><label for=\"sk-estimator-id-9\" class=\"sk-toggleable__label sk-toggleable__label-arrow\">estimator: ExtraTreesClassifier</label><div class=\"sk-toggleable__content\"><pre>ExtraTreesClassifier(n_estimators=300, random_state=7)</pre></div></div></div><div class=\"sk-serial\"><div class=\"sk-item\"><div class=\"sk-estimator sk-toggleable\"><input class=\"sk-toggleable__control sk-hidden--visually\" id=\"sk-estimator-id-10\" type=\"checkbox\" ><label for=\"sk-estimator-id-10\" class=\"sk-toggleable__label sk-toggleable__label-arrow\">ExtraTreesClassifier</label><div class=\"sk-toggleable__content\"><pre>ExtraTreesClassifier(n_estimators=300, random_state=7)</pre></div></div></div></div></div></div></div></div></div></div>"
      ],
      "text/plain": [
       "RandomizedSearchCV(estimator=ExtraTreesClassifier(n_estimators=300,\n",
       "                                                  random_state=7),\n",
       "                   param_distributions={'criterion': ['gini', 'entropy',\n",
       "                                                      'log_loss'],\n",
       "                                        'max_depth': range(2, 16),\n",
       "                                        'min_samples_leaf': range(5, 16)},\n",
       "                   verbose=4)"
      ]
     },
     "execution_count": 37,
     "metadata": {},
     "output_type": "execute_result"
    }
   ],
   "source": [
    "searchCV.fit(x_train, y_train)"
   ]
  },
  {
   "cell_type": "code",
   "execution_count": 38,
   "metadata": {},
   "outputs": [
    {
     "name": "stdout",
     "output_type": "stream",
     "text": [
      "searchCV.best_score_ : 0.75389649811209\n",
      "searchCV.best_params_ : {'min_samples_leaf': 8, 'max_depth': 12, 'criterion': 'entropy'}\n",
      "searchCV.best_estimator_ : ExtraTreesClassifier(criterion='entropy', max_depth=12, min_samples_leaf=8,\n",
      "                     n_estimators=300, random_state=7)\n"
     ]
    },
    {
     "data": {
      "text/html": [
       "<div>\n",
       "<style scoped>\n",
       "    .dataframe tbody tr th:only-of-type {\n",
       "        vertical-align: middle;\n",
       "    }\n",
       "\n",
       "    .dataframe tbody tr th {\n",
       "        vertical-align: top;\n",
       "    }\n",
       "\n",
       "    .dataframe thead th {\n",
       "        text-align: right;\n",
       "    }\n",
       "</style>\n",
       "<table border=\"1\" class=\"dataframe\">\n",
       "  <thead>\n",
       "    <tr style=\"text-align: right;\">\n",
       "      <th></th>\n",
       "      <th>mean_fit_time</th>\n",
       "      <th>std_fit_time</th>\n",
       "      <th>mean_score_time</th>\n",
       "      <th>std_score_time</th>\n",
       "      <th>param_min_samples_leaf</th>\n",
       "      <th>param_max_depth</th>\n",
       "      <th>param_criterion</th>\n",
       "      <th>params</th>\n",
       "      <th>split0_test_score</th>\n",
       "      <th>split1_test_score</th>\n",
       "      <th>split2_test_score</th>\n",
       "      <th>split3_test_score</th>\n",
       "      <th>split4_test_score</th>\n",
       "      <th>mean_test_score</th>\n",
       "      <th>std_test_score</th>\n",
       "      <th>rank_test_score</th>\n",
       "    </tr>\n",
       "  </thead>\n",
       "  <tbody>\n",
       "    <tr>\n",
       "      <th>0</th>\n",
       "      <td>0.253213</td>\n",
       "      <td>0.012538</td>\n",
       "      <td>0.026120</td>\n",
       "      <td>0.008443</td>\n",
       "      <td>8</td>\n",
       "      <td>12</td>\n",
       "      <td>entropy</td>\n",
       "      <td>{'min_samples_leaf': 8, 'max_depth': 12, 'crit...</td>\n",
       "      <td>0.753846</td>\n",
       "      <td>0.753846</td>\n",
       "      <td>0.754572</td>\n",
       "      <td>0.753609</td>\n",
       "      <td>0.753609</td>\n",
       "      <td>0.753896</td>\n",
       "      <td>0.000354</td>\n",
       "      <td>1</td>\n",
       "    </tr>\n",
       "    <tr>\n",
       "      <th>1</th>\n",
       "      <td>0.236039</td>\n",
       "      <td>0.015755</td>\n",
       "      <td>0.025090</td>\n",
       "      <td>0.005827</td>\n",
       "      <td>15</td>\n",
       "      <td>2</td>\n",
       "      <td>gini</td>\n",
       "      <td>{'min_samples_leaf': 15, 'max_depth': 2, 'crit...</td>\n",
       "      <td>0.753846</td>\n",
       "      <td>0.753846</td>\n",
       "      <td>0.754572</td>\n",
       "      <td>0.753609</td>\n",
       "      <td>0.753609</td>\n",
       "      <td>0.753896</td>\n",
       "      <td>0.000354</td>\n",
       "      <td>1</td>\n",
       "    </tr>\n",
       "    <tr>\n",
       "      <th>2</th>\n",
       "      <td>0.256240</td>\n",
       "      <td>0.006125</td>\n",
       "      <td>0.025825</td>\n",
       "      <td>0.008486</td>\n",
       "      <td>11</td>\n",
       "      <td>13</td>\n",
       "      <td>log_loss</td>\n",
       "      <td>{'min_samples_leaf': 11, 'max_depth': 13, 'cri...</td>\n",
       "      <td>0.753846</td>\n",
       "      <td>0.753846</td>\n",
       "      <td>0.754572</td>\n",
       "      <td>0.753609</td>\n",
       "      <td>0.753609</td>\n",
       "      <td>0.753896</td>\n",
       "      <td>0.000354</td>\n",
       "      <td>1</td>\n",
       "    </tr>\n",
       "    <tr>\n",
       "      <th>3</th>\n",
       "      <td>0.264818</td>\n",
       "      <td>0.011127</td>\n",
       "      <td>0.028622</td>\n",
       "      <td>0.002188</td>\n",
       "      <td>11</td>\n",
       "      <td>11</td>\n",
       "      <td>log_loss</td>\n",
       "      <td>{'min_samples_leaf': 11, 'max_depth': 11, 'cri...</td>\n",
       "      <td>0.753846</td>\n",
       "      <td>0.753846</td>\n",
       "      <td>0.754572</td>\n",
       "      <td>0.753609</td>\n",
       "      <td>0.753609</td>\n",
       "      <td>0.753896</td>\n",
       "      <td>0.000354</td>\n",
       "      <td>1</td>\n",
       "    </tr>\n",
       "    <tr>\n",
       "      <th>4</th>\n",
       "      <td>0.290032</td>\n",
       "      <td>0.029076</td>\n",
       "      <td>0.031391</td>\n",
       "      <td>0.003513</td>\n",
       "      <td>9</td>\n",
       "      <td>12</td>\n",
       "      <td>gini</td>\n",
       "      <td>{'min_samples_leaf': 9, 'max_depth': 12, 'crit...</td>\n",
       "      <td>0.753846</td>\n",
       "      <td>0.753846</td>\n",
       "      <td>0.754572</td>\n",
       "      <td>0.753609</td>\n",
       "      <td>0.753609</td>\n",
       "      <td>0.753896</td>\n",
       "      <td>0.000354</td>\n",
       "      <td>1</td>\n",
       "    </tr>\n",
       "    <tr>\n",
       "      <th>5</th>\n",
       "      <td>0.251939</td>\n",
       "      <td>0.014471</td>\n",
       "      <td>0.030674</td>\n",
       "      <td>0.003621</td>\n",
       "      <td>6</td>\n",
       "      <td>4</td>\n",
       "      <td>log_loss</td>\n",
       "      <td>{'min_samples_leaf': 6, 'max_depth': 4, 'crite...</td>\n",
       "      <td>0.753846</td>\n",
       "      <td>0.753846</td>\n",
       "      <td>0.754572</td>\n",
       "      <td>0.753609</td>\n",
       "      <td>0.753609</td>\n",
       "      <td>0.753896</td>\n",
       "      <td>0.000354</td>\n",
       "      <td>1</td>\n",
       "    </tr>\n",
       "    <tr>\n",
       "      <th>6</th>\n",
       "      <td>0.243397</td>\n",
       "      <td>0.010504</td>\n",
       "      <td>0.024884</td>\n",
       "      <td>0.003495</td>\n",
       "      <td>7</td>\n",
       "      <td>4</td>\n",
       "      <td>log_loss</td>\n",
       "      <td>{'min_samples_leaf': 7, 'max_depth': 4, 'crite...</td>\n",
       "      <td>0.753846</td>\n",
       "      <td>0.753846</td>\n",
       "      <td>0.754572</td>\n",
       "      <td>0.753609</td>\n",
       "      <td>0.753609</td>\n",
       "      <td>0.753896</td>\n",
       "      <td>0.000354</td>\n",
       "      <td>1</td>\n",
       "    </tr>\n",
       "    <tr>\n",
       "      <th>7</th>\n",
       "      <td>0.272979</td>\n",
       "      <td>0.007108</td>\n",
       "      <td>0.022189</td>\n",
       "      <td>0.004698</td>\n",
       "      <td>6</td>\n",
       "      <td>10</td>\n",
       "      <td>gini</td>\n",
       "      <td>{'min_samples_leaf': 6, 'max_depth': 10, 'crit...</td>\n",
       "      <td>0.753846</td>\n",
       "      <td>0.753846</td>\n",
       "      <td>0.754572</td>\n",
       "      <td>0.753609</td>\n",
       "      <td>0.753609</td>\n",
       "      <td>0.753896</td>\n",
       "      <td>0.000354</td>\n",
       "      <td>1</td>\n",
       "    </tr>\n",
       "    <tr>\n",
       "      <th>8</th>\n",
       "      <td>0.245361</td>\n",
       "      <td>0.006204</td>\n",
       "      <td>0.017646</td>\n",
       "      <td>0.005770</td>\n",
       "      <td>15</td>\n",
       "      <td>4</td>\n",
       "      <td>gini</td>\n",
       "      <td>{'min_samples_leaf': 15, 'max_depth': 4, 'crit...</td>\n",
       "      <td>0.753846</td>\n",
       "      <td>0.753846</td>\n",
       "      <td>0.754572</td>\n",
       "      <td>0.753609</td>\n",
       "      <td>0.753609</td>\n",
       "      <td>0.753896</td>\n",
       "      <td>0.000354</td>\n",
       "      <td>1</td>\n",
       "    </tr>\n",
       "    <tr>\n",
       "      <th>9</th>\n",
       "      <td>0.248974</td>\n",
       "      <td>0.005419</td>\n",
       "      <td>0.021050</td>\n",
       "      <td>0.004986</td>\n",
       "      <td>14</td>\n",
       "      <td>8</td>\n",
       "      <td>log_loss</td>\n",
       "      <td>{'min_samples_leaf': 14, 'max_depth': 8, 'crit...</td>\n",
       "      <td>0.753846</td>\n",
       "      <td>0.753846</td>\n",
       "      <td>0.754572</td>\n",
       "      <td>0.753609</td>\n",
       "      <td>0.753609</td>\n",
       "      <td>0.753896</td>\n",
       "      <td>0.000354</td>\n",
       "      <td>1</td>\n",
       "    </tr>\n",
       "  </tbody>\n",
       "</table>\n",
       "</div>"
      ],
      "text/plain": [
       "   mean_fit_time  std_fit_time  mean_score_time  std_score_time  \\\n",
       "0       0.253213      0.012538         0.026120        0.008443   \n",
       "1       0.236039      0.015755         0.025090        0.005827   \n",
       "2       0.256240      0.006125         0.025825        0.008486   \n",
       "3       0.264818      0.011127         0.028622        0.002188   \n",
       "4       0.290032      0.029076         0.031391        0.003513   \n",
       "5       0.251939      0.014471         0.030674        0.003621   \n",
       "6       0.243397      0.010504         0.024884        0.003495   \n",
       "7       0.272979      0.007108         0.022189        0.004698   \n",
       "8       0.245361      0.006204         0.017646        0.005770   \n",
       "9       0.248974      0.005419         0.021050        0.004986   \n",
       "\n",
       "  param_min_samples_leaf param_max_depth param_criterion  \\\n",
       "0                      8              12         entropy   \n",
       "1                     15               2            gini   \n",
       "2                     11              13        log_loss   \n",
       "3                     11              11        log_loss   \n",
       "4                      9              12            gini   \n",
       "5                      6               4        log_loss   \n",
       "6                      7               4        log_loss   \n",
       "7                      6              10            gini   \n",
       "8                     15               4            gini   \n",
       "9                     14               8        log_loss   \n",
       "\n",
       "                                              params  split0_test_score  \\\n",
       "0  {'min_samples_leaf': 8, 'max_depth': 12, 'crit...           0.753846   \n",
       "1  {'min_samples_leaf': 15, 'max_depth': 2, 'crit...           0.753846   \n",
       "2  {'min_samples_leaf': 11, 'max_depth': 13, 'cri...           0.753846   \n",
       "3  {'min_samples_leaf': 11, 'max_depth': 11, 'cri...           0.753846   \n",
       "4  {'min_samples_leaf': 9, 'max_depth': 12, 'crit...           0.753846   \n",
       "5  {'min_samples_leaf': 6, 'max_depth': 4, 'crite...           0.753846   \n",
       "6  {'min_samples_leaf': 7, 'max_depth': 4, 'crite...           0.753846   \n",
       "7  {'min_samples_leaf': 6, 'max_depth': 10, 'crit...           0.753846   \n",
       "8  {'min_samples_leaf': 15, 'max_depth': 4, 'crit...           0.753846   \n",
       "9  {'min_samples_leaf': 14, 'max_depth': 8, 'crit...           0.753846   \n",
       "\n",
       "   split1_test_score  split2_test_score  split3_test_score  split4_test_score  \\\n",
       "0           0.753846           0.754572           0.753609           0.753609   \n",
       "1           0.753846           0.754572           0.753609           0.753609   \n",
       "2           0.753846           0.754572           0.753609           0.753609   \n",
       "3           0.753846           0.754572           0.753609           0.753609   \n",
       "4           0.753846           0.754572           0.753609           0.753609   \n",
       "5           0.753846           0.754572           0.753609           0.753609   \n",
       "6           0.753846           0.754572           0.753609           0.753609   \n",
       "7           0.753846           0.754572           0.753609           0.753609   \n",
       "8           0.753846           0.754572           0.753609           0.753609   \n",
       "9           0.753846           0.754572           0.753609           0.753609   \n",
       "\n",
       "   mean_test_score  std_test_score  rank_test_score  \n",
       "0         0.753896        0.000354                1  \n",
       "1         0.753896        0.000354                1  \n",
       "2         0.753896        0.000354                1  \n",
       "3         0.753896        0.000354                1  \n",
       "4         0.753896        0.000354                1  \n",
       "5         0.753896        0.000354                1  \n",
       "6         0.753896        0.000354                1  \n",
       "7         0.753896        0.000354                1  \n",
       "8         0.753896        0.000354                1  \n",
       "9         0.753896        0.000354                1  "
      ]
     },
     "execution_count": 38,
     "metadata": {},
     "output_type": "execute_result"
    }
   ],
   "source": [
    "# 모델 파라미터 확인\n",
    "searchCV.best_score_\n",
    "print(f'searchCV.best_score_ : {searchCV.best_score_}')\n",
    "print(f'searchCV.best_params_ : {searchCV.best_params_}')\n",
    "print(f'searchCV.best_estimator_ : {searchCV.best_estimator_}')\n",
    "\n",
    "cv_resultDF = pd.DataFrame(searchCV.cv_results_)\n",
    "cv_resultDF"
   ]
  },
  {
   "cell_type": "code",
   "execution_count": null,
   "metadata": {},
   "outputs": [],
   "source": []
  }
 ],
 "metadata": {
  "kernelspec": {
   "display_name": "ML_38",
   "language": "python",
   "name": "python3"
  },
  "language_info": {
   "codemirror_mode": {
    "name": "ipython",
    "version": 3
   },
   "file_extension": ".py",
   "mimetype": "text/x-python",
   "name": "python",
   "nbconvert_exporter": "python",
   "pygments_lexer": "ipython3",
   "version": "3.8.19"
  }
 },
 "nbformat": 4,
 "nbformat_minor": 2
}
