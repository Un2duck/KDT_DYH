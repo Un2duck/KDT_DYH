{
 "cells": [
  {
   "cell_type": "code",
   "execution_count": 1,
   "metadata": {},
   "outputs": [],
   "source": [
    "### 모듈 로딩\n",
    "from nltk.corpus import stopwords\n",
    "from nltk.tokenize import word_tokenize"
   ]
  },
  {
   "cell_type": "code",
   "execution_count": 2,
   "metadata": {},
   "outputs": [
    {
     "name": "stdout",
     "output_type": "stream",
     "text": [
      "i\n",
      "me\n",
      "my\n",
      "myself\n",
      "we\n",
      "our\n",
      "ours\n",
      "ourselves\n",
      "you\n",
      "you're\n",
      "you've\n",
      "you'll\n",
      "you'd\n",
      "your\n",
      "yours\n",
      "yourself\n",
      "yourselves\n",
      "he\n",
      "him\n",
      "his\n",
      "himself\n",
      "she\n",
      "she's\n",
      "her\n",
      "hers\n",
      "herself\n",
      "it\n",
      "it's\n",
      "its\n",
      "itself\n",
      "they\n",
      "them\n",
      "their\n",
      "theirs\n",
      "themselves\n",
      "what\n",
      "which\n",
      "who\n",
      "whom\n",
      "this\n",
      "that\n",
      "that'll\n",
      "these\n",
      "those\n",
      "am\n",
      "is\n",
      "are\n",
      "was\n",
      "were\n",
      "be\n"
     ]
    }
   ],
   "source": [
    "# NLTK 제공 영어 불용어 리스트\n",
    "english_sw = stopwords.words('english')\n",
    "\n",
    "for idx, _ in enumerate(english_sw[:50]):\n",
    "    print(_)"
   ]
  },
  {
   "cell_type": "code",
   "execution_count": 3,
   "metadata": {},
   "outputs": [],
   "source": [
    "## 토큰에서 불용어 제거\n",
    "text = \"Family is not an important thing. It's everything.@#$%^&\""
   ]
  },
  {
   "cell_type": "code",
   "execution_count": 4,
   "metadata": {},
   "outputs": [
    {
     "name": "stdout",
     "output_type": "stream",
     "text": [
      "punctuation - !\n",
      "punctuation - ! Family is not an important thing. It's everything.@#$%^&\n",
      "punctuation - \"\n",
      "punctuation - \" Family is not an important thing. It's everything.@#$%^&\n",
      "punctuation - #\n",
      "punctuation - # Family is not an important thing. It's everything.@$%^&\n",
      "punctuation - $\n",
      "punctuation - $ Family is not an important thing. It's everything.@%^&\n",
      "punctuation - %\n",
      "punctuation - % Family is not an important thing. It's everything.@^&\n",
      "punctuation - &\n",
      "punctuation - & Family is not an important thing. It's everything.@^\n",
      "punctuation - '\n",
      "punctuation - ' Family is not an important thing. Its everything.@^\n",
      "punctuation - (\n",
      "punctuation - ( Family is not an important thing. Its everything.@^\n",
      "punctuation - )\n",
      "punctuation - ) Family is not an important thing. Its everything.@^\n",
      "punctuation - *\n",
      "punctuation - * Family is not an important thing. Its everything.@^\n",
      "punctuation - +\n",
      "punctuation - + Family is not an important thing. Its everything.@^\n",
      "punctuation - ,\n",
      "punctuation - , Family is not an important thing. Its everything.@^\n",
      "punctuation - -\n",
      "punctuation - - Family is not an important thing. Its everything.@^\n",
      "punctuation - .\n",
      "punctuation - . Family is not an important thing Its everything@^\n",
      "punctuation - /\n",
      "punctuation - / Family is not an important thing Its everything@^\n",
      "punctuation - :\n",
      "punctuation - : Family is not an important thing Its everything@^\n",
      "punctuation - ;\n",
      "punctuation - ; Family is not an important thing Its everything@^\n",
      "punctuation - <\n",
      "punctuation - < Family is not an important thing Its everything@^\n",
      "punctuation - =\n",
      "punctuation - = Family is not an important thing Its everything@^\n",
      "punctuation - >\n",
      "punctuation - > Family is not an important thing Its everything@^\n",
      "punctuation - ?\n",
      "punctuation - ? Family is not an important thing Its everything@^\n",
      "punctuation - @\n",
      "punctuation - @ Family is not an important thing Its everything^\n",
      "punctuation - [\n",
      "punctuation - [ Family is not an important thing Its everything^\n",
      "punctuation - \\\n",
      "punctuation - \\ Family is not an important thing Its everything^\n",
      "punctuation - ]\n",
      "punctuation - ] Family is not an important thing Its everything^\n",
      "punctuation - ^\n",
      "punctuation - ^ Family is not an important thing Its everything\n",
      "punctuation - _\n",
      "punctuation - _ Family is not an important thing Its everything\n",
      "punctuation - `\n",
      "punctuation - ` Family is not an important thing Its everything\n",
      "punctuation - {\n",
      "punctuation - { Family is not an important thing Its everything\n",
      "punctuation - |\n",
      "punctuation - | Family is not an important thing Its everything\n",
      "punctuation - }\n",
      "punctuation - } Family is not an important thing Its everything\n",
      "punctuation - ~\n",
      "punctuation - ~ Family is not an important thing Its everything\n"
     ]
    }
   ],
   "source": [
    "### 구두점 제거\n",
    "\n",
    "import string\n",
    "punc = string.punctuation\n",
    "for pun in punc:\n",
    "    print(f'punctuation - {pun}')\n",
    "    text = text.replace(pun,'')\n",
    "    print(f'punctuation - {pun} {text}')"
   ]
  },
  {
   "cell_type": "code",
   "execution_count": 5,
   "metadata": {},
   "outputs": [
    {
     "name": "stdout",
     "output_type": "stream",
     "text": [
      "['family', 'is', 'not', 'an', 'important', 'thing', 'its', 'everything']\n"
     ]
    }
   ],
   "source": [
    "## 대소문자 통일\n",
    "text = text.lower()\n",
    "\n",
    "## 토큰화 진행\n",
    "tokens = word_tokenize(text)\n",
    "print(tokens)"
   ]
  },
  {
   "cell_type": "code",
   "execution_count": null,
   "metadata": {},
   "outputs": [],
   "source": [
    "## 불용어 제거 : 분석에 의미가 없는 토큰 제거\n",
    "for token in tokens:\n",
    "# for token in tokens[::-1]: # >> index를 뒤에서부터 가져와야지만 앞에 지운것 영향 받지 않음.\n",
    "    if token in english_sw:\n",
    "        # 제거\n",
    "        tokens.remove(token)\n",
    "    if pun in punc:\n",
    "        text=text.replace(pun, '')\n",
    "print(tokens)"
   ]
  }
 ],
 "metadata": {
  "kernelspec": {
   "display_name": "NLP_TORCH",
   "language": "python",
   "name": "python3"
  },
  "language_info": {
   "codemirror_mode": {
    "name": "ipython",
    "version": 3
   },
   "file_extension": ".py",
   "mimetype": "text/x-python",
   "name": "python",
   "nbconvert_exporter": "python",
   "pygments_lexer": "ipython3",
   "version": "3.8.19"
  }
 },
 "nbformat": 4,
 "nbformat_minor": 2
}
