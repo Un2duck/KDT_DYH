{
 "cells": [
  {
   "cell_type": "code",
   "execution_count": 1,
   "metadata": {},
   "outputs": [
    {
     "name": "stdout",
     "output_type": "stream",
     "text": [
      "\n",
      "    Korpora 는 다른 분들이 연구 목적으로 공유해주신 말뭉치들을\n",
      "    손쉽게 다운로드, 사용할 수 있는 기능만을 제공합니다.\n",
      "\n",
      "    말뭉치들을 공유해 주신 분들에게 감사드리며, 각 말뭉치 별 설명과 라이센스를 공유 드립니다.\n",
      "    해당 말뭉치에 대해 자세히 알고 싶으신 분은 아래의 description 을 참고,\n",
      "    해당 말뭉치를 연구/상용의 목적으로 이용하실 때에는 아래의 라이센스를 참고해 주시기 바랍니다.\n",
      "\n",
      "    # Description\n",
      "    Author : e9t@github\n",
      "    Repository : https://github.com/e9t/nsmc\n",
      "    References : www.lucypark.kr/docs/2015-pyconkr/#39\n",
      "\n",
      "    Naver sentiment movie corpus v1.0\n",
      "    This is a movie review dataset in the Korean language.\n",
      "    Reviews were scraped from Naver Movies.\n",
      "\n",
      "    The dataset construction is based on the method noted in\n",
      "    [Large movie review dataset][^1] from Maas et al., 2011.\n",
      "\n",
      "    [^1]: http://ai.stanford.edu/~amaas/data/sentiment/\n",
      "\n",
      "    # License\n",
      "    CC0 1.0 Universal (CC0 1.0) Public Domain Dedication\n",
      "    Details in https://creativecommons.org/publicdomain/zero/1.0/\n",
      "\n",
      "[Korpora] Corpus `nsmc` is already installed at C:\\Users\\KDP-50\\Korpora\\nsmc\\ratings_train.txt\n",
      "[Korpora] Corpus `nsmc` is already installed at C:\\Users\\KDP-50\\Korpora\\nsmc\\ratings_test.txt\n"
     ]
    }
   ],
   "source": [
    "import pandas as pd\n",
    "from Korpora import Korpora\n",
    "from konlpy.tag import Okt\n",
    "\n",
    "\n",
    "corpus = Korpora.load(\"nsmc\")\n",
    "corpus = pd.DataFrame(corpus.test)"
   ]
  },
  {
   "cell_type": "code",
   "execution_count": 2,
   "metadata": {},
   "outputs": [],
   "source": [
    "tokenizer = Okt()\n",
    "tokens = [tokenizer.morphs(review) for review in corpus.text]"
   ]
  },
  {
   "cell_type": "code",
   "execution_count": 3,
   "metadata": {},
   "outputs": [],
   "source": [
    "from gensim.models import Word2Vec"
   ]
  },
  {
   "cell_type": "code",
   "execution_count": 4,
   "metadata": {},
   "outputs": [],
   "source": [
    "word2vec = Word2Vec(\n",
    "    sentences=tokens,\n",
    "    vector_size=128,\n",
    "    window=5,\n",
    "    min_count=1,\n",
    "    sg=1,\n",
    "    epochs=3,\n",
    "    max_final_vocab=10000\n",
    ")"
   ]
  },
  {
   "cell_type": "code",
   "execution_count": 5,
   "metadata": {},
   "outputs": [],
   "source": [
    "word2vec.save(\"../models/word2vec.model\")"
   ]
  },
  {
   "cell_type": "code",
   "execution_count": 6,
   "metadata": {},
   "outputs": [
    {
     "name": "stdout",
     "output_type": "stream",
     "text": [
      "[-0.3983571  -0.09165692  0.36874947  0.26572442  0.04059691 -0.32179734\n",
      " -0.06483063 -0.05244879 -0.4811981   0.20385362  0.0371547  -0.42187312\n",
      " -0.27319574 -0.01630701  0.04340876 -0.21940114 -0.31373966  0.32544386\n",
      "  0.01379473  0.15916702  0.61875755  0.14990869 -0.09716796 -0.02166489\n",
      " -0.38690478 -0.00957646 -0.4830894   0.22949043  0.31554058 -0.09333221\n",
      " -0.4194906  -0.08172315  0.41689733 -0.12251268  0.02122122  0.21994233\n",
      "  0.04202123 -0.07255304  0.09644731 -0.29586402  0.20381528 -0.11294045\n",
      " -0.15711255 -0.6075741  -0.31853616  0.25814727 -0.29556963 -0.2717181\n",
      "  0.15874532  0.04035347  0.63340634  0.25465187  0.18941547  0.38241008\n",
      " -0.25546002 -0.1017355   0.12193239  0.22430816 -0.18471463  0.10360094\n",
      " -0.1117259  -0.06745923  0.0516701   0.23931728 -0.3744481   0.13914393\n",
      " -0.00555272  0.2556837   0.3623951  -0.39107367 -0.2595886  -0.40169173\n",
      " -0.40084302 -0.04341374 -0.00719074 -0.05817964 -0.33125997 -0.27792564\n",
      " -0.12321006  0.05580492 -0.45300585 -0.01595432  0.52561885  0.542292\n",
      "  0.33993486  0.09559946  0.14362825 -0.5854615   0.12167366 -0.33284733\n",
      " -0.3022843   0.16272023  0.11820663  0.20132042 -0.03174519 -0.07330725\n",
      " -0.1680478  -0.25418484 -0.31648725 -0.6860059  -0.2933005  -0.01565066\n",
      "  0.23806359 -0.6623822   0.08945504  0.2398175   0.35911465  0.07475765\n",
      "  0.01956968 -0.17706285  0.3761802  -0.13221735 -0.23528717  0.12359659\n",
      "  0.00458761 -0.28909257  0.24850862  0.29893517  0.13595869  0.5813361\n",
      " -0.1599886  -0.27852327  0.18351623  0.17570592 -0.11606093  0.05532127\n",
      " -0.6682537  -0.04257992]\n",
      "[('연기력', 0.7910347580909729), ('캐스팅', 0.7233480215072632), ('연기자', 0.7196828126907349), ('몸매', 0.7165672183036804), ('조연', 0.7063239216804504)]\n",
      "0.7910346\n"
     ]
    }
   ],
   "source": [
    "word = \"연기\"\n",
    "print(word2vec.wv[word])\n",
    "print(word2vec.wv.most_similar(word, topn=5))\n",
    "print(word2vec.wv.similarity(w1=word, w2=\"연기력\"))"
   ]
  },
  {
   "cell_type": "code",
   "execution_count": null,
   "metadata": {},
   "outputs": [],
   "source": [
    "# word2vec = Word2Vec.load(\"../models/word2vec.model\")"
   ]
  }
 ],
 "metadata": {
  "kernelspec": {
   "display_name": "NLP_TORCH",
   "language": "python",
   "name": "python3"
  },
  "language_info": {
   "codemirror_mode": {
    "name": "ipython",
    "version": 3
   },
   "file_extension": ".py",
   "mimetype": "text/x-python",
   "name": "python",
   "nbconvert_exporter": "python",
   "pygments_lexer": "ipython3",
   "version": "3.8.19"
  }
 },
 "nbformat": 4,
 "nbformat_minor": 2
}
