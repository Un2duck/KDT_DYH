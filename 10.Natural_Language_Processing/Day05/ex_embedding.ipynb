{
 "cells": [
  {
   "cell_type": "code",
   "execution_count": 1,
   "metadata": {},
   "outputs": [
    {
     "name": "stdout",
     "output_type": "stream",
     "text": [
      "{'how': 2, 'code': 3, 'to': 4, 'you': 5, 'know': 6, 'need': 7, '<pad>': 0, '<unk>': 1}\n"
     ]
    }
   ],
   "source": [
    "### 단어 사전 생성\n",
    "train_data = 'you need to know how to code'\n",
    "\n",
    "# 중복을 제거한 단어들의 집합인 단어 집합 생성.\n",
    "word_set = set(train_data.split())\n",
    "\n",
    "# 단어 집합의 각 단어에 고유한 정수 맵핑.\n",
    "vocab = {word: i+2 for i, word in enumerate(word_set)}\n",
    "vocab['<pad>'] = 0\n",
    "vocab['<unk>'] = 1\n",
    "\n",
    "print(vocab)"
   ]
  },
  {
   "cell_type": "code",
   "execution_count": 2,
   "metadata": {},
   "outputs": [],
   "source": [
    "import torch\n",
    "import torch.nn as nn "
   ]
  },
  {
   "cell_type": "code",
   "execution_count": 4,
   "metadata": {},
   "outputs": [],
   "source": [
    "# 임의의 임베딩의 룩업 테이블\n",
    "\n",
    "embedding_table = torch.FloatTensor([\n",
    "                                [0.0, 0.0, 0.0],\n",
    "                                [0.0, 0.0, 0.0],\n",
    "                                [0.2, 0.9, 0.3],\n",
    "                                [0.1, 0.5, 0.7],\n",
    "                                [0.2, 0.1, 0.8],\n",
    "                                [0.4, 0.1, 0.1],\n",
    "                                [0.1, 0.8, 0.9],\n",
    "                                [0.6, 0.1, 0.1]])"
   ]
  },
  {
   "cell_type": "code",
   "execution_count": 5,
   "metadata": {},
   "outputs": [
    {
     "name": "stdout",
     "output_type": "stream",
     "text": [
      "idxes : tensor([5, 7, 4, 1])\n",
      "tensor([[0.4000, 0.1000, 0.1000],\n",
      "        [0.6000, 0.1000, 0.1000],\n",
      "        [0.2000, 0.1000, 0.8000],\n",
      "        [0.0000, 0.0000, 0.0000]])\n"
     ]
    }
   ],
   "source": [
    "## 토큰 정수 ==> 임베딩 벡터 변환\n",
    "sample = 'you need to run'.split()\n",
    "idxes = []\n",
    "\n",
    "# 각 단어를 정수로 변환\n",
    "for word in sample:\n",
    "    try:\n",
    "        idxes.append(vocab[word])\n",
    "\n",
    "    # 단어 집합에 없는 단어의 경우 <unk> 대체\n",
    "    except:\n",
    "        idxes.append(vocab['<unk>'])\n",
    "    \n",
    "# 텐서화 진행\n",
    "idxes = torch.LongTensor(idxes)\n",
    "print(f'idxes : {idxes}')\n",
    "\n",
    "# 각 정수를 인덱스로 임베딩 테이블에서 값 가져오기\n",
    "lookup_result = embedding_table[idxes, :]\n",
    "print(lookup_result)"
   ]
  },
  {
   "cell_type": "code",
   "execution_count": 6,
   "metadata": {},
   "outputs": [],
   "source": [
    "### Pytorch Embedding Layer\n",
    "embedding_layer = nn.Embedding(num_embeddings=len(vocab),\n",
    "                               embedding_dim=3,\n",
    "                               padding_idx=0)"
   ]
  },
  {
   "cell_type": "code",
   "execution_count": 7,
   "metadata": {},
   "outputs": [
    {
     "name": "stdout",
     "output_type": "stream",
     "text": [
      "Parameter containing:\n",
      "tensor([[ 0.0000,  0.0000,  0.0000],\n",
      "        [-0.5079, -0.8860, -1.4957],\n",
      "        [ 0.6893, -0.7712,  0.1985],\n",
      "        [ 0.3707,  1.9422,  0.0874],\n",
      "        [ 0.4779,  1.2989, -0.1251],\n",
      "        [-0.4695, -0.3733,  1.2812],\n",
      "        [-1.3965, -2.2003,  1.1445],\n",
      "        [ 1.3455, -1.8365, -2.2625]], requires_grad=True)\n"
     ]
    }
   ],
   "source": [
    "print(embedding_layer.weight)"
   ]
  },
  {
   "cell_type": "code",
   "execution_count": null,
   "metadata": {},
   "outputs": [],
   "source": []
  }
 ],
 "metadata": {
  "kernelspec": {
   "display_name": "NLP_TORCH",
   "language": "python",
   "name": "python3"
  },
  "language_info": {
   "codemirror_mode": {
    "name": "ipython",
    "version": 3
   },
   "file_extension": ".py",
   "mimetype": "text/x-python",
   "name": "python",
   "nbconvert_exporter": "python",
   "pygments_lexer": "ipython3",
   "version": "3.8.19"
  }
 },
 "nbformat": 4,
 "nbformat_minor": 2
}
