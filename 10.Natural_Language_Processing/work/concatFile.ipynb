{
 "cells": [
  {
   "cell_type": "code",
   "execution_count": 1,
   "metadata": {},
   "outputs": [],
   "source": [
    "# 정규식 모듈\n",
    "import re"
   ]
  },
  {
   "cell_type": "code",
   "execution_count": 2,
   "metadata": {},
   "outputs": [],
   "source": [
    "## 데이터 준비\n",
    "FILE_PATH = '../NLParticle/1/'\n",
    "TEXT = '0001NewsData.txt'\n",
    "\n",
    "with open(FILE_PATH+TEXT, mode='r', encoding='utf-8') as f:\n",
    "    texts = f.read().splitlines()"
   ]
  },
  {
   "cell_type": "code",
   "execution_count": 3,
   "metadata": {},
   "outputs": [],
   "source": [
    "newsData='NewsData.txt'"
   ]
  },
  {
   "cell_type": "code",
   "execution_count": 30,
   "metadata": {},
   "outputs": [],
   "source": [
    "newsNames=[]\n",
    "x=0\n",
    "# (시작파일숫자, 끝파일숫자-1)\n",
    "for i in range(7000, 7200):\n",
    "    number='%04d' %(x+i)\n",
    "    newsNames.append(str(number)+newsData)"
   ]
  },
  {
   "cell_type": "code",
   "execution_count": 31,
   "metadata": {},
   "outputs": [
    {
     "data": {
      "text/plain": [
       "200"
      ]
     },
     "execution_count": 31,
     "metadata": {},
     "output_type": "execute_result"
    }
   ],
   "source": [
    "len(newsNames)"
   ]
  },
  {
   "cell_type": "code",
   "execution_count": 32,
   "metadata": {},
   "outputs": [],
   "source": [
    "texts = []\n",
    "FILE_PATH = '../NLParticle/7/'\n",
    "NEWNAME='concatNews7.txt'\n",
    "\n",
    "for i in range(200):\n",
    "    # 파일 불러와서 읽기\n",
    "    with open(FILE_PATH + newsNames[i], mode='r', encoding='utf-8') as f:\n",
    "        texts.append(f.read())\n",
    "# 불러온 순서대로 쓰고 FILE_PATH에 NEWNAME으로 저장하기\n",
    "with open(FILE_PATH + NEWNAME, mode='w', encoding='utf-8') as fw:\n",
    "    for text in texts:\n",
    "            fw.write(text + \"\\n\")"
   ]
  },
  {
   "cell_type": "code",
   "execution_count": null,
   "metadata": {},
   "outputs": [],
   "source": []
  }
 ],
 "metadata": {
  "kernelspec": {
   "display_name": "NLP_TORCH",
   "language": "python",
   "name": "python3"
  },
  "language_info": {
   "codemirror_mode": {
    "name": "ipython",
    "version": 3
   },
   "file_extension": ".py",
   "mimetype": "text/x-python",
   "name": "python",
   "nbconvert_exporter": "python",
   "pygments_lexer": "ipython3",
   "version": "3.8.19"
  }
 },
 "nbformat": 4,
 "nbformat_minor": 2
}
