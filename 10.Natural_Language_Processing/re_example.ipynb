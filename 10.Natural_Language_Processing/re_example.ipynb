{
 "cells": [
  {
   "cell_type": "markdown",
   "metadata": {},
   "source": [
    "### 43.5 연습문제: 이메일 주소 검사하기"
   ]
  },
  {
   "cell_type": "code",
   "execution_count": 1,
   "metadata": {},
   "outputs": [
    {
     "data": {
      "text/plain": [
       "\"\\nimport re\\n \\np = re.compile(_________________________________________________)\\nemails = ['python@mail.example.com', 'python+kr@example.com',              # 올바른 형식\\n          'python-dojang@example.co.kr', 'python_10@example.info',         # 올바른 형식\\n          'python.dojang@e-xample.com',                                    # 올바른 형식\\n          '@example.com', 'python@example', 'python@example-com']          # 잘못된 형식\\n \\nfor email in emails:\\n    print(p.match(email) != None, end=' ')\\n\\n\\n실행 결과)\\n>>> True True True True True False False False\\n    \""
      ]
     },
     "execution_count": 1,
     "metadata": {},
     "output_type": "execute_result"
    }
   ],
   "source": [
    "'''\n",
    "import re\n",
    " \n",
    "p = re.compile(_________________________________________________)\n",
    "emails = ['python@mail.example.com', 'python+kr@example.com',              # 올바른 형식\n",
    "          'python-dojang@example.co.kr', 'python_10@example.info',         # 올바른 형식\n",
    "          'python.dojang@e-xample.com',                                    # 올바른 형식\n",
    "          '@example.com', 'python@example', 'python@example-com']          # 잘못된 형식\n",
    " \n",
    "for email in emails:\n",
    "    print(p.match(email) != None, end=' ')\n",
    "\n",
    "\n",
    "실행 결과)\n",
    ">>> True True True True True False False False\n",
    "    '''"
   ]
  },
  {
   "cell_type": "code",
   "execution_count": 2,
   "metadata": {},
   "outputs": [],
   "source": [
    "import re"
   ]
  },
  {
   "cell_type": "code",
   "execution_count": 3,
   "metadata": {},
   "outputs": [],
   "source": [
    "emails = ['python@mail.example.com', 'python+kr@example.com',              # 올바른 형식\n",
    "          'python-dojang@example.co.kr', 'python_10@example.info',         # 올바른 형식\n",
    "          'python.dojang@e-xample.com',                                    # 올바른 형식\n",
    "          '@example.com', 'python@example', 'python@example-com']          # 잘못된 형식"
   ]
  },
  {
   "cell_type": "code",
   "execution_count": 81,
   "metadata": {},
   "outputs": [
    {
     "name": "stdout",
     "output_type": "stream",
     "text": [
      "True True True True True False False False "
     ]
    }
   ],
   "source": [
    "# p = re.compile('(^[\\w])|(^[\\W])') # True True True True True True True True \n",
    "# p = re.compile('^[\\w]+(.[\\w])') # True True True True True False True True \n",
    "# p = re.compile('^[\\w]+(@[\\w])') # True False False True False False True True \n",
    "# p = re.compile('python@') # True False False False False False True True\n",
    "# p = re.compile('(^[\\w])*(^[\\W])') # False False False False False True False False >> ??\n",
    "\n",
    "# xxxx@example.com\n",
    "# p = re.compile('([\\w]{6})([\\w]{2,4}$)')\n",
    "\n",
    "p = re.compile('^[a-zA-Z0-9+-_.]+@[a-zA-Z0-9-]+\\.[a-zA-Z0-9-.]+$')\n",
    "\n",
    "\n",
    "for email in emails:\n",
    "    print(p.match(email) != None, end=' ')"
   ]
  },
  {
   "cell_type": "code",
   "execution_count": null,
   "metadata": {},
   "outputs": [],
   "source": []
  }
 ],
 "metadata": {
  "kernelspec": {
   "display_name": "NLP_TORCH",
   "language": "python",
   "name": "python3"
  },
  "language_info": {
   "codemirror_mode": {
    "name": "ipython",
    "version": 3
   },
   "file_extension": ".py",
   "mimetype": "text/x-python",
   "name": "python",
   "nbconvert_exporter": "python",
   "pygments_lexer": "ipython3",
   "version": "3.8.19"
  }
 },
 "nbformat": 4,
 "nbformat_minor": 2
}
