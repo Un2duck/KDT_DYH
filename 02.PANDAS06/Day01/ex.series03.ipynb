{
 "cells": [
  {
   "cell_type": "markdown",
   "metadata": {},
   "source": [
    "### Series 데이터 자료형\n",
    "- 판다스에서 1줄 데이터 저장하는 자료형\n",
    "- 구성 : 인덱스+데이터"
   ]
  },
  {
   "cell_type": "code",
   "execution_count": 21,
   "metadata": {},
   "outputs": [],
   "source": [
    "# 모듈 로딩\n",
    "import pandas as pd"
   ]
  },
  {
   "cell_type": "code",
   "execution_count": 22,
   "metadata": {},
   "outputs": [],
   "source": [
    "# 데이터 준비\n",
    "jumsu={'국어':98, '영어':100, '체육':100, '과학':89}"
   ]
  },
  {
   "cell_type": "code",
   "execution_count": 23,
   "metadata": {},
   "outputs": [],
   "source": [
    "# 시리즈 객체 생성\n",
    "jumsus=pd.Series(jumsu)"
   ]
  },
  {
   "cell_type": "code",
   "execution_count": 24,
   "metadata": {},
   "outputs": [
    {
     "name": "stdout",
     "output_type": "stream",
     "text": [
      "국어     98\n",
      "영어    100\n",
      "체육    100\n",
      "과학     89\n",
      "dtype: int64\n"
     ]
    }
   ],
   "source": [
    "print(jumsus)"
   ]
  },
  {
   "cell_type": "code",
   "execution_count": 25,
   "metadata": {},
   "outputs": [
    {
     "name": "stdout",
     "output_type": "stream",
     "text": [
      "jumsus의 index : Index(['국어', '영어', '체육', '과학'], dtype='object')\n",
      "jumsus의 values : [ 98 100 100  89]\n",
      "jumsus의 dtype : int64\n",
      "jumsus의 ndim : 1\n"
     ]
    }
   ],
   "source": [
    "# 시리즈 객체 속성 출력 => index, values, dtype, ndim\n",
    "print(f'jumsus의 index : {jumsus.index}')\n",
    "print(f'jumsus의 values : {jumsus.values}')\n",
    "print(f'jumsus의 dtype : {jumsus.dtype}')\n",
    "print(f'jumsus의 ndim : {jumsus.ndim}')"
   ]
  },
  {
   "cell_type": "code",
   "execution_count": 26,
   "metadata": {},
   "outputs": [
    {
     "data": {
      "text/plain": [
       "98"
      ]
     },
     "execution_count": 26,
     "metadata": {},
     "output_type": "execute_result"
    }
   ],
   "source": [
    "## 원소 읽기 ---------------------------------------------\n",
    "# 1개 원소 읽기\n",
    "jumsus['국어']"
   ]
  },
  {
   "cell_type": "code",
   "execution_count": 27,
   "metadata": {},
   "outputs": [
    {
     "data": {
      "text/plain": [
       "국어    98\n",
       "과학    89\n",
       "dtype: int64"
      ]
     },
     "execution_count": 27,
     "metadata": {},
     "output_type": "execute_result"
    }
   ],
   "source": [
    "# 2개 원소 읽기 -> 국어, 과학 점수\n",
    "jumsus[['국어','과학']]"
   ]
  },
  {
   "cell_type": "code",
   "execution_count": 28,
   "metadata": {},
   "outputs": [
    {
     "data": {
      "text/plain": [
       "국어     98\n",
       "영어    100\n",
       "체육    100\n",
       "dtype: int64"
      ]
     },
     "execution_count": 28,
     "metadata": {},
     "output_type": "execute_result"
    }
   ],
   "source": [
    "# 국어, 영어, 체육 점수 읽기\n",
    "# 정수 인덱스 경우 => [시작:끝+1]\n",
    "# 글자 인덱스 경우 => [시작:끝]\n",
    "jumsus['국어':'체육']"
   ]
  },
  {
   "cell_type": "code",
   "execution_count": 29,
   "metadata": {},
   "outputs": [
    {
     "data": {
      "text/plain": [
       "국어     98\n",
       "체육    100\n",
       "dtype: int64"
      ]
     },
     "execution_count": 29,
     "metadata": {},
     "output_type": "execute_result"
    }
   ],
   "source": [
    "# 국어, 체육만 점수 읽기 ==> 슬라이싱\n",
    "jumsus['국어':'체육':2]"
   ]
  },
  {
   "cell_type": "markdown",
   "metadata": {},
   "source": [
    "- [인덱스 & 인덱스레이블/네임]\n",
    ": 원소/요소를 식별하기위한 속성"
   ]
  },
  {
   "cell_type": "code",
   "execution_count": 30,
   "metadata": {},
   "outputs": [
    {
     "data": {
      "text/plain": [
       "Index(['국어', '영어', '체육', '과학'], dtype='object')"
      ]
     },
     "execution_count": 30,
     "metadata": {},
     "output_type": "execute_result"
    }
   ],
   "source": [
    "## 인덱스 속성 ==> 변수명.index\n",
    "jumsus.index"
   ]
  },
  {
   "cell_type": "code",
   "execution_count": 31,
   "metadata": {},
   "outputs": [
    {
     "name": "stdout",
     "output_type": "stream",
     "text": [
      "98 98\n",
      "100 100\n",
      "국어     98\n",
      "영어    100\n",
      "dtype: int64\n"
     ]
    }
   ],
   "source": [
    "print(jumsus['국어'], jumsus.iloc[0])\n",
    "print(jumsus['체육'], jumsus.iloc[2])\n",
    "print(jumsus.iloc[0:2])"
   ]
  }
 ],
 "metadata": {
  "kernelspec": {
   "display_name": "py39",
   "language": "python",
   "name": "python3"
  },
  "language_info": {
   "codemirror_mode": {
    "name": "ipython",
    "version": 3
   },
   "file_extension": ".py",
   "mimetype": "text/x-python",
   "name": "python",
   "nbconvert_exporter": "python",
   "pygments_lexer": "ipython3",
   "version": "3.9.19"
  }
 },
 "nbformat": 4,
 "nbformat_minor": 2
}
