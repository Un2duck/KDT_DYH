{
 "cells": [
  {
   "cell_type": "code",
   "execution_count": 1,
   "metadata": {},
   "outputs": [],
   "source": [
    "students = [('Alice', 3.9, 20160303),\n",
    "            ('Bob', 3.0, 20160302),\n",
    "            ('Charlie', 4.3, 20160301)]"
   ]
  },
  {
   "cell_type": "code",
   "execution_count": 2,
   "metadata": {},
   "outputs": [
    {
     "name": "stdout",
     "output_type": "stream",
     "text": [
      "[('Charlie', 4.3, 20160301), ('Bob', 3.0, 20160302), ('Alice', 3.9, 20160303)]\n"
     ]
    }
   ],
   "source": [
    "# 학번(students[2])을 기준으로 오름차순 정렬\n",
    "sorted_students1 = sorted(students, key = lambda s: s[2])\n",
    "sorted_students1"
   ]
  },
  {
   "cell_type": "code",
   "execution_count": 3,
   "metadata": {},
   "outputs": [
    {
     "data": {
      "text/plain": [
       "[('Charlie', 4.3, 20160301), ('Alice', 3.9, 20160303), ('Bob', 3.0, 20160302)]"
      ]
     },
     "execution_count": 3,
     "metadata": {},
     "output_type": "execute_result"
    }
   ],
   "source": [
    "# 학점(students[1])을 기준으로 내림차순 정렬\n",
    "sorted_students2 = sorted(students, key = lambda s: s[1], reverse=True)\n",
    "sorted_students2"
   ]
  }
 ],
 "metadata": {
  "kernelspec": {
   "display_name": "py39",
   "language": "python",
   "name": "python3"
  },
  "language_info": {
   "codemirror_mode": {
    "name": "ipython",
    "version": 3
   },
   "file_extension": ".py",
   "mimetype": "text/x-python",
   "name": "python",
   "nbconvert_exporter": "python",
   "pygments_lexer": "ipython3",
   "version": "3.9.19"
  }
 },
 "nbformat": 4,
 "nbformat_minor": 2
}
