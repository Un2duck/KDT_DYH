{
 "cells": [
  {
   "cell_type": "markdown",
   "metadata": {},
   "source": [
    "- 인스턴스와 메서드 <hr>\n",
    "    * 인스턴스(Instance) : 메소드(힙)에 존재하는 (저장된) 데이터의 종류를 명시해서 부르는 용어\n",
    "        - 예: 정수 인스턴스, vgg 인스턴스, 사람 인스턴스\n",
    "    * 속성(Attribute/Field) : 클래스가 가지는 특징, 외형, 내형, 성격\n",
    "    * 메서드(Method) : 클래스가 가지는 기능, 역할 ==> 문법 구조는 함수와 동일"
   ]
  },
  {
   "cell_type": "code",
   "execution_count": 13,
   "metadata": {},
   "outputs": [],
   "source": [
    "class A:\n",
    "\n",
    "    # 인스턴스를 생성해주는 메서드\n",
    "    def __init__(self, num, loc):\n",
    "        self.num=num        # 인스턴스 속성\n",
    "        self.loc=loc        # 인스턴스 속성\n",
    "        print('__init__()')\n",
    "\n",
    "    # 연산자(+,-,*,/,%,//,**) 기능과 연결된 매직 메서드\n",
    "    def __add__(self, other):\n",
    "        print('__add__()')\n",
    "        return self.num+other.num\n",
    "    \n",
    "    def __mul__(self, other):\n",
    "        print('__mul__()')\n",
    "        return self.loc*other.num\n",
    "    \n",
    "    # 인스턴스 변수명으로 호출되는 메서드\n",
    "    def __call__(self, value):\n",
    "        print('__call__()')\n",
    "        \n",
    "    # A클래스로 생성된 인스턴스 전용의 메서드\n",
    "    def test(self, food):\n",
    "        print(self.loc, food)"
   ]
  },
  {
   "cell_type": "code",
   "execution_count": 15,
   "metadata": {},
   "outputs": [
    {
     "name": "stdout",
     "output_type": "stream",
     "text": [
      "__init__()\n",
      "__init__()\n",
      "대구\n",
      "대구 치맥\n",
      "__add__()\n",
      "30\n",
      "__mul__()\n",
      "대구대구대구대구대구대구대구대구대구대구대구대구대구대구대구대구대구대구대구대구\n",
      "__call__()\n",
      "__init__()\n",
      "__call__()\n"
     ]
    }
   ],
   "source": [
    "# 인스턴스 생성 => A(10, '대구')\n",
    "a1=A(10, '대구')\n",
    "a2=A(20, '부산')\n",
    "print(a1.loc)\n",
    "\n",
    "a1.test('치맥')\n",
    "print(a1+a2)\n",
    "print(a1*a2)\n",
    "\n",
    "a1(20)\n",
    "A(5, '경주')(1000)"
   ]
  },
  {
   "cell_type": "code",
   "execution_count": null,
   "metadata": {},
   "outputs": [],
   "source": []
  }
 ],
 "metadata": {
  "kernelspec": {
   "display_name": "TORCH_CV_38",
   "language": "python",
   "name": "python3"
  },
  "language_info": {
   "codemirror_mode": {
    "name": "ipython",
    "version": 3
   },
   "file_extension": ".py",
   "mimetype": "text/x-python",
   "name": "python",
   "nbconvert_exporter": "python",
   "pygments_lexer": "ipython3",
   "version": "3.8.19"
  }
 },
 "nbformat": 4,
 "nbformat_minor": 2
}
