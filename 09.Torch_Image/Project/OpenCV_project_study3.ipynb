{
 "cells": [
  {
   "cell_type": "code",
   "execution_count": 3,
   "metadata": {},
   "outputs": [
    {
     "name": "stdout",
     "output_type": "stream",
     "text": [
      "torch Ver.:2.4.1\n",
      "pandas Ver.:2.0.3\n",
      "numpy Ver.:1.24.3\n"
     ]
    }
   ],
   "source": [
    "# ---------------------------------------------------------------------\n",
    "# 모델링 관련 모듈 로딩\n",
    "# ---------------------------------------------------------------------\n",
    "import torch\n",
    "import torch.nn as nn\n",
    "import torch.nn.functional as F\n",
    "from torch.utils.data import Dataset, DataLoader\n",
    "import torch.optim as optim\n",
    "from torchinfo import summary\n",
    "\n",
    "from torchmetrics.regression import R2Score, MeanSquaredError\n",
    "from torchmetrics.classification import MulticlassF1Score\n",
    "from torchmetrics.classification import MulticlassConfusionMatrix\n",
    "import torch.optim.lr_scheduler as lr_scheduler\n",
    "\n",
    "import torchvision.models as models\n",
    "\n",
    "# ---------------------------------------------------------------------\n",
    "# 데이터 분석 관련 모듈 로딩\n",
    "# ---------------------------------------------------------------------\n",
    "import pandas as pd\n",
    "import numpy as np\n",
    "import matplotlib.pyplot as plt\n",
    "\n",
    "# ---------------------------------------------------------------------\n",
    "# 이미지 관련 모듈 로딩\n",
    "# ---------------------------------------------------------------------\n",
    "import cv2\n",
    "from PIL import Image\n",
    "from torchvision import transforms\n",
    "from torchvision.datasets import ImageFolder\n",
    "from torchvision.transforms import v2\n",
    "\n",
    "# ---------------------------------------------------------------------\n",
    "# 기타 모듈 로딩\n",
    "# ---------------------------------------------------------------------\n",
    "import time\n",
    "import os\n",
    "\n",
    "# ---------------------------------------------------------------------\n",
    "# 커스텀 모듈 로딩\n",
    "# ---------------------------------------------------------------------\n",
    "import OpenCV_func\n",
    "\n",
    "# 활용 패키지 버전 체크\n",
    "print(f'torch Ver.:{torch.__version__}')\n",
    "print(f'pandas Ver.:{pd.__version__}')\n",
    "print(f'numpy Ver.:{np.__version__}')"
   ]
  },
  {
   "cell_type": "code",
   "execution_count": 4,
   "metadata": {},
   "outputs": [],
   "source": [
    "# DEVICE 설정\n",
    "DEVICE = 'cuda' if torch.cuda.is_available() else 'cpu'"
   ]
  },
  {
   "cell_type": "markdown",
   "metadata": {},
   "source": [
    "- 이미지 파일 => 하나로 합치기 <hr>"
   ]
  },
  {
   "cell_type": "code",
   "execution_count": 5,
   "metadata": {},
   "outputs": [],
   "source": [
    "## 이미지 파일 => 하나로 합치기\n",
    "## 데이터 관련 설정\n",
    "IMG_PATH = './test_image/'"
   ]
  },
  {
   "cell_type": "markdown",
   "metadata": {},
   "source": [
    "- Tensor ==> Ndarray <hr>"
   ]
  },
  {
   "cell_type": "code",
   "execution_count": 6,
   "metadata": {},
   "outputs": [
    {
     "name": "stderr",
     "output_type": "stream",
     "text": [
      "c:\\Users\\KDP-50\\anaconda3\\envs\\TORCH_CV_38\\lib\\site-packages\\torchvision\\transforms\\v2\\_deprecated.py:42: UserWarning: The transform `ToTensor()` is deprecated and will be removed in a future release. Instead, please use `v2.Compose([v2.ToImage(), v2.ToDtype(torch.float32, scale=True)])`.Output is equivalent up to float precision.\n",
      "  warnings.warn(\n"
     ]
    }
   ],
   "source": [
    "## 데이터 변형 및 전처리\n",
    "transConvert = v2.Compose([\n",
    "    v2.Resize([256, 256]),\n",
    "    v2.RandomResizedCrop(224),\n",
    "    v2.ToTensor(),\n",
    "    v2.Normalize(mean=[0.485, 0.456, 0.406], std=[0.229, 0.224, 0.225]),\n",
    "    v2.ToDtype(torch.float32, scale=True)\n",
    "])"
   ]
  },
  {
   "cell_type": "code",
   "execution_count": 7,
   "metadata": {},
   "outputs": [],
   "source": [
    "## 이미지 데이터셋 생성\n",
    "imgDS=ImageFolder(root=IMG_PATH, transform=transConvert)"
   ]
  },
  {
   "cell_type": "code",
   "execution_count": 8,
   "metadata": {},
   "outputs": [
    {
     "name": "stdout",
     "output_type": "stream",
     "text": [
      "imgDS2.classes       : ['apple', 'banana', 'orange', 'strawberry']\n",
      "imgDS2.class_to_idx  : {'apple': 0, 'banana': 1, 'orange': 2, 'strawberry': 3}\n",
      "imgDS2.targets       : [0, 0, 0, 0, 0, 1, 1, 1, 1, 1, 2, 2, 2, 2, 2, 3, 3, 3, 3, 3]\n",
      "imgDS.imgs       : ('./test_image/apple\\\\FreshApple (1).jpg', 0)\n",
      "imgDS.imgs       : ('./test_image/apple\\\\FreshApple (2).jpg', 0)\n",
      "imgDS.imgs       : ('./test_image/apple\\\\FreshApple (3).jpg', 0)\n",
      "imgDS.imgs       : ('./test_image/apple\\\\FreshApple (4).jpg', 0)\n",
      "imgDS.imgs       : ('./test_image/apple\\\\freshApple (1).png', 0)\n",
      "imgDS.imgs       : ('./test_image/banana\\\\Banana__Healthy_augmented_21.jpg', 1)\n",
      "imgDS.imgs       : ('./test_image/banana\\\\Banana__Healthy_augmented_22.jpg', 1)\n",
      "imgDS.imgs       : ('./test_image/banana\\\\Banana__Healthy_augmented_23.jpg', 1)\n",
      "imgDS.imgs       : ('./test_image/banana\\\\Banana__Healthy_augmented_24.jpg', 1)\n",
      "imgDS.imgs       : ('./test_image/banana\\\\Banana__Healthy_augmented_26.jpg', 1)\n",
      "imgDS.imgs       : ('./test_image/orange\\\\freshOrange (1).jpg', 2)\n",
      "imgDS.imgs       : ('./test_image/orange\\\\freshOrange (13).jpg', 2)\n",
      "imgDS.imgs       : ('./test_image/orange\\\\freshOrange (17).jpg', 2)\n",
      "imgDS.imgs       : ('./test_image/orange\\\\freshOrange (5).jpg', 2)\n",
      "imgDS.imgs       : ('./test_image/orange\\\\freshOrange (9).jpg', 2)\n",
      "imgDS.imgs       : ('./test_image/strawberry\\\\75.jpg', 3)\n",
      "imgDS.imgs       : ('./test_image/strawberry\\\\76.jpg', 3)\n",
      "imgDS.imgs       : ('./test_image/strawberry\\\\77.jpg', 3)\n",
      "imgDS.imgs       : ('./test_image/strawberry\\\\78.jpg', 3)\n",
      "imgDS.imgs       : ('./test_image/strawberry\\\\79.jpg', 3)\n"
     ]
    }
   ],
   "source": [
    "print(f'imgDS2.classes       : {imgDS.classes}')\n",
    "print(f'imgDS2.class_to_idx  : {imgDS.class_to_idx}')\n",
    "print(f'imgDS2.targets       : {imgDS.targets}')\n",
    "for img in imgDS.imgs:\n",
    "    print(f'imgDS.imgs       : {img}')"
   ]
  },
  {
   "cell_type": "code",
   "execution_count": 9,
   "metadata": {},
   "outputs": [],
   "source": [
    "# imgDL=DataLoader(imgDS, batch_size=32)"
   ]
  },
  {
   "cell_type": "code",
   "execution_count": 10,
   "metadata": {},
   "outputs": [],
   "source": [
    "# train, test 분리\n",
    "\n",
    "# 모듈 로딩\n",
    "from torch.utils.data import random_split\n",
    "trainDS, validDS, testDS = random_split(imgDS, [15, 3, 2])\n",
    "\n",
    "trainDL=DataLoader(trainDS, batch_size=32)\n",
    "validDL=DataLoader(validDS, batch_size=32)\n",
    "testDL=DataLoader(testDS, batch_size=32)"
   ]
  },
  {
   "cell_type": "code",
   "execution_count": 11,
   "metadata": {},
   "outputs": [],
   "source": [
    "# for data, target in imgDL:\n",
    "#     print(data.shape)\n",
    "#     print(target.shape)\n",
    "#     break"
   ]
  },
  {
   "cell_type": "code",
   "execution_count": 12,
   "metadata": {},
   "outputs": [],
   "source": [
    "### 사전학습된 모델 로딩\n",
    "model = models.vgg19(weights=models.VGG19_Weights.IMAGENET1K_V1)"
   ]
  },
  {
   "cell_type": "code",
   "execution_count": 13,
   "metadata": {},
   "outputs": [],
   "source": [
    "### 모델 구조 확인 \n",
    "# print(model)\n",
    "# summary(model)"
   ]
  },
  {
   "cell_type": "code",
   "execution_count": 14,
   "metadata": {},
   "outputs": [],
   "source": [
    "### 사전학습된 모델의 파라미터 비활성화 설정\n",
    "for named, param in model.named_parameters():\n",
    "    # print(f'[{named}] - {param.shape}')\n",
    "    \n",
    "    # 역전파 시에 업데이트 되지 않도록 설정\n",
    "    param.requires_grad=False"
   ]
  },
  {
   "cell_type": "code",
   "execution_count": 15,
   "metadata": {},
   "outputs": [],
   "source": [
    "model.classifier[6] = nn.Sequential(\n",
    "    nn.Linear(4096, 512),\n",
    "    nn.ReLU(),\n",
    "    nn.Dropout(0.5),\n",
    "    nn.Linear(512, 4)\n",
    ")"
   ]
  },
  {
   "cell_type": "code",
   "execution_count": 16,
   "metadata": {},
   "outputs": [
    {
     "name": "stdout",
     "output_type": "stream",
     "text": [
      "VGG(\n",
      "  (features): Sequential(\n",
      "    (0): Conv2d(3, 64, kernel_size=(3, 3), stride=(1, 1), padding=(1, 1))\n",
      "    (1): ReLU(inplace=True)\n",
      "    (2): Conv2d(64, 64, kernel_size=(3, 3), stride=(1, 1), padding=(1, 1))\n",
      "    (3): ReLU(inplace=True)\n",
      "    (4): MaxPool2d(kernel_size=2, stride=2, padding=0, dilation=1, ceil_mode=False)\n",
      "    (5): Conv2d(64, 128, kernel_size=(3, 3), stride=(1, 1), padding=(1, 1))\n",
      "    (6): ReLU(inplace=True)\n",
      "    (7): Conv2d(128, 128, kernel_size=(3, 3), stride=(1, 1), padding=(1, 1))\n",
      "    (8): ReLU(inplace=True)\n",
      "    (9): MaxPool2d(kernel_size=2, stride=2, padding=0, dilation=1, ceil_mode=False)\n",
      "    (10): Conv2d(128, 256, kernel_size=(3, 3), stride=(1, 1), padding=(1, 1))\n",
      "    (11): ReLU(inplace=True)\n",
      "    (12): Conv2d(256, 256, kernel_size=(3, 3), stride=(1, 1), padding=(1, 1))\n",
      "    (13): ReLU(inplace=True)\n",
      "    (14): Conv2d(256, 256, kernel_size=(3, 3), stride=(1, 1), padding=(1, 1))\n",
      "    (15): ReLU(inplace=True)\n",
      "    (16): Conv2d(256, 256, kernel_size=(3, 3), stride=(1, 1), padding=(1, 1))\n",
      "    (17): ReLU(inplace=True)\n",
      "    (18): MaxPool2d(kernel_size=2, stride=2, padding=0, dilation=1, ceil_mode=False)\n",
      "    (19): Conv2d(256, 512, kernel_size=(3, 3), stride=(1, 1), padding=(1, 1))\n",
      "    (20): ReLU(inplace=True)\n",
      "    (21): Conv2d(512, 512, kernel_size=(3, 3), stride=(1, 1), padding=(1, 1))\n",
      "    (22): ReLU(inplace=True)\n",
      "    (23): Conv2d(512, 512, kernel_size=(3, 3), stride=(1, 1), padding=(1, 1))\n",
      "    (24): ReLU(inplace=True)\n",
      "    (25): Conv2d(512, 512, kernel_size=(3, 3), stride=(1, 1), padding=(1, 1))\n",
      "    (26): ReLU(inplace=True)\n",
      "    (27): MaxPool2d(kernel_size=2, stride=2, padding=0, dilation=1, ceil_mode=False)\n",
      "    (28): Conv2d(512, 512, kernel_size=(3, 3), stride=(1, 1), padding=(1, 1))\n",
      "    (29): ReLU(inplace=True)\n",
      "    (30): Conv2d(512, 512, kernel_size=(3, 3), stride=(1, 1), padding=(1, 1))\n",
      "    (31): ReLU(inplace=True)\n",
      "    (32): Conv2d(512, 512, kernel_size=(3, 3), stride=(1, 1), padding=(1, 1))\n",
      "    (33): ReLU(inplace=True)\n",
      "    (34): Conv2d(512, 512, kernel_size=(3, 3), stride=(1, 1), padding=(1, 1))\n",
      "    (35): ReLU(inplace=True)\n",
      "    (36): MaxPool2d(kernel_size=2, stride=2, padding=0, dilation=1, ceil_mode=False)\n",
      "  )\n",
      "  (avgpool): AdaptiveAvgPool2d(output_size=(7, 7))\n",
      "  (classifier): Sequential(\n",
      "    (0): Linear(in_features=25088, out_features=4096, bias=True)\n",
      "    (1): ReLU(inplace=True)\n",
      "    (2): Dropout(p=0.5, inplace=False)\n",
      "    (3): Linear(in_features=4096, out_features=4096, bias=True)\n",
      "    (4): ReLU(inplace=True)\n",
      "    (5): Dropout(p=0.5, inplace=False)\n",
      "    (6): Sequential(\n",
      "      (0): Linear(in_features=4096, out_features=512, bias=True)\n",
      "      (1): ReLU()\n",
      "      (2): Dropout(p=0.5, inplace=False)\n",
      "      (3): Linear(in_features=512, out_features=4, bias=True)\n",
      "    )\n",
      "  )\n",
      ")\n"
     ]
    }
   ],
   "source": [
    "print(model)"
   ]
  },
  {
   "cell_type": "code",
   "execution_count": 17,
   "metadata": {},
   "outputs": [
    {
     "name": "stdout",
     "output_type": "stream",
     "text": [
      "[0.weight] - torch.Size([512, 4096])\n",
      "[0.bias] - torch.Size([512])\n",
      "[3.weight] - torch.Size([4, 512])\n",
      "[3.bias] - torch.Size([4])\n"
     ]
    }
   ],
   "source": [
    "### classifier 파라미터 활성화 설정\n",
    "for named, param in model.classifier[6].named_parameters():\n",
    "    print(f'[{named}] - {param.shape}')\n",
    "    param.requires_grad=True"
   ]
  },
  {
   "cell_type": "code",
   "execution_count": 18,
   "metadata": {},
   "outputs": [],
   "source": [
    "model=model.to(DEVICE)"
   ]
  },
  {
   "cell_type": "code",
   "execution_count": 19,
   "metadata": {},
   "outputs": [],
   "source": [
    "# print(model)"
   ]
  },
  {
   "cell_type": "code",
   "execution_count": 20,
   "metadata": {},
   "outputs": [
    {
     "name": "stderr",
     "output_type": "stream",
     "text": [
      "c:\\Users\\KDP-50\\anaconda3\\envs\\TORCH_CV_38\\lib\\site-packages\\torch\\optim\\lr_scheduler.py:60: UserWarning: The verbose parameter is deprecated. Please use get_last_lr() to access the learning rate.\n",
      "  warnings.warn(\n"
     ]
    }
   ],
   "source": [
    "# 최적화 인스턴스\n",
    "optimizer = torch.optim.Adam(model.classifier[6].parameters(), lr=0.01)\n",
    "\n",
    "# 손실함수 인스턴스\n",
    "loss_func = torch.nn.CrossEntropyLoss()\n",
    "\n",
    "# 최적화 스케쥴링 인스턴스 생성 => lr 조절 및 성능 개선 여부 체크\n",
    "scheduler = lr_scheduler.ReduceLROnPlateau(optimizer, mode='max', patience=5, verbose=True) # score 사용 시\n"
   ]
  },
  {
   "cell_type": "code",
   "execution_count": 21,
   "metadata": {},
   "outputs": [],
   "source": [
    "def train_model(model, loss_func, optimizer, num_epochs=1, is_train=True):\n",
    "    since = time.time()\n",
    "    loss_history = [],[]\n",
    "    acc_history = [],[]\n",
    "    best_acc = 0.0\n",
    "    num_epochs = 5\n",
    "\n",
    "    for epoch in range(num_epochs):\n",
    "        # 학습 모드로 모델 설정\n",
    "        model.train()\n",
    "\n",
    "        print('Epoch {}/{}'.format(epoch+1, num_epochs))\n",
    "        print('-' * 10)\n",
    "\n",
    "        running_corrects = 0\n",
    "        running_loss = 0.0\n",
    "        \n",
    "        score_total = 0\n",
    "\n",
    "        for featureTS, targetTS in trainDL:\n",
    "\n",
    "            # DEVICE : CPU/GPU 사용\n",
    "            featureTS=featureTS.to(DEVICE)\n",
    "            targetTS=targetTS.to(DEVICE)\n",
    "            \n",
    "            # 학습 진행\n",
    "            pre_y = model(featureTS)\n",
    "\n",
    "            # 손실 계산\n",
    "            loss = loss_func(pre_y, targetTS)\n",
    "\n",
    "            # # 예제 점수계산법\n",
    "            _, preds = torch.max(pre_y, 1)\n",
    "\n",
    "            # 성능평가 계산\n",
    "            score=MulticlassF1Score(num_classes=4)(pre_y, targetTS.reshape(-1))\n",
    "            score_total += score.item()\n",
    "\n",
    "            # 최적화 진행\n",
    "            optimizer.zero_grad()\n",
    "            loss.backward()\n",
    "            optimizer.step()\n",
    "\n",
    "            running_corrects += torch.sum(preds == targetTS.data)\n",
    "            running_loss += loss.item() * featureTS.size(0) # loss값 * batch_size\n",
    "\n",
    "        # 검증 모드로 모델 설정\n",
    "        model.eval()\n",
    "\n",
    "        running_val_corrects = 0\n",
    "        running_val_loss = 0.0\n",
    "        \n",
    "        with torch.no_grad():\n",
    "            # 검증 데이터셋\n",
    "            for feature, target in validDL:\n",
    "\n",
    "                # CPU/GPU 사용\n",
    "                feature=feature.to(DEVICE)\n",
    "                target=target.to(DEVICE)\n",
    "\n",
    "                # 평가\n",
    "                pre_val=model(feature)\n",
    "\n",
    "                # 손실\n",
    "                # loss_val=loss_func(pre_val, target.reshape(-1).long())\n",
    "                loss_val=loss_func(pre_val, target)\n",
    "\n",
    "                # 성능평가\n",
    "                # score_val=MulticlassF1Score(num_classes=4)(pre_val, target.reshape(-1))\n",
    "                score_val=MulticlassF1Score(num_classes=4)(pre_val, target)\n",
    "            \n",
    "            running_val_corrects+=score_val.item()\n",
    "            running_val_loss+=loss_val.item()\n",
    "\n",
    "        with torch.no_grad():\n",
    "            # 테스트 데이터셋\n",
    "            for test_feature, test_target in testDL:\n",
    "                test_feature=test_feature.to(DEVICE)\n",
    "                test_target=test_target.to(DEVICE)\n",
    "\n",
    "                # 평가\n",
    "                pre_test=model(test_feature)\n",
    "\n",
    "                # 손실\n",
    "                loss_test=loss_func(pre_test, test_target).to(DEVICE)\n",
    "\n",
    "                # 성능평가\n",
    "                score_test=MulticlassF1Score(num_classes=4).to(DEVICE)(pre_test, test_target)\n",
    "\n",
    "        epoch_acc = running_corrects.double() / len(trainDL)\n",
    "        epoch_loss = running_loss\n",
    "\n",
    "        EPOCH_LOSS = epoch_loss/len(trainDL)\n",
    "        SCORE_LOSS = score_total/len(trainDL)\n",
    "\n",
    "        print('[TRAIN] LOSS: {:.4f} SCORE: {:.4f}'.format(EPOCH_LOSS, SCORE_LOSS)) \n",
    "        print('[VAL] LOSS: {:.4f} SCORE: {:.4f}'.format(running_val_loss, running_val_corrects))\n",
    "        print('[TEST] LOSS: {:.4f} SCORE: {:.4f}'.format(loss_test, score_test))\n",
    "\n",
    "        if epoch_acc > best_acc:\n",
    "            best_acc = epoch_acc\n",
    "\n",
    "        loss_history[0].append(EPOCH_LOSS)        \n",
    "        acc_history[0].append(SCORE_LOSS)\n",
    "\n",
    "        loss_history[1].append(running_val_loss)\n",
    "        acc_history[1].append(running_val_corrects)\n",
    "\n",
    "        ### 모델 저장 부분\n",
    "        # 끝나는 시간 저장\n",
    "        end_time = time.strftime('%y.%m.%d..%H_%M_%S')\n",
    "\n",
    "        FILE_PATH= './YH_models_param'\n",
    "\n",
    "        # 파일 경로 만들기\n",
    "        if not os.path.exists(FILE_PATH):\n",
    "            os.mkdir(FILE_PATH)\n",
    "        else:\n",
    "            pass\n",
    "\n",
    "        # 모델 파라미터 저장\n",
    "        if len(acc_history[1]) == 1:\n",
    "            torch.save(model.state_dict(), os.path.join(FILE_PATH, '{0:0=2d}_{1}.pth'.format(epoch+1, end_time)))\n",
    "        else:\n",
    "            if acc_history[1][-1] > max(acc_history[1][:-1]):\n",
    "                torch.save(model.state_dict(), os.path.join(FILE_PATH, '{0:0=2d}_{1}.pth'.format(epoch+1, end_time)))\n",
    "        print()\n",
    "\n",
    "        # 모델 파라미터 저장\n",
    "        if len(acc_history[1]) == 1:\n",
    "            torch.save(model.state_dict(), os.path.join('./models/', '{0:0=2d}_{1}.pth'.format(epoch+1, end_time)))\n",
    "        else:\n",
    "            if acc_history[1][-1] > max(acc_history[1][:-1]):\n",
    "                torch.save(model.state_dict(), os.path.join('./models/', '{0:0=2d}_{1}.pth'.format(epoch+1, end_time)))\n",
    "        print()\n",
    "\n",
    "        # 모델 경로 지정\n",
    "        SAVE_PATH = './YH_models'\n",
    "\n",
    "        # 파일 경로 만들기\n",
    "        if not os.path.exists(SAVE_PATH):\n",
    "            os.mkdir(SAVE_PATH)\n",
    "        else:\n",
    "            pass\n",
    "        \n",
    "        # 모델 이름 설정\n",
    "        SAVE_MODEL = f'/model_num_loss({epoch_loss:.4f})_score({score_total:.4f})'\n",
    "        \n",
    "\n",
    "        # 모델 전체 저장\n",
    "        if len(acc_history[1]) == 1:\n",
    "            torch.save(model, SAVE_PATH+SAVE_MODEL)\n",
    "        else:\n",
    "            if acc_history[1][-1] > max(acc_history[1][:-1]):\n",
    "                torch.save(model, SAVE_PATH+SAVE_MODEL)\n",
    "\n",
    "        # 최적화 스케쥴러 인스턴스 업데이트\n",
    "        scheduler.step(loss_val)\n",
    "        print(f'scheduler.num_bad_epochs => {scheduler.num_bad_epochs}', end=' ')\n",
    "        print(f'scheduler.patience => {scheduler.patience}')\n",
    "\n",
    "        # 손실 감소(또는 성능 개선)이 안되는 경우 조기종료\n",
    "        if scheduler.num_bad_epochs >= scheduler.patience:\n",
    "            print(f'{scheduler.patience}EPOCH 성능 개선이 없어서 조기종료함')\n",
    "            break\n",
    "\n",
    "    time_elapsed = time.time() - since\n",
    "    print('모델 학습 시간: {:.0f}분 {:.0f}초'.format(time_elapsed // 60, time_elapsed % 60))\n",
    "    return loss_history, acc_history"
   ]
  },
  {
   "cell_type": "code",
   "execution_count": 22,
   "metadata": {},
   "outputs": [
    {
     "name": "stdout",
     "output_type": "stream",
     "text": [
      "Epoch 1/5\n",
      "----------\n",
      "[TRAIN] LOSS: 20.7981 SCORE: 0.1429\n",
      "[VAL] LOSS: 2.2007 SCORE: 0.5000\n",
      "[TEST] LOSS: 2.7522 SCORE: 0.3333\n",
      "\n",
      "\n",
      "scheduler.num_bad_epochs => 0 scheduler.patience => 5\n",
      "Epoch 2/5\n",
      "----------\n",
      "[TRAIN] LOSS: 8.4415 SCORE: 0.8333\n",
      "[VAL] LOSS: 0.0034 SCORE: 1.0000\n",
      "[TEST] LOSS: 0.0000 SCORE: 1.0000\n",
      "\n",
      "\n",
      "scheduler.num_bad_epochs => 1 scheduler.patience => 5\n",
      "Epoch 3/5\n",
      "----------\n",
      "[TRAIN] LOSS: 10.9717 SCORE: 0.7937\n",
      "[VAL] LOSS: 0.0000 SCORE: 1.0000\n",
      "[TEST] LOSS: 0.0000 SCORE: 1.0000\n",
      "\n",
      "\n",
      "scheduler.num_bad_epochs => 2 scheduler.patience => 5\n",
      "Epoch 4/5\n",
      "----------\n",
      "[TRAIN] LOSS: 11.1727 SCORE: 0.9286\n",
      "[VAL] LOSS: 0.0000 SCORE: 1.0000\n",
      "[TEST] LOSS: 0.0000 SCORE: 1.0000\n",
      "\n",
      "\n",
      "scheduler.num_bad_epochs => 3 scheduler.patience => 5\n",
      "Epoch 5/5\n",
      "----------\n",
      "[TRAIN] LOSS: 0.0256 SCORE: 1.0000\n",
      "[VAL] LOSS: 0.0000 SCORE: 1.0000\n",
      "[TEST] LOSS: 0.0000 SCORE: 1.0000\n",
      "\n",
      "\n",
      "scheduler.num_bad_epochs => 4 scheduler.patience => 5\n",
      "모델 학습 시간: 0분 31초\n"
     ]
    }
   ],
   "source": [
    "loss_history, acc_history = train_model(model, loss_func, optimizer, num_epochs=1, is_train=True)"
   ]
  },
  {
   "cell_type": "code",
   "execution_count": 22,
   "metadata": {},
   "outputs": [
    {
     "data": {
      "image/png": "[encoded data removed]",
      "text/plain": [
       "<Figure size 1000x500 with 2 Axes>"
      ]
     },
     "metadata": {},
     "output_type": "display_data"
    }
   ],
   "source": [
    "OpenCV_func.loss_score_plot(loss_history, acc_history, threshold=5)"
   ]
  },
  {
   "cell_type": "code",
   "execution_count": 25,
   "metadata": {},
   "outputs": [
    {
     "name": "stdout",
     "output_type": "stream",
     "text": [
      "[TEST] LOSS: 4.059306621551514 SCORE: 0.3333333432674408\n"
     ]
    }
   ],
   "source": [
    "MulticlassConfusionMatrix()"
   ]
  }
 ],
 "metadata": {
  "kernelspec": {
   "display_name": "TORCH_CV_38",
   "language": "python",
   "name": "python3"
  },
  "language_info": {
   "codemirror_mode": {
    "name": "ipython",
    "version": 3
   },
   "file_extension": ".py",
   "mimetype": "text/x-python",
   "name": "python",
   "nbconvert_exporter": "python",
   "pygments_lexer": "ipython3",
   "version": "3.8.19"
  }
 },
 "nbformat": 4,
 "nbformat_minor": 2
}
