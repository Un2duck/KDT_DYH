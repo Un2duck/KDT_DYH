{
 "cells": [
  {
   "cell_type": "markdown",
   "metadata": {},
   "source": [
    "#### ndarray & tensor의 차원 축소 & 추가\n",
    "- 모델에 입출력 시에 shape 설정을 위해서 필요함"
   ]
  },
  {
   "cell_type": "code",
   "execution_count": 1,
   "metadata": {},
   "outputs": [],
   "source": [
    "## 모듈 로딩\n",
    "import cv2\n",
    "import numpy as np\n",
    "import torch"
   ]
  },
  {
   "cell_type": "code",
   "execution_count": 2,
   "metadata": {},
   "outputs": [
    {
     "data": {
      "text/plain": [
       "((200, 100), 2)"
      ]
     },
     "execution_count": 2,
     "metadata": {},
     "output_type": "execute_result"
    }
   ],
   "source": [
    "## 임의의 데이터 생성\n",
    "data = np.full((200, 100), 7)\n",
    "data.shape, data.ndim"
   ]
  },
  {
   "cell_type": "markdown",
   "metadata": {},
   "source": [
    "- [ 차원 추가 ] <hr>\n",
    "    * Numpy경우 : ndarray.reshape(), np.expand_dims(), np.newaxis\n",
    "    * Pytorch경우 : reshape(), unsqueeze()"
   ]
  },
  {
   "cell_type": "code",
   "execution_count": 3,
   "metadata": {},
   "outputs": [
    {
     "data": {
      "text/plain": [
       "((200, 100, 1), 3)"
      ]
     },
     "execution_count": 3,
     "metadata": {},
     "output_type": "execute_result"
    }
   ],
   "source": [
    "## -------------------------------------------------------------------\n",
    "## numpy 기반\n",
    "## -------------------------------------------------------------------\n",
    "## - 채널 차원을 추가 하기 => 방법1) reshape()\n",
    "data1=data.reshape((200, 100, 1))\n",
    "data1.shape, data1.ndim"
   ]
  },
  {
   "cell_type": "code",
   "execution_count": 8,
   "metadata": {},
   "outputs": [
    {
     "data": {
      "text/plain": [
       "((1, 200, 100), 3)"
      ]
     },
     "execution_count": 8,
     "metadata": {},
     "output_type": "execute_result"
    }
   ],
   "source": [
    "## -------------------------------------------------------------------\n",
    "## numpy 기반\n",
    "## -------------------------------------------------------------------\n",
    "## - 채널 차원을 추가 하기 => 방법2) expand_dims()\n",
    "# data2=np.expand_dims(data, axis=2)\n",
    "data2=np.expand_dims(data, axis=0)\n",
    "data2.shape, data2.ndim"
   ]
  },
  {
   "cell_type": "code",
   "execution_count": 5,
   "metadata": {},
   "outputs": [
    {
     "name": "stdout",
     "output_type": "stream",
     "text": [
      "(200, 100) 2\n"
     ]
    },
    {
     "data": {
      "text/plain": [
       "(200, 100, 1)"
      ]
     },
     "execution_count": 5,
     "metadata": {},
     "output_type": "execute_result"
    }
   ],
   "source": [
    "## -------------------------------------------------------------------\n",
    "## numpy 기반\n",
    "## -------------------------------------------------------------------\n",
    "## - 채널 차원을 추가 하기 => 방법3) np.newaxis \n",
    "print(data.shape, data.ndim)\n",
    "\n",
    "data3=data[:, np.newaxis, :]\n",
    "data3.shape, data3.ndim"
   ]
  },
  {
   "cell_type": "code",
   "execution_count": 9,
   "metadata": {},
   "outputs": [
    {
     "name": "stdout",
     "output_type": "stream",
     "text": [
      "<class 'numpy.ndarray'> (200, 100) 2\n"
     ]
    },
    {
     "data": {
      "text/plain": [
       "torch.Size([200, 100])"
      ]
     },
     "execution_count": 9,
     "metadata": {},
     "output_type": "execute_result"
    }
   ],
   "source": [
    "## -------------------------------------------------------------------\n",
    "## Pytorch 기반\n",
    "## -------------------------------------------------------------------\n",
    "print(type(data), data.shape, data.ndim)\n",
    "\n",
    "dataTS=torch.IntTensor(data)\n",
    "dataTS.shape"
   ]
  },
  {
   "cell_type": "code",
   "execution_count": 11,
   "metadata": {},
   "outputs": [
    {
     "data": {
      "text/plain": [
       "torch.Size([200, 100, 1])"
      ]
     },
     "execution_count": 11,
     "metadata": {},
     "output_type": "execute_result"
    }
   ],
   "source": [
    "## - 채널 차원을 추가 하기 => 방법1)\n",
    "dataTS1=dataTS.reshape((200,100,1))\n",
    "dataTS1.shape"
   ]
  },
  {
   "cell_type": "code",
   "execution_count": 18,
   "metadata": {},
   "outputs": [
    {
     "data": {
      "text/plain": [
       "torch.Size([200, 100])"
      ]
     },
     "execution_count": 18,
     "metadata": {},
     "output_type": "execute_result"
    }
   ],
   "source": [
    "## - 채널 차원을 추가 하기 => 방법2) unsqueeze(dim=숫자)\n",
    "dataTS2=dataTS.unsqueeze(dim=0)\n",
    "dataTS.shape\n",
    "\n",
    "# dataTS2=dataTS.unsqueeze(dim=3) # 범위를 벗어나면 에러"
   ]
  },
  {
   "cell_type": "markdown",
   "metadata": {},
   "source": [
    "- [ shape 변경 ] <hr>\n",
    "    * Numpy경우 : T 속성, transpose()\n",
    "    * Pytorch경우 : T 속성, transpose(), permute()"
   ]
  },
  {
   "cell_type": "code",
   "execution_count": 43,
   "metadata": {},
   "outputs": [
    {
     "data": {
      "text/plain": [
       "torch.Size([200, 100])"
      ]
     },
     "execution_count": 43,
     "metadata": {},
     "output_type": "execute_result"
    }
   ],
   "source": [
    "dataTS3=dataTS.unsqueeze(dim=2)\n",
    "dataTS.shape"
   ]
  },
  {
   "cell_type": "code",
   "execution_count": 13,
   "metadata": {},
   "outputs": [
    {
     "name": "stdout",
     "output_type": "stream",
     "text": [
      "torch.Size([1, 200, 100])\n"
     ]
    }
   ],
   "source": [
    "## - shape 변경 => 방법1) 속성 T, transpose(), permute()\n",
    "print(dataTS2.shape)"
   ]
  },
  {
   "cell_type": "code",
   "execution_count": 16,
   "metadata": {},
   "outputs": [
    {
     "name": "stdout",
     "output_type": "stream",
     "text": [
      "(100, 200, 1)\n"
     ]
    }
   ],
   "source": [
    "print(data2.T.shape)"
   ]
  },
  {
   "cell_type": "code",
   "execution_count": 44,
   "metadata": {},
   "outputs": [
    {
     "name": "stdout",
     "output_type": "stream",
     "text": [
      "torch.Size([1, 100, 200])\n"
     ]
    }
   ],
   "source": [
    "## - shape 변경 => 방법2) transpose() : 2개의 축 원하는 축 위치로 변경\n",
    "print(dataTS2.transpose(1,2).shape)\n",
    "# print(dataTS3.transpose(1,3).shape)"
   ]
  },
  {
   "cell_type": "code",
   "execution_count": 22,
   "metadata": {},
   "outputs": [
    {
     "name": "stdout",
     "output_type": "stream",
     "text": [
      "torch.Size([100, 1, 200])\n"
     ]
    }
   ],
   "source": [
    "## - shape 변경 => 방법2) permute() : 모든 축을 원하는 축 위치로 변경\n",
    "print(dataTS2.permute(2,0,1).shape)\n",
    "print(dataTS3.permute(1,0,3,2).shape)"
   ]
  },
  {
   "cell_type": "markdown",
   "metadata": {},
   "source": [
    "- [ 차원 제거 ] <hr>\n",
    "    * Numpy경우 : reshape(), squeeze()\n",
    "    * Pytorch경우 : reshape(), squeeze()"
   ]
  },
  {
   "cell_type": "code",
   "execution_count": 34,
   "metadata": {},
   "outputs": [
    {
     "name": "stdout",
     "output_type": "stream",
     "text": [
      "(200, 100, 1)\n",
      "(200, 1, 100, 1)\n"
     ]
    }
   ],
   "source": [
    "# ------------------------------------------------------------------------------------------\n",
    "#### Numpy 경우\n",
    "# ------------------------------------------------------------------------------------------\n",
    "data2 = np.expand_dims(data, axis=2)\n",
    "data3 = np.expand_dims(data2, axis=1)\n",
    "\n",
    "print(data2.shape)\n",
    "print(data3.shape)"
   ]
  },
  {
   "cell_type": "code",
   "execution_count": 35,
   "metadata": {},
   "outputs": [
    {
     "name": "stdout",
     "output_type": "stream",
     "text": [
      "(200, 100)\n",
      "(200, 100)\n"
     ]
    }
   ],
   "source": [
    "# 1차원 축 제거 => 방법1) reshape()\n",
    "print(data2.reshape((200, -1)).shape)\n",
    "print(data3.reshape((200, -1)).shape)"
   ]
  },
  {
   "cell_type": "code",
   "execution_count": 42,
   "metadata": {},
   "outputs": [
    {
     "name": "stdout",
     "output_type": "stream",
     "text": [
      "(200, 100)\n",
      "(200, 100)\n",
      "(200, 1, 100, 1)\n",
      "(200, 100, 1)\n"
     ]
    }
   ],
   "source": [
    "# 1차원 축 제거 => 방법2) squeeze() : 1차원 축 제거 \n",
    "print(data2.squeeze().shape)\n",
    "print(data3.squeeze().shape)\n",
    "print(data3.shape)\n",
    "print(data3.squeeze(axis=1).shape)\n",
    "# print(data3.squeeze(axis=2).shape) # ValueError: cannot select an axis to squeeze out which has size not equal to one"
   ]
  },
  {
   "cell_type": "code",
   "execution_count": 46,
   "metadata": {},
   "outputs": [
    {
     "name": "stdout",
     "output_type": "stream",
     "text": [
      "torch.Size([200, 100, 1])\n",
      "torch.Size([200, 1, 100, 1])\n"
     ]
    }
   ],
   "source": [
    "# ------------------------------------------------------------------------------------------\n",
    "#### Pytorch 경우\n",
    "# ------------------------------------------------------------------------------------------\n",
    "data2 = np.expand_dims(data, axis=2)\n",
    "data3 = np.expand_dims(data2, axis=1)\n",
    "\n",
    "dataTS2=torch.IntTensor(data2)\n",
    "dataTS3=torch.IntTensor(data3)\n",
    "\n",
    "print(dataTS2.shape)\n",
    "print(dataTS3.shape)"
   ]
  },
  {
   "cell_type": "code",
   "execution_count": 47,
   "metadata": {},
   "outputs": [
    {
     "name": "stdout",
     "output_type": "stream",
     "text": [
      "torch.Size([200, 100])\n",
      "torch.Size([200, 100])\n"
     ]
    }
   ],
   "source": [
    "# 1차원 축 제거 => 방법1) reshape()\n",
    "print(dataTS2.reshape((200, -1)).shape)\n",
    "print(dataTS3.reshape((200, -1)).shape)"
   ]
  },
  {
   "cell_type": "code",
   "execution_count": 50,
   "metadata": {},
   "outputs": [
    {
     "name": "stdout",
     "output_type": "stream",
     "text": [
      "torch.Size([200, 100])\n",
      "torch.Size([200, 100])\n",
      "torch.Size([200, 1, 100, 1])\n",
      "torch.Size([200, 100, 1])\n",
      "torch.Size([200, 1, 100, 1])\n"
     ]
    }
   ],
   "source": [
    "# 1차원 축 제거 => 방법2) squeeze() : 1차원 축 제거 \n",
    "print(dataTS2.squeeze().shape)\n",
    "print(dataTS3.squeeze().shape)\n",
    "print(dataTS3.shape)\n",
    "print(dataTS3.squeeze(dim=1).shape)\n",
    "print(dataTS3.squeeze(dim=2).shape) # 에러x, 안지워질뿐"
   ]
  },
  {
   "cell_type": "code",
   "execution_count": 54,
   "metadata": {},
   "outputs": [
    {
     "name": "stdout",
     "output_type": "stream",
     "text": [
      "torch.Size([200, 100])\n"
     ]
    }
   ],
   "source": [
    "### Pytorch에서 메서드의 경우 메서드명_() : 원본 텐서에 적용. 즉, pandas의 inplace=True 역할을 함\n",
    "print(dataTS3.squeeze_(dim=1).shape)"
   ]
  },
  {
   "cell_type": "code",
   "execution_count": null,
   "metadata": {},
   "outputs": [],
   "source": []
  }
 ],
 "metadata": {
  "kernelspec": {
   "display_name": "TORCH_CV_38",
   "language": "python",
   "name": "python3"
  },
  "language_info": {
   "codemirror_mode": {
    "name": "ipython",
    "version": 3
   },
   "file_extension": ".py",
   "mimetype": "text/x-python",
   "name": "python",
   "nbconvert_exporter": "python",
   "pygments_lexer": "ipython3",
   "version": "3.8.19"
  }
 },
 "nbformat": 4,
 "nbformat_minor": 2
}
