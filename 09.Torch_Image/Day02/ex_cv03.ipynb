{
 "cells": [
  {
   "cell_type": "markdown",
   "metadata": {},
   "source": [
    "#### 이미지 Drawing\n",
    "- 이미지, 객체 ndarray 준비 필요"
   ]
  },
  {
   "cell_type": "code",
   "execution_count": 1,
   "metadata": {},
   "outputs": [],
   "source": [
    "# 모듈 로딩\n",
    "import cv2\n",
    "import numpy as np"
   ]
  },
  {
   "cell_type": "code",
   "execution_count": 2,
   "metadata": {},
   "outputs": [],
   "source": [
    "# 데이터 관련 변수 설정\n",
    "DIR_PATH = '../image/'"
   ]
  },
  {
   "cell_type": "code",
   "execution_count": 8,
   "metadata": {},
   "outputs": [
    {
     "data": {
      "text/plain": [
       "True"
      ]
     },
     "execution_count": 8,
     "metadata": {},
     "output_type": "execute_result"
    }
   ],
   "source": [
    "# 이미지 객체\n",
    "bg_data=np.full((500, 500, 3), 0)\n",
    "\n",
    "# 이미지 파일 생성\n",
    "BG_FILE = DIR_PATH+'black.jpg'\n",
    "cv2.imwrite(BG_FILE, bg_data)\n",
    "\n",
    "# print(bg_data)"
   ]
  },
  {
   "cell_type": "code",
   "execution_count": 17,
   "metadata": {},
   "outputs": [
    {
     "data": {
      "text/plain": [
       "((500, 500, 3), 3)"
      ]
     },
     "execution_count": 17,
     "metadata": {},
     "output_type": "execute_result"
    }
   ],
   "source": [
    "# 도화지 이미지 가져오기\n",
    "BG_FILE = DIR_PATH+'white.jpg'\n",
    "white_bg=cv2.imread(BG_FILE)\n",
    "white_bg.shape, white_bg.ndim"
   ]
  },
  {
   "cell_type": "code",
   "execution_count": 21,
   "metadata": {},
   "outputs": [],
   "source": [
    "# 선 그리기\n",
    "cv2.line(white_bg, (50, 50), (250, 250), (255, 0, 0), 5)\n",
    "cv2.line(white_bg, (100, 50), (350, 250), (255, 255, 0), 5)\n",
    "cv2.line(white_bg, (250, 0), (250, 450), (150, 150, 0), 5)\n",
    "cv2.imshow('DRAWING', white_bg)\n",
    "cv2.waitKey()\n",
    "cv2.destroyAllWindows()"
   ]
  },
  {
   "cell_type": "code",
   "execution_count": 25,
   "metadata": {},
   "outputs": [],
   "source": [
    "# 사각형 그리기\n",
    "cv2.rectangle(white_bg, (50, 50), (100, 120), (0, 155, 255), 10)\n",
    "cv2.rectangle(white_bg, (50, 100), (150, 250), 0, 10)\n",
    "cv2.rectangle(white_bg, (100, 100), (200, 200), (0, 0, 255), -1)\n",
    "cv2.imshow('DRAWING', white_bg)\n",
    "cv2.waitKey()\n",
    "cv2.destroyAllWindows()"
   ]
  },
  {
   "cell_type": "code",
   "execution_count": null,
   "metadata": {},
   "outputs": [],
   "source": []
  }
 ],
 "metadata": {
  "kernelspec": {
   "display_name": "TORCH_CV_38",
   "language": "python",
   "name": "python3"
  },
  "language_info": {
   "codemirror_mode": {
    "name": "ipython",
    "version": 3
   },
   "file_extension": ".py",
   "mimetype": "text/x-python",
   "name": "python",
   "nbconvert_exporter": "python",
   "pygments_lexer": "ipython3",
   "version": "3.8.19"
  }
 },
 "nbformat": 4,
 "nbformat_minor": 2
}
