{
 "cells": [
  {
   "cell_type": "markdown",
   "metadata": {},
   "source": [
    "### 클래스 속성들\n",
    "- OOP(객체지향언어) 특징\n",
    "    * 상속\n",
    "    * 다형성\n",
    "    * 캡슐화 => 속성이 외부에 비공개, 즉 직접 속성 접근 불가, 간접 속성 접근 가능\n",
    "        - 간접 속성 접근 방법 : getter/setter 메서드\n",
    "    "
   ]
  },
  {
   "cell_type": "code",
   "execution_count": 23,
   "metadata": {},
   "outputs": [],
   "source": [
    "class Person:\n",
    "    # 클래스 변수 :\n",
    "    # - Person 클래스로 생성된 인스턴스들의 공유 변수\n",
    "    # - 인스턴스 생성 없이 사용 가능 변수\n",
    "    loc = 'korea'\n",
    "\n",
    "    # 인스턴스 생성 메서드, 즉 생성자 메서드(Constructor)\n",
    "    def __init__(self, name, age, gender):\n",
    "        self.name=name\n",
    "        self.age=age\n",
    "        self.__gender=gender    # 비공개 속성 즉, 인스턴스 변수명으로 직접 접근 불가\n",
    "\n",
    "    # 비공개 인스턴스 간접 접근 메서드 => get 속성명(), set속성명(샤로운값) : getter/setter 메서드\n",
    "    def getGender(self):\n",
    "        return self.__gender\n",
    "    \n",
    "    def setGender(self, gender):\n",
    "        self.__gender = gender"
   ]
  },
  {
   "cell_type": "code",
   "execution_count": 24,
   "metadata": {},
   "outputs": [
    {
     "data": {
      "text/plain": [
       "'korea'"
      ]
     },
     "execution_count": 24,
     "metadata": {},
     "output_type": "execute_result"
    }
   ],
   "source": [
    "Person.loc"
   ]
  },
  {
   "cell_type": "code",
   "execution_count": 25,
   "metadata": {},
   "outputs": [
    {
     "data": {
      "text/plain": [
       "('마징가', 'korea')"
      ]
     },
     "execution_count": 25,
     "metadata": {},
     "output_type": "execute_result"
    }
   ],
   "source": [
    "p1=Person('마징가', 10, '남')\n",
    "p1.name, p1.loc"
   ]
  },
  {
   "cell_type": "code",
   "execution_count": 26,
   "metadata": {},
   "outputs": [
    {
     "data": {
      "text/plain": [
       "('마징가', 'korea', 'korea', 'korea')"
      ]
     },
     "execution_count": 26,
     "metadata": {},
     "output_type": "execute_result"
    }
   ],
   "source": [
    "p1=Person('마징가', 10, '남')\n",
    "p2=Person('홍길동', 20, '여')\n",
    "p1.name, p1.loc, p2.loc, Person.loc"
   ]
  },
  {
   "cell_type": "code",
   "execution_count": 27,
   "metadata": {},
   "outputs": [
    {
     "name": "stdout",
     "output_type": "stream",
     "text": [
      "남\n"
     ]
    }
   ],
   "source": [
    "# 인스턴스 변수 속성 변경\n",
    "p1.name='원더우먼'\n",
    "# print(p1.__gender) # 직접 접근 불가\n",
    "print(p1.getGender()) # 간접 접근 메서드 사용 (getter)"
   ]
  },
  {
   "cell_type": "code",
   "execution_count": 28,
   "metadata": {},
   "outputs": [],
   "source": [
    "p1.setGender('여') # 간접 접근 메서드 사용 (setter)"
   ]
  },
  {
   "cell_type": "code",
   "execution_count": 29,
   "metadata": {},
   "outputs": [
    {
     "name": "stdout",
     "output_type": "stream",
     "text": [
      "여\n"
     ]
    }
   ],
   "source": [
    "print(p1.getGender())"
   ]
  },
  {
   "cell_type": "code",
   "execution_count": null,
   "metadata": {},
   "outputs": [],
   "source": []
  }
 ],
 "metadata": {
  "kernelspec": {
   "display_name": "TORCH_CV_38",
   "language": "python",
   "name": "python3"
  },
  "language_info": {
   "codemirror_mode": {
    "name": "ipython",
    "version": 3
   },
   "file_extension": ".py",
   "mimetype": "text/x-python",
   "name": "python",
   "nbconvert_exporter": "python",
   "pygments_lexer": "ipython3",
   "version": "3.8.19"
  }
 },
 "nbformat": 4,
 "nbformat_minor": 2
}
