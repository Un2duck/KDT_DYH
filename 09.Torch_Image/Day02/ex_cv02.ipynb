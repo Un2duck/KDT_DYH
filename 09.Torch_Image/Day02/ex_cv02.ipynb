{
 "cells": [
  {
   "cell_type": "markdown",
   "metadata": {},
   "source": [
    "#### 이미지 데이터 처리\n",
    "- 채널 관련\n",
    "    - 컬러 : 3개 채널 => (H, W, C) => (H, W, 3) 행, 열, 채널\n",
    "    - 흑백 : 1개 채널 => (H, W, C) => (H, W)"
   ]
  },
  {
   "cell_type": "code",
   "execution_count": 5,
   "metadata": {},
   "outputs": [],
   "source": [
    "## 모듈 로딩\n",
    "import cv2\n",
    "import numpy as np\n",
    "import time"
   ]
  },
  {
   "cell_type": "markdown",
   "metadata": {},
   "source": [
    "#### Video 처리\n",
    "- cv2.VideoCapture(동영상 또는 카메라 번호) 함수"
   ]
  },
  {
   "cell_type": "code",
   "execution_count": 6,
   "metadata": {},
   "outputs": [],
   "source": [
    "## 데이터 및 디바이스 설정\n",
    "DIR_PATH = '../image/'\n",
    "\n",
    "CAM_DEVICE = 0\n",
    "# CAM_FILE = 'mp4' # 존재한다면,\n",
    "\n",
    "SAVE_FILE = f'capture_{time.time()}.jpg'"
   ]
  },
  {
   "cell_type": "code",
   "execution_count": 7,
   "metadata": {},
   "outputs": [
    {
     "data": {
      "text/plain": [
       "('Sat Sep 28 15-46-07 2024',\n",
       " 1727505967.7106216,\n",
       " '46_09/28/24_07',\n",
       " time.struct_time(tm_year=2024, tm_mon=9, tm_mday=28, tm_hour=6, tm_min=46, tm_sec=7, tm_wday=5, tm_yday=272, tm_isdst=0))"
      ]
     },
     "execution_count": 7,
     "metadata": {},
     "output_type": "execute_result"
    }
   ],
   "source": [
    "time.ctime().replace(':','-'), time.time(), time.strftime('%M_%D_%S'), time.gmtime()"
   ]
  },
  {
   "cell_type": "code",
   "execution_count": 16,
   "metadata": {},
   "outputs": [
    {
     "data": {
      "text/plain": [
       "'24.09.28..15_46_44'"
      ]
     },
     "execution_count": 16,
     "metadata": {},
     "output_type": "execute_result"
    }
   ],
   "source": [
    "# 현재 날짜 시간 정보 저장 인스턴스\n",
    "cur_time = time.localtime()\n",
    "# print(cur_time.tm_year, cur_time.tm_mon, cur_time.tm_mday, cur_time.tm_hour, cur_time.tm_min, cur_time.tm_sec)\n",
    "\n",
    "# time.strftime('%y.%m.%d %H_%M_%S', cur_time)\n",
    "time.strftime('%y.%m.%d..%H_%M_%S')"
   ]
  },
  {
   "cell_type": "markdown",
   "metadata": {},
   "source": [
    "- [카메라 관련 영상 처리]"
   ]
  },
  {
   "cell_type": "code",
   "execution_count": 8,
   "metadata": {},
   "outputs": [
    {
     "name": "stdout",
     "output_type": "stream",
     "text": [
      "영상 재생 정지!\n"
     ]
    }
   ],
   "source": [
    "# 카메라와 연결 여부 체크\n",
    "cam=cv2.VideoCapture(CAM_DEVICE)\n",
    "\n",
    "if cam.isOpened():\n",
    "    while True:\n",
    "        ret, img = cam.read()\n",
    "        if ret:\n",
    "            cv2.imshow('VIDEO', img)\n",
    "            if cv2.waitKey(10) != -1: \n",
    "                print('영상 재생 정지!')\n",
    "                SAVE_FILE = f'capture_{time.strftime('%y.%m.%d %H_%M_%S', cur_time)}.jpg'\n",
    "                cv2.imwrite(DIR_PATH+SAVE_FILE, img)\n",
    "                cv2.destroyAllWindows()\n",
    "                break\n",
    "\n",
    "        else:\n",
    "            print('영상 읽기 실패!')\n",
    "\n",
    "else:\n",
    "    print('카메라 연결 여부 체크 요망!')"
   ]
  },
  {
   "cell_type": "code",
   "execution_count": null,
   "metadata": {},
   "outputs": [],
   "source": []
  }
 ],
 "metadata": {
  "kernelspec": {
   "display_name": "TORCH_CV_38",
   "language": "python",
   "name": "python3"
  },
  "language_info": {
   "codemirror_mode": {
    "name": "ipython",
    "version": 3
   },
   "file_extension": ".py",
   "mimetype": "text/x-python",
   "name": "python",
   "nbconvert_exporter": "python",
   "pygments_lexer": "ipython3",
   "version": "3.8.19"
  }
 },
 "nbformat": 4,
 "nbformat_minor": 2
}
