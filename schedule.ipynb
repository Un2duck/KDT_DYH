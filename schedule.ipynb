{
 "cells": [
  {
   "cell_type": "code",
   "execution_count": 1,
   "metadata": {},
   "outputs": [],
   "source": [
    "# 1) 시, 분, 초 단위로 실행\n",
    "\n",
    "# # 5초에 한번씩 함수 실행\n",
    "# schedule.every(5).seconds.do(함수)\n",
    "\n",
    "# # 10분에 한번씩 함수 실행\n",
    "# schedule.every(10).minutes.do(함수)\n",
    "\n",
    "# # 2시간에 한번씩 함수 실행\n",
    "# schedule.every(2).hour.do(함수)"
   ]
  },
  {
   "cell_type": "code",
   "execution_count": 2,
   "metadata": {},
   "outputs": [],
   "source": [
    "# 2) 일, 주 단위로 실행\n",
    "\n",
    "# # 3일에 한번씩 함수 실행\n",
    "# schedule.every(3).days.do(함수)\n",
    "\n",
    "# # 2주에 한번씩 함수 실행\n",
    "# schedule.every(2).weeks.do(함수)"
   ]
  },
  {
   "cell_type": "code",
   "execution_count": 3,
   "metadata": {},
   "outputs": [],
   "source": [
    "# 3) 매일 정해진 시각에 실행\n",
    "\n",
    "# # 매일 13시 30분에 함수 실행\n",
    "# schedule.every().day.at(\"13:30\").do(함수)\n",
    "\n",
    "# # 매일 \"11:11:11\"에 함수 실행\n",
    "# schedule.every().day.at(\"11:11:11\").do(함수)"
   ]
  },
  {
   "cell_type": "code",
   "execution_count": 4,
   "metadata": {},
   "outputs": [],
   "source": [
    "# 4) 매주 정해진 요일의 특정 시각에 실행 (monday, tuesday, wednesday, thursday, friday, saturday, sunday)\n",
    "\n",
    "# 매주 월요일 13시 30분에 함수 실행\n",
    "# schedule.every().monday.at(\"13:30\").do(함수)"
   ]
  },
  {
   "cell_type": "code",
   "execution_count": 5,
   "metadata": {},
   "outputs": [],
   "source": [
    "# # 4. schedule 패키지 실행\n",
    "# # step1.관련 패키지 및 모듈 import\n",
    "# import schedule\n",
    "# import time\n",
    "\n",
    "# # step2.실행할 함수 선언\n",
    "# def message():\n",
    "#     print(\"스케쥴 실행중...\")\n",
    "\n",
    "# # step3.실행 주기 설정\n",
    "# schedule.every(1).seconds.do(message)\n",
    "\n",
    "# # step4.스캐쥴 시작\n",
    "# while True:\n",
    "#     schedule.run_pending()\n",
    "#     time.sleep(1)"
   ]
  },
  {
   "cell_type": "code",
   "execution_count": 6,
   "metadata": {},
   "outputs": [],
   "source": [
    "# 5. 인자를 받는 함수 사용법\n",
    "\n",
    "# text라는 파라미터가 존재하여, 실제 사용 시엔 인자를 받아야함\n",
    "\n",
    "# def message2(text):\n",
    "#     print(text)\n",
    "\n",
    "# # 사용방법\n",
    "# schedule.every(2).seconds.do(message2,'2초마다 알려줄게요')"
   ]
  },
  {
   "cell_type": "code",
   "execution_count": 8,
   "metadata": {},
   "outputs": [
    {
     "name": "stdout",
     "output_type": "stream",
     "text": [
      "2초마다 알려줄게요\n",
      "스케쥴 실행중...\n",
      "2초마다 알려줄게요\n",
      "스케쥴 실행중...\n",
      "스케쥴 실행중...\n",
      "2초마다 알려줄게요\n",
      "스케쥴 실행중...\n",
      "스케쥴 실행중...\n",
      "2초마다 알려줄게요\n",
      "2초마다 알려줄게요\n",
      "2초마다 알려줄게요\n",
      "2초마다 알려줄게요\n",
      "2초마다 알려줄게요\n"
     ]
    },
    {
     "ename": "KeyboardInterrupt",
     "evalue": "",
     "output_type": "error",
     "traceback": [
      "\u001b[1;31m---------------------------------------------------------------------------\u001b[0m",
      "\u001b[1;31mKeyboardInterrupt\u001b[0m                         Traceback (most recent call last)",
      "Cell \u001b[1;32mIn[8], line 34\u001b[0m\n\u001b[0;32m     31\u001b[0m \u001b[38;5;28;01mwhile\u001b[39;00m \u001b[38;5;28;01mTrue\u001b[39;00m:\n\u001b[0;32m     33\u001b[0m     schedule\u001b[38;5;241m.\u001b[39mrun_pending()\n\u001b[1;32m---> 34\u001b[0m     \u001b[43mtime\u001b[49m\u001b[38;5;241;43m.\u001b[39;49m\u001b[43msleep\u001b[49m\u001b[43m(\u001b[49m\u001b[38;5;241;43m1\u001b[39;49m\u001b[43m)\u001b[49m\n\u001b[0;32m     36\u001b[0m     count \u001b[38;5;241m=\u001b[39m count \u001b[38;5;241m+\u001b[39m \u001b[38;5;241m1\u001b[39m\n\u001b[0;32m     38\u001b[0m     \u001b[38;5;28;01mif\u001b[39;00m count \u001b[38;5;241m>\u001b[39m \u001b[38;5;241m5\u001b[39m:\n",
      "\u001b[1;31mKeyboardInterrupt\u001b[0m: "
     ]
    }
   ],
   "source": [
    "# 6. schedule 중지하는 법\n",
    "\n",
    "# 제가 아는한 schedule을 중지하는 법은 크게 3가지 입니다.\n",
    "# while문에 조건을 걸어서 무한루프를 종료시키고 파이썬 파일을 종료한다.\n",
    "\n",
    "# sys 모듈의 exit( ) 함수로 파이썬 파일을 강제 종료\n",
    "\n",
    "# 3. schedule 패키지의 cancel_job( ) 함수 사용\n",
    "# 제가 이번 시간에 알려드릴 방법은 세번째 방법인 cancel_job( ) 함수입니다.\n",
    "# 추가적인 모듈을 import할 필요도 없고, 주기 설정한 함수 별로 종료할 수 있기 때문입니다.\n",
    "\n",
    "# 코드는 아래와 같습니다.\n",
    "# 여기서 주목할 점은 설정한 주기를 변수(job1, job2)에 넣어주었고, 이 job들을 cancel_job( )의 인자로 넣어 준다는 것입니다.\n",
    "\n",
    "# 바로 실행 시켜보겠습니다.\n",
    "\n",
    "import schedule\n",
    "import time\n",
    "\n",
    "def message1():\n",
    "    print(\"스케쥴 실행중...\")\n",
    "\n",
    "def message2(text):\n",
    "    print(text)\n",
    "\n",
    "# 주기 설정\n",
    "job1 = schedule.every(1).seconds.do(message1)\n",
    "# job2 = schedule.every(2).seconds.do(message2,'2초마다 알려줄게요')\n",
    "\n",
    "count = 0\n",
    "while True:\n",
    "\n",
    "    schedule.run_pending()\n",
    "    time.sleep(1)\n",
    "\n",
    "    count = count + 1\n",
    "\n",
    "    if count > 5:\n",
    "        schedule.cancel_job(job1)\n",
    "    "
   ]
  },
  {
   "cell_type": "code",
   "execution_count": 16,
   "metadata": {},
   "outputs": [
    {
     "data": {
      "text/plain": [
       "'10월 20일 00시 58분'"
      ]
     },
     "execution_count": 16,
     "metadata": {},
     "output_type": "execute_result"
    }
   ],
   "source": [
    "time.strftime('%m월 %d일 %H시 %M분')"
   ]
  },
  {
   "cell_type": "code",
   "execution_count": 19,
   "metadata": {},
   "outputs": [
    {
     "name": "stdout",
     "output_type": "stream",
     "text": [
      "2초마다 알려줄게요\n",
      "2초마다 알려줄게요\n",
      "2초마다 알려줄게요\n",
      "2초마다 알려줄게요\n",
      "2초마다 알려줄게요\n",
      "2초마다 알려줄게요\n",
      "2초마다 알려줄게요\n",
      "2초마다 알려줄게요\n",
      "2초마다 알려줄게요\n",
      "2초마다 알려줄게요\n"
     ]
    }
   ],
   "source": [
    "while True:\n",
    "\n",
    "    if time.strftime('%m월 %d일 %H시 %M분') == '10월 20일 8시 00분':\n",
    "        break"
   ]
  },
  {
   "cell_type": "code",
   "execution_count": null,
   "metadata": {},
   "outputs": [],
   "source": []
  }
 ],
 "metadata": {
  "kernelspec": {
   "display_name": "NLP_TORCH",
   "language": "python",
   "name": "python3"
  },
  "language_info": {
   "codemirror_mode": {
    "name": "ipython",
    "version": 3
   },
   "file_extension": ".py",
   "mimetype": "text/x-python",
   "name": "python",
   "nbconvert_exporter": "python",
   "pygments_lexer": "ipython3",
   "version": "3.8.19"
  }
 },
 "nbformat": 4,
 "nbformat_minor": 2
}
