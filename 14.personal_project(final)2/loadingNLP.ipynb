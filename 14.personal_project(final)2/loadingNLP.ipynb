{
 "cells": [
  {
   "cell_type": "code",
   "execution_count": 1,
   "metadata": {},
   "outputs": [],
   "source": [
    "# 모듈 로딩\n",
    "import torch\n",
    "from torchinfo import summary\n",
    "from sklearn.feature_extraction.text import TfidfVectorizer\n",
    "import joblib\n",
    "\n",
    "# 경로 지정 모듈 로딩\n",
    "import sys\n",
    "sys.path.append(r'C:\\Users\\KDP-50\\OneDrive\\바탕 화면\\KDT_DYH\\14.personal_project(final)2')\n",
    "\n",
    "import os\n",
    "from NLP_Class import LSTMClassifier"
   ]
  },
  {
   "cell_type": "code",
   "execution_count": 2,
   "metadata": {},
   "outputs": [],
   "source": [
    "def check_path(path):\n",
    "    if os.path.exists(path):\n",
    "        print(f'{path} 경로가 존재.')\n",
    "    else:\n",
    "        print(f'{path} 경로가 존재 X, 재설정 요')"
   ]
  },
  {
   "cell_type": "code",
   "execution_count": 3,
   "metadata": {},
   "outputs": [
    {
     "name": "stdout",
     "output_type": "stream",
     "text": [
      "./LSTM/ 경로가 존재.\n",
      "./LSTM/LSTM_9_loss(0.05198).pth 경로가 존재.\n"
     ]
    }
   ],
   "source": [
    "# 저장 경로\n",
    "SAVE_PATH='./LSTM/'\n",
    "SAVE_MODEL=SAVE_PATH+'LSTM_9_loss(0.05198).pth'\n",
    "\n",
    "check_path(SAVE_PATH)\n",
    "check_path(SAVE_MODEL)"
   ]
  },
  {
   "cell_type": "code",
   "execution_count": 4,
   "metadata": {},
   "outputs": [],
   "source": [
    "NLP_model=torch.load(SAVE_MODEL, weights_only=False)"
   ]
  },
  {
   "cell_type": "code",
   "execution_count": 5,
   "metadata": {},
   "outputs": [
    {
     "name": "stdout",
     "output_type": "stream",
     "text": [
      "LSTMClassifier(\n",
      "  (lstm): LSTM(5000, 128, batch_first=True)\n",
      "  (fc): Linear(in_features=128, out_features=2, bias=True)\n",
      ")\n"
     ]
    }
   ],
   "source": [
    "print(NLP_model)"
   ]
  },
  {
   "cell_type": "code",
   "execution_count": 6,
   "metadata": {},
   "outputs": [
    {
     "data": {
      "text/plain": [
       "=================================================================\n",
       "Layer (type:depth-idx)                   Param #\n",
       "=================================================================\n",
       "LSTMClassifier                           --\n",
       "├─LSTM: 1-1                              2,626,560\n",
       "├─Linear: 1-2                            258\n",
       "=================================================================\n",
       "Total params: 2,626,818\n",
       "Trainable params: 2,626,818\n",
       "Non-trainable params: 0\n",
       "================================================================="
      ]
     },
     "execution_count": 6,
     "metadata": {},
     "output_type": "execute_result"
    }
   ],
   "source": [
    "summary(NLP_model)"
   ]
  },
  {
   "cell_type": "markdown",
   "metadata": {},
   "source": [
    "- 모델 테스트"
   ]
  },
  {
   "cell_type": "code",
   "execution_count": 7,
   "metadata": {},
   "outputs": [],
   "source": [
    "# 1. 테스트용 데이터\n",
    "\n",
    "sample_texts = [\n",
    "    \"안녕하세요 배송이 되지 않아서요 배송이 되는걸까요? 배송이 된다면 택배사와 송장번호 알려주세요.\",\n",
    "    \"일요일에 주문한걸 수요일까지 발송도 안해놓구 배송지연으로 취소하니 목요일에서야 답변으로 오늘 출고예정이라며 이미 배송시작이라고 취소 불가라니 조회해보니 발송예정인데 어이없네요\",\n",
    "    \"레고 정품 아니고 중국제 짭입니다 박스사진만 저렇게 해놓고 내용물은 짭입니다 이건 사기 입니다.\",\n",
    "    \"상품 가격은 올려놓고 출고가 늦어질 것 같아서 취소한다니 기분이 영 그렇네요\"\n",
    "]"
   ]
  },
  {
   "cell_type": "code",
   "execution_count": 8,
   "metadata": {},
   "outputs": [],
   "source": [
    "# 2. 데이터 전처리 (TF-IDF 벡터화)\n",
    "\n",
    "# 저장된 Vectorizer 로드\n",
    "tfidf_vectorizer = joblib.load('./LSTM/tfidf_vectorizer.pkl')\n",
    "\n",
    "# 샘플 데이터 TF-IDF 벡터 변환\n",
    "sample_vectors = tfidf_vectorizer.transform(sample_texts).toarray()"
   ]
  },
  {
   "cell_type": "code",
   "execution_count": 9,
   "metadata": {},
   "outputs": [],
   "source": [
    "# 3. 학습된 모델 로딩\n",
    "NLP_model.eval()\n",
    "\n",
    "# 4. 모델 예측\n",
    "sample_tensor = torch.tensor(sample_vectors, dtype=torch.float32)\n",
    "predictions = NLP_model(sample_tensor).squeeze()"
   ]
  },
  {
   "cell_type": "code",
   "execution_count": 10,
   "metadata": {},
   "outputs": [],
   "source": [
    "predicted_labels = predictions.argmax(dim=1)"
   ]
  },
  {
   "cell_type": "code",
   "execution_count": 12,
   "metadata": {},
   "outputs": [
    {
     "data": {
      "text/plain": [
       "tensor([1, 0, 1, 0])"
      ]
     },
     "execution_count": 12,
     "metadata": {},
     "output_type": "execute_result"
    }
   ],
   "source": [
    "predicted_labels"
   ]
  },
  {
   "cell_type": "code",
   "execution_count": 11,
   "metadata": {},
   "outputs": [
    {
     "name": "stdout",
     "output_type": "stream",
     "text": [
      "리뷰: 안녕하세요 배송이 되지 않아서요 배송이 되는걸까요? 배송이 된다면 택배사와 송장번호 알려주세요.\n",
      "예측: 정상\n",
      "\n",
      "리뷰: 일요일에 주문한걸 수요일까지 발송도 안해놓구 배송지연으로 취소하니 목요일에서야 답변으로 오늘 출고예정이라며 이미 배송시작이라고 취소 불가라니 조회해보니 발송예정인데 어이없네요\n",
      "예측: 어뷰징\n",
      "\n",
      "리뷰: 레고 정품 아니고 중국제 짭입니다 박스사진만 저렇게 해놓고 내용물은 짭입니다 이건 사기 입니다.\n",
      "예측: 정상\n",
      "\n",
      "리뷰: 상품 가격은 올려놓고 출고가 늦어질 것 같아서 취소한다니 기분이 영 그렇네요\n",
      "예측: 어뷰징\n",
      "\n"
     ]
    }
   ],
   "source": [
    "# 5. 결과 출력\n",
    "for text, pred in zip(sample_texts, predicted_labels):\n",
    "    result = \"어뷰징\" if pred.item() == 0 else \"정상\"\n",
    "    print(f\"리뷰: {text}\\n예측: {result}\\n\")"
   ]
  },
  {
   "cell_type": "code",
   "execution_count": null,
   "metadata": {},
   "outputs": [
    {
     "data": {
      "text/plain": [
       "(['안녕하세요 배송이 되지 않아서요 배송이 되는걸까요? 배송이 된다면 택배사와 송장번호 알려주세요.',\n",
       "  '일요일에 주문한걸 수요일까지 발송도 안해놓구 배송지연으로 취소하니 목요일에서야 답변으로 오늘 출고예정이라며 이미 배송시작이라고 취소 불가라니 조회해보니 발송예정인데 어이없네요',\n",
       "  '레고 정품 아니고 중국제 짭입니다 박스사진만 저렇게 해놓고 내용물은 짭입니다 이건 사기 입니다.',\n",
       "  '상품 가격은 올려놓고 출고가 늦어질 것 같아서 취소한다니 기분이 영 그렇네요'],\n",
       " ['정상', '어뷰징', '정상', '어뷰징'])"
      ]
     },
     "execution_count": 15,
     "metadata": {},
     "output_type": "execute_result"
    }
   ],
   "source": [
    "text_list = []\n",
    "result_list = []\n",
    "for text, pred in zip(sample_texts, predicted_labels):\n",
    "    result = \"어뷰징\" if pred.item() == 0 else \"정상\"\n",
    "    result_list.append(result)\n",
    "    text_list.append(text)\n",
    "text_list, result_list"
   ]
  },
  {
   "cell_type": "code",
   "execution_count": 17,
   "metadata": {},
   "outputs": [
    {
     "name": "stdout",
     "output_type": "stream",
     "text": [
      "리뷰: 안녕하세요 배송이 되지 않아서요 배송이 되는걸까요? 배송이 된다면 택배사와 송장번호 알려주세요.\n",
      "리뷰: 일요일에 주문한걸 수요일까지 발송도 안해놓구 배송지연으로 취소하니 목요일에서야 답변으로 오늘 출고예정이라며 이미 배송시작이라고 취소 불가라니 조회해보니 발송예정인데 어이없네요\n",
      "리뷰: 레고 정품 아니고 중국제 짭입니다 박스사진만 저렇게 해놓고 내용물은 짭입니다 이건 사기 입니다.\n",
      "리뷰: 상품 가격은 올려놓고 출고가 늦어질 것 같아서 취소한다니 기분이 영 그렇네요\n"
     ]
    }
   ],
   "source": [
    "for text in text_list:\n",
    "    print('리뷰:',text)"
   ]
  },
  {
   "cell_type": "code",
   "execution_count": 15,
   "metadata": {},
   "outputs": [
    {
     "name": "stdout",
     "output_type": "stream",
     "text": [
      "리뷰: 9월 27일 주문건 아직도 지연중~~ 취소함배송이 오래 걸리면 상세페이지에 솔직하게 적어놓으세요~~7 ~ 14일 정도 걸린다고 하지 마시고한달이상 걸린다고 솔직하게 적어놓으세요장난하는것도 아니고 사람 피말리게 만드네\n",
      "예측: 어뷰징\n",
      "\n",
      "리뷰: 저희 법무팀으로 연락을 주시기 바랍니다\n",
      "예측: 정상\n",
      "\n",
      "리뷰: 지연연락도 없고. 취소도 맘데로 하셧네요??첨 주문 햇던건데~ 두번은 없을듯요.\n",
      "예측: 어뷰징\n",
      "\n",
      "리뷰: 물건이 떡이되어오고.. 스트로폼은 손상된걸 테이프붙여서 보내고... 상한거먹으라는건가요??반품요청했습니다\n",
      "예측: 정상\n",
      "\n"
     ]
    }
   ],
   "source": [
    "# 1. 테스트용 데이터\n",
    "\n",
    "sample_texts2 = [\n",
    "    \"9월 27일 주문건 아직도 지연중~~ 취소함배송이 오래 걸리면 상세페이지에 솔직하게 적어놓으세요~~7 ~ 14일 정도 걸린다고 하지 마시고한달이상 걸린다고 솔직하게 적어놓으세요장난하는것도 아니고 사람 피말리게 만드네\",\n",
    "    \"저희 법무팀으로 연락을 주시기 바랍니다\",\n",
    "    \"지연연락도 없고. 취소도 맘데로 하셧네요??첨 주문 햇던건데~ 두번은 없을듯요.\",\n",
    "    \"물건이 떡이되어오고.. 스트로폼은 손상된걸 테이프붙여서 보내고... 상한거먹으라는건가요??반품요청했습니다\"\n",
    "]\n",
    "\n",
    "# 2. 데이터 전처리 (TF-IDF 벡터화)\n",
    "\n",
    "# 저장된 Vectorizer 로드\n",
    "tfidf_vectorizer = joblib.load('./LSTM/tfidf_vectorizer.pkl')\n",
    "\n",
    "# 샘플 데이터 TF-IDF 벡터 변환\n",
    "sample_vectors = tfidf_vectorizer.transform(sample_texts2).toarray()\n",
    "\n",
    "# 3. 학습된 모델 로딩\n",
    "NLP_model.eval()\n",
    "\n",
    "# 4. 모델 예측\n",
    "sample_tensor = torch.tensor(sample_vectors, dtype=torch.float32)\n",
    "predictions = NLP_model(sample_tensor).squeeze()\n",
    "\n",
    "predicted_labels = predictions.argmax(dim=1)\n",
    "\n",
    "# 5. 결과 출력\n",
    "for text, pred in zip(sample_texts2, predicted_labels):\n",
    "    result = \"어뷰징\" if pred.item() == 0 else \"정상\"\n",
    "    print(f\"리뷰: {text}\\n예측: {result}\\n\")"
   ]
  },
  {
   "cell_type": "code",
   "execution_count": null,
   "metadata": {},
   "outputs": [],
   "source": []
  }
 ],
 "metadata": {
  "kernelspec": {
   "display_name": "NLP_TORCH",
   "language": "python",
   "name": "python3"
  },
  "language_info": {
   "codemirror_mode": {
    "name": "ipython",
    "version": 3
   },
   "file_extension": ".py",
   "mimetype": "text/x-python",
   "name": "python",
   "nbconvert_exporter": "python",
   "pygments_lexer": "ipython3",
   "version": "3.8.19"
  }
 },
 "nbformat": 4,
 "nbformat_minor": 2
}
